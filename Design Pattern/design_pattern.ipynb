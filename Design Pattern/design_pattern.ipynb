{
 "cells": [
  {
   "cell_type": "markdown",
   "metadata": {
    "collapsed": false
   },
   "source": [
    "# Design Pattern"
   ]
  },
  {
   "cell_type": "markdown",
   "metadata": {
    "collapsed": false
   },
   "source": [
    "## 1. interface\n",
    "### **`Interface is a collection of several abstract methods`**"
   ]
  },
  {
   "cell_type": "code",
   "execution_count": 2,
   "metadata": {
    "collapsed": false
   },
   "outputs": [
    {
     "name": "stdout",
     "output_type": "stream",
     "text": [
      "支付宝支付了100元!\n",
      "微信支付了100元!\n"
     ]
    }
   ],
   "source": [
    "from abc import ABCMeta, abstractmethod\r\n",
    "\r\n",
    "# abstract(need to be realize)\r\n",
    "class Payment(metaclass=ABCMeta):\r\n",
    "    @abstractmethod\r\n",
    "    def pay(self, money):\r\n",
    "        \"\"\"\r\n",
    "        抽象方法，在实现的类中必须实现的方法。限制实现接口的类必须按照接口给定的调用方式实现这些方法\r\n",
    "        :param money: \r\n",
    "        :return: \r\n",
    "        \"\"\"\r\n",
    "        pass\r\n",
    "\r\n",
    "# realize method\r\n",
    "class Alipay(Payment):\r\n",
    "    def pay(self, money):\r\n",
    "        \"\"\"\r\n",
    "        实现接口类中的必须实现的方法\r\n",
    "        :param money:\r\n",
    "        :return:\r\n",
    "        \"\"\"\r\n",
    "        print(\"支付宝支付了{0}元!\".format(money))\r\n",
    "\r\n",
    "class WechatPay(Payment):\r\n",
    "    def pay(self, money):\r\n",
    "        \"\"\"\r\n",
    "        实现接口类中的必须实现的方法\r\n",
    "        :param money:\r\n",
    "        :return:\r\n",
    "        \"\"\"\r\n",
    "        print(\"微信支付了%d元!\" % (money))\r\n",
    "\r\n",
    "# high level which can not see the detail\r\n",
    "a = Alipay()\r\n",
    "w = WechatPay()\r\n",
    "a.pay(100)\r\n",
    "w.pay(100)"
   ]
  },
  {
   "cell_type": "markdown",
   "metadata": {
    "collapsed": false
   },
   "source": [
    "## 2. 面向对象\n",
    "&nbsp;&nbsp;&nbsp;&nbsp;&nbsp;&nbsp;&nbsp;设计模式解决的就是面向对象中的问题。需要指导面向对象的三大特性是 **`封装、继承和多态`** ，封装是把数据和方法封装到类中，继承是类之间复用代码，多态在Python中默认支持的，Python是一种多态的语言。"
   ]
  },
  {
   "cell_type": "markdown",
   "metadata": {
    "collapsed": false
   },
   "source": [
    "### 1. 开放封闭原则\r\n",
    "一个软件实体如类、模块和函数应该对扩展开放，对修改关闭。即软件实体应该在不修改原代码的情况下进行修改。\r\n",
    "### 2. 里氏替换原则\r\n",
    "所有引用父类的地方必须能透明地使用其子类地方必须能透明地使用其子类的对象，一个简单的例子加强理解"
   ]
  },
  {
   "cell_type": "code",
   "execution_count": 8,
   "metadata": {
    "collapsed": false
   },
   "outputs": [],
   "source": [
    "class User(object):\r\n",
    "    def print_name(self):\r\n",
    "        pass\r\n",
    "\r\n",
    "class VipUser(User):\r\n",
    "    def print_name(self):\r\n",
    "        \"\"\"\r\n",
    "        保证参数和返回值类型需要和父类一样\r\n",
    "        :return:\r\n",
    "        \"\"\"\r\n",
    "        pass\r\n",
    "def print_name(u):\r\n",
    "    \"\"\"\r\n",
    "    不论使用User还是继承User的VipUser，调用的方式是一样的。这就要求User和VipUser的方法参数和返回值类型是一样的\r\n",
    "    :param u:\r\n",
    "    :return:\r\n",
    "    \"\"\"\r\n",
    "    u.print_name()"
   ]
  },
  {
   "cell_type": "markdown",
   "metadata": {
    "collapsed": false
   },
   "source": [
    "### 3. 依赖倒置原则\n",
    "高层模块不应该依赖底层模块，二者都应该依赖抽象。抽象不应该依赖细节，细节应该应该依赖抽象。**`要针对接口编程，而不是针对实现变成`**。通过例子加强理解："
   ]
  },
  {
   "cell_type": "code",
   "execution_count": 6,
   "metadata": {
    "collapsed": false
   },
   "outputs": [
    {
     "name": "stdout",
     "output_type": "stream",
     "text": [
      "支付宝支付了100元!\n",
      "微信支付了100元!\n"
     ]
    }
   ],
   "source": [
    "from abc import ABCMeta, abstractmethod\r\n",
    "\r\n",
    "# 接口，抽象不应该依赖细节\r\n",
    "class Payment(metaclass=ABCMeta):\r\n",
    "    @abstractmethod\r\n",
    "    def pay(self, money):\r\n",
    "        pass\r\n",
    "        \r\n",
    "# 底层代码和高层代码都是细节，细节应该依赖抽象\r\n",
    "# 底层代码\r\n",
    "class Alipay(Payment):\r\n",
    "    def pay(self, money):\r\n",
    "        print(\"支付宝支付了{0}元!\".format(money))\r\n",
    "\r\n",
    "class WechatPay(Payment):\r\n",
    "    def pay(self, money):\r\n",
    "        print(\"微信支付了%d元!\" % (money))\r\n",
    "\r\n",
    "# 高层代码，高层模块不应该依赖底层模块，二者都应该依赖抽象\r\n",
    "a = Alipay()\r\n",
    "w = WechatPay()\r\n",
    "a.pay(100)\r\n",
    "w.pay(100)\r\n"
   ]
  },
  {
   "cell_type": "markdown",
   "metadata": {
    "collapsed": false
   },
   "source": [
    "### 4. 接口隔离原则\n",
    "使用多个专门的接口，而不使用单一的总结口，高层的代码不应该依赖那些它不需要的接口。通过例子加强理解："
   ]
  },
  {
   "cell_type": "code",
   "execution_count": 5,
   "metadata": {
    "collapsed": false
   },
   "outputs": [],
   "source": [
    "from abc import ABCMeta, abstractmethod\r\n",
    "\r\n",
    "class LandAnimal(metaclass=ABCMeta):\r\n",
    "    @abstractmethod\r\n",
    "    def walk(self):\r\n",
    "        pass\r\n",
    "\r\n",
    "class WaterAnimal(metaclass=ABCMeta):\r\n",
    "    @abstractmethod\r\n",
    "    def swim(self):\r\n",
    "        pass\r\n",
    "\r\n",
    "class SkyAnimal(metaclass=ABCMeta):\r\n",
    "    @abstractmethod\r\n",
    "    def fly(self):\r\n",
    "        pass\r\n",
    "\r\n",
    "# 高层的代码不应该依赖那些它不需要的接口\r\n",
    "class Tiger(LandAnimal):\r\n",
    "    def walk(self):\r\n",
    "        pass\r\n",
    "\r\n",
    "# 高层的代码不应该依赖那些它不需要的接口\r\n",
    "class Frog(LandAnimal, WaterAnimal):\r\n",
    "    def walk(self):\r\n",
    "        pass\r\n"
   ]
  },
  {
   "cell_type": "markdown",
   "metadata": {
    "collapsed": false
   },
   "source": [
    "### 5. 单一职责原则\n",
    "不要存在多于一个导致类变更的原因，一个类只负责一项职责，一个类只做一件事。**`把面向过程的代码放到类中，虽然用到了类，但不是面向对象`**。"
   ]
  },
  {
   "cell_type": "markdown",
   "metadata": {
    "collapsed": false
   },
   "source": [
    "## 3. 创建型模式:工厂方法模式、抽象工厂模式、创建者模式、原型模式、单例模式。\n",
    "   ### **`隐藏底层模块的逻辑，关注怎么创建对象`**。"
   ]
  },
  {
   "cell_type": "markdown",
   "metadata": {
    "collapsed": false
   },
   "source": [
    "### 1. 简单工厂模式\n",
    "简单工厂模式不直接向客户端暴露对象创建的细节，而是通过一个工厂类来负责创建产品类的实例。简单工程模式的角色有：工厂角色、抽象产品角色、具体产品角色，"
   ]
  },
  {
   "cell_type": "code",
   "execution_count": 10,
   "metadata": {
    "collapsed": false
   },
   "outputs": [
    {
     "name": "stdout",
     "output_type": "stream",
     "text": [
      "花呗支付了100元!\n"
     ]
    }
   ],
   "source": [
    "from abc import ABCMeta, abstractmethod\r\n",
    "\r\n",
    "\r\n",
    "# 抽象产品角色，以什么样的表现去使用\r\n",
    "class Payment(metaclass=ABCMeta):\r\n",
    "    @abstractmethod\r\n",
    "    def pay(self, money):\r\n",
    "        pass\r\n",
    "\r\n",
    "# 产品角色\r\n",
    "class Alipay(Payment):\r\n",
    "    def __init__(self, use_huabei=False):\r\n",
    "        self.use_huabei = use_huabei\r\n",
    "\r\n",
    "    def pay(self, money):\r\n",
    "        if self.use_huabei == True:\r\n",
    "            print(\"花呗支付了{0}元!\".format(money))\r\n",
    "        else:\r\n",
    "            print(\"支付宝余额支付了{0}元!\".format(money))\r\n",
    "\r\n",
    "# 产品角色\r\n",
    "class WechatPay(Payment):\r\n",
    "    def pay(self, money):\r\n",
    "        print(\"微信支付了%d元!\" % (money))\r\n",
    "\r\n",
    "# 工厂类角色\r\n",
    "class PaymentFactory:\r\n",
    "    def ctreate_payment(self, method):\r\n",
    "        if method == 'Alipay':\r\n",
    "            return Alipay()\r\n",
    "        elif method == 'WechatPay':\r\n",
    "            return WechatPay()\r\n",
    "        elif method == 'HuabeiPay':\r\n",
    "            return Alipay(use_huabei=True)\r\n",
    "        else:\r\n",
    "            raise TypeError('No such payment named %s' % method)\r\n",
    "\r\n",
    "# 客户端调用。不直接向客户端暴露对象创建的实现细节，而是通过一个工厂类来负责创建产品类的实例\r\n",
    "pf = PaymentFactory()\r\n",
    "p = pf.ctreate_payment('HuabeiPay')\r\n",
    "p.pay(100)\r\n"
   ]
  },
  {
   "cell_type": "code",
   "execution_count": null,
   "metadata": {
    "collapsed": false
   },
   "outputs": [],
   "source": []
  },
  {
   "cell_type": "markdown",
   "metadata": {
    "collapsed": false
   },
   "source": [
    "## 4. 结构型模式：适配器模式、桥模式、组合模式、装饰模式、外观模式、享元模式、代理模式。\n",
    "   ### **`类之间如何协同工作，应该组成什么结构`**。"
   ]
  },
  {
   "cell_type": "code",
   "execution_count": null,
   "metadata": {
    "collapsed": false
   },
   "outputs": [],
   "source": []
  },
  {
   "cell_type": "markdown",
   "metadata": {
    "collapsed": false
   },
   "source": [
    "## 5. 行为型模式：解释器模式、责任链模式、命令模式、迭代器模式、中介者模式、备忘录模式、观察者模式、状态模式、策略模式、访问者模式、模板方法模式。\n",
    "### **`关注行为，也就是方法，应该怎样某些行为`**。"
   ]
  },
  {
   "cell_type": "code",
   "execution_count": null,
   "metadata": {
    "collapsed": false
   },
   "outputs": [],
   "source": []
  }
 ],
 "metadata": {
  "kernelspec": {
   "display_name": "PaddlePaddle 2.1.2 (Python 3.5)",
   "language": "python",
   "name": "py35-paddle1.2.0"
  },
  "language_info": {
   "codemirror_mode": {
    "name": "ipython",
    "version": 3
   },
   "file_extension": ".py",
   "mimetype": "text/x-python",
   "name": "python",
   "nbconvert_exporter": "python",
   "pygments_lexer": "ipython3",
   "version": "3.7.4"
  }
 },
 "nbformat": 4,
 "nbformat_minor": 1
}
