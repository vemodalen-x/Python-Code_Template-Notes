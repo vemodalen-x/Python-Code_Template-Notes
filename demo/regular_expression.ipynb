{
 "cells": [
  {
   "cell_type": "code",
   "execution_count": 1,
   "id": "919b7286-b644-4fe3-b927-af0857a017a6",
   "metadata": {},
   "outputs": [],
   "source": [
    "import re"
   ]
  },
  {
   "cell_type": "markdown",
   "id": "6bb28f69-d436-45c3-a8bd-7657c82df7ca",
   "metadata": {},
   "source": [
    "# mailbox"
   ]
  },
  {
   "cell_type": "code",
   "execution_count": 8,
   "id": "f4f79a7e-0910-46a8-a3cb-9d33b78b21eb",
   "metadata": {},
   "outputs": [
    {
     "name": "stdout",
     "output_type": "stream",
     "text": [
      "Valid Email\n",
      "Valid Email\n",
      "Valid Email\n"
     ]
    }
   ],
   "source": [
    "#mailbox\n",
    "\n",
    "regex = r'\\b[A-Za-z0-9._%+-]+@[A-Za-z0-9.-]+\\.[A-Z|a-z]{2,}\\b'\n",
    "pattern = re.compile(regex)\n",
    "\n",
    "def check(email):\n",
    "    # pass the regular expression\n",
    "    # and the string into the fullmatch() method\n",
    "    if(re.fullmatch(regex, email)):\n",
    "        print(\"Valid Email\")\n",
    " \n",
    "    else:\n",
    "        print(\"Invalid Email\")\n",
    "email = \"my.ownsite@our-earth.org\"\n",
    "check(email)\n",
    "email = \"xxx@u.nus.edu\"\n",
    "check(email)\n",
    "email = \"test@gmail.com\"\n",
    "check(email)"
   ]
  },
  {
   "cell_type": "markdown",
   "id": "96910e8d-301a-4745-9b16-36873d2aff75",
   "metadata": {},
   "source": [
    "# domin name"
   ]
  },
  {
   "cell_type": "code",
   "execution_count": 11,
   "id": "1619d94e-14da-4e99-b1a9-ac6cc7475ace",
   "metadata": {},
   "outputs": [
    {
     "name": "stdout",
     "output_type": "stream",
     "text": [
      "Valid domin\n",
      "Valid domin\n"
     ]
    }
   ],
   "source": [
    "regex = re.compile(r\"(?:(?:http:\\/\\/)|(?:https:\\/\\/))?(?:[\\w](?:[\\w\\-]{0,61}[\\w])?\\.)+[a-zA-Z]{2,6}(?:\\/)\")\n",
    "\n",
    "def check(domin):\n",
    "    # pass the regular expression\n",
    "    # and the string into the fullmatch() method\n",
    "    if(re.fullmatch(regex, domin)):\n",
    "        print(\"Valid domin\")\n",
    " \n",
    "    else:\n",
    "        print(\"Invalid domin\")\n",
    "\n",
    "domin = \"https://www.python.org/\"\n",
    "check(domin)\n",
    "domin = \"http://www.google.com/\"\n",
    "check(domin)"
   ]
  },
  {
   "cell_type": "markdown",
   "id": "99e671ab-b8ff-48ad-bdce-f397d7dabe52",
   "metadata": {},
   "source": [
    "# IP"
   ]
  },
  {
   "cell_type": "code",
   "execution_count": 14,
   "id": "676351ac-8830-4823-88a4-870133b0bfdb",
   "metadata": {},
   "outputs": [
    {
     "name": "stdout",
     "output_type": "stream",
     "text": [
      "Valid ip\n",
      "Invalid ip\n"
     ]
    }
   ],
   "source": [
    "regex = re.compile(r\"((?:(?:25[0-5]|2[0-4]\\d|[01]?\\d?\\d)\\.){3}(?:25[0-5]|2[0-4]\\d|[01]?\\d?\\d))\")\n",
    "\n",
    "def check(ip):\n",
    "    # pass the regular expression\n",
    "    # and the string into the fullmatch() method\n",
    "    if(re.fullmatch(regex, ip)):\n",
    "        print(\"Valid ip\")\n",
    " \n",
    "    else:\n",
    "        print(\"Invalid ip\")\n",
    "\n",
    "ip = \"192.168.8.84\"\n",
    "check(ip)\n",
    "ip = \"280.168.8.84\"\n",
    "check(ip)"
   ]
  },
  {
   "cell_type": "markdown",
   "id": "7fbc2c38-fbba-4aff-8b48-28d8360d4d51",
   "metadata": {},
   "source": [
    "# password"
   ]
  },
  {
   "cell_type": "code",
   "execution_count": 17,
   "id": "23363812-cbd8-4ebe-afb0-0ba3c52b71f7",
   "metadata": {},
   "outputs": [
    {
     "name": "stdout",
     "output_type": "stream",
     "text": [
      "Valid pwd\n",
      "Invalid pwd\n"
     ]
    }
   ],
   "source": [
    "# Strong password \n",
    "# (beginning with a letter, \n",
    "#  must contain a combination of uppercase and lowercase letters and numbers, s\n",
    "#  pecial characters cannot be used, \n",
    "#  and the length is between 8-16)\n",
    "regex = re.compile(r\"[a-zA-Z](?=.*\\d)(?=.*[a-z])(?=.*[A-Z]).{8,10}\")\n",
    "\n",
    "def check(pwd):\n",
    "    # pass the regular expression\n",
    "    # and the string into the fullmatch() method\n",
    "    if(re.fullmatch(regex, pwd)):\n",
    "        print(\"Valid pwd\")\n",
    " \n",
    "    else:\n",
    "        print(\"Invalid pwd\")\n",
    "\n",
    "pwd='q123456ABc，'\n",
    "check(pwd)\n",
    "pwd='q123456c，'\n",
    "check(pwd)"
   ]
  },
  {
   "cell_type": "code",
   "execution_count": null,
   "id": "078c4433-eeac-428c-8aa3-e4a74269e68c",
   "metadata": {},
   "outputs": [],
   "source": []
  }
 ],
 "metadata": {
  "kernelspec": {
   "display_name": "Python 3",
   "language": "python",
   "name": "python3"
  },
  "language_info": {
   "codemirror_mode": {
    "name": "ipython",
    "version": 3
   },
   "file_extension": ".py",
   "mimetype": "text/x-python",
   "name": "python",
   "nbconvert_exporter": "python",
   "pygments_lexer": "ipython3",
   "version": "3.8.8"
  }
 },
 "nbformat": 4,
 "nbformat_minor": 5
}
