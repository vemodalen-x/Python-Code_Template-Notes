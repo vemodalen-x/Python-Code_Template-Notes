{
  "nbformat": 4,
  "nbformat_minor": 0,
  "metadata": {
    "colab": {
      "name": "basic_python_fluent.ipynb",
      "provenance": [],
      "collapsed_sections": []
    },
    "kernelspec": {
      "name": "python3",
      "display_name": "Python 3"
    },
    "language_info": {
      "name": "python"
    }
  },
  "cells": [
    {
      "cell_type": "markdown",
      "metadata": {
        "id": "wtm0D3bRQqiJ"
      },
      "source": [
        "# collect and summarize from fluent python"
      ]
    },
    {
      "cell_type": "markdown",
      "metadata": {
        "id": "iVTakPauRB3K"
      },
      "source": [
        "# Chapter 1. data python model."
      ]
    },
    {
      "cell_type": "code",
      "metadata": {
        "colab": {
          "base_uri": "https://localhost:8080/"
        },
        "id": "2Ot5h756kfBD",
        "outputId": "61e675a3-5f6d-4ab2-b728-fa22fe736065"
      },
      "source": [
        "import collections\n",
        "\n",
        "Card = collections.namedtuple('Card', ['rank', 'suit'])\n",
        "\n",
        "class FrenchDeck:\n",
        "    ranks = [str(n) for n in range(2, 11)] + list('JQKA')\n",
        "    suits = 'spades diamonds clubs hearts'.split()\n",
        "\n",
        "    def __init__(self):\n",
        "        self._cards = [Card(rank, suit) for suit in self.suits for rank in self.ranks]\n",
        "\n",
        "    def __len__(self):\n",
        "        return len(self._cards)\n",
        "\n",
        "    def __getitem__(self, position):\n",
        "        return self._cards[position]\n",
        "\n",
        "beer_card = Card('7', 'diamonds')\n",
        "deck = FrenchDeck()\n",
        "len(deck)"
      ],
      "execution_count": null,
      "outputs": [
        {
          "output_type": "execute_result",
          "data": {
            "text/plain": [
              "52"
            ]
          },
          "metadata": {},
          "execution_count": 2
        }
      ]
    },
    {
      "cell_type": "code",
      "metadata": {
        "colab": {
          "base_uri": "https://localhost:8080/"
        },
        "id": "wFQH5v_fSRtF",
        "outputId": "8d0b8105-6b67-42a5-9e3f-a7a3695da82c"
      },
      "source": [
        "import math\n",
        "\n",
        "class Vector:\n",
        "\n",
        "    def __init__(self, x=0, y=0):\n",
        "        self.x = x\n",
        "        self.y = y\n",
        "\n",
        "    def __repr__(self):\n",
        "        return f'Vector({self.x!r}, {self.y!r})'\n",
        "\n",
        "    def __abs__(self):\n",
        "        return math.hypot(self.x, self.y)\n",
        "\n",
        "    def __bool__(self):\n",
        "        return bool(abs(self))\n",
        "\n",
        "    def __add__(self, other):\n",
        "        x = self.x + other.x\n",
        "        y = self.y + other.y\n",
        "        return Vector(x, y)\n",
        "\n",
        "    def __mul__(self, scalar):\n",
        "        return Vector(self.x * scalar, self.y * scalar)\n",
        "\n",
        "v1 = Vector(2, 4)\n",
        "v2 = Vector(2, 1)\n",
        "print(v1 + v2)\n",
        "v = Vector(3, 4)\n",
        "print(abs(v))\n",
        "print(abs(v * 3))"
      ],
      "execution_count": null,
      "outputs": [
        {
          "output_type": "stream",
          "name": "stdout",
          "text": [
            "Vector(4, 5)\n",
            "5.0\n",
            "15.0\n"
          ]
        }
      ]
    },
    {
      "cell_type": "markdown",
      "metadata": {
        "id": "NLnXDGo0Uh7Y"
      },
      "source": [
        "# Chapter 2 — An Array of Sequences"
      ]
    },
    {
      "cell_type": "code",
      "metadata": {
        "colab": {
          "base_uri": "https://localhost:8080/"
        },
        "id": "q2YOjsxyUgwo",
        "outputId": "52eaeca2-e0bc-48e5-ca8b-a46c478335d7"
      },
      "source": [
        "symbols = '$¢£¥€¤'\n",
        "beyond_ascii = [ord(s) for s in symbols if ord(s) > 127]\n",
        "print(beyond_ascii)\n",
        "beyond_ascii = list(filter(lambda c: c > 127, map(ord, symbols)))\n",
        "print(beyond_ascii)"
      ],
      "execution_count": null,
      "outputs": [
        {
          "output_type": "stream",
          "name": "stdout",
          "text": [
            "[162, 163, 165, 8364, 164]\n",
            "[162, 163, 165, 8364, 164]\n"
          ]
        }
      ]
    },
    {
      "cell_type": "code",
      "metadata": {
        "colab": {
          "base_uri": "https://localhost:8080/"
        },
        "id": "GKjGO2QfVJ_Y",
        "outputId": "7a7c0610-d50e-4a24-fcb3-b22391b5f175"
      },
      "source": [
        "l = [1, 2, 3]\n",
        "idl = id(l)\n",
        "l *= 2\n",
        "print(l)"
      ],
      "execution_count": null,
      "outputs": [
        {
          "output_type": "stream",
          "name": "stdout",
          "text": [
            "[1, 2, 3, 1, 2, 3]\n"
          ]
        }
      ]
    },
    {
      "cell_type": "code",
      "metadata": {
        "colab": {
          "base_uri": "https://localhost:8080/"
        },
        "id": "EwHFDfeTVV8B",
        "outputId": "412cb7ba-8ce3-40e3-b277-46e6f67e604a"
      },
      "source": [
        "import bisect\n",
        "import random\n",
        "\n",
        "SIZE = 7\n",
        "\n",
        "random.seed(1729)\n",
        "\n",
        "my_list = []\n",
        "\n",
        "for i in range(SIZE):\n",
        "    new_item = random.randrange(SIZE*2)\n",
        "    bisect.insort(my_list, new_item)\n",
        "    print(f'insert {new_item:2d} -> {my_list}')"
      ],
      "execution_count": null,
      "outputs": [
        {
          "output_type": "stream",
          "name": "stdout",
          "text": [
            "insert 10 -> [10]\n",
            "insert  0 -> [0, 10]\n",
            "insert  6 -> [0, 6, 10]\n",
            "insert  8 -> [0, 6, 8, 10]\n",
            "insert  7 -> [0, 6, 7, 8, 10]\n",
            "insert  2 -> [0, 2, 6, 7, 8, 10]\n",
            "insert 10 -> [0, 2, 6, 7, 8, 10, 10]\n"
          ]
        }
      ]
    },
    {
      "cell_type": "code",
      "metadata": {
        "id": "TpwqQc_NWIaP",
        "colab": {
          "base_uri": "https://localhost:8080/"
        },
        "outputId": "1a34ab94-b283-4bf7-fc9c-6afdee0299e5"
      },
      "source": [
        "from array import array\n",
        "\n",
        "numbers = array('h', [-2, -1, 0, 1, 2])\n",
        "print(numbers)\n",
        "memv = memoryview(numbers)\n",
        "print(len(memv))\n",
        "\n",
        "\n",
        "memv_oct = memv.cast('B') #Unsigned character\n",
        "memv_oct.tolist()\n",
        "print(memv_oct)\n",
        "\n",
        "\n",
        "memv_oct[5] = 4\n",
        "print(numbers)"
      ],
      "execution_count": null,
      "outputs": [
        {
          "output_type": "stream",
          "name": "stdout",
          "text": [
            "array('h', [-2, -1, 0, 1, 2])\n",
            "5\n",
            "<memory at 0x7fa402676d50>\n",
            "array('h', [-2, -1, 1024, 1, 2])\n"
          ]
        }
      ]
    },
    {
      "cell_type": "code",
      "metadata": {
        "colab": {
          "base_uri": "https://localhost:8080/"
        },
        "id": "Yqt9-3stHDKK",
        "outputId": "e7d2d8c3-dc25-4770-847a-0199241f2cb6"
      },
      "source": [
        "import collections\n",
        "\n",
        "dq = collections.deque(range(10), maxlen=10)\n",
        "print(dq)\n",
        "dq.rotate(3)\n",
        "print(dq)\n",
        "dq.appendleft(-1)\n",
        "print(dq)\n",
        "dq.extend([11, 22, 33])\n",
        "print(dq)"
      ],
      "execution_count": null,
      "outputs": [
        {
          "output_type": "stream",
          "name": "stdout",
          "text": [
            "deque([0, 1, 2, 3, 4, 5, 6, 7, 8, 9], maxlen=10)\n",
            "deque([7, 8, 9, 0, 1, 2, 3, 4, 5, 6], maxlen=10)\n",
            "deque([-1, 7, 8, 9, 0, 1, 2, 3, 4, 5], maxlen=10)\n",
            "deque([9, 0, 1, 2, 3, 4, 5, 11, 22, 33], maxlen=10)\n"
          ]
        }
      ]
    },
    {
      "cell_type": "code",
      "metadata": {
        "colab": {
          "base_uri": "https://localhost:8080/"
        },
        "id": "v9X133a3HyPr",
        "outputId": "432d7ad4-5eb9-4719-cc7f-d0ca5cf79d0a"
      },
      "source": [
        "l = [28, 14, '28', 5, '9', '1', 0, 6, '23', 19]\n",
        "\n",
        "sorted(l, key=int)"
      ],
      "execution_count": null,
      "outputs": [
        {
          "output_type": "execute_result",
          "data": {
            "text/plain": [
              "[0, '1', 5, 6, '9', 14, 19, '23', 28, '28']"
            ]
          },
          "metadata": {},
          "execution_count": 14
        }
      ]
    },
    {
      "cell_type": "markdown",
      "metadata": {
        "id": "o-olE4gJIMNt"
      },
      "source": [
        "# 03-dict-set"
      ]
    },
    {
      "cell_type": "code",
      "metadata": {
        "id": "rsc4H37EIDHl",
        "colab": {
          "base_uri": "https://localhost:8080/"
        },
        "outputId": "b7f2d66d-b6c1-49d3-adbb-c381214b0fe9"
      },
      "source": [
        "from collections import abc\n",
        "my_dict = {}\n",
        "isinstance(my_dict, abc.Mapping)\n",
        "\n",
        "tt = (1, 2, (30, 40))\n",
        "print(hash(tt))\n",
        "\n",
        "tf = (1, 2, frozenset([30, 40]))\n",
        "print(hash(tf))"
      ],
      "execution_count": 3,
      "outputs": [
        {
          "output_type": "stream",
          "name": "stdout",
          "text": [
            "8027212646858338501\n",
            "985328935373711578\n"
          ]
        }
      ]
    },
    {
      "cell_type": "markdown",
      "metadata": {
        "id": "vSAaJCNXcHpk"
      },
      "source": [
        "# 04-text-byte"
      ]
    },
    {
      "cell_type": "code",
      "metadata": {
        "colab": {
          "base_uri": "https://localhost:8080/"
        },
        "id": "Nsp65qx1cD4s",
        "outputId": "b8de46ad-b8cd-4ef4-b8cf-b8925392f271"
      },
      "source": [
        "from unicodedata import name\n",
        "\n",
        "zwg_sample = \"\"\"\n",
        "1F468 200D 1F9B0            |man: red hair                      |E11.0\n",
        "1F9D1 200D 1F91D 200D 1F9D1 |people holding hands               |E12.0\n",
        "1F3CA 1F3FF 200D 2640 FE0F  |woman swimming: dark skin tone     |E4.0\n",
        "1F469 1F3FE 200D 2708 FE0F  |woman pilot: medium-dark skin tone |E4.0\n",
        "1F468 200D 1F469 200D 1F467 |family: man, woman, girl           |E2.0\n",
        "1F3F3 FE0F 200D 26A7 FE0F   |transgender flag                   |E13.0\n",
        "1F469 200D 2764 FE0F 200D 1F48B 200D 1F469 |kiss: woman, woman  |E2.0\n",
        "\"\"\"\n",
        "\n",
        "markers = {'\\u200D': 'ZWG', # ZERO WIDTH JOINER\n",
        "           '\\uFE0F': 'V16', # VARIATION SELECTOR-16\n",
        "          }\n",
        "\n",
        "for line in zwg_sample.strip().split('\\n'):\n",
        "    code, descr, version = (s.strip() for s in line.split('|'))\n",
        "    chars = [chr(int(c, 16)) for c in code.split()]\n",
        "    print(''.join(chars), version, descr, sep='\\t', end='')\n",
        "    while chars:\n",
        "        char = chars.pop(0)\n",
        "        if char in markers:\n",
        "            print(' + ' + markers[char], end='')\n",
        "        else:\n",
        "            ucode = f'U+{ord(char):04X}'\n",
        "            print(f'\\n\\t{char}\\t{ucode}\\t{name(char)}', end='')\n",
        "    print()"
      ],
      "execution_count": 6,
      "outputs": [
        {
          "output_type": "stream",
          "name": "stdout",
          "text": [
            "👨‍🦰\tE11.0\tman: red hair\n",
            "\t👨\tU+1F468\tMAN + ZWG\n",
            "\t🦰\tU+1F9B0\tEMOJI COMPONENT RED HAIR\n",
            "🧑‍🤝‍🧑\tE12.0\tpeople holding hands\n",
            "\t🧑\tU+1F9D1\tADULT + ZWG\n",
            "\t🤝\tU+1F91D\tHANDSHAKE + ZWG\n",
            "\t🧑\tU+1F9D1\tADULT\n",
            "🏊🏿‍♀️\tE4.0\twoman swimming: dark skin tone\n",
            "\t🏊\tU+1F3CA\tSWIMMER\n",
            "\t🏿\tU+1F3FF\tEMOJI MODIFIER FITZPATRICK TYPE-6 + ZWG\n",
            "\t♀\tU+2640\tFEMALE SIGN + V16\n",
            "👩🏾‍✈️\tE4.0\twoman pilot: medium-dark skin tone\n",
            "\t👩\tU+1F469\tWOMAN\n",
            "\t🏾\tU+1F3FE\tEMOJI MODIFIER FITZPATRICK TYPE-5 + ZWG\n",
            "\t✈\tU+2708\tAIRPLANE + V16\n",
            "👨‍👩‍👧\tE2.0\tfamily: man, woman, girl\n",
            "\t👨\tU+1F468\tMAN + ZWG\n",
            "\t👩\tU+1F469\tWOMAN + ZWG\n",
            "\t👧\tU+1F467\tGIRL\n",
            "🏳️‍⚧️\tE13.0\ttransgender flag\n",
            "\t🏳\tU+1F3F3\tWAVING WHITE FLAG + V16 + ZWG\n",
            "\t⚧\tU+26A7\tMALE WITH STROKE AND MALE AND FEMALE SIGN + V16\n",
            "👩‍❤️‍💋‍👩\tE2.0\tkiss: woman, woman\n",
            "\t👩\tU+1F469\tWOMAN + ZWG\n",
            "\t❤\tU+2764\tHEAVY BLACK HEART + V16 + ZWG\n",
            "\t💋\tU+1F48B\tKISS MARK + ZWG\n",
            "\t👩\tU+1F469\tWOMAN\n"
          ]
        }
      ]
    },
    {
      "cell_type": "code",
      "metadata": {
        "colab": {
          "base_uri": "https://localhost:8080/"
        },
        "id": "aVizfWAfcYGf",
        "outputId": "e903d8a7-a955-43f8-d9ce-464c9f658ca2"
      },
      "source": [
        "import sys\n",
        "from unicodedata import name\n",
        "\n",
        "print(sys.version)\n",
        "print()\n",
        "print('sys.stdout.isatty():', sys.stdout.isatty())\n",
        "print('sys.stdout.encoding:', sys.stdout.encoding)\n",
        "print()\n",
        "\n",
        "test_chars = [\n",
        "    '\\N{HORIZONTAL ELLIPSIS}',       # exists in cp1252, not in cp437\n",
        "    '\\N{INFINITY}',                  # exists in cp437, not in cp1252\n",
        "    '\\N{CIRCLED NUMBER FORTY TWO}',  # not in cp437 or in cp1252\n",
        "]\n",
        "\n",
        "for char in test_chars:\n",
        "    print(f'Trying to output {name(char)}:')\n",
        "    print(char)"
      ],
      "execution_count": 7,
      "outputs": [
        {
          "output_type": "stream",
          "name": "stdout",
          "text": [
            "3.7.11 (default, Jul  3 2021, 18:01:19) \n",
            "[GCC 7.5.0]\n",
            "\n",
            "sys.stdout.isatty(): False\n",
            "sys.stdout.encoding: UTF-8\n",
            "\n",
            "Trying to output HORIZONTAL ELLIPSIS:\n",
            "…\n",
            "Trying to output INFINITY:\n",
            "∞\n",
            "Trying to output CIRCLED NUMBER FORTY TWO:\n",
            "㊷\n"
          ]
        }
      ]
    },
    {
      "cell_type": "markdown",
      "metadata": {
        "id": "xJ3R8RyFc2bN"
      },
      "source": [
        "# 5- data classes"
      ]
    },
    {
      "cell_type": "code",
      "metadata": {
        "colab": {
          "base_uri": "https://localhost:8080/"
        },
        "id": "x-mRkPDvc6Ni",
        "outputId": "9cf8e308-c8c8-45fd-88bb-d33e799e4db9"
      },
      "source": [
        "from dataclasses import dataclass, field\n",
        "from typing import ClassVar\n",
        "\n",
        "@dataclass\n",
        "class ClubMember:\n",
        "    name: str\n",
        "    guests: list = field(default_factory=list)\n",
        "\n",
        "\n",
        "@dataclass\n",
        "class HackerClubMember(ClubMember):                         # <1>\n",
        "    all_handles = set()                                     # <2>\n",
        "    handle: str = ''                                        # <3>\n",
        "\n",
        "    def __post_init__(self):\n",
        "        cls = self.__class__                                # <4>\n",
        "        if self.handle == '':                               # <5>\n",
        "            self.handle = self.name.split()[0]\n",
        "        if self.handle in cls.all_handles:                  # <6>\n",
        "            msg = f'handle {self.handle!r} already exists.'\n",
        "            raise ValueError(msg)\n",
        "        cls.all_handles.add(self.handle)                    # <7>\n",
        "\n",
        "anna = HackerClubMember('Anna Ravenscroft', handle='AnnaRaven')\n",
        "print(anna)\n",
        "\n",
        "leo2 = HackerClubMember('Leo DaVinci', handle='Neo')\n",
        "print(leo2)"
      ],
      "execution_count": 11,
      "outputs": [
        {
          "output_type": "stream",
          "name": "stdout",
          "text": [
            "HackerClubMember(name='Anna Ravenscroft', guests=[], handle='AnnaRaven')\n",
            "HackerClubMember(name='Leo DaVinci', guests=[], handle='Neo')\n"
          ]
        }
      ]
    },
    {
      "cell_type": "code",
      "metadata": {
        "colab": {
          "base_uri": "https://localhost:8080/"
        },
        "id": "i7WPrW7Ne5s1",
        "outputId": "062f43b5-7371-4c53-dd9e-0097204f1e64"
      },
      "source": [
        "from dataclasses import dataclass\n",
        "import enum\n",
        "\n",
        "Suit = enum.IntEnum('Suit', 'spades diamonds clubs hearts')\n",
        "Rank = enum.Enum('Rank', [str(n) for n in range(2, 10)] + list('JQKA'))\n",
        "\n",
        "@dataclass(order=True)\n",
        "class Card:\n",
        "    rank: Suit\n",
        "    suit: Rank\n",
        "\n",
        "    def __str__(self):\n",
        "        glyphs = [chr(x) for x in range(0x2660, 0x2664)]\n",
        "        return f'{self.rank} of {glyphs[self.suit-1]}'\n",
        "\n",
        "J=Card('spades',4)\n",
        "print(J)\n",
        "\n",
        "import collections\n",
        "\n",
        "Card = collections.namedtuple('Card', ['rank', 'suit'])\n",
        "\n",
        "class FrenchDeck:\n",
        "    ranks = [str(n) for n in range(2, 11)] + list('JQKA')\n",
        "    suits = 'spades diamonds clubs hearts'.split()\n",
        "\n",
        "    def __init__(self):\n",
        "        self._cards = [Card(rank, suit) for suit in self.suits\n",
        "                                        for rank in self.ranks]\n",
        "\n",
        "    def __len__(self):\n",
        "        return len(self._cards)\n",
        "\n",
        "    def __getitem__(self, position):\n",
        "        return self._cards[position]\n",
        "\n",
        "A=FrenchDeck()\n",
        "for i in A:\n",
        "  print(i)\n",
        "print(len(A))"
      ],
      "execution_count": 24,
      "outputs": [
        {
          "output_type": "stream",
          "name": "stdout",
          "text": [
            "spades of ♣\n",
            "Card(rank='2', suit='spades')\n",
            "Card(rank='3', suit='spades')\n",
            "Card(rank='4', suit='spades')\n",
            "Card(rank='5', suit='spades')\n",
            "Card(rank='6', suit='spades')\n",
            "Card(rank='7', suit='spades')\n",
            "Card(rank='8', suit='spades')\n",
            "Card(rank='9', suit='spades')\n",
            "Card(rank='10', suit='spades')\n",
            "Card(rank='J', suit='spades')\n",
            "Card(rank='Q', suit='spades')\n",
            "Card(rank='K', suit='spades')\n",
            "Card(rank='A', suit='spades')\n",
            "Card(rank='2', suit='diamonds')\n",
            "Card(rank='3', suit='diamonds')\n",
            "Card(rank='4', suit='diamonds')\n",
            "Card(rank='5', suit='diamonds')\n",
            "Card(rank='6', suit='diamonds')\n",
            "Card(rank='7', suit='diamonds')\n",
            "Card(rank='8', suit='diamonds')\n",
            "Card(rank='9', suit='diamonds')\n",
            "Card(rank='10', suit='diamonds')\n",
            "Card(rank='J', suit='diamonds')\n",
            "Card(rank='Q', suit='diamonds')\n",
            "Card(rank='K', suit='diamonds')\n",
            "Card(rank='A', suit='diamonds')\n",
            "Card(rank='2', suit='clubs')\n",
            "Card(rank='3', suit='clubs')\n",
            "Card(rank='4', suit='clubs')\n",
            "Card(rank='5', suit='clubs')\n",
            "Card(rank='6', suit='clubs')\n",
            "Card(rank='7', suit='clubs')\n",
            "Card(rank='8', suit='clubs')\n",
            "Card(rank='9', suit='clubs')\n",
            "Card(rank='10', suit='clubs')\n",
            "Card(rank='J', suit='clubs')\n",
            "Card(rank='Q', suit='clubs')\n",
            "Card(rank='K', suit='clubs')\n",
            "Card(rank='A', suit='clubs')\n",
            "Card(rank='2', suit='hearts')\n",
            "Card(rank='3', suit='hearts')\n",
            "Card(rank='4', suit='hearts')\n",
            "Card(rank='5', suit='hearts')\n",
            "Card(rank='6', suit='hearts')\n",
            "Card(rank='7', suit='hearts')\n",
            "Card(rank='8', suit='hearts')\n",
            "Card(rank='9', suit='hearts')\n",
            "Card(rank='10', suit='hearts')\n",
            "Card(rank='J', suit='hearts')\n",
            "Card(rank='Q', suit='hearts')\n",
            "Card(rank='K', suit='hearts')\n",
            "Card(rank='A', suit='hearts')\n",
            "52\n"
          ]
        }
      ]
    },
    {
      "cell_type": "markdown",
      "metadata": {
        "id": "Bw7onrEigcwz"
      },
      "source": [
        "# 06-obj-ref"
      ]
    },
    {
      "cell_type": "code",
      "metadata": {
        "colab": {
          "base_uri": "https://localhost:8080/"
        },
        "id": "T51enQ8NgX7P",
        "outputId": "67b8a9a8-366c-4ad9-c9c2-e3ec84271f9d"
      },
      "source": [
        "class TwilightBus:\n",
        "    \"\"\"A bus model that makes passengers vanish\"\"\"\n",
        "\n",
        "    def __init__(self, passengers=None):\n",
        "        if passengers is None:\n",
        "            self.passengers = []  # <1>\n",
        "        else:\n",
        "            self.passengers = passengers  #<2>\n",
        "\n",
        "    def pick(self, name):\n",
        "        self.passengers.append(name)\n",
        "\n",
        "    def drop(self, name):\n",
        "        self.passengers.remove(name)  # <3>\n",
        "\n",
        "basketball_team = ['Sue', 'Tina', 'Maya', 'Diana', 'Pat']\n",
        "bus = TwilightBus(basketball_team)\n",
        "bus.drop('Tina')\n",
        "bus.drop('Pat')\n",
        "print(basketball_team)"
      ],
      "execution_count": 26,
      "outputs": [
        {
          "output_type": "stream",
          "name": "stdout",
          "text": [
            "['Sue', 'Maya', 'Diana']\n"
          ]
        }
      ]
    },
    {
      "cell_type": "markdown",
      "metadata": {
        "id": "hTpi9jp2hDR4"
      },
      "source": [
        "#07-1-class-func"
      ]
    },
    {
      "cell_type": "code",
      "metadata": {
        "colab": {
          "base_uri": "https://localhost:8080/"
        },
        "id": "Y5rdideyhHLw",
        "outputId": "6618812c-5433-4d35-f21f-787d011a70e6"
      },
      "source": [
        "def tag(name, *content, class_=None, **attrs):\n",
        "    \"\"\"Generate one or more HTML tags\"\"\"\n",
        "    if class_ is not None:\n",
        "        attrs['class'] = class_\n",
        "    attr_pairs = (f' {attr}=\"{value}\"' for attr, value\n",
        "                    in sorted(attrs.items()))\n",
        "    attr_str = ''.join(attr_pairs)\n",
        "    if content:\n",
        "        elements = (f'<{name}{attr_str}>{c}</{name}>'\n",
        "                    for c in content)\n",
        "        return '\\n'.join(elements)\n",
        "    else:\n",
        "        return f'<{name}{attr_str} />'\n",
        "\n",
        "print(tag('br'))\n",
        "print(tag('p', 'hello', 'world', class_='sidebar'))\n",
        "my_tag = {'name': 'img', 'title': 'Sunset Boulevard',\n",
        "           'src': 'sunset.jpg', 'class': 'framed'}\n",
        "print(tag(**my_tag))         "
      ],
      "execution_count": 27,
      "outputs": [
        {
          "output_type": "stream",
          "name": "stdout",
          "text": [
            "<br />\n",
            "<p class=\"sidebar\">hello</p>\n",
            "<p class=\"sidebar\">world</p>\n",
            "<img class=\"framed\" src=\"sunset.jpg\" title=\"Sunset Boulevard\" />\n"
          ]
        }
      ]
    },
    {
      "cell_type": "markdown",
      "metadata": {
        "id": "l5b-KwoIhlW4"
      },
      "source": [
        "#08-type hint"
      ]
    },
    {
      "cell_type": "code",
      "metadata": {
        "colab": {
          "base_uri": "https://localhost:8080/"
        },
        "id": "PMG5fZzphndR",
        "outputId": "c5343f24-6bb3-4734-e0d0-b6c07c6994ac"
      },
      "source": [
        "import typing\n",
        "from typing import Optional\n",
        "\n",
        "\n",
        "def f(a: str, *b: int, **c: float) -> None:\n",
        "    if typing.TYPE_CHECKING:\n",
        "        # reveal_type(b)\n",
        "        reveal_type(c)\n",
        "    print(a, b, c)\n",
        "\n",
        "\n",
        "def g(__a: int) -> None:\n",
        "    print(__a)\n",
        "\n",
        "\n",
        "def h(a: int,_) -> None:\n",
        "    print(a)\n",
        "\n",
        "\n",
        "def tag(\n",
        "    name: str,\n",
        "    *content: str,\n",
        "    class_: Optional[str] = None,\n",
        "    foo: Optional[str] = None,\n",
        "    **attrs: str,\n",
        ") -> str:\n",
        "    return repr((name, content, class_, attrs))\n",
        "\n",
        "\n",
        "f(a='1')\n",
        "f('1', 2, 3, x=4, y=5)\n",
        "g(__a=1)\n",
        "# h(a=1)\n",
        "print(tag('li', 'first', 'second', id='#123'))\n",
        "print(tag('li', 'first', 'second', class_='menu', id='#123'))"
      ],
      "execution_count": 30,
      "outputs": [
        {
          "output_type": "stream",
          "name": "stdout",
          "text": [
            "1 () {}\n",
            "1 (2, 3) {'x': 4, 'y': 5}\n",
            "1\n",
            "('li', ('first', 'second'), None, {'id': '#123'})\n",
            "('li', ('first', 'second'), 'menu', {'id': '#123'})\n"
          ]
        }
      ]
    },
    {
      "cell_type": "code",
      "metadata": {
        "colab": {
          "base_uri": "https://localhost:8080/",
          "height": 349
        },
        "id": "a8_5frE1hiw8",
        "outputId": "e01bd3f5-6780-4bba-9ef6-14e0d55b694f"
      },
      "source": [
        "values_map = [\n",
        "    (1000,  900, 500,  400, 100,   90,  50,   40,  10,    9,   5,    4,   1),\n",
        "    ( 'M', 'CM', 'D', 'CD', 'C', 'XC', 'L', 'XL', 'X', 'IX', 'V', 'IV', 'I')\n",
        "]\n",
        "\n",
        "def to_roman(arabic: int) -> str:\n",
        "    \"\"\" Convert an integer to a Roman numeral. \"\"\"\n",
        "    if not 0 < arabic < 4000:\n",
        "        raise ValueError('Argument must be between 1 and 3999')\n",
        "\n",
        "    result = []\n",
        "    for value, numeral in zip(*values_map):\n",
        "        repeat = arabic // value\n",
        "        result.append(numeral * repeat)\n",
        "        arabic -= value * repeat\n",
        "    return ''.join(result)\n",
        "\n",
        "import pytest\n",
        "\n",
        "def test_to_roman_1():\n",
        "    assert to_roman(1) == 'I'\n",
        "\n",
        "\n",
        "@pytest.mark.parametrize('arabic, roman', [\n",
        "    (3, 'III'),\n",
        "    (4, 'IV'),\n",
        "    (1009, 'MIX'),\n",
        "    (1969, 'MCMLXIX'),\n",
        "    (3999, 'MMMCMXCIX')\n",
        "])\n",
        "def test_to_roman(arabic, roman):\n",
        "    print('YES')\n",
        "    assert to_roman(arabic) == roman\n",
        "\n",
        "test_to_roman(1000,'l')"
      ],
      "execution_count": 45,
      "outputs": [
        {
          "output_type": "stream",
          "name": "stdout",
          "text": [
            "YES\n"
          ]
        },
        {
          "output_type": "error",
          "ename": "AssertionError",
          "evalue": "ignored",
          "traceback": [
            "\u001b[0;31m---------------------------------------------------------------------------\u001b[0m",
            "\u001b[0;31mAssertionError\u001b[0m                            Traceback (most recent call last)",
            "\u001b[0;32m<ipython-input-45-eb81682e409d>\u001b[0m in \u001b[0;36m<module>\u001b[0;34m()\u001b[0m\n\u001b[1;32m     33\u001b[0m     \u001b[0;32massert\u001b[0m \u001b[0mto_roman\u001b[0m\u001b[0;34m(\u001b[0m\u001b[0marabic\u001b[0m\u001b[0;34m)\u001b[0m \u001b[0;34m==\u001b[0m \u001b[0mroman\u001b[0m\u001b[0;34m\u001b[0m\u001b[0;34m\u001b[0m\u001b[0m\n\u001b[1;32m     34\u001b[0m \u001b[0;34m\u001b[0m\u001b[0m\n\u001b[0;32m---> 35\u001b[0;31m \u001b[0mtest_to_roman\u001b[0m\u001b[0;34m(\u001b[0m\u001b[0;36m1000\u001b[0m\u001b[0;34m,\u001b[0m\u001b[0;34m'l'\u001b[0m\u001b[0;34m)\u001b[0m\u001b[0;34m\u001b[0m\u001b[0;34m\u001b[0m\u001b[0m\n\u001b[0m",
            "\u001b[0;32m<ipython-input-45-eb81682e409d>\u001b[0m in \u001b[0;36mtest_to_roman\u001b[0;34m(arabic, roman)\u001b[0m\n\u001b[1;32m     31\u001b[0m \u001b[0;32mdef\u001b[0m \u001b[0mtest_to_roman\u001b[0m\u001b[0;34m(\u001b[0m\u001b[0marabic\u001b[0m\u001b[0;34m,\u001b[0m \u001b[0mroman\u001b[0m\u001b[0;34m)\u001b[0m\u001b[0;34m:\u001b[0m\u001b[0;34m\u001b[0m\u001b[0;34m\u001b[0m\u001b[0m\n\u001b[1;32m     32\u001b[0m     \u001b[0mprint\u001b[0m\u001b[0;34m(\u001b[0m\u001b[0;34m'YES'\u001b[0m\u001b[0;34m)\u001b[0m\u001b[0;34m\u001b[0m\u001b[0;34m\u001b[0m\u001b[0m\n\u001b[0;32m---> 33\u001b[0;31m     \u001b[0;32massert\u001b[0m \u001b[0mto_roman\u001b[0m\u001b[0;34m(\u001b[0m\u001b[0marabic\u001b[0m\u001b[0;34m)\u001b[0m \u001b[0;34m==\u001b[0m \u001b[0mroman\u001b[0m\u001b[0;34m\u001b[0m\u001b[0;34m\u001b[0m\u001b[0m\n\u001b[0m\u001b[1;32m     34\u001b[0m \u001b[0;34m\u001b[0m\u001b[0m\n\u001b[1;32m     35\u001b[0m \u001b[0mtest_to_roman\u001b[0m\u001b[0;34m(\u001b[0m\u001b[0;36m1000\u001b[0m\u001b[0;34m,\u001b[0m\u001b[0;34m'l'\u001b[0m\u001b[0;34m)\u001b[0m\u001b[0;34m\u001b[0m\u001b[0;34m\u001b[0m\u001b[0m\n",
            "\u001b[0;31mAssertionError\u001b[0m: "
          ]
        }
      ]
    },
    {
      "cell_type": "code",
      "metadata": {
        "id": "gNUPhjHqqXwF"
      },
      "source": [
        "from typing import TypeVar, TYPE_CHECKING\n",
        "from decimal import Decimal\n",
        "\n",
        "# tag::TYPEVAR_RESTRICTED[]\n",
        "RT = TypeVar('RT', float, Decimal)\n",
        "\n",
        "def triple1(a: RT) -> RT:\n",
        "    return a * 3\n",
        "\n",
        "res1 = triple1(2)\n",
        "\n",
        "if TYPE_CHECKING:\n",
        "    reveal_type(res1)\n",
        "# end::TYPEVAR_RESTRICTED[]\n",
        "\n",
        "# tag::TYPEVAR_BOUNDED[]\n",
        "BT = TypeVar('BT', bound=float)\n",
        "\n",
        "def triple2(a: BT) -> BT:\n",
        "    return a * 3\n",
        "\n",
        "res2 = triple2(2)\n",
        "\n",
        "if TYPE_CHECKING:\n",
        "    reveal_type(res2)\n",
        "# tag::TYPEVAR_BOUNDED[]"
      ],
      "execution_count": 49,
      "outputs": []
    },
    {
      "cell_type": "markdown",
      "metadata": {
        "id": "q6sfgf3Dqhtk"
      },
      "source": [
        "#09-CLOSURE DECO"
      ]
    },
    {
      "cell_type": "code",
      "metadata": {
        "colab": {
          "base_uri": "https://localhost:8080/"
        },
        "id": "Xe7rYX8Xs8gx",
        "outputId": "664383c6-4c94-4659-e43e-dc9ae5e3e2db"
      },
      "source": [
        "class Averager:\n",
        "\n",
        "    def __init__(self):\n",
        "        self.series = []\n",
        "\n",
        "    def __call__(self, new_value):\n",
        "        self.series.append(new_value)\n",
        "        total = sum(self.series)\n",
        "        return total/len(self.series)\n",
        "\n",
        "avg = Averager()\n",
        "avg(10)\n",
        "avg(11)"
      ],
      "execution_count": 50,
      "outputs": [
        {
          "output_type": "execute_result",
          "data": {
            "text/plain": [
              "10.5"
            ]
          },
          "metadata": {},
          "execution_count": 50
        }
      ]
    },
    {
      "cell_type": "code",
      "metadata": {
        "colab": {
          "base_uri": "https://localhost:8080/"
        },
        "id": "N8c4K8d0tRfu",
        "outputId": "67a57a19-3291-4f17-a011-7495a13273bb"
      },
      "source": [
        "import time\n",
        "import functools\n",
        "\n",
        "\n",
        "def clock(func):\n",
        "    @functools.wraps(func)\n",
        "    def clocked(*args, **kwargs):\n",
        "        t0 = time.perf_counter()\n",
        "        result = func(*args, **kwargs)\n",
        "        elapsed = time.perf_counter() - t0\n",
        "        name = func.__name__\n",
        "        arg_lst = [repr(arg) for arg in args]\n",
        "        arg_lst.extend(f'{k}={v!r}' for k, v in kwargs.items())\n",
        "        arg_str = ', '.join(arg_lst)\n",
        "        print(f'[{elapsed:0.8f}s] {name}({arg_str}) -> {result!r}')\n",
        "        return result\n",
        "    return clocked\n",
        "  \n",
        "@clock  # <2>\n",
        "def fibonacci(n):\n",
        "    if n < 2:\n",
        "        return n\n",
        "    return fibonacci(n - 2) + fibonacci(n - 1)\n",
        "\n",
        "\n",
        "if __name__ == '__main__':\n",
        "    print(fibonacci(6))"
      ],
      "execution_count": 54,
      "outputs": [
        {
          "output_type": "stream",
          "name": "stdout",
          "text": [
            "[0.00000044s] fibonacci(0) -> 0\n",
            "[0.00000057s] fibonacci(1) -> 1\n",
            "[0.00011681s] fibonacci(2) -> 1\n",
            "[0.00000043s] fibonacci(1) -> 1\n",
            "[0.00000047s] fibonacci(0) -> 0\n",
            "[0.00000046s] fibonacci(1) -> 1\n",
            "[0.00012205s] fibonacci(2) -> 1\n",
            "[0.00018745s] fibonacci(3) -> 2\n",
            "[0.00037657s] fibonacci(4) -> 3\n",
            "[0.00000045s] fibonacci(1) -> 1\n",
            "[0.00000044s] fibonacci(0) -> 0\n",
            "[0.00000044s] fibonacci(1) -> 1\n",
            "[0.00005911s] fibonacci(2) -> 1\n",
            "[0.00011800s] fibonacci(3) -> 2\n",
            "[0.00000046s] fibonacci(0) -> 0\n",
            "[0.00000040s] fibonacci(1) -> 1\n",
            "[0.00008338s] fibonacci(2) -> 1\n",
            "[0.00000041s] fibonacci(1) -> 1\n",
            "[0.00000053s] fibonacci(0) -> 0\n",
            "[0.00000050s] fibonacci(1) -> 1\n",
            "[0.00007753s] fibonacci(2) -> 1\n",
            "[0.00021049s] fibonacci(3) -> 2\n",
            "[0.00045600s] fibonacci(4) -> 3\n",
            "[0.00063773s] fibonacci(5) -> 5\n",
            "[0.00108167s] fibonacci(6) -> 8\n",
            "8\n"
          ]
        }
      ]
    },
    {
      "cell_type": "code",
      "metadata": {
        "colab": {
          "base_uri": "https://localhost:8080/"
        },
        "id": "ZeQljBE9tcJ5",
        "outputId": "54f08721-c9ea-4ba6-c5b1-8fe4d1bd1ea6"
      },
      "source": [
        "registry = set()  # <1>\n",
        "\n",
        "def register(active=True):  # <2>\n",
        "    def decorate(func):  # <3>\n",
        "        print('running register'\n",
        "              f'(active={active})->decorate({func})')\n",
        "        if active:   # <4>\n",
        "            registry.add(func)\n",
        "        else:\n",
        "            registry.discard(func)  # <5>\n",
        "\n",
        "        return func  # <6>\n",
        "    return decorate  # <7>\n",
        "\n",
        "@register(active=False)  # <8>\n",
        "def f1():\n",
        "    print('running f1()')\n",
        "\n",
        "@register()  # <9>\n",
        "def f2():\n",
        "    print('running f2()')\n",
        "\n",
        "def f3():\n",
        "    print('running f3()')\n",
        "\n",
        "f1()\n",
        "f2()"
      ],
      "execution_count": 56,
      "outputs": [
        {
          "output_type": "stream",
          "name": "stdout",
          "text": [
            "running register(active=False)->decorate(<function f1 at 0x7f1a1e16f170>)\n",
            "running register(active=True)->decorate(<function f2 at 0x7f1a1e16f0e0>)\n",
            "running f1()\n",
            "running f2()\n"
          ]
        }
      ]
    },
    {
      "cell_type": "markdown",
      "metadata": {
        "id": "SubpS55Kt3OU"
      },
      "source": [
        "# 10 -dp-1class -func"
      ]
    },
    {
      "cell_type": "code",
      "metadata": {
        "colab": {
          "base_uri": "https://localhost:8080/"
        },
        "id": "FUQLbN9wvxnI",
        "outputId": "8c0c1344-1eba-4e61-926b-c04ff5aea632"
      },
      "source": [
        "from typing import Sequence\n",
        "from dataclasses import dataclass\n",
        "from decimal import Decimal\n",
        "from typing import Optional, Callable, NamedTuple\n",
        "\n",
        "\n",
        "class Customer(NamedTuple):\n",
        "    name: str\n",
        "    fidelity: int\n",
        "\n",
        "\n",
        "class LineItem(NamedTuple):\n",
        "    product: str\n",
        "    quantity: int\n",
        "    price: Decimal\n",
        "\n",
        "    def total(self):\n",
        "        return self.price * self.quantity\n",
        "\n",
        "@dataclass(frozen=True)\n",
        "class Order:  # the Context\n",
        "    customer: Customer\n",
        "    cart: Sequence[LineItem]\n",
        "    promotion: Optional[Callable[['Order'], Decimal]] = None  # <1>\n",
        "\n",
        "    def total(self) -> Decimal:\n",
        "        totals = (item.total() for item in self.cart)\n",
        "        return sum(totals)\n",
        "\n",
        "    def due(self) -> Decimal:\n",
        "        if self.promotion is None:\n",
        "            discount = Decimal(0)\n",
        "        else:\n",
        "            discount = self.promotion(self)  # <2>\n",
        "        return self.total() - discount\n",
        "\n",
        "    def __repr__(self):\n",
        "        return f'<Order total: {self.total():.2f} due: {self.due():.2f}>'\n",
        "\n",
        "\n",
        "# <3>\n",
        "\n",
        "\n",
        "def fidelity_promo(order: Order) -> Decimal:  # <4>\n",
        "    \"\"\"5% discount for customers with 1000 or more fidelity points\"\"\"\n",
        "    if order.customer.fidelity >= 1000:\n",
        "        return order.total() * Decimal('0.05')\n",
        "    return Decimal(0)\n",
        "\n",
        "\n",
        "def bulk_item_promo(order: Order) -> Decimal:\n",
        "    \"\"\"10% discount for each LineItem with 20 or more units\"\"\"\n",
        "    discount = Decimal(0)\n",
        "    for item in order.cart:\n",
        "        if item.quantity >= 20:\n",
        "            discount += item.total() * Decimal('0.1')\n",
        "    return discount\n",
        "\n",
        "\n",
        "def large_order_promo(order: Order) -> Decimal:\n",
        "    \"\"\"7% discount for orders with 10 or more distinct items\"\"\"\n",
        "    distinct_items = {item.product for item in order.cart}\n",
        "    if len(distinct_items) >= 10:\n",
        "        return order.total() * Decimal('0.07')\n",
        "    return Decimal(0)\n",
        "\n",
        "\n",
        "joe = Customer('John Doe', 0)\n",
        "ann = Customer('Ann Smith', 1100)\n",
        "cart = [LineItem('banana', 4, Decimal('.5')),\n",
        "            LineItem('apple', 10, Decimal('1.5')),\n",
        "            LineItem('watermelon', 5, Decimal(5))]\n",
        "print(Order(joe, cart, fidelity_promo))\n",
        "print(Order(ann, cart, fidelity_promo))"
      ],
      "execution_count": 4,
      "outputs": [
        {
          "output_type": "stream",
          "name": "stdout",
          "text": [
            "<Order total: 42.00 due: 42.00>\n",
            "<Order total: 42.00 due: 39.90>\n"
          ]
        }
      ]
    },
    {
      "cell_type": "markdown",
      "metadata": {
        "id": "TDo0rNMHkPUn"
      },
      "source": [
        "# 11-pythonic-obj\n",
        "\n"
      ]
    },
    {
      "cell_type": "code",
      "metadata": {
        "colab": {
          "base_uri": "https://localhost:8080/"
        },
        "id": "MIXNqE1LxnPj",
        "outputId": "0ab5201a-ffad-486e-9c68-f3c74ad3c7d6"
      },
      "source": [
        "import importlib\n",
        "import sys\n",
        "import resource\n",
        "\n",
        "NUM_VECTORS = 10**7\n",
        "\n",
        "module = None\n",
        "if len(sys.argv) == 2:\n",
        "    module_name = sys.argv[1].replace('.py', '')\n",
        "    module = importlib.import_module(module_name)\n",
        "else:\n",
        "    print(f'Usage: {sys.argv[0]} <vector-module-to-test>')\n",
        "\n",
        "if module is None:\n",
        "    print('Running test with built-in `complex`')\n",
        "    cls = complex\n",
        "else:\n",
        "    fmt = 'Selected Vector2d type: {.__name__}.{.__name__}'\n",
        "    print(fmt.format(module, module.Vector2d))\n",
        "    cls = module.Vector2d\n",
        "\n",
        "mem_init = resource.getrusage(resource.RUSAGE_SELF).ru_maxrss\n",
        "print(f'Creating {NUM_VECTORS:,} {cls.__qualname__!r} instances')\n",
        "\n",
        "vectors = [cls(3.0, 4.0) for i in range(NUM_VECTORS)]\n",
        "\n",
        "mem_final = resource.getrusage(resource.RUSAGE_SELF).ru_maxrss\n",
        "print(f'Initial RAM usage: {mem_init:14,}')\n",
        "print(f'  Final RAM usage: {mem_final:14,}')"
      ],
      "execution_count": 5,
      "outputs": [
        {
          "output_type": "stream",
          "name": "stdout",
          "text": [
            "Usage: /usr/local/lib/python3.7/dist-packages/ipykernel_launcher.py <vector-module-to-test>\n",
            "Running test with built-in `complex`\n",
            "Creating 10,000,000 'complex' instances\n",
            "Initial RAM usage:        116,636\n",
            "  Final RAM usage:        579,116\n"
          ]
        }
      ]
    },
    {
      "cell_type": "code",
      "metadata": {
        "colab": {
          "base_uri": "https://localhost:8080/"
        },
        "id": "2ukKhGjSxVGx",
        "outputId": "4aed62f3-7ec9-4cc1-d859-4d8b2af0d32f"
      },
      "source": [
        "from array import array\n",
        "import math\n",
        "\n",
        "class Vector2d:\n",
        "    __match_args__ = ('x', 'y')\n",
        "\n",
        "    typecode = 'd'\n",
        "\n",
        "    def __init__(self, x, y):\n",
        "        self.__x = float(x)\n",
        "        self.__y = float(y)\n",
        "\n",
        "    @property\n",
        "    def x(self):\n",
        "        return self.__x\n",
        "\n",
        "    @property\n",
        "    def y(self):\n",
        "        return self.__y\n",
        "\n",
        "    def __iter__(self):\n",
        "        return (i for i in (self.x, self.y))\n",
        "\n",
        "    def __repr__(self):\n",
        "        class_name = type(self).__name__\n",
        "        return '{}({!r}, {!r})'.format(class_name, *self)\n",
        "\n",
        "    def __str__(self):\n",
        "        return str(tuple(self))\n",
        "\n",
        "    def __bytes__(self):\n",
        "        return (bytes([ord(self.typecode)]) +\n",
        "                bytes(array(self.typecode, self)))\n",
        "\n",
        "    def __eq__(self, other):\n",
        "        return tuple(self) == tuple(other)\n",
        "\n",
        "    def __hash__(self):\n",
        "        return hash(self.x) ^ hash(self.y)\n",
        "\n",
        "    def __abs__(self):\n",
        "        return math.hypot(self.x, self.y)\n",
        "\n",
        "    def __bool__(self):\n",
        "        return bool(abs(self))\n",
        "\n",
        "    def angle(self):\n",
        "        return math.atan2(self.y, self.x)\n",
        "\n",
        "    def __format__(self, fmt_spec=''):\n",
        "        if fmt_spec.endswith('p'):\n",
        "            fmt_spec = fmt_spec[:-1]\n",
        "            coords = (abs(self), self.angle())\n",
        "            outer_fmt = '<{}, {}>'\n",
        "        else:\n",
        "            coords = self\n",
        "            outer_fmt = '({}, {})'\n",
        "        components = (format(c, fmt_spec) for c in coords)\n",
        "        return outer_fmt.format(*components)\n",
        "\n",
        "    @classmethod\n",
        "    def frombytes(cls, octets):\n",
        "        typecode = chr(octets[0])\n",
        "        memv = memoryview(octets[1:]).cast(typecode)\n",
        "        return cls(*memv)\n",
        "\n",
        "Vector2d(x=0, y=0)\n",
        "Vector2d(1, 2)"
      ],
      "execution_count": 14,
      "outputs": [
        {
          "output_type": "execute_result",
          "data": {
            "text/plain": [
              "Vector2d(1.0, 2.0)"
            ]
          },
          "metadata": {},
          "execution_count": 14
        }
      ]
    },
    {
      "cell_type": "markdown",
      "metadata": {
        "id": "DG4N9PDDzRz2"
      },
      "source": [
        "#12-seq-hacing"
      ]
    },
    {
      "cell_type": "code",
      "metadata": {
        "id": "0i6o7uiqzXcN"
      },
      "source": [
        "from array import array\n",
        "import reprlib\n",
        "import math\n",
        "import functools\n",
        "import operator\n",
        "import itertools  # <1>\n",
        "\n",
        "\n",
        "class Vector:\n",
        "    typecode = 'd'\n",
        "\n",
        "    def __init__(self, components):\n",
        "        self._components = array(self.typecode, components)\n",
        "\n",
        "    def __iter__(self):\n",
        "        return iter(self._components)\n",
        "\n",
        "    def __repr__(self):\n",
        "        components = reprlib.repr(self._components)\n",
        "        components = components[components.find('['):-1]\n",
        "        return f'Vector({components})'\n",
        "\n",
        "    def __str__(self):\n",
        "        return str(tuple(self))\n",
        "\n",
        "    def __bytes__(self):\n",
        "        return (bytes([ord(self.typecode)]) +\n",
        "                bytes(self._components))\n",
        "\n",
        "    def __eq__(self, other):\n",
        "        return (len(self) == len(other) and\n",
        "                all(a == b for a, b in zip(self, other)))\n",
        "\n",
        "    def __hash__(self):\n",
        "        hashes = (hash(x) for x in self)\n",
        "        return functools.reduce(operator.xor, hashes, 0)\n",
        "\n",
        "    def __abs__(self):\n",
        "        return math.hypot(*self)\n",
        "\n",
        "    def __bool__(self):\n",
        "        return bool(abs(self))\n",
        "\n",
        "    def __len__(self):\n",
        "        return len(self._components)\n",
        "\n",
        "    def __getitem__(self, key):\n",
        "        if isinstance(key, slice):\n",
        "            cls = type(self)\n",
        "            return cls(self._components[key])\n",
        "        index = operator.index(key)\n",
        "        return self._components[index]\n",
        "\n",
        "    __match_args__ = ('x', 'y', 'z', 't')\n",
        "\n",
        "    def __getattr__(self, name):\n",
        "        cls = type(self)\n",
        "        try:\n",
        "            pos = cls.__match_args__.index(name)\n",
        "        except ValueError:\n",
        "            pos = -1\n",
        "        if 0 <= pos < len(self._components):\n",
        "            return self._components[pos]\n",
        "        msg = f'{cls.__name__!r} object has no attribute {name!r}'\n",
        "        raise AttributeError(msg)\n",
        "\n",
        "    def angle(self, n):  # <2>\n",
        "        r = math.hypot(*self[n:])\n",
        "        a = math.atan2(r, self[n-1])\n",
        "        if (n == len(self) - 1) and (self[-1] < 0):\n",
        "            return math.pi * 2 - a\n",
        "        else:\n",
        "            return a\n",
        "\n",
        "    def angles(self):  # <3>\n",
        "        return (self.angle(n) for n in range(1, len(self)))\n",
        "\n",
        "    def __format__(self, fmt_spec=''):\n",
        "        if fmt_spec.endswith('h'):  # hyperspherical coordinates\n",
        "            fmt_spec = fmt_spec[:-1]\n",
        "            coords = itertools.chain([abs(self)],\n",
        "                                     self.angles())  # <4>\n",
        "            outer_fmt = '<{}>'  # <5>\n",
        "        else:\n",
        "            coords = self\n",
        "            outer_fmt = '({})'  # <6>\n",
        "        components = (format(c, fmt_spec) for c in coords)  # <7>\n",
        "        return outer_fmt.format(', '.join(components))  # <8>\n",
        "\n",
        "    @classmethod\n",
        "    def frombytes(cls, octets):\n",
        "        typecode = chr(octets[0])\n",
        "        memv = memoryview(octets[1:]).cast(typecode)\n",
        "        return cls(memv)"
      ],
      "execution_count": 15,
      "outputs": []
    },
    {
      "cell_type": "code",
      "metadata": {
        "colab": {
          "base_uri": "https://localhost:8080/"
        },
        "id": "zJqXNbdgzgIf",
        "outputId": "10446a4f-cce2-417a-85b9-5f5da2dc3a58"
      },
      "source": [
        "v1 = Vector([3, 4])\n",
        "v2 = Vector([3.1, 4.2])\n",
        "v3 = Vector([3, 4, 5])\n",
        "v6 = Vector(range(6))\n",
        "hash(v1), hash(v3), hash(v6)"
      ],
      "execution_count": 16,
      "outputs": [
        {
          "output_type": "execute_result",
          "data": {
            "text/plain": [
              "(7, 2, 1)"
            ]
          },
          "metadata": {},
          "execution_count": 16
        }
      ]
    },
    {
      "cell_type": "markdown",
      "metadata": {
        "id": "uqVcjQzj7AoG"
      },
      "source": [
        "#13 protocol - abc"
      ]
    },
    {
      "cell_type": "code",
      "metadata": {
        "id": "ZqGjvCh77HLQ"
      },
      "source": [
        "from collections import namedtuple, abc\n",
        "\n",
        "Card = namedtuple('Card', ['rank', 'suit'])\n",
        "\n",
        "class FrenchDeck2(abc.MutableSequence):\n",
        "    ranks = [str(n) for n in range(2, 11)] + list('JQKA')\n",
        "    suits = 'spades diamonds clubs hearts'.split()\n",
        "\n",
        "    def __init__(self):\n",
        "        self._cards = [Card(rank, suit) for suit in self.suits\n",
        "                                        for rank in self.ranks]\n",
        "\n",
        "    def __len__(self):\n",
        "        return len(self._cards)\n",
        "\n",
        "    def __getitem__(self, position):\n",
        "        return self._cards[position]\n",
        "\n",
        "    def __setitem__(self, position, value):  # <1>\n",
        "        self._cards[position] = value\n",
        "\n",
        "    def __delitem__(self, position):  # <2>\n",
        "        del self._cards[position]\n",
        "\n",
        "    def insert(self, position, value):  # <3>\n",
        "        self._cards.insert(position, value)"
      ],
      "execution_count": 17,
      "outputs": []
    }
  ]
}