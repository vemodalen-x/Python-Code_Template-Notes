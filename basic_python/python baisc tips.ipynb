{
 "cells": [
  {
   "cell_type": "markdown",
   "metadata": {
    "collapsed": false
   },
   "source": [
    "# python tricks and tips"
   ]
  },
  {
   "cell_type": "markdown",
   "metadata": {
    "collapsed": false
   },
   "source": [
    "## typing hint support"
   ]
  },
  {
   "cell_type": "code",
   "execution_count": null,
   "metadata": {
    "collapsed": false
   },
   "outputs": [
    {
     "name": "stdout",
     "output_type": "stream",
     "text": [
      "ok\n"
     ]
    }
   ],
   "source": [
    "from typing import *\r\n",
    "def greeting(name: str) -> str:\r\n",
    "    return name\r\n",
    "print(greeting('ok'))\r\n",
    "def foo(item: Any) -> int:\r\n",
    "    # Typechecks; 'item' could be any type,\r\n",
    "    # and that type might have a 'bar' method\r\n",
    "    item.bar()"
   ]
  },
  {
   "cell_type": "markdown",
   "metadata": {
    "collapsed": false
   },
   "source": [
    "## a better reading method : f-string"
   ]
  },
  {
   "cell_type": "code",
   "execution_count": null,
   "metadata": {
    "collapsed": false
   },
   "outputs": [
    {
     "name": "stdout",
     "output_type": "stream",
     "text": [
      "helo！my name isMolly，i am170.400 cm, math score95分, english score89分\n",
      "['app_0', 'app_1', 'app_2', 'app_3', 'app_4', 'app_5', 'app_6', 'app_7', 'app_8', 'app_9']\n"
     ]
    }
   ],
   "source": [
    "name = 'Molly'\r\n",
    "hight = 170.4\r\n",
    "score_math = 95\r\n",
    "score_english = 89\r\n",
    "print(f\"helo！my name is{name}，i am{hight:.3f} cm, math score{score_math}分, english score{score_english}分\")\r\n",
    "print([f'app_{n}' for n in range(10)])"
   ]
  },
  {
   "cell_type": "markdown",
   "metadata": {
    "collapsed": false
   },
   "source": [
    "##  yield - When an iterator function returns a value, it stops at a certain location, and when it returns a value, it continues at the same location until the program ends"
   ]
  },
  {
   "cell_type": "code",
   "execution_count": null,
   "metadata": {
    "collapsed": false
   },
   "outputs": [
    {
     "name": "stdout",
     "output_type": "stream",
     "text": [
      "starting...\n",
      "res\n",
      "********************\n",
      "res: None\n",
      "res\n",
      "res: out\n",
      "res\n"
     ]
    }
   ],
   "source": [
    "# 带yield的函数是一个生成器，而不是一个函数了，\r\n",
    "# 这个生成器有一个函数就是next函数，next就相当于“下一步”生成哪个数，这一次的next开始的地方是接着上一次的next停止的地方执行的，\r\n",
    "# 所以调用next的时候，生成器并不会从foo函数的开始执行，只是接着上一步停止的地方开始，然后遇到yield后，return出要生成的数，此步就结束。\r\n",
    "\r\n",
    "def foo():\r\n",
    "    print(\"starting...\")\r\n",
    "    while True:\r\n",
    "        res = yield 'res'\r\n",
    "        print(\"res:\",res)\r\n",
    "    \r\n",
    "g = foo()\r\n",
    "print(next(g))\r\n",
    "print(\"*\"*20)\r\n",
    "print(next(g))\r\n",
    "print(g.send('out'))"
   ]
  },
  {
   "cell_type": "code",
   "execution_count": null,
   "metadata": {
    "collapsed": false
   },
   "outputs": [
    {
     "name": "stdout",
     "output_type": "stream",
     "text": [
      "1\n",
      "1\n",
      "2\n",
      "3\n",
      "5\n",
      "8\n",
      "13\n",
      "21\n",
      "34\n",
      "55\n",
      "89\n",
      "144\n",
      "233\n",
      "377\n",
      "610\n",
      "987\n",
      "1597\n",
      "2584\n",
      "4181\n",
      "6765\n"
     ]
    }
   ],
   "source": [
    "def feb(max_num):\r\n",
    "    n_1 = 1\r\n",
    "    n_2 = 1\r\n",
    "    n = 0\r\n",
    "    while n<max_num:\r\n",
    "        if n == 0 or n == 1:\r\n",
    "            yield 1\r\n",
    "            n += 1\r\n",
    "        else:\r\n",
    "            yield n_1 + n_2\r\n",
    "            new_n_2 = n_1 \r\n",
    "            n_1 = n_1 + n_2\r\n",
    "            n_2 = new_n_2\r\n",
    "            n += 1\r\n",
    "g = feb(20)\r\n",
    "for n in g:\r\n",
    "    print(n)"
   ]
  },
  {
   "cell_type": "markdown",
   "metadata": {
    "collapsed": false
   },
   "source": [
    "## try except error hint"
   ]
  },
  {
   "cell_type": "code",
   "execution_count": null,
   "metadata": {
    "collapsed": false
   },
   "outputs": [
    {
     "name": "stdout",
     "output_type": "stream",
     "text": [
      "0\n",
      "[2, 2, 3, 4, '5', 6, 7, 8]\n",
      "正确执行\n",
      "我总是会被执行\n",
      "1\n",
      "[2, 3, 3, 4, '5', 6, 7, 8]\n",
      "正确执行\n",
      "我总是会被执行\n",
      "2\n",
      "[2, 3, 4, 4, '5', 6, 7, 8]\n",
      "正确执行\n",
      "我总是会被执行\n",
      "3\n",
      "[2, 3, 4, 5, '5', 6, 7, 8]\n",
      "正确执行\n",
      "我总是会被执行\n",
      "4\n",
      "有错误发生\n",
      "我总是会被执行\n",
      "5\n",
      "[2, 3, 4, 5, '5', 7, 7, 8]\n",
      "正确执行\n",
      "我总是会被执行\n",
      "6\n",
      "[2, 3, 4, 5, '5', 7, 8, 8]\n",
      "正确执行\n",
      "我总是会被执行\n",
      "7\n",
      "[2, 3, 4, 5, '5', 7, 8, 9]\n",
      "正确执行\n",
      "我总是会被执行\n"
     ]
    }
   ],
   "source": [
    "list1 = [1,2,3,4,'5',6,7,8]\r\n",
    "n=1\r\n",
    "for i in range(len(list1)):\r\n",
    "    print(i)\r\n",
    "    try:\r\n",
    "        list1[i]+=1\r\n",
    "        print(list1)\r\n",
    "    except IOError as e:\r\n",
    "        print(e)\r\n",
    "        print('输入输出异常')\r\n",
    "    except:\r\n",
    "        print('有错误发生')\r\n",
    "    else:\r\n",
    "        print('正确执行')\r\n",
    "    finally:\r\n",
    "        print('我总是会被执行')"
   ]
  },
  {
   "cell_type": "code",
   "execution_count": null,
   "metadata": {
    "collapsed": false
   },
   "outputs": [
    {
     "name": "stdout",
     "output_type": "stream",
     "text": [
      "invalid literal for int() with base 10: 'user'\n"
     ]
    },
    {
     "data": {
      "text/plain": [
       "'请修改输入'"
      ]
     },
     "execution_count": null,
     "metadata": {},
     "output_type": "execute_result"
    }
   ],
   "source": [
    "# 异常的层层处理\r\n",
    "def worker(s):\r\n",
    "    # 这是一个函数 后面我们会详细介绍函数如何定义的\r\n",
    "    try:\r\n",
    "        rst = 10 / int(s)\r\n",
    "    except ZeroDivisionError as e:\r\n",
    "        print(e)\r\n",
    "        rst = 10 / (float(s)+0.00001)\r\n",
    "    return rst\r\n",
    "\r\n",
    "def group_leader(s):\r\n",
    "    try:\r\n",
    "        rst = worker(s) * 2\r\n",
    "    except ValueError as e:\r\n",
    "        print(e)\r\n",
    "        rst = '请修改输入'\r\n",
    "    return rst\r\n",
    "\r\n",
    "def CTO(s):\r\n",
    "    return group_leader(s)\r\n",
    "\r\n",
    "CTO('user')"
   ]
  },
  {
   "cell_type": "code",
   "execution_count": null,
   "metadata": {
    "collapsed": false
   },
   "outputs": [
    {
     "name": "stderr",
     "output_type": "stream",
     "text": [
      "2021-03-04 17:38:17,111 - INFO - 这是第0次循环\n",
      "2021-03-04 17:38:17,112 - INFO - 这是第1次循环\n",
      "2021-03-04 17:38:17,113 - INFO - 这是第2次循环\n",
      "2021-03-04 17:38:17,113 - INFO - 这是第3次循环\n",
      "2021-03-04 17:38:17,175 - INFO - 这是第4次循环\n"
     ]
    },
    {
     "name": "stdout",
     "output_type": "stream",
     "text": [
      "2\n",
      "3\n",
      "4\n",
      "5\n"
     ]
    },
    {
     "ename": "TypeError",
     "evalue": "can only concatenate str (not \"int\") to str",
     "output_type": "error",
     "traceback": [
      "\u001b[0;31m---------------------------------------------------------------------------\u001b[0m",
      "\u001b[0;31mTypeError\u001b[0m                                 Traceback (most recent call last)",
      "\u001b[0;32m<ipython-input-20-7983fea27a40>\u001b[0m in \u001b[0;36m<module>\u001b[0;34m\u001b[0m\n\u001b[1;32m     13\u001b[0m \u001b[0;32mfor\u001b[0m \u001b[0mi\u001b[0m \u001b[0;32min\u001b[0m \u001b[0mrange\u001b[0m\u001b[0;34m(\u001b[0m\u001b[0mlen\u001b[0m\u001b[0;34m(\u001b[0m\u001b[0mlist1\u001b[0m\u001b[0;34m)\u001b[0m\u001b[0;34m)\u001b[0m\u001b[0;34m:\u001b[0m\u001b[0;34m\u001b[0m\u001b[0;34m\u001b[0m\u001b[0m\n\u001b[1;32m     14\u001b[0m     \u001b[0mlogging\u001b[0m\u001b[0;34m.\u001b[0m\u001b[0minfo\u001b[0m\u001b[0;34m(\u001b[0m\u001b[0;34m'这是第%s次循环'\u001b[0m \u001b[0;34m%\u001b[0m \u001b[0mi\u001b[0m\u001b[0;34m)\u001b[0m\u001b[0;34m\u001b[0m\u001b[0;34m\u001b[0m\u001b[0m\n\u001b[0;32m---> 15\u001b[0;31m     \u001b[0mlist1\u001b[0m\u001b[0;34m[\u001b[0m\u001b[0mi\u001b[0m\u001b[0;34m]\u001b[0m\u001b[0;34m+=\u001b[0m\u001b[0;36m1\u001b[0m\u001b[0;34m\u001b[0m\u001b[0;34m\u001b[0m\u001b[0m\n\u001b[0m\u001b[1;32m     16\u001b[0m     \u001b[0mprint\u001b[0m\u001b[0;34m(\u001b[0m\u001b[0mlist1\u001b[0m\u001b[0;34m[\u001b[0m\u001b[0mi\u001b[0m\u001b[0;34m]\u001b[0m\u001b[0;34m)\u001b[0m\u001b[0;34m\u001b[0m\u001b[0;34m\u001b[0m\u001b[0m\n",
      "\u001b[0;31mTypeError\u001b[0m: can only concatenate str (not \"int\") to str"
     ]
    }
   ],
   "source": [
    "import logging\r\n",
    "logger = logging.getLogger()\r\n",
    " \r\n",
    "formatter = logging.Formatter('%(asctime)s - %(levelname)s - %(message)s')\r\n",
    "\r\n",
    "# Configure stream handler for the cells\r\n",
    "chandler = logging.StreamHandler()\r\n",
    "chandler.setLevel(logging.INFO)\r\n",
    "chandler.setFormatter(formatter)\r\n",
    "logger.addHandler(chandler)\r\n",
    "logger.setLevel(logging.INFO)\r\n",
    "list1 = [1,2,3,4,'5',6,7,8]\r\n",
    "for i in range(len(list1)):\r\n",
    "    logging.info('这是第%s次循环' % i)\r\n",
    "    list1[i]+=1\r\n",
    "    print(list1[i])"
   ]
  },
  {
   "cell_type": "markdown",
   "metadata": {
    "collapsed": false
   },
   "source": [
    "## 命名关键字参数\n",
    "## 如果要限制关键字参数的名字，就可以用命名关键字参数\n",
    "## 在Python中定义函数，可以用必选参数、默认参数、可变参数、关键字参数和命名关键字参数，这5种参数都可以组合使用。但是请注意，参数定义的顺序必须是：必选参数、默认参数、可变参数、命名关键字参数和关键字参数。"
   ]
  },
  {
   "cell_type": "code",
   "execution_count": null,
   "metadata": {
    "collapsed": false
   },
   "outputs": [
    {
     "name": "stdout",
     "output_type": "stream",
     "text": [
      "我的名字叫： 张三 年龄： 18 身高 180 体重 75\n"
     ]
    }
   ],
   "source": [
    "def print_person_info(name,*, age, height, weight,):\r\n",
    "    print('我的名字叫：', name, '年龄：', age,'身高', height, '体重', weight)\r\n",
    "print_person_info('张三', age=18,height=180, weight=75)"
   ]
  },
  {
   "cell_type": "code",
   "execution_count": null,
   "metadata": {
    "collapsed": false
   },
   "outputs": [
    {
     "name": "stdout",
     "output_type": "stream",
     "text": [
      "我的名字叫： 张三 年龄： 18 其它信息： {'city': '北京', 'height': 180, 'weight': 75}\n",
      "来自： 北京\n",
      "我有 语文 书\n",
      "我有 数学 书\n",
      "我有 计算机 书\n"
     ]
    }
   ],
   "source": [
    "def student_info(name, age=18, *books, **kw):\r\n",
    "    print('我的名字叫：', name, '年龄：', age,'其它信息：',kw)\r\n",
    "    if 'city' in kw:\r\n",
    "        print('来自：', kw['city'])\r\n",
    "    for book in books:\r\n",
    "        print('我有',book,'书')\r\n",
    "student_info('张三', 18, '语文','数学','计算机', city='北京', height=180, weight=75)"
   ]
  },
  {
   "cell_type": "markdown",
   "metadata": {
    "collapsed": false
   },
   "source": [
    "## 闭包\n",
    "\n",
    "python中的闭包从表现形式上定义（解释）为：如果在一个内部函数里，对在外部作用域（但不是在全局作用域）的变量进行引用，那么内部函数就被认为是闭包(closure).\n",
    "返回闭包时牢记一点：返回函数不要引用任何循环变量，或者后续会发生变化的变量。"
   ]
  },
  {
   "cell_type": "code",
   "execution_count": null,
   "metadata": {
    "collapsed": false
   },
   "outputs": [
    {
     "data": {
      "text/plain": [
       "'m'"
      ]
     },
     "execution_count": null,
     "metadata": {},
     "output_type": "execute_result"
    }
   ],
   "source": [
    "def create_pointer(my_string):\r\n",
    "    def pointer(n):\r\n",
    "        return my_string[n]\r\n",
    "    return pointer\r\n",
    "pointer = create_pointer('my name is Molly')\r\n",
    "pointer(5)"
   ]
  },
  {
   "cell_type": "markdown",
   "metadata": {
    "collapsed": false
   },
   "source": [
    "## 偏函数\r\n",
    "通过设定参数的默认值，降低函数调用的难度"
   ]
  },
  {
   "cell_type": "code",
   "execution_count": null,
   "metadata": {
    "collapsed": false
   },
   "outputs": [
    {
     "name": "stdout",
     "output_type": "stream",
     "text": [
      "我的名字叫Molly, 今年18岁，来自北京\n"
     ]
    }
   ],
   "source": [
    "from functools import partial\r\n",
    "def student_info(name, age, city):\r\n",
    "    print(f'我的名字叫{name}, 今年{age}岁，来自{city}')\r\n",
    "\r\n",
    "student_info_beijing = partial(student_info, city='北京')\r\n",
    "student_info_beijing('Molly',18)"
   ]
  },
  {
   "cell_type": "code",
   "execution_count": null,
   "metadata": {
    "collapsed": false
   },
   "outputs": [
    {
     "data": {
      "text/plain": [
       "110"
      ]
     },
     "execution_count": null,
     "metadata": {},
     "output_type": "execute_result"
    }
   ],
   "source": [
    "# 另一个例子\r\n",
    "def add_xy(x,y):\r\n",
    "    return x+y\r\n",
    "add_100 = partial(add_xy, y=100)\r\n",
    "add_100(10)"
   ]
  },
  {
   "cell_type": "markdown",
   "metadata": {
    "collapsed": false
   },
   "source": [
    "## 神奇方法 参考自：http://magic.iswbm.com/zh/latest/"
   ]
  },
  {
   "cell_type": "code",
   "execution_count": null,
   "metadata": {
    "collapsed": false
   },
   "outputs": [
    {
     "name": "stdout",
     "output_type": "stream",
     "text": [
      "<class 'ellipsis'>\n",
      "True\n",
      "94635964161456\n",
      "[[0 1 2 3 4]\n",
      " [5 6 7 8 9]]\n",
      "[[ 0  2  4  6  8]\n",
      " [10 12 14 16 18]]\n"
     ]
    }
   ],
   "source": [
    "#ellipsis的用法\r\n",
    "print(type(...))\r\n",
    "print(bool(...))\r\n",
    "print(id(...))\r\n",
    "\r\n",
    "#代替PASS\r\n",
    "def func01():\r\n",
    "    ...\r\n",
    "\r\n",
    "#numpy 中作为语法糖\r\n",
    "import numpy as np\r\n",
    "a = np.arange(10).reshape(2,5)\r\n",
    "print(a)\r\n",
    "\r\n",
    "#迭代中修改 n 维数组中的值\r\n",
    "for x in np.nditer(a, op_flags=['readwrite']):\r\n",
    "    x[...] = 2 * x\r\n",
    "print(a)\r\n",
    "\r\n",
    "#在类型提示中使用 Callable，不确定参数签名时，可以用 Ellipsis 占位\r\n",
    "from typing import *\r\n",
    "def foo() -> Callable[..., int]:\r\n",
    "    return lambda x: 1   \r\n",
    "\r\n",
    "# 使用 Tuple 时返回不定长的 tuple，用 Ellipsis 进行指定。\r\n",
    "def bar() -> Tuple[int, ...]:\r\n",
    "    return (1,2,3)"
   ]
  },
  {
   "cell_type": "code",
   "execution_count": null,
   "metadata": {
    "collapsed": false
   },
   "outputs": [
    {
     "name": "stdout",
     "output_type": "stream",
     "text": [
      "hello world\n"
     ]
    }
   ],
   "source": [
    "#反斜杠\r\n",
    "print(\"hello \"\\\r\n",
    "   \"world\")\r\n",
    "#在字符串中，用做转义字符，可以将普通字符转化为有特殊含义的字符\r\n",
    "# \\n \\t"
   ]
  },
  {
   "cell_type": "code",
   "execution_count": null,
   "metadata": {
    "collapsed": false
   },
   "outputs": [
    {
     "data": {
      "text/plain": [
       "14"
      ]
     },
     "execution_count": null,
     "metadata": {},
     "output_type": "execute_result"
    }
   ],
   "source": [
    "#当一个 or 表达式中所有值都为真，Python会选择第一个值\r\n",
    "#当一个 and 表达式 所有值都为真，Python 会选择最后一个值\r\n",
    "(2 or 3) * (5 and 6 and 7)"
   ]
  },
  {
   "cell_type": "code",
   "execution_count": null,
   "metadata": {
    "collapsed": false
   },
   "outputs": [
    {
     "name": "stdout",
     "output_type": "stream",
     "text": [
      "[1, 2, 3, 4, 5, 6]\n",
      "[1, 2, 3, 4, 5, 6]\n",
      "[1, 2, 3, 4, 5, 6]\n"
     ]
    }
   ],
   "source": [
    "#连接多个列表\r\n",
    "a = [1,2]\r\n",
    "b = [3,4]\r\n",
    "c = [5,6]\r\n",
    "print(sum((a,b,c), []))\r\n",
    "print(a+b+c)\r\n",
    "print([*a,*b,*c])"
   ]
  },
  {
   "cell_type": "code",
   "execution_count": null,
   "metadata": {
    "collapsed": false
   },
   "outputs": [
    {
     "name": "stdout",
     "output_type": "stream",
     "text": [
      "True 94635964310272 94635964310272\n",
      "False 140636288444304 140636288444560\n",
      "True 140636691902128 140636691902128\n",
      "False 140636559211120 140636559212336\n"
     ]
    },
    {
     "data": {
      "text/plain": [
       "True"
      ]
     },
     "execution_count": null,
     "metadata": {},
     "output_type": "execute_result"
    }
   ],
   "source": [
    "#Python 定义了一个小整数池 [-5, 256] 这些整数对象是提前建立好的，不会被垃圾回收\r\n",
    "#比较的是两个对象的id值是否相等，也就是比较俩对象是否为同一个实例对象，是否指向同一个内存地址(id())。\r\n",
    "a=256\r\n",
    "b=256\r\n",
    "print(a is b,id(a),id(b))\r\n",
    "\r\n",
    "a=257\r\n",
    "b=257\r\n",
    "print(a is b,id(a),id(b))\r\n",
    "\r\n",
    "a=\"ok\"\r\n",
    "b=\"ok\"\r\n",
    "print(a is b,id(a),id(b))\r\n",
    "# 如果有空格，默认不启用intern机制 同样的字符串对象仅仅会保存一份，放在一个字符串储蓄池中，是共用的，当然，肯定不能改变，这也决定了字符串必须是不可变对象。\r\n",
    "a=\"o k\"\r\n",
    "b=\"o k\"\r\n",
    "print(a is b,id(a),id(b))"
   ]
  },
  {
   "cell_type": "code",
   "execution_count": null,
   "metadata": {
    "collapsed": false
   },
   "outputs": [
    {
     "name": "stdout",
     "output_type": "stream",
     "text": [
      "finally\n",
      "1: try\n",
      "2: finally\n"
     ]
    }
   ],
   "source": [
    "#如果 finally 里有显式的 return，那么这个 return 会直接覆盖 try 里的 return\r\n",
    "#如果 finally 里没有 显式的 return，那么 try 里的 return 仍然有效。\r\n",
    "def func():\r\n",
    "    try:\r\n",
    "        return 'try'\r\n",
    "    finally:\r\n",
    "        print('finally')\r\n",
    "print(\"1:\",func())\r\n",
    "\r\n",
    "def func():\r\n",
    "    try:\r\n",
    "        return 'try'\r\n",
    "    finally:\r\n",
    "        return 'finally'\r\n",
    "print(\"2:\",func())"
   ]
  },
  {
   "cell_type": "code",
   "execution_count": null,
   "metadata": {
    "collapsed": false
   },
   "outputs": [
    {
     "name": "stdout",
     "output_type": "stream",
     "text": [
      "11\n",
      "True\n",
      "True\n"
     ]
    }
   ],
   "source": [
    "#在 Python 看来，两个字符之间都是一个空字符，通俗的说就是缝隙。\r\n",
    "print((\" \" * 10).count(\"\"))\r\n",
    "print(\"\" in \"\")\r\n",
    "print(\"\" in \"TEST\")"
   ]
  },
  {
   "cell_type": "code",
   "execution_count": null,
   "metadata": {
    "collapsed": false
   },
   "outputs": [
    {
     "name": "stdout",
     "output_type": "stream",
     "text": [
      "[1, 2, 3, 4, 5, 6, 7, 8]\n",
      "[1, 2, 3, 4]\n",
      "[1, 2, 3, 4, 5, 6, 7, 8]\n",
      "[1, 2, 3, 4, 5, 6, 7, 8]\n"
     ]
    }
   ],
   "source": [
    "#对列表 进行+= 操作相当于 extend，而使用 =+ 操作是新增了一个列表\r\n",
    "a = [1, 2, 3, 4]\r\n",
    "b = a\r\n",
    "a = a + [5, 6, 7, 8]\r\n",
    "print(a)\r\n",
    "print(b)\r\n",
    "\r\n",
    "a = [1, 2, 3, 4]\r\n",
    "b = a\r\n",
    "a += [5, 6, 7, 8]\r\n",
    "print(a)\r\n",
    "print(b)"
   ]
  },
  {
   "cell_type": "code",
   "execution_count": null,
   "metadata": {
    "collapsed": false
   },
   "outputs": [
    {
     "name": "stdout",
     "output_type": "stream",
     "text": [
      "hello***world\n",
      "['hello', 'world']\n"
     ]
    }
   ],
   "source": [
    "#分割字符串\r\n",
    "msg='hello***world'\r\n",
    "msg.split('-')\r\n",
    "print(msg)\r\n",
    "#当第一个参数是None的时候，返回第二个参数（可迭代对象）中非空的值\r\n",
    "msg='hello---world'\r\n",
    "msg=filter(None, msg.split('-'))\r\n",
    "print(list(msg))"
   ]
  },
  {
   "cell_type": "code",
   "execution_count": null,
   "metadata": {
    "collapsed": false
   },
   "outputs": [
    {
     "name": "stdout",
     "output_type": "stream",
     "text": [
      "sys.path = [\r\n",
      "    '/home/aistudio',\r\n",
      "    '/opt/conda/envs/python35-paddle120-env/lib/python37.zip',\r\n",
      "    '/opt/conda/envs/python35-paddle120-env/lib/python3.7',\r\n",
      "    '/opt/conda/envs/python35-paddle120-env/lib/python3.7/lib-dynload',\r\n",
      "    '/opt/conda/envs/python35-paddle120-env/lib/python3.7/site-packages',\r\n",
      "]\r\n",
      "USER_BASE: '/home/aistudio/.local' (exists)\r\n",
      "USER_SITE: '/home/aistudio/.local/lib/python3.7/site-packages' (doesn't exist)\r\n",
      "ENABLE_USER_SITE: True\r\n"
     ]
    }
   ],
   "source": [
    "#查看包搜索路径\r\n",
    "!python -m site"
   ]
  },
  {
   "cell_type": "code",
   "execution_count": null,
   "metadata": {
    "collapsed": false
   },
   "outputs": [
    {
     "name": "stdout",
     "output_type": "stream",
     "text": [
      "hello\\nworld\n",
      "'hello\\nworld'\n"
     ]
    }
   ],
   "source": [
    "#raw 字符串 无视转义\r\n",
    "print(r\"hello\\nworld\")\r\n",
    "def spider():\r\n",
    "    return 'hello\\nworld'\r\n",
    "body = repr(spider())\r\n",
    "print(body)"
   ]
  },
  {
   "cell_type": "code",
   "execution_count": null,
   "metadata": {
    "collapsed": false
   },
   "outputs": [
    {
     "name": "stdout",
     "output_type": "stream",
     "text": [
      "我准备开始执行：add 函数了:\n",
      "200 + 50 = 250\n",
      "主人，我执行完啦。\n",
      "你好!\n",
      "200 + 50 = 250\n",
      "[INFO]: the function say() is running...\n",
      "say hello!\n",
      "[SB]: the function say() is running...\n",
      "say hello!\n"
     ]
    }
   ],
   "source": [
    "#装饰器\r\n",
    "# 函数可以作为参数传递的语言，可以使用装饰器\r\n",
    "# 这是装饰器函数，参数 func 是被装饰的函数\r\n",
    "def logger(func):\r\n",
    "    def wrapper(*args, **kw):\r\n",
    "        print('我准备开始执行：{} 函数了:'.format(func.__name__))\r\n",
    "\r\n",
    "        # 真正执行的是这行。\r\n",
    "        func(*args, **kw)\r\n",
    "\r\n",
    "        print('主人，我执行完啦。')\r\n",
    "    return wrapper\r\n",
    "def say_hello(contry):\r\n",
    "    def wrapper(func):\r\n",
    "        def deco(*args, **kwargs):\r\n",
    "            if contry == \"china\":\r\n",
    "                print(\"你好!\")\r\n",
    "            elif contry == \"america\":\r\n",
    "                print('hello.')\r\n",
    "            else:\r\n",
    "                return\r\n",
    "\r\n",
    "            # 真正执行函数的地方\r\n",
    "            func(*args, **kwargs)\r\n",
    "        return deco\r\n",
    "    return wrapper\r\n",
    "@logger\r\n",
    "def add(x, y):\r\n",
    "    print('{} + {} = {}'.format(x, y, x+y))\r\n",
    "add(200, 50)\r\n",
    "\r\n",
    "@say_hello('china')\r\n",
    "def add(x, y):\r\n",
    "    print('{} + {} = {}'.format(x, y, x+y))\r\n",
    "add(200, 50)\r\n",
    "\r\n",
    "class logger(object):\r\n",
    "    def __init__(self, func):\r\n",
    "        self.func = func\r\n",
    "\r\n",
    "    def __call__(self, *args, **kwargs):\r\n",
    "        print(\"[INFO]: the function {func}() is running...\"\\\r\n",
    "            .format(func=self.func.__name__))\r\n",
    "        return self.func(*args, **kwargs)\r\n",
    "\r\n",
    "@logger\r\n",
    "def say(something):\r\n",
    "    print(\"say {}!\".format(something))\r\n",
    "say(\"hello\")\r\n",
    "\r\n",
    "class logger(object):\r\n",
    "    def __init__(self, level='INFO'):\r\n",
    "        self.level = level\r\n",
    "\r\n",
    "    def __call__(self, func): # 接受函数\r\n",
    "        def wrapper(*args, **kwargs):\r\n",
    "            print(\"[{level}]: the function {func}() is running...\"\\\r\n",
    "                .format(level=self.level, func=func.__name__))\r\n",
    "            func(*args, **kwargs)\r\n",
    "        return wrapper  #返回函数\r\n",
    "\r\n",
    "@logger(level='SB')\r\n",
    "def say(something):\r\n",
    "    print(\"say {}!\".format(something))\r\n",
    "\r\n",
    "say(\"hello\")"
   ]
  },
  {
   "cell_type": "code",
   "execution_count": null,
   "metadata": {
    "collapsed": false
   },
   "outputs": [
    {
     "name": "stdout",
     "output_type": "stream",
     "text": [
      "===connect to resource===\n",
      "===close resource connection===\n"
     ]
    }
   ],
   "source": [
    "#上下文管理器\r\n",
    "# 1. 上下文表达式：with open('test.txt') as f:\r\n",
    "# 2. 上下文管理器：open('test.txt')\r\n",
    "# 3. f 不是上下文管理器，应该是资源对象。\r\n",
    "\r\n",
    "# with EXPR as VAR:\r\n",
    "#     BLOCK\r\n",
    "class Resource():\r\n",
    "    def __enter__(self):\r\n",
    "        print('===connect to resource===')\r\n",
    "        return self\r\n",
    "\r\n",
    "    def __exit__(self, exc_type, exc_val, exc_tb):\r\n",
    "        print('===close resource connection===')\r\n",
    "        return True\r\n",
    "#异常可以在__exit__ 进行捕获并由你自己决定如何处理\r\n",
    "    def operate(self):\r\n",
    "        1/0\r\n",
    "\r\n",
    "with Resource() as res:\r\n",
    "    res.operate()"
   ]
  },
  {
   "cell_type": "code",
   "execution_count": null,
   "metadata": {
    "collapsed": false
   },
   "outputs": [],
   "source": [
    "#利用property\r\n",
    "class Student:\r\n",
    "    def __init__(self, name, math, chinese, english):\r\n",
    "        self.name = name\r\n",
    "        self.math = math\r\n",
    "        self.chinese = chinese\r\n",
    "        self.english = english\r\n",
    "\r\n",
    "    @property\r\n",
    "    def math(self):\r\n",
    "        return self._math\r\n",
    "\r\n",
    "    @math.setter\r\n",
    "    def math(self, value):\r\n",
    "        if 0 <= value <= 100:\r\n",
    "            self._math = value\r\n",
    "        else:\r\n",
    "            raise ValueError(\"Valid value must be in [0, 100]\")\r\n",
    "\r\n",
    "    @property\r\n",
    "    def chinese(self):\r\n",
    "        return self._chinese\r\n",
    "\r\n",
    "    @chinese.setter\r\n",
    "    def chinese(self, value):\r\n",
    "        if 0 <= value <= 100:\r\n",
    "            self._chinese = value\r\n",
    "        else:\r\n",
    "            raise ValueError(\"Valid value must be in [0, 100]\")\r\n",
    "\r\n",
    "    @property\r\n",
    "    def english(self):\r\n",
    "        return self._english\r\n",
    "\r\n",
    "    @english.setter\r\n",
    "    def english(self, value):\r\n",
    "        if 0 <= value <= 100:\r\n",
    "            self._english = value\r\n",
    "        else:\r\n",
    "            raise ValueError(\"Valid value must be in [0, 100]\")\r\n",
    "\r\n",
    "    def __repr__(self):\r\n",
    "        return \"<Student: {}, math:{}, chinese: {}, english:{}>\".format(\r\n",
    "                self.name, self.math, self.chinese, self.english\r\n",
    "            )\r\n",
    "\r\n",
    "\r\n",
    "#利用描述符\r\n",
    "\r\n",
    "#__get__： 用于访问属性。它返回属性的值，若属性不存在、不合法等都可以抛出对应的异常。\r\n",
    "# __set__：将在属性分配操作中调用。不会返回任何内容。\r\n",
    "# __delete__：控制删除操作。不会返回内容。\r\n",
    "\r\n",
    "#数据描述符：实现了__get__ 和 __set__ 两种方法的描述符\r\n",
    "#非数据描述符：只实现了__get__ 一种方法的描述符\r\n",
    "# 数据描述器和非数据描述器的区别在于：它们相对于实例的字典的优先级不同。\r\n",
    "# 如果实例字典中有与描述符同名的属性，如果描述符是数据描述符，优先使用数据描述符，如果是非数据描述符，优先使用字典中的属性。\r\n",
    "\r\n",
    "class Score:\r\n",
    "    def __init__(self, default=0):\r\n",
    "        self._score = default\r\n",
    "\r\n",
    "    def __set__(self, instance, value):\r\n",
    "        if not isinstance(value, int):\r\n",
    "            raise TypeError('Score must be integer')\r\n",
    "        if not 0 <= value <= 100:\r\n",
    "            raise ValueError('Valid value must be in [0, 100]')\r\n",
    "\r\n",
    "        self._score = value\r\n",
    "\r\n",
    "    def __get__(self, instance, owner):\r\n",
    "        return self._score\r\n",
    "\r\n",
    "    def __delete__(self):\r\n",
    "        del self._score\r\n",
    "\r\n",
    "class Student:\r\n",
    "    math = Score(0)\r\n",
    "    chinese = Score(0)\r\n",
    "    english = Score(0)\r\n",
    "\r\n",
    "    def __init__(self, name, math, chinese, english):\r\n",
    "        self.name = name\r\n",
    "        self.math = math\r\n",
    "        self.chinese = chinese\r\n",
    "        self.english = english\r\n",
    "\r\n",
    "\r\n",
    "    def __repr__(self):\r\n",
    "        return \"<Student: {}, math:{}, chinese: {}, english:{}>\".format(\r\n",
    "                self.name, self.math, self.chinese, self.english\r\n",
    "            )\r\n"
   ]
  },
  {
   "cell_type": "code",
   "execution_count": null,
   "metadata": {
    "collapsed": false
   },
   "outputs": [
    {
     "name": "stdout",
     "output_type": "stream",
     "text": [
      "12\n",
      "13\n",
      "13\n",
      "14\n",
      "13\n",
      "14\n",
      "14\n",
      "15\n",
      "12\n",
      "13\n",
      "13\n",
      "14\n",
      "13\n",
      "14\n",
      "14\n",
      "15\n"
     ]
    }
   ],
   "source": [
    "#嵌套\r\n",
    "list1 = range(1,3)\r\n",
    "list2 = range(4,6)\r\n",
    "list3 = range(7,9)\r\n",
    "for item1 in list1:\r\n",
    "    for item2 in list2:\r\n",
    "        for item3 in list3:\r\n",
    "              print(item1+item2+item3)\r\n",
    "from itertools import product\r\n",
    "for item1,item2,item3 in product(list1, list2, list3):\r\n",
    "    print(item1+item2+item3)"
   ]
  },
  {
   "cell_type": "code",
   "execution_count": null,
   "metadata": {
    "collapsed": false
   },
   "outputs": [
    {
     "name": "stdout",
     "output_type": "stream",
     "text": [
      "calculating: 1 + 2\n",
      "3\n",
      "3\n",
      "calculating: 2 + 3\n",
      "5\n"
     ]
    }
   ],
   "source": [
    "#缓存\r\n",
    "# 数据的生成过程可能需要经过计算，规整，远程获取等操作，如果是同一份数据需要多次使用，每次都重新生成会大大浪费时间。所以，如果将计算或者远程请求等操作获得的数据缓存下来，会加快后续的数据获取需求。\r\n",
    "from functools import lru_cache\r\n",
    "\r\n",
    "@lru_cache(None)\r\n",
    "def add(x, y):\r\n",
    "    print(\"calculating: %s + %s\" % (x, y))\r\n",
    "    return x + y\r\n",
    "\r\n",
    "print(add(1, 2))\r\n",
    "print(add(1, 2))\r\n",
    "print(add(2, 3))"
   ]
  },
  {
   "cell_type": "code",
   "execution_count": null,
   "metadata": {
    "collapsed": false
   },
   "outputs": [],
   "source": [
    "#读取大文件\r\n",
    "from functools import partial\r\n",
    "\r\n",
    "def read_from_file(filename, block_size = 1024 * 8):\r\n",
    "    with open(filename, \"r\") as fp:\r\n",
    "        for chunk in iter(partial(fp.read, block_size), \"\"):\r\n",
    "            yield chunk"
   ]
  },
  {
   "cell_type": "code",
   "execution_count": null,
   "metadata": {
    "collapsed": false
   },
   "outputs": [
    {
     "name": "stdout",
     "output_type": "stream",
     "text": [
      "2.7418136596679688e-05\n",
      "2\n",
      "2\n",
      "2\n",
      "2\n",
      "2\n",
      "10.011308692395687\n"
     ]
    }
   ],
   "source": [
    "#计算函数时间\r\n",
    "import time\r\n",
    "start = time.time()\r\n",
    "# run the function\r\n",
    "end = time.time()\r\n",
    "print(end-start)\r\n",
    "\r\n",
    "import time\r\n",
    "import timeit\r\n",
    "\r\n",
    "def run_sleep(second):\r\n",
    "    print(second)\r\n",
    "    time.sleep(second)\r\n",
    "\r\n",
    "# 只用这一行\r\n",
    "print(timeit.timeit(lambda :run_sleep(2), number=5))"
   ]
  },
  {
   "cell_type": "code",
   "execution_count": null,
   "metadata": {
    "collapsed": false
   },
   "outputs": [
    {
     "name": "stdout",
     "output_type": "stream",
     "text": [
      "我已经23岁了。\n",
      "I am twenty three years old.\n",
      "请传入合法类型的参数！\n"
     ]
    }
   ],
   "source": [
    "# 单分派泛函数\r\n",
    "# 单分派：根据一个参数的类型，以不同方式执行相同的操作的行为。\r\n",
    "\r\n",
    "# 多分派：可根据多个参数的类型选择专门的函数的行为。\r\n",
    "\r\n",
    "# 泛函数：多个函数绑在一起组合成一个泛函数。\r\n",
    "from functools import singledispatch\r\n",
    "@singledispatch\r\n",
    "def age(obj):\r\n",
    "    print('请传入合法类型的参数！')\r\n",
    "\r\n",
    "@age.register(int)\r\n",
    "def _(age):\r\n",
    "    print('我已经{}岁了。'.format(age))\r\n",
    "\r\n",
    "@age.register(str)\r\n",
    "def _(age):\r\n",
    "    print('I am {} years old.'.format(age))\r\n",
    "\r\n",
    "\r\n",
    "age(23)  # int\r\n",
    "age('twenty three')  # str\r\n",
    "age(['23'])  # list"
   ]
  },
  {
   "cell_type": "code",
   "execution_count": null,
   "metadata": {
    "collapsed": false
   },
   "outputs": [
    {
     "name": "stdout",
     "output_type": "stream",
     "text": [
      "cba\n",
      "[3, 2, 1]\n"
     ]
    }
   ],
   "source": [
    "#反转字符串、列表\r\n",
    "test1='abc'\r\n",
    "test2=[1,2,3]\r\n",
    "print(test1[::-1])\r\n",
    "print(test2[::-1])\r\n"
   ]
  },
  {
   "cell_type": "code",
   "execution_count": null,
   "metadata": {
    "collapsed": false
   },
   "outputs": [
    {
     "data": {
      "text/plain": [
       "'default value'"
      ]
     },
     "execution_count": null,
     "metadata": {},
     "output_type": "execute_result"
    }
   ],
   "source": [
    "#访问字典不存在的key\r\n",
    "import collections\r\n",
    "info=collections.defaultdict(lambda: \"default value\")\r\n",
    "info['noexists']"
   ]
  },
  {
   "cell_type": "code",
   "execution_count": null,
   "metadata": {
    "collapsed": false
   },
   "outputs": [
    {
     "name": "stdout",
     "output_type": "stream",
     "text": [
      "1  1   1   \n",
      "2  4   8   \n",
      "3  9   27  \n",
      "4  16  64  \n",
      "5  25  125 \n",
      "6  36  216 \n",
      "7  49  343 \n",
      "8  64  512 \n",
      "9  81  729 \n",
      "10 100 1000\n",
      "01 001 0001\n",
      "02 004 0008\n",
      "03 009 0027\n",
      "04 016 0064\n",
      "05 025 0125\n",
      "06 036 0216\n",
      "07 049 0343\n",
      "08 064 0512\n",
      "09 081 0729\n",
      "10 100 1000\n"
     ]
    }
   ],
   "source": [
    "#对齐字符串\r\n",
    "for x in range(1, 11):\r\n",
    "    print(' '.join([str(x).ljust(2), str(x * x).ljust(3), str(x * x * x).ljust(4)]))\r\n",
    "for x in range(1, 11):\r\n",
    "    print(' '.join([str(x).rjust(2, \"0\"), str(x*x).rjust(3, \"0\"), str(x*x*x).rjust(4, \"0\")]))"
   ]
  },
  {
   "cell_type": "code",
   "execution_count": null,
   "metadata": {
    "collapsed": false
   },
   "outputs": [
    {
     "data": {
      "text/plain": [
       "<Signature (name, age, gender='male', *args, **kw)>"
      ]
     },
     "execution_count": null,
     "metadata": {},
     "output_type": "execute_result"
    }
   ],
   "source": [
    "#获取一个函数设定的参数\r\n",
    "from inspect import signature\r\n",
    "def demo(name, age, gender=\"male\", *args, **kw):\r\n",
    "    pass\r\n",
    "sig = signature(demo) # # 获取函数签名\r\n",
    "sig"
   ]
  },
  {
   "cell_type": "markdown",
   "metadata": {
    "collapsed": false
   },
   "source": [
    "## 知识点整理自网络"
   ]
  },
  {
   "cell_type": "code",
   "execution_count": null,
   "metadata": {
    "collapsed": false
   },
   "outputs": [
    {
     "name": "stdout",
     "output_type": "stream",
     "text": [
      "666\n"
     ]
    }
   ],
   "source": [
    "#函数内部修改全局变量\r\n",
    "t=5\r\n",
    "def edit():\r\n",
    "    global t\r\n",
    "    t=666\r\n",
    "edit()\r\n",
    "print(t)"
   ]
  },
  {
   "cell_type": "code",
   "execution_count": null,
   "metadata": {
    "collapsed": false
   },
   "outputs": [
    {
     "name": "stdout",
     "output_type": "stream",
     "text": [
      "{1, 2, 3, 4, 5}\n",
      "[1, 2, 3, 4, 5]\n"
     ]
    }
   ],
   "source": [
    "# 列表去重\r\n",
    "tmp=[1,2,1,1,3,4,5,3]\r\n",
    "a=set(tmp)\r\n",
    "print(a)\r\n",
    "print([x for x in a])"
   ]
  },
  {
   "cell_type": "code",
   "execution_count": null,
   "metadata": {
    "collapsed": false
   },
   "outputs": [
    {
     "name": "stdout",
     "output_type": "stream",
     "text": [
      "a\n",
      "b\n",
      "c\n",
      "cdcd a\n"
     ]
    }
   ],
   "source": [
    "# *和**\r\n",
    "#*tmpv 用来发送一个非键值对的可变数量的参数给一个函数\r\n",
    "def demo(tmpf,*tmpv):\r\n",
    "    print(tmpf)\r\n",
    "    for x in tmpv:\r\n",
    "        print(x)\r\n",
    "demo('a','b','c')\r\n",
    "# **tmpv 将不定长度的键值对作为参数传递给一个函数\r\n",
    "def demo(**tmpv):\r\n",
    "    for x,y in tmpv.items():\r\n",
    "        print(x,y)\r\n",
    "demo(cdcd='a')"
   ]
  },
  {
   "cell_type": "code",
   "execution_count": null,
   "metadata": {
    "collapsed": false
   },
   "outputs": [
    {
     "name": "stdout",
     "output_type": "stream",
     "text": [
      "['sb</a><a>nt']\n",
      "['sb', 'nt']\n"
     ]
    }
   ],
   "source": [
    "# （.*）是贪婪匹配，会把满足正则的尽可能多的往后匹配\r\n",
    "# （.*?）是非贪婪匹配，会把满足正则的尽可能少匹配\r\n",
    "import re\r\n",
    "s=\"<a>sb</a><a>nt</a>\"\r\n",
    "res1=re.findall(\"<a>(.*)</a>\",s)\r\n",
    "res2=re.findall(\"<a>(.*?)</a>\",s)\r\n",
    "print(res1)\r\n",
    "print(res2)"
   ]
  },
  {
   "cell_type": "code",
   "execution_count": null,
   "metadata": {
    "collapsed": false
   },
   "outputs": [
    {
     "name": "stdout",
     "output_type": "stream",
     "text": [
      "[1, 2, 3, 4, 5, 6]\n",
      "[1, 2, 3, 4, 5, 6]\n"
     ]
    }
   ],
   "source": [
    "#展开列表\r\n",
    "a=[[1,2],[3,4],[5,6]]\r\n",
    "x=[j for i in a for j in i]\r\n",
    "print(x)\r\n",
    "\r\n",
    "import numpy as np\r\n",
    "b=np.array(a).flatten().tolist()\r\n",
    "print(b)"
   ]
  },
  {
   "cell_type": "code",
   "execution_count": null,
   "metadata": {
    "collapsed": false
   },
   "outputs": [],
   "source": [
    "# 常见的状态码和意义\r\n",
    "# 200 OK\r\n",
    "# 请求正常处理完毕\r\n",
    "\r\n",
    "# 204 No Content\r\n",
    "# 请求成功处理，没有实体的主体返回\r\n",
    "\r\n",
    "# 206 Partial Content\r\n",
    "# GET范围请求已成功处理\r\n",
    "\r\n",
    "# 301 Moved Permanently\r\n",
    "# 永久重定向，资源已永久分配新URI\r\n",
    "\r\n",
    "# 302 Found\r\n",
    "# 临时重定向，资源已临时分配新URI\r\n",
    "\r\n",
    "# 303 See Other\r\n",
    "# 临时重定向，期望使用GET定向获取\r\n",
    "\r\n",
    "# 304 Not Modified\r\n",
    "# 发送的附带条件请求未满足\r\n",
    "\r\n",
    "# 307 Temporary Redirect\r\n",
    "# 临时重定向，POST不会变成GET\r\n",
    "\r\n",
    "# 400 Bad Request\r\n",
    "# 请求报文语法错误或参数错误\r\n",
    "\r\n",
    "# 401 Unauthorized\r\n",
    "# 需要通过HTTP认证，或认证失败\r\n",
    "\r\n",
    "# 403 Forbidden\r\n",
    "# 请求资源被拒绝\r\n",
    "\r\n",
    "# 404 Not Found\r\n",
    "# 无法找到请求资源（服务器无理由拒绝）\r\n",
    "\r\n",
    "# 500 Internal Server Error\r\n",
    "# 服务器故障或Web应用故障\r\n",
    "\r\n",
    "# 503 Service Unavailable\r\n",
    "# 服务器超负载或停机维护"
   ]
  },
  {
   "cell_type": "code",
   "execution_count": null,
   "metadata": {
    "collapsed": false
   },
   "outputs": [
    {
     "name": "stdout",
     "output_type": "stream",
     "text": [
      "['逆天', '识别', '折纸', '犇犇']\n"
     ]
    }
   ],
   "source": [
    "#正则匹配中文\r\n",
    "title='逆天,识别,折纸,犇犇,nt,sb,zz'\r\n",
    "tmp=re.compile(r'[\\u4e00-\\u9fa5]+')\r\n",
    "res=tmp.findall(title)\r\n",
    "print(res)"
   ]
  },
  {
   "cell_type": "code",
   "execution_count": null,
   "metadata": {
    "collapsed": false
   },
   "outputs": [],
   "source": [
    "# 列表（list）和元组（tuple）有什么区别？\r\n",
    "# 列表是可变的。创建后可以对其进行修改。\r\n",
    "# 元组是不可变的。元组一旦创建，就不能对其进行更改。\r\n",
    "# 列表表示的是顺序。它们是有序序列，通常是同一类型的对象。比如说按创建日期排序的所有用户名，如[\"Seth\", \"Ema\", \"Eli\"]。\r\n",
    "# 元组表示的是结构。可以用来存储不同数据类型的元素。比如内存中的数据库记录，如(2, \"Ema\", \"2020–04–16\")（#id, 名称,创建日期）"
   ]
  },
  {
   "cell_type": "code",
   "execution_count": null,
   "metadata": {
    "collapsed": false
   },
   "outputs": [],
   "source": [
    "# Python中的实例方法、静态方法和类方法有什么区别？\r\n",
    "\r\n",
    "# 实例方法：接受self参数，并且与类的特定实例相关。\r\n",
    "\r\n",
    "# 静态方法：使用装饰器 @staticmethod，与特定实例无关，并且是自包含的（不能修改类或实例的属性）。\r\n",
    "\r\n",
    "# 类方法：接受cls参数，并且可以修改类本身。"
   ]
  },
  {
   "cell_type": "code",
   "execution_count": null,
   "metadata": {
    "collapsed": false
   },
   "outputs": [
    {
     "name": "stdout",
     "output_type": "stream",
     "text": [
      "15\n",
      "15\n"
     ]
    }
   ],
   "source": [
    "# reduce函数的工作原理\r\n",
    "# 函数会对参数序列中元素进行累计\r\n",
    "from functools import reduce\r\n",
    "\r\n",
    "def add(x, y) :            # 两数相加\r\n",
    "    return x + y\r\n",
    "sum1 = reduce(add, [1,2,3,4,5])   # 计算列表和：1+2+3+4+5\r\n",
    "sum2 = reduce(lambda x, y: x+y, [1,2,3,4,5])  # 使用 lambda 匿名函数\r\n",
    "print(sum1)\r\n",
    "print(sum2)"
   ]
  },
  {
   "cell_type": "code",
   "execution_count": null,
   "metadata": {
    "collapsed": false
   },
   "outputs": [
    {
     "name": "stdout",
     "output_type": "stream",
     "text": [
      "0 a\n",
      "1 b\n",
      "2 c\n",
      "3 d\n",
      "4 e\n",
      "5 sb\n"
     ]
    }
   ],
   "source": [
    "#在迭代序列时，为什么要使用enumerate()？\r\n",
    "#enumerate()允许在序列上迭代时跟踪索引\r\n",
    "li = ['a','b','c','d','e','sb']\r\n",
    "for idx,val in enumerate(li):\r\n",
    "   print(idx, val)"
   ]
  },
  {
   "cell_type": "code",
   "execution_count": null,
   "metadata": {
    "collapsed": false
   },
   "outputs": [],
   "source": [
    "#Python是如何进行内存管理的？\r\n",
    "# 从三个方面来说,一对象的引用计数机制,二垃圾回收机制,三内存池机制\r\n",
    "\r\n",
    "# 对象的引用计数机制\r\n",
    "# Python内部使用引用计数，来保持追踪内存中的对象，所有对象都有引用计数。\r\n",
    "\r\n",
    "# 引用计数增加的情况：\r\n",
    "# 1，一个对象分配一个新名称\r\n",
    "# 2，将其放入一个容器中（如列表、元组或字典）\r\n",
    "\r\n",
    "# 引用计数减少的情况：\r\n",
    "# 1，使用del语句对对象别名显示的销毁\r\n",
    "# 2，引用超出作用域或被重新赋值\r\n",
    "# sys.getrefcount( )函数可以获得对象的当前引用计数\r\n",
    "# 多数情况下，引用计数比你猜测得要大得多。对于不可变数据（如数字和字符串），解释器会在程序的不同部分共享内存，以便节约内存。"
   ]
  },
  {
   "cell_type": "code",
   "execution_count": null,
   "metadata": {
    "collapsed": false
   },
   "outputs": [],
   "source": [
    "# Python里面如何拷贝一个对象？（赋值，浅拷贝，深拷贝的区别）\r\n",
    "# 赋值（=），就是创建了对象的一个新的引用，修改其中任意一个变量都会影响到另一个。\r\n",
    "# 浅拷贝：创建一个新的对象，但它包含的是对原始对象中包含项的引用（如果用引用的方式修改其中一个对象，另外一个也会修改改变）{1,完全切片方法；2，工厂函数，如list()；3，copy模块的copy()函数}\r\n",
    "# 深拷贝：创建一个新的对象，并且递归的复制它所包含的对象（修改其中一个，另外一个不会改变）{copy模块的deep.deepcopy()函数}"
   ]
  },
  {
   "cell_type": "code",
   "execution_count": null,
   "metadata": {
    "collapsed": false
   },
   "outputs": [
    {
     "name": "stdout",
     "output_type": "stream",
     "text": [
      "28\n"
     ]
    }
   ],
   "source": [
    "#内存占用\r\n",
    "import sys \r\n",
    "\r\n",
    "variable = 30 \r\n",
    "print(sys.getsizeof(variable)) # 28"
   ]
  },
  {
   "cell_type": "code",
   "execution_count": null,
   "metadata": {
    "collapsed": false
   },
   "outputs": [
    {
     "name": "stdout",
     "output_type": "stream",
     "text": [
      "[1, 2, [3], 4, 5]\n",
      "[1, 2, 3, 4, 5]\n"
     ]
    }
   ],
   "source": [
    "#展开列表\r\n",
    "def spread(arg):\r\n",
    "    ret = []\r\n",
    "    for i in arg:\r\n",
    "        if isinstance(i, list):\r\n",
    "            ret.extend(i)\r\n",
    "        else:\r\n",
    "            ret.append(i)\r\n",
    "    return ret\r\n",
    "\r\n",
    "def deep_flatten(lst):\r\n",
    "    result = []\r\n",
    "    result.extend(\r\n",
    "        spread(list(map(lambda x: deep_flatten(x) if type(x) == list else x, lst))))\r\n",
    "    return result\r\n",
    "\r\n",
    "print(spread([1, [2], [[3], 4], 5]))\r\n",
    "print(deep_flatten([1, [2], [[3], 4], 5]))"
   ]
  },
  {
   "cell_type": "code",
   "execution_count": null,
   "metadata": {
    "collapsed": false
   },
   "outputs": [
    {
     "data": {
      "text/plain": [
       "[2, 3, 4, 5, 6]"
      ]
     },
     "execution_count": null,
     "metadata": {},
     "output_type": "execute_result"
    }
   ],
   "source": [
    "# pythonic的方法 完全等效但是非常简洁\r\n",
    "list_1 = [1,2,3,4,5]\r\n",
    "[n+1 for n in list_1]\r\n"
   ]
  },
  {
   "cell_type": "code",
   "execution_count": null,
   "metadata": {
    "collapsed": false
   },
   "outputs": [],
   "source": [
    "#exchange value\r\n",
    "a,b=4,5\r\n",
    "a,b=b,a"
   ]
  },
  {
   "cell_type": "code",
   "execution_count": null,
   "metadata": {
    "collapsed": false
   },
   "outputs": [
    {
     "data": {
      "text/plain": [
       "[(1, 'u'), (2, 'v'), (4, 'w')]"
      ]
     },
     "execution_count": null,
     "metadata": {},
     "output_type": "execute_result"
    }
   ],
   "source": [
    "#矩阵转置\r\n",
    "x = [(1, 2, 4), ('u', 'v', 'w')]\r\n",
    "y = zip(*x)\r\n",
    "z = list(y)\r\n",
    "z"
   ]
  },
  {
   "cell_type": "code",
   "execution_count": 1,
   "metadata": {
    "collapsed": false
   },
   "outputs": [
    {
     "name": "stdout",
     "output_type": "stream",
     "text": [
      "1\n"
     ]
    }
   ],
   "source": [
    "# a better way to concat path\r\n",
    "from pathlib import Path\r\n",
    "\r\n",
    "data_folder = Path(\"work/test1/\")\r\n",
    "\r\n",
    "file_to_open = data_folder / \"1.txt\"\r\n",
    "\r\n",
    "f = open(file_to_open)\r\n",
    "\r\n",
    "print(f.read())\r\n"
   ]
  },
  {
   "cell_type": "code",
   "execution_count": 13,
   "metadata": {
    "collapsed": false
   },
   "outputs": [
    {
     "name": "stdout",
     "output_type": "stream",
     "text": [
      "6.300000000000001\n",
      "False\n"
     ]
    }
   ],
   "source": [
    " a = 4.2\r\n",
    " b = 2.1\r\n",
    " c=a+b\r\n",
    " print(c)\r\n",
    " print ((a+b)-6.3==0)"
   ]
  },
  {
   "cell_type": "code",
   "execution_count": 15,
   "metadata": {
    "collapsed": false
   },
   "outputs": [
    {
     "name": "stdout",
     "output_type": "stream",
     "text": [
      "1 : 0\n",
      "2 : 1\n",
      "3 : 4\n",
      "4 : 9\n",
      "5 : 16\n"
     ]
    }
   ],
   "source": [
    "L=[i*i for i in range(0,5)]\r\n",
    "for index,data in enumerate(L,1):\r\n",
    "    print(index,':',data)"
   ]
  },
  {
   "cell_type": "code",
   "execution_count": 19,
   "metadata": {
    "collapsed": false
   },
   "outputs": [
    {
     "name": "stdout",
     "output_type": "stream",
     "text": [
      "12.95564683272412\n",
      "12.95564683272412\n"
     ]
    }
   ],
   "source": [
    "#reduce(fn,iterable,initializer) It is used to iteratively apply an operator to all elements in the list\r\n",
    "from functools import reduce\r\n",
    "nums = [1/3, 333/7, 2323/2230, 40/34, 2/3]\r\n",
    "times=1/3 * 333/7 * 2323/2230 * 40/34 * 2/3\r\n",
    "print(times)\r\n",
    "product = reduce(lambda x, y: x * y, nums)\r\n",
    "print(product)"
   ]
  },
  {
   "cell_type": "code",
   "execution_count": 20,
   "metadata": {
    "collapsed": false
   },
   "outputs": [
    {
     "name": "stdout",
     "output_type": "stream",
     "text": [
      "[0, 10, 2, 3, 4, 5, 6, 7, 8, 9]\n",
      "[0, 20, 30, 40, 2, 3, 4, 5, 6, 7, 8, 9]\n",
      "[0, 0.2, 0.3, 0.5, 1, 2, 3, 4, 5, 6, 7, 8, 9]\n"
     ]
    }
   ],
   "source": [
    "#insertion\r\n",
    "elems = list(range(10))\r\n",
    "elems[1] = 10\r\n",
    "print(elems)\r\n",
    "\r\n",
    "elems = list(range(10))\r\n",
    "elems[1:2] = [20, 30, 40]\r\n",
    "print(elems)\r\n",
    "\r\n",
    "elems = list(range(10))\r\n",
    "elems[1:1] = [0.2, 0.3, 0.5]\r\n",
    "print(elems)"
   ]
  },
  {
   "cell_type": "code",
   "execution_count": 21,
   "metadata": {
    "collapsed": false
   },
   "outputs": [
    {
     "data": {
      "text/plain": [
       "[1, 2, 3, 4, 5, 6]"
      ]
     },
     "execution_count": 21,
     "metadata": {},
     "output_type": "execute_result"
    }
   ],
   "source": [
    "#flatten\r\n",
    "list_of_lists = [[1], [2, 3], [4, 5, 6]]\r\n",
    "sum(list_of_lists, [])"
   ]
  },
  {
   "cell_type": "code",
   "execution_count": 23,
   "metadata": {
    "collapsed": false
   },
   "outputs": [
    {
     "data": {
      "text/plain": [
       "[1, 2, 2.2, 2.5, 3, 4, 5, 6, 7, 8, 9, 10, 11, 12, 13]"
      ]
     },
     "execution_count": 23,
     "metadata": {},
     "output_type": "execute_result"
    }
   ],
   "source": [
    "nested_lists = [[1, 2,[2.2,[2.5]]], [[3, 4], [5, 6], [[7, 8], [9, 10], [[11, [12, 13]]]]]]\r\n",
    "flatten = lambda x: [y for l in x for y in flatten(l)] if type(x) is list else [x]\r\n",
    "flatten(nested_lists)\r\n"
   ]
  }
 ],
 "metadata": {
  "kernelspec": {
   "display_name": "PaddlePaddle 2.0.0b0 (Python 3.5)",
   "language": "python",
   "name": "py35-paddle1.2.0"
  },
  "language_info": {
   "codemirror_mode": {
    "name": "ipython",
    "version": 3
   },
   "file_extension": ".py",
   "mimetype": "text/x-python",
   "name": "python",
   "nbconvert_exporter": "python",
   "pygments_lexer": "ipython3",
   "version": "3.7.4"
  }
 },
 "nbformat": 4,
 "nbformat_minor": 1
}
