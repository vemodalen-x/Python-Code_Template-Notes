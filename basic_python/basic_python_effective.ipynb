{
  "nbformat": 4,
  "nbformat_minor": 0,
  "metadata": {
    "colab": {
      "name": "basic_python_effective.ipynb",
      "provenance": [],
      "collapsed_sections": [],
      "toc_visible": true
    },
    "kernelspec": {
      "name": "python3",
      "display_name": "Python 3"
    },
    "language_info": {
      "name": "python"
    }
  },
  "cells": [
    {
      "cell_type": "markdown",
      "metadata": {
        "id": "_xwgZf4GEqS2"
      },
      "source": [
        "# collect and summarize from Effective Python "
      ]
    },
    {
      "cell_type": "markdown",
      "metadata": {
        "id": "pBu9qsSKIEvk"
      },
      "source": [
        "# 1. Pythonic Thinking"
      ]
    },
    {
      "cell_type": "code",
      "metadata": {
        "id": "sn3o0cOgwOIy"
      },
      "source": [
        "#follow the PEP 8 style\n",
        "#https://www.python.org/dev/peps/pep-0008/"
      ],
      "execution_count": null,
      "outputs": []
    },
    {
      "cell_type": "code",
      "metadata": {
        "colab": {
          "base_uri": "https://localhost:8080/"
        },
        "id": "PL9M23WixCON",
        "outputId": "9f3f6cd8-d778-4849-b049-403f8f274a95"
      },
      "source": [
        "#str and byte\n",
        "xxx=bytes()\n",
        "value=xxx.decode('utf-8') #str\n",
        "print(value)\n",
        "\n",
        "xxx='test'\n",
        "value=xxx.encode('utf-8') #bytes\n",
        "print(value)"
      ],
      "execution_count": null,
      "outputs": [
        {
          "output_type": "stream",
          "name": "stdout",
          "text": [
            "\n",
            "b'test'\n"
          ]
        }
      ]
    },
    {
      "cell_type": "code",
      "metadata": {
        "colab": {
          "base_uri": "https://localhost:8080/"
        },
        "id": "Zxh-i4cI03Ho",
        "outputId": "2281863b-6231-49fe-a0f9-357cca72cb9e"
      },
      "source": [
        "#slicing\n",
        "a=['a','c','d','e','f']\n",
        "odds=a[::2]\n",
        "even=a[1::2]\n",
        "print(odds)\n",
        "print(even)\n",
        "\n",
        "re_odds=a[::-2]\n",
        "re_even=a[-2::-2]\n",
        "print(re_odds)\n",
        "print(re_even)"
      ],
      "execution_count": null,
      "outputs": [
        {
          "output_type": "stream",
          "name": "stdout",
          "text": [
            "['a', 'd', 'f']\n",
            "['c', 'e']\n",
            "['f', 'd', 'a']\n",
            "['e', 'c']\n"
          ]
        }
      ]
    },
    {
      "cell_type": "code",
      "metadata": {
        "colab": {
          "base_uri": "https://localhost:8080/"
        },
        "id": "OnH64GgJ2XVi",
        "outputId": "2f290cf1-3a3c-4b1a-dc8a-d89cd8a48706"
      },
      "source": [
        "matrix=[[1,2,3],[4,5,6],[7,8,9]]\n",
        "filtered=[[x for x in row if x%3==0]\n",
        "          for row in matrix if sum(row)>=10]\n",
        "print(filtered)"
      ],
      "execution_count": null,
      "outputs": [
        {
          "output_type": "stream",
          "name": "stdout",
          "text": [
            "[[6], [9]]\n"
          ]
        }
      ]
    },
    {
      "cell_type": "code",
      "metadata": {
        "colab": {
          "base_uri": "https://localhost:8080/"
        },
        "id": "BXKFxDBd3uvY",
        "outputId": "c692148a-d6b1-4288-915e-c1a141c2d9e6"
      },
      "source": [
        "# enumerate and zip\n",
        "color_list=['red','blue','yellow','green']\n",
        "lens=[len(n) for n in color_list]\n",
        "print(lens)\n",
        "for index,color in enumerate(color_list,1):\n",
        "  print(index,color)\n",
        "\n",
        "for color,len in zip(lens,color_list):\n",
        "  print(color,len)"
      ],
      "execution_count": null,
      "outputs": [
        {
          "output_type": "stream",
          "name": "stdout",
          "text": [
            "[3, 4, 6, 5]\n",
            "1 red\n",
            "2 blue\n",
            "3 yellow\n",
            "4 green\n",
            "3 red\n",
            "4 blue\n",
            "6 yellow\n",
            "5 green\n"
          ]
        }
      ]
    },
    {
      "cell_type": "markdown",
      "metadata": {
        "id": "lgmL5-lmybl7"
      },
      "source": [
        ""
      ]
    },
    {
      "cell_type": "markdown",
      "metadata": {
        "id": "PEiF0OZSIF2B"
      },
      "source": [
        "# 2. Functions"
      ]
    },
    {
      "cell_type": "code",
      "metadata": {
        "colab": {
          "base_uri": "https://localhost:8080/"
        },
        "id": "F7ilAMe48Lvz",
        "outputId": "e34254ef-cfc4-42ee-bdb6-77f82a5b22be"
      },
      "source": [
        "#avoid return None\n",
        "def divide(a,b):\n",
        "  try:\n",
        "    return a/b\n",
        "  except ZeroDivisionError as e:\n",
        "    raise ValueError('invalid inputs') from e\n",
        "\n",
        "x,y=0,0\n",
        "try:\n",
        "  result=divide(x,y)\n",
        "except ValueError:\n",
        "  print(\"invalid 0 inputs\")\n",
        "else:\n",
        "  print(f'resualt is {result:.1f}')"
      ],
      "execution_count": null,
      "outputs": [
        {
          "output_type": "stream",
          "name": "stdout",
          "text": [
            "invalid 0 inputs\n"
          ]
        }
      ]
    },
    {
      "cell_type": "code",
      "metadata": {
        "colab": {
          "base_uri": "https://localhost:8080/"
        },
        "id": "7KaEaelq-rb7",
        "outputId": "68d8da0d-46fc-4ae9-e16c-d1bf34493d53"
      },
      "source": [
        "numbers=[8,3,1,2,5,4,7,6]\n",
        "group=[2,3,5,9]\n",
        "\n",
        "class Sorter(object):\n",
        "  def __init__(self,group):\n",
        "    self.group=group\n",
        "    self.found=False\n",
        "  def __call__(self,x):\n",
        "    if x in self.group:\n",
        "      self.found=True\n",
        "      return(0,x)\n",
        "    return (1,x)\n",
        "\n",
        "sorter=Sorter(group)\n",
        "numbers.sort(key=sorter)\n",
        "print(sorter.found is True)\n",
        "print(numbers)"
      ],
      "execution_count": null,
      "outputs": [
        {
          "output_type": "stream",
          "name": "stdout",
          "text": [
            "True\n",
            "[2, 3, 5, 1, 4, 6, 7, 8]\n"
          ]
        }
      ]
    },
    {
      "cell_type": "code",
      "metadata": {
        "colab": {
          "base_uri": "https://localhost:8080/"
        },
        "id": "0xzvOXblBMj0",
        "outputId": "85c939ca-e8ff-4f49-aaf2-08295e7f2905"
      },
      "source": [
        "#save memory\n",
        "def fab(max): \n",
        "    n, a, b = 0, 0, 1 \n",
        "    while n < max: \n",
        "        yield b      # 使用 yield\n",
        "        # print b \n",
        "        a, b = b, a + b \n",
        "        n = n + 1\n",
        " \n",
        "for n in fab(5): \n",
        "    print(n)"
      ],
      "execution_count": null,
      "outputs": [
        {
          "output_type": "stream",
          "name": "stdout",
          "text": [
            "1\n",
            "1\n",
            "2\n",
            "3\n",
            "5\n"
          ]
        }
      ]
    },
    {
      "cell_type": "code",
      "metadata": {
        "colab": {
          "base_uri": "https://localhost:8080/"
        },
        "id": "X9vxqNtoEQ6k",
        "outputId": "efa01e2c-c7e1-4bdb-fb57-05a711b0d8d0"
      },
      "source": [
        "i=[1,2,3,4,5]\n",
        "a,*b,c=i\n",
        "print(a)\n",
        "print(b)\n",
        "print(c)"
      ],
      "execution_count": null,
      "outputs": [
        {
          "output_type": "stream",
          "name": "stdout",
          "text": [
            "1\n",
            "[2, 3, 4]\n",
            "5\n"
          ]
        }
      ]
    },
    {
      "cell_type": "code",
      "metadata": {
        "colab": {
          "base_uri": "https://localhost:8080/"
        },
        "id": "vXEoi8CgGBTt",
        "outputId": "c3dd8228-25d0-4c2c-b72e-96562129e897"
      },
      "source": [
        "# use None and Docstrings to specify dynamic default\n",
        "from datetime import datetime\n",
        "def log(message,when=None):\n",
        "  if when is None:\n",
        "    when=datetime.now() \n",
        "  print(f'{when}:{message}')\n",
        "\n",
        "log('hi')\n",
        "log('bye')"
      ],
      "execution_count": null,
      "outputs": [
        {
          "output_type": "stream",
          "name": "stdout",
          "text": [
            "2021-09-12 08:24:32.188268:hi\n",
            "2021-09-12 08:24:32.188435:bye\n"
          ]
        }
      ]
    },
    {
      "cell_type": "markdown",
      "metadata": {
        "id": "SgSCWr5uIF-a"
      },
      "source": [
        "# 3. Classes and Inheritance"
      ]
    },
    {
      "cell_type": "code",
      "metadata": {
        "colab": {
          "base_uri": "https://localhost:8080/"
        },
        "id": "YaeYF9xcHiCV",
        "outputId": "083a8aa2-021c-405b-f045-c5c7ef8ff19b"
      },
      "source": [
        "from collections import defaultdict\n",
        "\n",
        "current={'green':12,'blue':3}\n",
        "increments=[('red',5),('blue',9)]\n",
        "class CountMissing(object):\n",
        "  def __init__(self):\n",
        "    self.added=1\n",
        "  def __call__(self):\n",
        "    self.added+=1\n",
        "    return 0\n",
        "counter=CountMissing()\n",
        "result=defaultdict(counter,current)\n",
        "for key,amount in increments:\n",
        "  result[key]+=amount\n",
        "print(counter.added)"
      ],
      "execution_count": null,
      "outputs": [
        {
          "output_type": "stream",
          "name": "stdout",
          "text": [
            "2\n"
          ]
        }
      ]
    },
    {
      "cell_type": "code",
      "metadata": {
        "colab": {
          "base_uri": "https://localhost:8080/"
        },
        "id": "LoaBUKqSNZvf",
        "outputId": "2cdfcf03-a831-4564-93b6-6cbc444f635f"
      },
      "source": [
        "def test(f):\n",
        "    print (\"before ...\")\n",
        "    f()\n",
        "    print (\"after ...\")\n",
        "    f()\n",
        "    print (\"end ...\")\n",
        " \n",
        "@test\n",
        "def func():\n",
        "    print (\"func was called\")"
      ],
      "execution_count": null,
      "outputs": [
        {
          "output_type": "stream",
          "name": "stdout",
          "text": [
            "before ...\n",
            "func was called\n",
            "after ...\n",
            "func was called\n",
            "end ...\n"
          ]
        }
      ]
    },
    {
      "cell_type": "code",
      "metadata": {
        "colab": {
          "base_uri": "https://localhost:8080/"
        },
        "id": "y6dmGo73OLVE",
        "outputId": "db31e362-c09e-4255-9a61-6872c5109e44"
      },
      "source": [
        "def a(fn):\n",
        "    print ('a')\n",
        "    def d(st):\n",
        "        print (st+'d')\n",
        "    return d\n",
        " \n",
        "def b(fn):\n",
        "    print ('b')\n",
        "    return fn\n",
        " \n",
        "@a\n",
        "@b\n",
        "def c(st):\n",
        "    print (st)\n",
        "    \n",
        "c('c')"
      ],
      "execution_count": null,
      "outputs": [
        {
          "output_type": "stream",
          "name": "stdout",
          "text": [
            "b\n",
            "a\n",
            "cd\n"
          ]
        }
      ]
    },
    {
      "cell_type": "markdown",
      "metadata": {
        "id": "FMmR_nbQIGJH"
      },
      "source": [
        "# 4. Metaclasses and Attributes"
      ]
    },
    {
      "cell_type": "code",
      "metadata": {
        "colab": {
          "base_uri": "https://localhost:8080/",
          "height": 367
        },
        "id": "z97fOQpIKuzj",
        "outputId": "dac983ca-5593-4c11-d788-bec2a280f869"
      },
      "source": [
        "class Resistor(object):\n",
        "    def __init__(self, ohms):\n",
        "        self.ohms = ohms\n",
        "        self.voltage = 0\n",
        "        self.current = 0\n",
        "\n",
        "class VoltageResistance(Resistor):\n",
        "    def __init__(self, ohms):\n",
        "        super().__init__(ohms)\n",
        "        self._voltage = 0\n",
        "\n",
        "\n",
        "    @property\n",
        "    def voltage(self):\n",
        "        return self._voltage\n",
        "\n",
        "    @voltage.setter\n",
        "    def voltage(self, voltage):\n",
        "        self._voltage = voltage\n",
        "        self.current = self._voltage / self.ohms\n",
        "\n",
        "r2 = VoltageResistance(1e3)\n",
        "print('Before: %5r amps' % r2.current)\n",
        "r2.voltage = 10\n",
        "print('After:  %5r amps' % r2.current)\n",
        "\n",
        "class BoundedResistance(Resistor):\n",
        "    def __init__(self, ohms):\n",
        "        super().__init__(ohms)\n",
        "\n",
        "    @property\n",
        "    def ohms(self):\n",
        "        return self._ohms\n",
        "\n",
        "    @ohms.setter\n",
        "    def ohms(self, ohms):\n",
        "        if ohms <= 0:\n",
        "            raise ValueError('%f ohms mush be > 0' % ohms)\n",
        "        self._ohms = ohms\n",
        "\n",
        "\n",
        "# Assigning an invalid resistance to the attribute raises an excpetion.\n",
        "\n",
        "\n",
        "r3 = BoundedResistance(1e3)\n",
        "r3.ohms=0"
      ],
      "execution_count": 10,
      "outputs": [
        {
          "output_type": "stream",
          "name": "stdout",
          "text": [
            "Before:     0 amps\n",
            "After:   0.01 amps\n"
          ]
        },
        {
          "output_type": "error",
          "ename": "ValueError",
          "evalue": "ignored",
          "traceback": [
            "\u001b[0;31m---------------------------------------------------------------------------\u001b[0m",
            "\u001b[0;31mValueError\u001b[0m                                Traceback (most recent call last)",
            "\u001b[0;32m<ipython-input-10-06b00317a8c7>\u001b[0m in \u001b[0;36m<module>\u001b[0;34m()\u001b[0m\n\u001b[1;32m     44\u001b[0m \u001b[0;34m\u001b[0m\u001b[0m\n\u001b[1;32m     45\u001b[0m \u001b[0mr3\u001b[0m \u001b[0;34m=\u001b[0m \u001b[0mBoundedResistance\u001b[0m\u001b[0;34m(\u001b[0m\u001b[0;36m1e3\u001b[0m\u001b[0;34m)\u001b[0m\u001b[0;34m\u001b[0m\u001b[0;34m\u001b[0m\u001b[0m\n\u001b[0;32m---> 46\u001b[0;31m \u001b[0mr3\u001b[0m\u001b[0;34m.\u001b[0m\u001b[0mohms\u001b[0m\u001b[0;34m=\u001b[0m\u001b[0;36m0\u001b[0m\u001b[0;34m\u001b[0m\u001b[0;34m\u001b[0m\u001b[0m\n\u001b[0m",
            "\u001b[0;32m<ipython-input-10-06b00317a8c7>\u001b[0m in \u001b[0;36mohms\u001b[0;34m(self, ohms)\u001b[0m\n\u001b[1;32m     36\u001b[0m     \u001b[0;32mdef\u001b[0m \u001b[0mohms\u001b[0m\u001b[0;34m(\u001b[0m\u001b[0mself\u001b[0m\u001b[0;34m,\u001b[0m \u001b[0mohms\u001b[0m\u001b[0;34m)\u001b[0m\u001b[0;34m:\u001b[0m\u001b[0;34m\u001b[0m\u001b[0;34m\u001b[0m\u001b[0m\n\u001b[1;32m     37\u001b[0m         \u001b[0;32mif\u001b[0m \u001b[0mohms\u001b[0m \u001b[0;34m<=\u001b[0m \u001b[0;36m0\u001b[0m\u001b[0;34m:\u001b[0m\u001b[0;34m\u001b[0m\u001b[0;34m\u001b[0m\u001b[0m\n\u001b[0;32m---> 38\u001b[0;31m             \u001b[0;32mraise\u001b[0m \u001b[0mValueError\u001b[0m\u001b[0;34m(\u001b[0m\u001b[0;34m'%f ohms mush be > 0'\u001b[0m \u001b[0;34m%\u001b[0m \u001b[0mohms\u001b[0m\u001b[0;34m)\u001b[0m\u001b[0;34m\u001b[0m\u001b[0;34m\u001b[0m\u001b[0m\n\u001b[0m\u001b[1;32m     39\u001b[0m         \u001b[0mself\u001b[0m\u001b[0;34m.\u001b[0m\u001b[0m_ohms\u001b[0m \u001b[0;34m=\u001b[0m \u001b[0mohms\u001b[0m\u001b[0;34m\u001b[0m\u001b[0;34m\u001b[0m\u001b[0m\n\u001b[1;32m     40\u001b[0m \u001b[0;34m\u001b[0m\u001b[0m\n",
            "\u001b[0;31mValueError\u001b[0m: 0.000000 ohms mush be > 0"
          ]
        }
      ]
    },
    {
      "cell_type": "code",
      "metadata": {
        "colab": {
          "base_uri": "https://localhost:8080/"
        },
        "id": "4EiXRoryK5a2",
        "outputId": "c9e9e255-846d-43c8-af06-db80d5edd646"
      },
      "source": [
        "from datetime import timedelta\n",
        "import datetime\n",
        "\n",
        "class Bucket(object):\n",
        "    def __init__(self, period):\n",
        "        self.period_delta = timedelta(seconds=period)\n",
        "        self.reset_time = datetime.datetime.now()\n",
        "        self.max_quota = 0\n",
        "        self.quota_consumed = 0\n",
        "        \n",
        "    #refactor print\n",
        "    def __repr__(self):\n",
        "        return ('Bucket(max_quota=%d, quota_consumed=%d)' %\n",
        "                (self.max_quota, self.quota_consumed))\n",
        "    @property\n",
        "    def quota(self):\n",
        "        return self.max_quota - self.quota_consumed\n",
        "    @quota.setter\n",
        "    def quota(self, amount):\n",
        "        delta = self.max_quota - amount\n",
        "        if amount == 0:\n",
        "            '''quota being reset for a new period'''\n",
        "            self.quota_consumed = 0\n",
        "            self.max_quota = 0\n",
        "        elif delta < 0:\n",
        "            '''quota being filled for the new period'''\n",
        "            assert self.quota_consumed == 0\n",
        "            self.max_quota = amount\n",
        "        else:\n",
        "            '''quota being consumed during the period'''\n",
        "            assert self.max_quota >= self.quota_consumed\n",
        "            self.quota_consumed += delta\n",
        "def fill(bucket, amount):\n",
        "    now = datetime.datetime.now()\n",
        "    if now - bucket.reset_time > bucket.period_delta:\n",
        "        bucket.quota = 0\n",
        "        bucket.reset_time = now\n",
        "    bucket.quota += amount\n",
        "def deduct(bucket, amount):\n",
        "    now = datetime.datetime.now()\n",
        "    if now - bucket.reset_time > bucket.period_delta:\n",
        "        return False\n",
        "    if bucket.quota - amount < 0:\n",
        "        return False\n",
        "    bucket.quota -= amount\n",
        "    return True\n",
        "\n",
        "bucket = Bucket(60)\n",
        "print('Initial', bucket)\n",
        "fill(bucket, 100)\n",
        "print('Filled', bucket)\n",
        "\n",
        "if deduct(bucket, 99):\n",
        "    print('Had 99 quota')\n",
        "else:\n",
        "    print('Not enough for 99 quota')\n",
        "print('Now', bucket)\n",
        "\n",
        "if deduct(bucket, 3):\n",
        "    print('Had 3 quota')\n",
        "else:\n",
        "    print('Not enough for 3 quota')\n",
        "print('Still', bucket)"
      ],
      "execution_count": 15,
      "outputs": [
        {
          "output_type": "stream",
          "name": "stdout",
          "text": [
            "Initial Bucket(max_quota=0, quota_consumed=0)\n",
            "Filled Bucket(max_quota=100, quota_consumed=0)\n",
            "Had 99 quota\n",
            "Now Bucket(max_quota=100, quota_consumed=99)\n",
            "Not enough for 3 quota\n",
            "Still Bucket(max_quota=100, quota_consumed=99)\n"
          ]
        }
      ]
    },
    {
      "cell_type": "code",
      "metadata": {
        "colab": {
          "base_uri": "https://localhost:8080/"
        },
        "id": "BqSK6uPoPGXF",
        "outputId": "82d60162-ec15-4e2b-9577-afdc0b26a642"
      },
      "source": [
        "import weakref\n",
        "\n",
        "class Grade(object):\n",
        "    def __init__(self):\n",
        "        self._values = weakref.WeakKeyDictionary()\n",
        "\n",
        "    def __get__(self, instance, owner):\n",
        "        if instance is None:\n",
        "            return self\n",
        "        return self._values.get(instance, 0)\n",
        "\n",
        "    def __set__(self, instance, value):\n",
        "        if not (0 <= value <= 100):\n",
        "            raise ValueError('Grade must be between 0 and 100')\n",
        "        self._values[instance] = value\n",
        "class Exam(object):\n",
        "    math_grade = Grade()\n",
        "    writing_grade = Grade()\n",
        "    science_grade = Grade()\n",
        "\n",
        "\n",
        "first_exam = Exam()\n",
        "first_exam.writing_grade = 82\n",
        "second_exam = Exam()\n",
        "second_exam.writing_grade = 75\n",
        "print('First ', first_exam.writing_grade, 'is right')\n",
        "print('Second', second_exam.writing_grade, 'is right')"
      ],
      "execution_count": 20,
      "outputs": [
        {
          "output_type": "stream",
          "name": "stdout",
          "text": [
            "First  82 is right\n",
            "Second 75 is right\n"
          ]
        }
      ]
    },
    {
      "cell_type": "code",
      "metadata": {
        "colab": {
          "base_uri": "https://localhost:8080/"
        },
        "id": "m0wTWfLSSNUw",
        "outputId": "a5c198c9-302f-43c0-a30e-f00f9a148fd4"
      },
      "source": [
        "# __getattr__ is only invoked if the attribute wasn't found the usual ways. \n",
        "# It's good for implementing a fallback for missing attributes, \n",
        "# and is probably the one of two you want.\n",
        "\n",
        "# __getattribute__ is invoked before looking at the actual attributes on the object, \n",
        "# and so can be tricky to implement correctly. \n",
        "# You can end up in infinite recursions very easily.\n",
        "\n",
        "class AboutAttr(object):\n",
        "    def __init__(self, name):\n",
        "        self.name = name\n",
        "\n",
        "    def __getattribute__(self, item):\n",
        "        try:\n",
        "            return super(AboutAttr, self).__getattribute__(item)\n",
        "        except KeyError:\n",
        "            return 'default'\n",
        "        except AttributeError as ex:\n",
        "            print (ex)\n",
        "\n",
        "    def __getattr__(self, item):\n",
        "        return 'default'\n",
        "\n",
        "at = AboutAttr('test')\n",
        "print (at.name)\n",
        "print (at.not_exised)\n"
      ],
      "execution_count": 24,
      "outputs": [
        {
          "output_type": "stream",
          "name": "stdout",
          "text": [
            "test\n",
            "'AboutAttr' object has no attribute 'not_exised'\n",
            "None\n"
          ]
        }
      ]
    },
    {
      "cell_type": "code",
      "metadata": {
        "colab": {
          "base_uri": "https://localhost:8080/",
          "height": 420
        },
        "id": "_0ASEeoeT787",
        "outputId": "ef6908ab-cfe7-4f4d-b90d-6752c97dfc8d"
      },
      "source": [
        "class ValidatePolygon(type):\n",
        "    def __new__(meta, name, bases, class_dict):\n",
        "        '''Don't validate the abstract Polygon class'''\n",
        "        if bases != (object,):\n",
        "            if class_dict['sides'] < 3:\n",
        "                raise ValueError('Polygons need 3+ sides')\n",
        "        return type.__new__(meta, name, bases, class_dict)\n",
        "\n",
        "\n",
        "class Polygon(object, metaclass=ValidatePolygon):\n",
        "    sides = None  # Specified by subclass\n",
        "\n",
        "    @classmethod\n",
        "    def interior_angles(cls):\n",
        "        return (cls.sides - 2) * 180\n",
        "\n",
        "\n",
        "class Triangle(Polygon):\n",
        "    sides = 3\n",
        "\n",
        "print('Before class')\n",
        "\n",
        "\n",
        "class Line(Polygon):\n",
        "    print('Before side')\n",
        "    sides = 1\n",
        "    print('After side')\n",
        "    \n",
        "print('After class')"
      ],
      "execution_count": 25,
      "outputs": [
        {
          "output_type": "stream",
          "name": "stdout",
          "text": [
            "Before class\n",
            "Before side\n",
            "After side\n"
          ]
        },
        {
          "output_type": "error",
          "ename": "ValueError",
          "evalue": "ignored",
          "traceback": [
            "\u001b[0;31m---------------------------------------------------------------------------\u001b[0m",
            "\u001b[0;31mValueError\u001b[0m                                Traceback (most recent call last)",
            "\u001b[0;32m<ipython-input-25-174f6ad0acaf>\u001b[0m in \u001b[0;36m<module>\u001b[0;34m()\u001b[0m\n\u001b[1;32m     22\u001b[0m \u001b[0;34m\u001b[0m\u001b[0m\n\u001b[1;32m     23\u001b[0m \u001b[0;34m\u001b[0m\u001b[0m\n\u001b[0;32m---> 24\u001b[0;31m \u001b[0;32mclass\u001b[0m \u001b[0mLine\u001b[0m\u001b[0;34m(\u001b[0m\u001b[0mPolygon\u001b[0m\u001b[0;34m)\u001b[0m\u001b[0;34m:\u001b[0m\u001b[0;34m\u001b[0m\u001b[0;34m\u001b[0m\u001b[0m\n\u001b[0m\u001b[1;32m     25\u001b[0m     \u001b[0mprint\u001b[0m\u001b[0;34m(\u001b[0m\u001b[0;34m'Before side'\u001b[0m\u001b[0;34m)\u001b[0m\u001b[0;34m\u001b[0m\u001b[0;34m\u001b[0m\u001b[0m\n\u001b[1;32m     26\u001b[0m     \u001b[0msides\u001b[0m \u001b[0;34m=\u001b[0m \u001b[0;36m1\u001b[0m\u001b[0;34m\u001b[0m\u001b[0;34m\u001b[0m\u001b[0m\n",
            "\u001b[0;32m<ipython-input-25-174f6ad0acaf>\u001b[0m in \u001b[0;36m__new__\u001b[0;34m(meta, name, bases, class_dict)\u001b[0m\n\u001b[1;32m      4\u001b[0m         \u001b[0;32mif\u001b[0m \u001b[0mbases\u001b[0m \u001b[0;34m!=\u001b[0m \u001b[0;34m(\u001b[0m\u001b[0mobject\u001b[0m\u001b[0;34m,\u001b[0m\u001b[0;34m)\u001b[0m\u001b[0;34m:\u001b[0m\u001b[0;34m\u001b[0m\u001b[0;34m\u001b[0m\u001b[0m\n\u001b[1;32m      5\u001b[0m             \u001b[0;32mif\u001b[0m \u001b[0mclass_dict\u001b[0m\u001b[0;34m[\u001b[0m\u001b[0;34m'sides'\u001b[0m\u001b[0;34m]\u001b[0m \u001b[0;34m<\u001b[0m \u001b[0;36m3\u001b[0m\u001b[0;34m:\u001b[0m\u001b[0;34m\u001b[0m\u001b[0;34m\u001b[0m\u001b[0m\n\u001b[0;32m----> 6\u001b[0;31m                 \u001b[0;32mraise\u001b[0m \u001b[0mValueError\u001b[0m\u001b[0;34m(\u001b[0m\u001b[0;34m'Polygons need 3+ sides'\u001b[0m\u001b[0;34m)\u001b[0m\u001b[0;34m\u001b[0m\u001b[0;34m\u001b[0m\u001b[0m\n\u001b[0m\u001b[1;32m      7\u001b[0m         \u001b[0;32mreturn\u001b[0m \u001b[0mtype\u001b[0m\u001b[0;34m.\u001b[0m\u001b[0m__new__\u001b[0m\u001b[0;34m(\u001b[0m\u001b[0mmeta\u001b[0m\u001b[0;34m,\u001b[0m \u001b[0mname\u001b[0m\u001b[0;34m,\u001b[0m \u001b[0mbases\u001b[0m\u001b[0;34m,\u001b[0m \u001b[0mclass_dict\u001b[0m\u001b[0;34m)\u001b[0m\u001b[0;34m\u001b[0m\u001b[0;34m\u001b[0m\u001b[0m\n\u001b[1;32m      8\u001b[0m \u001b[0;34m\u001b[0m\u001b[0m\n",
            "\u001b[0;31mValueError\u001b[0m: Polygons need 3+ sides"
          ]
        }
      ]
    },
    {
      "cell_type": "code",
      "metadata": {
        "colab": {
          "base_uri": "https://localhost:8080/"
        },
        "id": "KlqXHAZWUzrY",
        "outputId": "0ae797e0-7cb5-41f4-8323-6fe73208418e"
      },
      "source": [
        "class Meta(type):\n",
        "    def __new__(meta, name, bases, class_dict):\n",
        "        for key, value in class_dict.items():\n",
        "            if isinstance(value, Field):\n",
        "                value.name = key\n",
        "                value.internal_name = '_' + key\n",
        "        cls = type.__new__(meta, name, bases, class_dict)\n",
        "        return cls\n",
        "\n",
        "class Field(object):\n",
        "    def __init__(self):\n",
        "        self.name = None\n",
        "        self.internal_name = None\n",
        "\n",
        "    def __get__(self, instance, instance_type):\n",
        "        if instance is None:\n",
        "            return self\n",
        "        return getattr(instance, self.internal_name)\n",
        "\n",
        "    def __set__(self, instance, value):\n",
        "        setattr(instance, self.internal_name, value)\n",
        "\n",
        "class DatabaseRow(object, metaclass=Meta):\n",
        "    pass\n",
        "    \n",
        "class BetterCustomer(DatabaseRow):\n",
        "    first_name = Field()\n",
        "    last_name = Field()\n",
        "    prefix = Field()\n",
        "    suffix = Field()\n",
        "\n",
        "\n",
        "# The behavior of the new class is identical to the old one.\n",
        "\n",
        "\n",
        "foo = BetterCustomer()\n",
        "# print('Before: ', repr(foo.first_name), foo.__dict__)\n",
        "print('Before: ', foo.__dict__)\n",
        "foo.first_name = 'Euler'\n",
        "print('After:  ', repr(foo.first_name), foo.__dict__)\n",
        "# Before:  {}"
      ],
      "execution_count": 27,
      "outputs": [
        {
          "output_type": "stream",
          "name": "stdout",
          "text": [
            "Before:  {}\n",
            "After:   'Euler' {'_first_name': 'Euler'}\n"
          ]
        }
      ]
    },
    {
      "cell_type": "markdown",
      "metadata": {
        "id": "Ib_Gp3jBIGRw"
      },
      "source": [
        "# 5. concurrency and parallelism\n"
      ]
    },
    {
      "cell_type": "code",
      "metadata": {
        "colab": {
          "base_uri": "https://localhost:8080/"
        },
        "id": "-QW5iV-lXbza",
        "outputId": "51b48799-5dee-44b0-b4b9-cc49c513d679"
      },
      "source": [
        "import subprocess\n",
        "import time\n",
        "import os\n",
        "\n",
        "proc = subprocess.Popen(['sleep', '0.0001'])\n",
        "while proc.poll() is None:\n",
        "    print('Working...')\n",
        "    # some time-consuming work here\n",
        "    total = 0\n",
        "    for i in range(1000):\n",
        "        total += i\n",
        "    print(total)\n",
        "print('Exit status', proc.poll())"
      ],
      "execution_count": 33,
      "outputs": [
        {
          "output_type": "stream",
          "name": "stdout",
          "text": [
            "Working...\n",
            "499500\n",
            "Working...\n",
            "499500\n",
            "Working...\n",
            "499500\n",
            "Working...\n",
            "499500\n",
            "Working...\n",
            "499500\n",
            "Working...\n",
            "499500\n",
            "Working...\n",
            "499500\n",
            "Working...\n",
            "499500\n",
            "Exit status 0\n"
          ]
        }
      ]
    },
    {
      "cell_type": "code",
      "metadata": {
        "colab": {
          "base_uri": "https://localhost:8080/"
        },
        "id": "c9Pwk8ewLTwo",
        "outputId": "388c7111-8883-446d-be48-8b0588bd7a68"
      },
      "source": [
        "def run_openssl(data):\n",
        "    env = os.environ.copy()\n",
        "    env['password'] = b'\\xe24U\\n\\xd0Q13S\\x11'\n",
        "    proc = subprocess.Popen(\n",
        "        ['openssl', 'enc', '-des3', '-pass', 'env:password'],\n",
        "        env=env,\n",
        "        stdin=subprocess.PIPE,\n",
        "        stdout=subprocess.PIPE\n",
        "    )\n",
        "    proc.stdin.write(data)\n",
        "    proc.stdin.flush()   # Ensure the child gets input\n",
        "    return proc\n",
        "def run_md5(input_stdin):\n",
        "    proc = subprocess.Popen(\n",
        "        ['md5sum'],\n",
        "        stdin=input_stdin,\n",
        "        stdout=subprocess.PIPE\n",
        "    )\n",
        "    return proc\n",
        "input_procs = []\n",
        "hash_procs = []\n",
        "for _ in range(3):\n",
        "    data = os.urandom(10)\n",
        "    proc = run_openssl(data)\n",
        "    input_procs.append(proc)\n",
        "    hash_proc = run_md5(proc.stdout)\n",
        "    hash_procs.append(hash_proc)\n",
        "\n",
        "# The I/O between the child processes will happen automatically once you get\n",
        "# them started. All you need to do is wait for them to finish and print the\n",
        "# final output.\n",
        "\n",
        "for proc in input_procs:\n",
        "    proc.communicate()\n",
        "\n",
        "for proc in hash_procs:\n",
        "    out, err = proc.communicate()\n",
        "    print(out.strip())\n",
        "    \n",
        "def run_sleep(period):\n",
        "    proc = subprocess.Popen(['sleep', str(period)])\n",
        "    return proc\n",
        "\n",
        "proc = run_sleep(10)\n",
        "try:\n",
        "    proc.communicate(timeout=0.1)\n",
        "except subprocess.TimeoutExpired:\n",
        "    proc.terminate()\n",
        "    proc.wait()\n",
        "\n",
        "print('Exit status', proc.poll())"
      ],
      "execution_count": 37,
      "outputs": [
        {
          "output_type": "stream",
          "name": "stdout",
          "text": [
            "b'c59793473f5e615f3db4b7797fa05029  -'\n",
            "b'2cb54298f440d5329a9ac9bc783d66f3  -'\n",
            "b'df99f7a3ebc98739c350dd1125cb6259  -'\n",
            "Exit status -15\n"
          ]
        }
      ]
    },
    {
      "cell_type": "code",
      "metadata": {
        "colab": {
          "base_uri": "https://localhost:8080/"
        },
        "id": "h1Nje4lVMf9Y",
        "outputId": "2e77af8c-97a6-4559-96df-1df15da8431d"
      },
      "source": [
        "# 1. Python threads can't bytecode in parallel on multiple CPU cores because\n",
        "#     of the global interpreter lock (GIL).\n",
        "# 2. Python threads are still useful despite the GIL because they provide an\n",
        "#     easy way to do multiple things at seemingly the same time.\n",
        "# 3. Use Python threads to make multiple system calls in parallel. This allows\n",
        "#     you to do blocking I/O at the same time as computation.\n",
        "\n",
        "import time\n",
        "from threading import Thread\n",
        "import select\n",
        "def slow_systemcall():\n",
        "    select.select([], [], [], 0.1)\n",
        "\n",
        "\n",
        "# Running this system call in serial requires a linearly increasing amount of\n",
        "# time.\n",
        "\n",
        "start = time.time()\n",
        "for _ in range(5):\n",
        "    slow_systemcall()\n",
        "end = time.time()\n",
        "print('Took %.3f seconds' % (end - start))\n",
        "\n",
        "start = time.time()\n",
        "threads = []\n",
        "for _ in range(5):\n",
        "    thread = Thread(target=slow_systemcall)\n",
        "    thread.start()\n",
        "    threads.append(thread)\n",
        "\n",
        "def compute_helicopter_location(index):\n",
        "    return index**2\n",
        "\n",
        "for i in range(5):\n",
        "    compute_helicopter_location(i)\n",
        "\n",
        "for thread in threads:\n",
        "    thread.join()\n",
        "end = time.time()\n",
        "print('Took %.3f seconds' % (end - start))"
      ],
      "execution_count": 38,
      "outputs": [
        {
          "output_type": "stream",
          "name": "stdout",
          "text": [
            "Took 0.501 seconds\n",
            "Took 0.101 seconds\n"
          ]
        }
      ]
    },
    {
      "cell_type": "code",
      "metadata": {
        "colab": {
          "base_uri": "https://localhost:8080/"
        },
        "id": "FZGL3JkcNQjp",
        "outputId": "5e9c249b-5049-4c90-f434-8ca1d5717265"
      },
      "source": [
        "# 1. Even though Python has a global interpreter lock, you're still\n",
        "#     responsible for protecting against objects without locks.\n",
        "# 2. Your programs will corrupt their data structures if you allow multiple\n",
        "#     threads to modify the same objects without locks.\n",
        "# 3. The lock class in the threading built-in module is Python's standard\n",
        "#     mutual exclusion lock implementation.\n",
        "from threading import Thread\n",
        "from threading import Lock\n",
        "\n",
        "def run_threads(func, how_many, counter):\n",
        "    threads = []\n",
        "    for i in range(5):\n",
        "        args = (i, how_many, counter)\n",
        "        thread = Thread(target=func, args=args)\n",
        "        threads.append(thread)\n",
        "        thread.start()\n",
        "\n",
        "    for thread in threads:\n",
        "        thread.join()\n",
        "\n",
        "def worker(sensor_index, how_many, counter):\n",
        "    for _ in range(how_many):\n",
        "        # Read from the sensor\n",
        "        counter.increment(1)\n",
        "\n",
        "class LockingCounter(object):\n",
        "    def __init__(self):\n",
        "        self.lock = Lock()\n",
        "        self.count = 0\n",
        "\n",
        "    def increment(self, offset):\n",
        "        with self.lock:\n",
        "            self.count += offset\n",
        "class Counter(object):\n",
        "    def __init__(self):\n",
        "        self.count = 0\n",
        "\n",
        "    def increment(self, offset):\n",
        "        self.count += offset\n",
        "\n",
        "counter = LockingCounter()\n",
        "how_many = 10**5\n",
        "run_threads(worker, how_many, counter)\n",
        "print('Counter should be %d, found %d' % (5 * how_many, counter.count))\n",
        "\n",
        "counter = Counter()\n",
        "how_many = 10**5\n",
        "run_threads(worker, how_many, counter)\n",
        "print('Counter should be %d, found %d' % (5 * how_many, counter.count))"
      ],
      "execution_count": 42,
      "outputs": [
        {
          "output_type": "stream",
          "name": "stdout",
          "text": [
            "Counter should be 500000, found 500000\n",
            "Counter should be 500000, found 330139\n"
          ]
        }
      ]
    },
    {
      "cell_type": "code",
      "metadata": {
        "colab": {
          "base_uri": "https://localhost:8080/"
        },
        "id": "wRAWEc8dQMno",
        "outputId": "959c6e30-2331-4185-fec4-f3ad7ae3476a"
      },
      "source": [
        "# 1. Pipelines are a great way to organize sequences of work that run\n",
        "#     concurrently using multiple Python threads.\n",
        "# 2. Be aware of the many problems in building concurrent pipelines: busy\n",
        "#     waiting, stopping workers, and memory explosion.\n",
        "# 3. The Queue class has all of the facilities you need to build robust\n",
        "#     pipelines: blocking operations, buffer sizes, and joining.\n",
        "from collections import deque\n",
        "from threading import Thread\n",
        "from threading import Lock\n",
        "from time import sleep\n",
        "from queue import Queue\n",
        "import time\n",
        "\n",
        "def download(item):\n",
        "    # print(item)\n",
        "    # print(\"download()\")\n",
        "    pass\n",
        "\n",
        "\n",
        "def resize(item):\n",
        "    # print(\"resize()\")\n",
        "    # print(item)\n",
        "    pass\n",
        "\n",
        "\n",
        "def upload(item):\n",
        "    # print(\"upload()\")\n",
        "    # print(item)\n",
        "    pass\n",
        "\n",
        "class ClosableQueue(Queue):\n",
        "    SENTINEL = object()\n",
        "\n",
        "    def close(self):\n",
        "        self.put(self.SENTINEL)\n",
        "\n",
        "    def __iter__(self):\n",
        "        while True:\n",
        "            item = self.get()\n",
        "            try:\n",
        "                if item is self.SENTINEL:\n",
        "                    return  # Cause the thread to exit\n",
        "                yield item\n",
        "            finally:\n",
        "                self.task_done()\n",
        "class StoppableWorker(Thread):\n",
        "    def __init__(self, func, in_queue, out_queue):\n",
        "        super().__init__()\n",
        "        self.func = func\n",
        "        self.in_queue = in_queue\n",
        "        self.out_queue = out_queue\n",
        "        self.polled_count = 0\n",
        "        self.work_done = 0\n",
        "\n",
        "    def run(self):\n",
        "        for item in self.in_queue:\n",
        "            result = self.func(item)\n",
        "            self.out_queue.put(result)\n",
        "\n",
        "# Here, I re-create the set of worker threads using the new worker class:\n",
        "\n",
        "download_queue = ClosableQueue()\n",
        "resize_queue = ClosableQueue()\n",
        "upload_queue = ClosableQueue()\n",
        "done_queue = ClosableQueue()\n",
        "\n",
        "threads = [\n",
        "    StoppableWorker(download, download_queue, resize_queue),\n",
        "    StoppableWorker(resize, resize_queue, upload_queue),\n",
        "    StoppableWorker(upload, upload_queue, done_queue),\n",
        "]\n",
        "\n",
        "# After running the worker threads like before, I also send the stop signal\n",
        "# once all the input work has been injected by closing the input queue of the\n",
        "# first phase.\n",
        "\n",
        "for thread in threads:\n",
        "    thread.start()\n",
        "\n",
        "for _ in range(1000):\n",
        "    download_queue.put(object())\n",
        "\n",
        "download_queue.close()\n",
        "download_queue.join()\n",
        "resize_queue.close()\n",
        "resize_queue.join()\n",
        "upload_queue.close()\n",
        "upload_queue.join()\n",
        "print(done_queue.qsize(), 'item finished')"
      ],
      "execution_count": 46,
      "outputs": [
        {
          "output_type": "stream",
          "name": "stdout",
          "text": [
            "1000 item finished\n"
          ]
        }
      ]
    },
    {
      "cell_type": "code",
      "metadata": {
        "colab": {
          "base_uri": "https://localhost:8080/"
        },
        "id": "iiJOAasrSyPE",
        "outputId": "214a775c-6328-4492-b72b-64c2e68ff21d"
      },
      "source": [
        "from collections import namedtuple\n",
        "\n",
        "def minimize():\n",
        "    current = yield\n",
        "    while True:\n",
        "        value = yield current\n",
        "        current = min(value, current)\n",
        "\n",
        "\n",
        "# The code consuming the generator can run one step at a time and will output\n",
        "# the minimum value seen after each input.\n",
        "\n",
        "it = minimize()\n",
        "next(it)             # Prime the generator\n",
        "print(it.send(10))\n",
        "print(it.send(4))\n",
        "print(it.send(22))\n",
        "print(it.send(-1))"
      ],
      "execution_count": 48,
      "outputs": [
        {
          "output_type": "stream",
          "name": "stdout",
          "text": [
            "10\n",
            "4\n",
            "4\n",
            "-1\n"
          ]
        }
      ]
    },
    {
      "cell_type": "code",
      "metadata": {
        "colab": {
          "base_uri": "https://localhost:8080/"
        },
        "id": "KfR7pjrMTl0f",
        "outputId": "3f117c36-d14e-4ddb-e76d-b14d0d60c51d"
      },
      "source": [
        "\n",
        "ALIVE = '*'\n",
        "EMPTY = '-'\n",
        "\n",
        "\n",
        "Query = namedtuple('Query', ('y', 'x'))\n",
        "\n",
        "def count_neighbors(y, x):\n",
        "    n_ = yield Query(y + 1, x + 0)  # North\n",
        "    ne = yield Query(y + 1, x + 1)  # Northeast\n",
        "    e_ = yield Query(y + 0, x + 1)  # East\n",
        "    se = yield Query(y - 1, x + 1)  # Southeast\n",
        "    s_ = yield Query(y - 1, x + 0)  # South\n",
        "    sw = yield Query(y - 1, x - 1)  # Southwest\n",
        "    w_ = yield Query(y + 0, x - 1)  # West\n",
        "    nw = yield Query(y + 1, x - 1)  # Northwest\n",
        "\n",
        "    neighbor_states = [n_, ne, e_, se, s_, sw, w_, nw]\n",
        "    count = 0\n",
        "    for state in neighbor_states:\n",
        "        if state == ALIVE:\n",
        "            count += 1\n",
        "    return count\n",
        "\n",
        "\n",
        "# I can drive the count_neighbors coroutine with fake data to test it. Here, I\n",
        "# show how Query objects will be yielded for each neighbor. count_neighbors\n",
        "# expects to receive cell states corresponding to each Query through the\n",
        "# coroutine's send method. The final count is returned in the StopIteration\n",
        "# exception that is raised when the generator is exhausted by the return\n",
        "# statement.\n",
        "\n",
        "\n",
        "\n",
        "# The step_cell coroutine receives its coordinates in the grid as arguments.\n",
        "# It yields a Query to get the initial state of those coordinates. It runs\n",
        "# count_neighbors to inspect the cells around it. It runs the game logic to\n",
        "# determine what state the cell should have for the next clock tick. Finally,\n",
        "# it yields a Transition object to cell the environment the cell's next state.\n",
        "\n",
        "\n",
        "# def game_logic(state, neighbors):\n",
        "#     return state\n",
        "\n",
        "def game_logic(state, neighbors):\n",
        "    if state == ALIVE:\n",
        "        if neighbors < 2:\n",
        "            return EMPTY          # Die: Too few\n",
        "        elif neighbors > 3:\n",
        "            return EMPTY          # Die: Too many\n",
        "    else:\n",
        "        if neighbors == 3:\n",
        "            return ALIVE          # Regenerate\n",
        "    return state\n",
        "\n",
        "\n",
        "def step_cell(y, x):\n",
        "    state = yield Query(y, x)\n",
        "    neighbors = yield from count_neighbors(y, x)\n",
        "    next_state = game_logic(state, neighbors)\n",
        "    yield Transition(y, x, next_state)\n",
        "\n",
        "\n",
        "# Importantly, the call to count_neighbors uses the yield from expression.\n",
        "# This expression allows Python to compose generator coroutines together,\n",
        "# making it easy to reuse smaller pieces of functionality and build complex\n",
        "# coroutines from simpler ones. When count_neighbors is exhausted, the final\n",
        "# value it returns (with the return statement) will be passed to step_cell as\n",
        "# the result of the yield from expression.\n",
        "\n",
        "\n",
        "# The goal of the game is to run this logic for a whole grid of cells in\n",
        "# lockstep. To do this, I can further compose the step_cell coroutine into a\n",
        "# simulate coroutine. This coroutine progresses the grid of cells forward by\n",
        "# yielding from step_cell many times. After progressing every coordinate, it\n",
        "# yields a TICK object to indicate that the current generation of cells have\n",
        "# all transitioned.\n",
        "\n",
        "\n",
        "TICK = object()\n",
        "\n",
        "\n",
        "def simulate(height, width):\n",
        "    while True:\n",
        "        for y in range(height):\n",
        "            for x in range(width):\n",
        "                yield from step_cell(y, x)\n",
        "        yield TICK\n",
        "\n",
        "\n",
        "# What's impressive about simulate is that it's completely disconnected from\n",
        "# the surrounding environment. I still haven't defined how the grid is\n",
        "# represented in Python objects, how Query, Transition, and TICK values are\n",
        "# handled on the outside, nor how the game gets its initial state. But the\n",
        "# logic is clear. Each cell will transition by running step_cell. Then the\n",
        "# game clock will tick. This will continue forever, as long as the simulate\n",
        "# coroutine is advanced.\n",
        "\n",
        "\n",
        "# This is the beauty of coroutines. They help you focus on the logic of what\n",
        "# you're trying to accomplish. They decouple your code's instructions for the\n",
        "# environment from the implementation that carries out your wishes. This also\n",
        "# allows you to improve the implementation of following those instructions\n",
        "# over time without changing the coroutines.\n",
        "\n",
        "# Now, I want to run simulate in a real environment. To do that, I need to\n",
        "# represent the state of each cell in the grid. Here, I define a class to\n",
        "# contain the grid:\n",
        "\n",
        "\n",
        "class Grid(object):\n",
        "    def __init__(self, height, width):\n",
        "        self.height = height\n",
        "        self.width = width\n",
        "        self.rows = []\n",
        "        for _ in range(self.height):\n",
        "            self.rows.append([EMPTY] * self.width)\n",
        "\n",
        "    def __str__(self):\n",
        "        str = ''\n",
        "        for i in range(self.height):\n",
        "            for j in range(self.width):\n",
        "                str += self.query(i, j)\n",
        "                # print(self.query(i, j))\n",
        "            str += '\\n'\n",
        "            # print('\\n')\n",
        "        return str\n",
        "\n",
        "# The grid allows you to get and set the value of any coordinate. Coordinates\n",
        "# that are out of bounds will wrap around, making the grid act like infinite\n",
        "# looping space.\n",
        "\n",
        "    def query(self, y, x):\n",
        "        return self.rows[y % self.height][x % self.width]\n",
        "\n",
        "    def assign(self, y, x, state):\n",
        "        self.rows[y % self.height][x % self.width] = state\n",
        "\n",
        "# At last, I can define the function that interprets the values yielded from\n",
        "# simulate and all of its interior coroutines. This function turns the\n",
        "# instructions from the coroutines into interactions with the surrounding\n",
        "# environment. It progress the whole grid of cells forward a single step and\n",
        "# then returns a new grid containing the next state.\n",
        "\n",
        "\n",
        "def live_a_generation(grid, sim):\n",
        "    progeny = Grid(grid.height, grid.width)\n",
        "    item = next(sim)\n",
        "    while item is (not TICK):\n",
        "        if isinstance(item, Query):\n",
        "            state = grid.query(item.y, item.x)\n",
        "            item = sim.send(state)\n",
        "        else:\n",
        "            progeny.assign(item.y, item.x, item.state)\n",
        "            item.next(sim)\n",
        "    return progeny\n",
        "\n",
        "\n",
        "# To see this function in action, I need to create a grid and set its initial\n",
        "# state. Here, I make a classic shape called a glider.\n",
        "\n",
        "class ColumnPrinter(object):\n",
        "    def __init__(self):\n",
        "        self.height = 0\n",
        "        self.width = 0\n",
        "        self.string = []\n",
        "        self.times = 0\n",
        "\n",
        "    def append(self, str_grid):\n",
        "        if self.string == []:\n",
        "            self.string = str_grid.split('\\n')\n",
        "            self.height = len(self.string) - 1\n",
        "            self.width = len(self.string[0])\n",
        "        else:\n",
        "            str_grid_ = str_grid.split('\\n')\n",
        "            height_ = len(str_grid_) - 1\n",
        "            width_ = len(str_grid_[0])\n",
        "            assert height_ == self.height\n",
        "            assert width_ == self.width\n",
        "            for i in range(self.height):\n",
        "                self.string[i] += '|'\n",
        "                self.string[i] += str_grid_[i]\n",
        "\n",
        "        self.times += 1\n",
        "\n",
        "    def __str__(self):\n",
        "        # head\n",
        "        head = \"\"\n",
        "        for i in range(self.width * self.times + (self.times - 1)):\n",
        "            number = int(i + (self.width+1)/2 + 1)\n",
        "            if (i+1) % (self.width + 1) == 0 and i > 0:\n",
        "                head += '|'\n",
        "            elif number % (self.width + 1) == 0:\n",
        "                head += str(int(number/self.width))\n",
        "            else:\n",
        "                head += ' '\n",
        "        # body\n",
        "        printer = head + '\\n'\n",
        "        for i in range(self.height):\n",
        "            printer += (self.string[i] + '\\n')\n",
        "        return printer\n",
        "\n",
        "\n",
        "grid = Grid(5, 9)\n",
        "grid.assign(0, 3, ALIVE)\n",
        "grid.assign(1, 4, ALIVE)\n",
        "grid.assign(2, 2, ALIVE)\n",
        "grid.assign(2, 3, ALIVE)\n",
        "grid.assign(2, 4, ALIVE)\n",
        "colums = ColumnPrinter()\n",
        "sim = simulate(grid.height, grid.width)\n",
        "for i in range(5):\n",
        "    colums.append(str(grid))\n",
        "    grid = live_a_generation(grid, sim)\n",
        "\n",
        "print(colums)\n",
        "\n",
        "\n",
        "\n",
        "# The best part about this approach is that I can change the game_logic\n",
        "# function without having to update the code that surrounds it. I can change\n",
        "# the rules or add larger spheres of influence with the existing machanics of\n",
        "# Query, Transition, and TICK. This demonstrates how coroutines enable the\n",
        "# separation of concerns, which is an important design principle.\n",
        "\n",
        "# Things to remember\n",
        "\n",
        "# 1. Coroutines provide an efficient way to run tens of thousands of functions\n",
        "#    seemingly at the same time.\n",
        "# 2. Within a generator, the value of the yield expression will be whatever\n",
        "#    value was passed to the generator's send method from the exterior code.\n",
        "# 3. Coroutines give you a powerful tool for separating the core logic of your\n",
        "#    program from its interaction with the surrounding environment.\n",
        "# 4. Python 2 doesn't support yield from or returning values from generators."
      ],
      "execution_count": 61,
      "outputs": [
        {
          "output_type": "stream",
          "name": "stdout",
          "text": [
            "    1    |    2    |    3    |    4    |    5    \n",
            "---*-----|---------|---------|---------|---------\n",
            "----*----|---------|---------|---------|---------\n",
            "--***----|---------|---------|---------|---------\n",
            "---------|---------|---------|---------|---------\n",
            "---------|---------|---------|---------|---------\n",
            "\n"
          ]
        }
      ]
    },
    {
      "cell_type": "code",
      "metadata": {
        "colab": {
          "base_uri": "https://localhost:8080/"
        },
        "id": "2dKx1UoUVxYT",
        "outputId": "2c42e35d-c39d-4032-e923-22836f4196ae"
      },
      "source": [
        "# 1. Moving CPU bottlenecks to C-extension modules can be an effective way to\n",
        "#    improve performance while maximizing your investment in Python code.\n",
        "#    However, the cost of doing so is high and may introduce bugs.\n",
        "# 2. The multiprocessing module provides powerful tools that can parallelize\n",
        "#    certain types of Python computation with minimal effort.\n",
        "# 3. The power of multiprocessing is best accessed through the\n",
        "#    concurrent.futures built-in module and its simple ProcessPoolExecutor\n",
        "#    class.\n",
        "# 4. The advanced parts of the multiprocessing module should be avoided\n",
        "#    because they are so complex.\n",
        "import time\n",
        "from concurrent.futures import ThreadPoolExecutor\n",
        "from concurrent.futures import ProcessPoolExecutor\n",
        "\n",
        "def gcd(pair):\n",
        "    a, b = pair\n",
        "    low = min(a, b)\n",
        "    for i in range(low, 0, -1):\n",
        "        if a % i == 0 and b % i == 0:\n",
        "            return i\n",
        "\n",
        "\n",
        "# Running this function in serial takes a linearly increasing amount of time\n",
        "# because there is no parallelism.\n",
        "\n",
        "numbers = [(1963309, 2265973), (2030677, 3814172),\n",
        "           (1551645, 2229620), (2039045, 2020802)]\n",
        "start = time.time()\n",
        "results = list(map(gcd, numbers))\n",
        "end = time.time()\n",
        "print('Took %.3f seconds' % (end - start))\n",
        "\n",
        "start = time.time()\n",
        "pool = ThreadPoolExecutor(max_workers=2)\n",
        "results = list(pool.map(gcd, numbers))\n",
        "end = time.time()\n",
        "print('Took %.3f seconds' % (end - start))\n",
        "# Took 0.664 seconds\n",
        "\n",
        "start = time.time()\n",
        "pool = ProcessPoolExecutor(max_workers=2)  # the one change\n",
        "results = list(pool.map(gcd, numbers))\n",
        "end = time.time()\n",
        "print('Took %.3f seconds' % (end - start))\n",
        "# Took 0.357 seconds"
      ],
      "execution_count": 65,
      "outputs": [
        {
          "output_type": "stream",
          "name": "stdout",
          "text": [
            "Took 0.555 seconds\n",
            "Took 0.615 seconds\n",
            "Took 0.690 seconds\n"
          ]
        }
      ]
    },
    {
      "cell_type": "markdown",
      "metadata": {
        "id": "PctYyWTkIGZ-"
      },
      "source": [
        "# 6. Built-in Modules"
      ]
    },
    {
      "cell_type": "code",
      "metadata": {
        "colab": {
          "base_uri": "https://localhost:8080/"
        },
        "id": "Dz_0m9YwWdIP",
        "outputId": "35ed9f6d-f30f-4ad2-b9fd-1f319f43a3bb"
      },
      "source": [
        "# 1. Decorators are Python syntax for allowing one function to modify another\n",
        "#    function at runtime.\n",
        "# 2. Using decorators can cause strange behaviors in tools that do\n",
        "#    introspection, such as debuggers.\n",
        "# 3. Use the wraps decorator from the functools built-in module when you\n",
        "#    define your own decorators to avoid any issues.\n",
        "from functools import wraps\n",
        "\n",
        "def trace(func):\n",
        "    @wraps(func)\n",
        "    def wrapper(*args, **kwargs):\n",
        "        result = func(*args, **kwargs)\n",
        "        print('%s(%r, %r) -> %r' %\n",
        "              (func.__name__, args, kwargs, result))\n",
        "        return result\n",
        "    return wrapper\n",
        "\n",
        "@ trace\n",
        "def fibonacci(n):\n",
        "    \"\"\"Return the n-th Fibonacci number\"\"\"\n",
        "    if n in (0, 1):\n",
        "        return n\n",
        "    return fibonacci(n - 2) + fibonacci(n - 1)\n",
        "\n",
        "fibonacci(5)\n",
        "help(fibonacci)"
      ],
      "execution_count": 72,
      "outputs": [
        {
          "output_type": "stream",
          "name": "stdout",
          "text": [
            "fibonacci((1,), {}) -> 1\n",
            "fibonacci((0,), {}) -> 0\n",
            "fibonacci((1,), {}) -> 1\n",
            "fibonacci((2,), {}) -> 1\n",
            "fibonacci((3,), {}) -> 2\n",
            "fibonacci((0,), {}) -> 0\n",
            "fibonacci((1,), {}) -> 1\n",
            "fibonacci((2,), {}) -> 1\n",
            "fibonacci((1,), {}) -> 1\n",
            "fibonacci((0,), {}) -> 0\n",
            "fibonacci((1,), {}) -> 1\n",
            "fibonacci((2,), {}) -> 1\n",
            "fibonacci((3,), {}) -> 2\n",
            "fibonacci((4,), {}) -> 3\n",
            "fibonacci((5,), {}) -> 5\n",
            "Help on function fibonacci in module __main__:\n",
            "\n",
            "fibonacci(n)\n",
            "    Return the n-th Fibonacci number\n",
            "\n"
          ]
        }
      ]
    },
    {
      "cell_type": "code",
      "metadata": {
        "colab": {
          "base_uri": "https://localhost:8080/"
        },
        "id": "teMSrxEgX9W5",
        "outputId": "961e9923-d64b-4616-b065-a1a9ce8612dd"
      },
      "source": [
        "from threading import Lock\n",
        "import logging\n",
        "from contextlib import contextmanager\n",
        "\n",
        "@contextmanager\n",
        "def log_level(level, name):\n",
        "    logger = logging.getLogger(name)\n",
        "    old_level = logger.getEffectiveLevel()\n",
        "    logger.setLevel(level)\n",
        "    try:\n",
        "        yield logger\n",
        "    finally:\n",
        "        logger.setLevel(old_level)\n",
        "        \n",
        "with log_level(logging.DEBUG, 'my_log') as logger:\n",
        "    logger.debug('This is my message!')\n",
        "    logging.debug('This will not print')\n",
        "\n",
        "\n",
        "# After the with statement exits, calling debug logging methods on the Logger\n",
        "# named 'my-log' will not print anything because the default logging severity\n",
        "# level has been restored. Error log messages will always print.\n",
        "\n",
        "logger = logging.getLogger('my_log')\n",
        "logger.debug('Debug will not print')\n",
        "logger.error('Error will print')"
      ],
      "execution_count": 82,
      "outputs": [
        {
          "output_type": "stream",
          "name": "stderr",
          "text": [
            "DEBUG:my_log:This is my message!\n",
            "ERROR:my_log:Error will print\n"
          ]
        }
      ]
    },
    {
      "cell_type": "code",
      "metadata": {
        "colab": {
          "base_uri": "https://localhost:8080/"
        },
        "id": "aEdmsEMHY-F2",
        "outputId": "f4d1b800-f974-4353-b469-614d34b8e51d"
      },
      "source": [
        "# 1. Avoid using the time module for translating between different time zones.\n",
        "# 2. Use the datetime built-in module along with the pytz module to reliably\n",
        "#    convert between times in different time zones.\n",
        "# 3. Always represent time in UTC and do conversations to local time as the\n",
        "#    final step before presentation.\n",
        "from time import localtime, strftime\n",
        "from datetime import datetime, timezone\n",
        "import pytz\n",
        "\n",
        "time_format = '%Y-%m-%d %H:%M:%S'\n",
        "arrival_nyc = '2014-05-01 23:33:24'\n",
        "nyc_dt_naive = datetime.strptime(arrival_nyc, time_format)\n",
        "eastern = pytz.timezone('US/Eastern')\n",
        "nyc_dt = eastern.localize(nyc_dt_naive)\n",
        "utc_dt = pytz.utc.normalize(nyc_dt.astimezone(pytz.utc))\n",
        "print(utc_dt)\n",
        "# 2014-05-02 03:33:24+00:00\n",
        "\n",
        "# Once I have a UTC datetime, I can convert it to San Francisco local time.\n",
        "\n",
        "pacific = pytz.timezone('US/Pacific')\n",
        "sf_dt = pacific.normalize(utc_dt.astimezone(pacific))\n",
        "print(sf_dt)\n",
        "# 2014-05-01 20:33:24-07:00\n",
        "\n",
        "# Just as easily, I can convert it to the local time in Nepal.\n",
        "\n",
        "nepal = pytz.timezone('Asia/Katmandu')\n",
        "nepal_dt = nepal.normalize(utc_dt.astimezone(nepal))\n",
        "print(nepal_dt)"
      ],
      "execution_count": 84,
      "outputs": [
        {
          "output_type": "stream",
          "name": "stdout",
          "text": [
            "2014-05-02 03:33:24+00:00\n",
            "2014-05-01 20:33:24-07:00\n",
            "2014-05-02 09:18:24+05:45\n"
          ]
        }
      ]
    },
    {
      "cell_type": "code",
      "metadata": {
        "colab": {
          "base_uri": "https://localhost:8080/"
        },
        "id": "3H-ANNDjZko_",
        "outputId": "098d7c8d-b9a7-43b9-ba67-574b7c379ed2"
      },
      "source": [
        "from decimal import Decimal\n",
        "from decimal import ROUND_UP\n",
        "\n",
        "rate = Decimal('0.05')\n",
        "seconds = Decimal('5')\n",
        "cost = rate * seconds / Decimal('60')\n",
        "print(cost)\n",
        "# 0.004166666666666666666666666667\n",
        "\n",
        "# But the quantize behavior ensures that this is rounded up to one whole cent.\n",
        "\n",
        "rounded = cost.quantize(Decimal('0.01'), rounding=ROUND_UP)\n",
        "print(rounded)\n",
        "# 0.01"
      ],
      "execution_count": 86,
      "outputs": [
        {
          "output_type": "stream",
          "name": "stdout",
          "text": [
            "0.004166666666666666666666666667\n",
            "0.01\n"
          ]
        }
      ]
    },
    {
      "cell_type": "markdown",
      "metadata": {
        "id": "H0fjKkVGIGlO"
      },
      "source": [
        "# 7. Collaboration"
      ]
    },
    {
      "cell_type": "code",
      "metadata": {
        "colab": {
          "base_uri": "https://localhost:8080/"
        },
        "id": "_TznIS2naQXy",
        "outputId": "5ffd30d4-9415-4bb8-f742-a4f4bb42f3e5"
      },
      "source": [
        "# 1. Write documentation for every module, class and function using\n",
        "#    docstrings. Keep them up to date as your code changes.\n",
        "# 2. For modules: introduce the contents of the module and any important\n",
        "#    classes or functions all users should know about.\n",
        "# 3. For classes: document behavior, important attributes, and subclass\n",
        "#    behavior in the docstring following the class statement.\n",
        "# 4. For functions and methods: document every argument, returned value,\n",
        "#    raised exception, and other behaviors in the docstring following the\n",
        "#    def statement.\n",
        "\n",
        "# 1. Defining root exceptions for your modules allows API consumers to\n",
        "#    insulate themselves from your API.\n",
        "# 2. Catching root exceptions can help you find bugs in code that consumes an\n",
        "#    API.\n",
        "# 3. Catching the Python Exception base class can help you find bugs in API\n",
        "#    implementations.\n",
        "# 4. Intermediate root exceptions let you add more specific types of\n",
        "#    exceptions in the future without breaking your API consumers.\n",
        "\n",
        "# 1. Circular dependencies happen when two modules must call into each other\n",
        "#    at import time. They can cause your program to crash at startup.\n",
        "# 2. The best way to break a circular dependency is refactoring mutual\n",
        "#    dependencies into a separate module at the bottom of the dependency tree.\n",
        "# 3. Dynamic imports are the simplest solution for breaking a circular\n",
        "#    dependency between modules while minimizing refactoring and complexity.\n",
        "\"\"\"Library for test words for various linguistic patterns.\n",
        "Testing how words relate to each other can be tricky sometimes! This module\n",
        "provides easy ways to determine when words you've found have special\n",
        "properties.\n",
        "Available functions:\n",
        "- palindrome: Determine if a word is a palindrome.\n",
        "- check_anagram: Determine if two words are anagrams.\n",
        "...\n",
        "\"\"\"\n",
        "# ...\n",
        "\n",
        "class Player(object):\n",
        "    \"\"\"Represents a player of the game.\n",
        "    Subclasses may override the 'tick' method to provide custom animations for\n",
        "    the player's movement depending on their power level. etc.\n",
        "    Public attributes:\n",
        "    - power: Unused power-ups (float between 0 and 1).\n",
        "    - coins: Coins found during the level (integer).\n",
        "    \"\"\"\n",
        "    # ...\n",
        "    pass\n",
        "def find_anagrms(word, dictionary):\n",
        "    \"\"\"Find all anagrams for a word.\n",
        "    This function only runs as fast as the test for membership in the\n",
        "    'dictionary' container. It will be slow if the dictionary is a list and\n",
        "    fast if it's a set.\n",
        "    Args:\n",
        "        word: String of the target word.\n",
        "        dictionary: Container with all strings that are known to be actual\n",
        "        words.\n",
        "    Returns:\n",
        "        List of anagrams that were found. Empty if none were found.\n",
        "    \"\"\"\n",
        "    # ...\n",
        "    pass\n",
        "\n",
        "help(Player)\n",
        "help(find_anagrms)   "
      ],
      "execution_count": 88,
      "outputs": [
        {
          "output_type": "stream",
          "name": "stdout",
          "text": [
            "Help on class Player in module __main__:\n",
            "\n",
            "class Player(builtins.object)\n",
            " |  Represents a player of the game.\n",
            " |  Subclasses may override the 'tick' method to provide custom animations for\n",
            " |  the player's movement depending on their power level. etc.\n",
            " |  Public attributes:\n",
            " |  - power: Unused power-ups (float between 0 and 1).\n",
            " |  - coins: Coins found during the level (integer).\n",
            " |  \n",
            " |  Data descriptors defined here:\n",
            " |  \n",
            " |  __dict__\n",
            " |      dictionary for instance variables (if defined)\n",
            " |  \n",
            " |  __weakref__\n",
            " |      list of weak references to the object (if defined)\n",
            "\n",
            "Help on function find_anagrms in module __main__:\n",
            "\n",
            "find_anagrms(word, dictionary)\n",
            "    Find all anagrams for a word.\n",
            "    This function only runs as fast as the test for membership in the\n",
            "    'dictionary' container. It will be slow if the dictionary is a list and\n",
            "    fast if it's a set.\n",
            "    Args:\n",
            "        word: String of the target word.\n",
            "        dictionary: Container with all strings that are known to be actual\n",
            "        words.\n",
            "    Returns:\n",
            "        List of anagrams that were found. Empty if none were found.\n",
            "\n"
          ]
        }
      ]
    },
    {
      "cell_type": "code",
      "metadata": {
        "id": "CHAvSzLFb-Lh"
      },
      "source": [
        "# 1. Virtual environment allow you to use pip to install many different\n",
        "#    versions of the same package on the same machine without conflicts.\n",
        "# 2. Virtual environments are created with pyvenv, enabled with source\n",
        "#    bin/activate, and disabled with deactivate.\n",
        "# 3. You can dump all of the requirements of an environment with pip freeze.\n",
        "#    You can reproduce the environment by supplying the requirements.txt file\n",
        "#    to pip install -r.\n",
        "# 4. In versions of Python before 3.4, the pyvenv tool must be downloaded and\n",
        "#    installed separately. The command-line tool is called virtualenv instead\n",
        "#    of pyvenv."
      ],
      "execution_count": 89,
      "outputs": []
    },
    {
      "cell_type": "markdown",
      "metadata": {
        "id": "OthbUWW_wKvF"
      },
      "source": [
        "# 8. Production"
      ]
    },
    {
      "cell_type": "code",
      "metadata": {
        "id": "ne2gAF5zHTX4"
      },
      "source": [
        "# 1. Programs often need to run in multiple deployment environments that each\n",
        "#    have unique assumptions and configurations.\n",
        "# 2. You can tailor a module's contents to different deployment environments\n",
        "#    by using normal Python statements in module scope.\n",
        "# 3. Module contents can be the product of any external condition, including\n",
        "#    host introspection through the sys and os modules."
      ],
      "execution_count": null,
      "outputs": []
    },
    {
      "cell_type": "code",
      "metadata": {
        "id": "Foa0pc7MHW14",
        "colab": {
          "base_uri": "https://localhost:8080/"
        },
        "outputId": "72e580bc-24a7-40ae-c767-371766f19427"
      },
      "source": [
        "# 1. Calling print on built-in Python types will produce the human-readable\n",
        "#    string version of a value, which hides type information.\n",
        "# 2. Calling repr on built-in Python types will produce the printable string\n",
        "#    version of a value. These repr strings could be passed to the eval\n",
        "#    built-in function to get back the original value.\n",
        "# 3. %s in format strings will produce human-readable strings like str.%r will\n",
        "#    produce printable strings like repr.\n",
        "# 4. You can define the __repr__ method to customize the printable\n",
        "#    representation of a class and provide more detailed debugging\n",
        "#    information.\n",
        "# 5. You can reach into any object's __dict__ attribute to view its internals.\n",
        "a = '\\x07'\n",
        "print(repr(a))\n",
        "b = eval(repr(a))\n",
        "assert a == b\n",
        "\n",
        "print(repr(5))\n",
        "print(repr('5'))\n",
        "\n",
        "class OpaqueClass(object):\n",
        "    def __init__(self, x, y):\n",
        "        self.x = x\n",
        "        self.y = y\n",
        "\n",
        "\n",
        "obj = OpaqueClass(1, 2)\n",
        "print(obj)\n",
        "print(repr(obj))\n",
        "\n",
        "class BetterClass(object):\n",
        "    def __init__(self, x, y):\n",
        "        self.x = x\n",
        "        self.y = y\n",
        "\n",
        "    def __repr__(self):\n",
        "        return 'BetterClass(%d, %d)' % (self.x, self.y)\n",
        "\n",
        "\n",
        "# Now, the repr value is much more useful.\n",
        "\n",
        "obj = BetterClass(1, 2)\n",
        "print(obj)\n",
        "print(repr(obj))\n",
        "# BetterClass(1, 2)\n",
        "# BetterClass(1, 2)\n",
        "\n",
        "# When you don't have control over the class definition, you can reach into\n",
        "# the object's instance dictionary, which is stored in the __dict__\n",
        "# attribute. Here, I print out the contents of an OpaqueClass instance:\n",
        "\n",
        "obj = OpaqueClass(4, 5)\n",
        "print(obj.__dict__)"
      ],
      "execution_count": 90,
      "outputs": [
        {
          "output_type": "stream",
          "name": "stdout",
          "text": [
            "'\\x07'\n",
            "5\n",
            "'5'\n",
            "<__main__.OpaqueClass object at 0x7f61f701a250>\n",
            "<__main__.OpaqueClass object at 0x7f61f701a250>\n",
            "BetterClass(1, 2)\n",
            "BetterClass(1, 2)\n",
            "{'x': 4, 'y': 5}\n"
          ]
        }
      ]
    },
    {
      "cell_type": "code",
      "metadata": {
        "id": "I3lGlRLwEWxn"
      },
      "source": [
        "from unittest import TestCase, main\n",
        "from tempfile import TemporaryDirectory\n",
        "\n",
        "# 1. The only way to have confidence in a Python program is to write tests.\n",
        "# 2. The unittest built-in module provides most of the facilities you'll need\n",
        "#    to write good tests.\n",
        "# 3. You can define tests by subclassing TestCase and defining one method per\n",
        "#    behavior you'd like to test. Test methods on TestCase classes must start\n",
        "#    with the word test.\n",
        "# 4. It's important to write both unit tests (for isolated functionality) and\n",
        "#    integration tests (for modules that interact).\n",
        "def to_str(data):\n",
        "    if isinstance(data, str):\n",
        "        return data\n",
        "    elif isinstance(data, bytes):\n",
        "        return data.decode('utf-8')\n",
        "    else:\n",
        "        raise TypeError('Must supply str or bytes, '\n",
        "                        'found: %r' % data)\n",
        "        \n",
        "class UtilsTestCase(TestCase):\n",
        "    def test_to_str_bytes(self):\n",
        "        self.assertEqual('hello', to_str(b'hello'))\n",
        "\n",
        "    def test_to_str_str(self):\n",
        "        self.assertEqual('hello', to_str('hello'))\n",
        "\n",
        "    def test_to_str_bad(self):\n",
        "        self.assertRaises(TypeError, to_str, object())\n",
        "\n",
        "\n",
        "class MyTest(TestCase):\n",
        "    def setUp(self):\n",
        "        self.test_dir = TemporaryDirectory()\n",
        "\n",
        "    def tearDown(self):\n",
        "        self.test_dir.cleanup()\n",
        "\n",
        "    def test_to_str_bytes(self):\n",
        "        self.assertEqual('hello', to_str(b'hello'))\n",
        "\n",
        "    def test_to_str_str(self):\n",
        "        self.assertEqual('hello', to_str('hello'))\n",
        "\n",
        "    def test_to_str_bad(self):\n",
        "        self.assertRaises(TypeError, to_str, object())"
      ],
      "execution_count": 92,
      "outputs": []
    },
    {
      "cell_type": "code",
      "metadata": {
        "colab": {
          "base_uri": "https://localhost:8080/"
        },
        "id": "PgupEtjidaK4",
        "outputId": "aecdc9c9-606c-4fb4-b71c-6d05110f0383"
      },
      "source": [
        "# 1. ncalls: The number of calls to the function during the profiling period.\n",
        "# 2. tottime: The number of seconds spent executing the function, excluding\n",
        "#    time spent executing other functions it calls.\n",
        "# 3. totime percall: The average number of seconds spents in the function each\n",
        "#    time it was called, executing time spent executing other functions it\n",
        "#    calls. This is tottime divided by ncalls.\n",
        "# 4. cumtime: The cumulative number of seconds spent executing the function,\n",
        "#    including time spent in all other function it calls.\n",
        "# 5. cumtime percall: The average number of seconds spent in the function each\n",
        "#    time it was called, including time spent in all other functions it calls.\n",
        "#    This is cumtime divided by ncalls.\n",
        "\n",
        "\n",
        "from random import randint\n",
        "from profile import Profile\n",
        "from pstats import Stats\n",
        "from bisect import bisect_left\n",
        "\n",
        "def insert_value_bi(array, value):\n",
        "    i = bisect_left(array, value)\n",
        "    array.insert(i, value)\n",
        "\n",
        "\n",
        "# I can run the profiler again and generate a new table of profiler\n",
        "# statistics. The new function is much faster, with a cumulative time spent\n",
        "# that is nearly 100 times smaller than the previous insert_value function.\n",
        "\n",
        "\n",
        "def insertion_sort_bi(data):\n",
        "    result = []\n",
        "    for value in data:\n",
        "        insert_value_bi(result, value)\n",
        "    return result\n",
        "\n",
        "max_size = 10**4\n",
        "data = [randint(0, max_size) for _ in range(max_size)]\n",
        "print(data)\n",
        "test_bi = lambda: insertion_sort_bi(data)\n",
        "profiler_bi = Profile()\n",
        "profiler_bi.runcall(test_bi)\n",
        "stats_bi = Stats(profiler_bi)\n",
        "stats_bi.strip_dirs()\n",
        "stats_bi.sort_stats('cumulative')\n",
        "stats_bi.print_stats()\n",
        "stats_bi.print_callers()\n",
        "\n",
        "# 1. It's import to profile Python programs before optimizing because the\n",
        "#    source of slowdowns is often obscure.\n",
        "# 2. Use the cProfile module instead of the profile module because it provides\n",
        "#    more accurate profiling information.\n",
        "# 3. The Profile object's runcall method provides everything you need to\n",
        "#    profile a tree of function calls in isolation.\n",
        "# 4. The Stats object lets you select and print the subset of profiling\n",
        "#    information you need to see to understand your program's performance."
      ],
      "execution_count": 98,
      "outputs": [
        {
          "output_type": "stream",
          "name": "stdout",
          "text": [
            "[9247, 795, 3765, 6532, 5790, 2231, 6794, 7128, 7199, 3584, 5634, 4929, 9147, 1701, 2433, 6181, 9136, 3690, 6257, 235, 1657, 8658, 1800, 7074, 6324, 5565, 9912, 3491, 7711, 5425, 8444, 8686, 2661, 5833, 3924, 6234, 4595, 4736, 9490, 9970, 9921, 441, 9505, 7432, 6934, 9683, 1864, 6187, 5376, 6432, 4112, 1376, 4975, 8158, 1170, 867, 7413, 1129, 542, 4811, 3434, 7658, 2153, 9679, 5063, 9766, 9329, 7667, 5157, 5632, 9300, 9657, 2549, 1696, 4139, 2709, 122, 4192, 831, 563, 1193, 9462, 7102, 8051, 2557, 4762, 6283, 1373, 4899, 4964, 7502, 3446, 6437, 2209, 7694, 2958, 9517, 7273, 7755, 4316, 8620, 4496, 4326, 9947, 3918, 8974, 2076, 1994, 6644, 2353, 8673, 6962, 2734, 3528, 3069, 9378, 5089, 4779, 341, 1738, 2873, 8698, 3044, 7949, 7035, 5185, 298, 8029, 783, 5103, 3167, 9204, 6752, 2767, 6641, 217, 3009, 7626, 5212, 4330, 4232, 1732, 8965, 1690, 8389, 2877, 7305, 5721, 8073, 466, 679, 4412, 9322, 1649, 5040, 9654, 4374, 5659, 9485, 9068, 7232, 5652, 9430, 135, 5832, 1166, 4333, 3232, 6900, 5244, 7322, 6259, 1108, 1526, 8235, 2371, 8906, 2919, 6504, 8962, 4734, 4443, 9119, 8324, 2378, 7651, 2477, 5494, 8082, 709, 6219, 1937, 9863, 6236, 9239, 7930, 9707, 107, 4974, 824, 9462, 7401, 5485, 7522, 4056, 6549, 500, 9057, 6940, 2711, 5208, 2119, 4846, 5590, 9912, 2605, 2429, 6409, 4958, 9325, 7710, 1501, 8651, 3613, 5394, 1318, 8991, 4001, 7868, 434, 4410, 6101, 4880, 2196, 4655, 5769, 804, 2027, 7104, 1575, 6550, 2063, 1829, 2188, 8726, 9923, 9213, 5385, 7411, 3287, 6307, 7642, 1396, 177, 2522, 7943, 3897, 4686, 5558, 1270, 8444, 5744, 233, 6722, 522, 9006, 1227, 669, 5799, 8022, 9046, 381, 6856, 8315, 3893, 6009, 3576, 8512, 782, 3559, 5981, 6658, 9960, 6344, 8963, 746, 6252, 2988, 6895, 9867, 7266, 3612, 2911, 4580, 2704, 4106, 2734, 8535, 5626, 5236, 666, 8355, 4103, 6877, 5932, 9836, 1661, 4007, 2501, 2487, 5754, 7770, 1699, 3504, 4609, 2728, 9986, 4572, 6364, 7353, 652, 157, 835, 4794, 8416, 5687, 251, 1379, 4858, 1508, 9405, 4280, 4318, 3072, 578, 2931, 2711, 766, 701, 1428, 5206, 3865, 940, 9427, 4940, 2041, 1768, 9994, 3982, 9170, 3785, 5735, 9480, 7249, 4972, 6556, 4950, 5531, 8221, 7403, 3732, 2644, 9007, 8456, 145, 927, 5656, 8440, 3150, 7348, 5843, 1504, 9854, 8367, 5528, 5276, 4430, 2840, 6200, 6340, 8940, 2715, 3054, 2264, 9426, 4371, 6543, 6623, 7464, 1900, 5020, 126, 1111, 3223, 1183, 8519, 5065, 5067, 8785, 6192, 5704, 679, 8887, 7496, 7129, 6642, 2227, 587, 9215, 3556, 8995, 687, 6731, 5517, 174, 1321, 3065, 6675, 7390, 9495, 832, 9371, 7534, 7508, 370, 4987, 4962, 3673, 9759, 7866, 26, 3785, 8126, 1315, 8605, 8315, 7400, 1258, 8635, 9519, 5034, 3551, 9587, 2889, 7880, 1774, 8438, 9492, 9647, 4764, 7722, 9987, 4740, 3032, 7156, 3415, 3964, 226, 4505, 5786, 5871, 8700, 5250, 9868, 8819, 2064, 1502, 7820, 376, 9893, 8384, 3958, 1460, 1841, 5556, 8645, 443, 2291, 6321, 5571, 9114, 6864, 4789, 6156, 5788, 2248, 5690, 2632, 9934, 3756, 7114, 7556, 3662, 3100, 3865, 1095, 1038, 6338, 3259, 4232, 3897, 6081, 710, 1849, 7349, 8290, 7427, 2613, 485, 63, 2247, 9639, 7130, 1943, 1594, 2239, 4253, 776, 5444, 9998, 3075, 2987, 182, 9732, 2836, 5288, 4732, 1914, 6227, 3981, 6968, 3406, 9375, 344, 1827, 5848, 5121, 9524, 6702, 2149, 2022, 6938, 7732, 2743, 1410, 3522, 895, 5163, 2439, 4660, 7705, 3874, 4665, 1558, 4516, 4202, 6194, 932, 5271, 2992, 941, 806, 652, 5889, 5807, 3675, 4206, 7999, 3369, 1455, 1772, 3625, 3167, 9120, 4470, 2868, 5711, 5165, 9695, 9391, 9336, 4875, 3633, 8285, 7215, 4494, 7217, 3930, 5733, 6930, 5099, 2365, 8614, 7971, 5830, 697, 210, 5377, 5030, 2595, 4123, 809, 4233, 921, 1482, 482, 4016, 9968, 6304, 8522, 3591, 2159, 2428, 9784, 9795, 4202, 6686, 3739, 1682, 3271, 2283, 3770, 6623, 6258, 8041, 9544, 2963, 2184, 4827, 9090, 7542, 2276, 6272, 8019, 8328, 4074, 2256, 4774, 8035, 4455, 2210, 2634, 4688, 4378, 1848, 9844, 3473, 7913, 3828, 7074, 3191, 3675, 1816, 4822, 8149, 3792, 110, 7379, 9251, 6470, 8290, 8843, 7467, 5618, 8845, 1879, 253, 7528, 1413, 788, 5548, 4987, 9056, 2891, 2884, 8799, 774, 5607, 2132, 5696, 8572, 2295, 2950, 4978, 187, 4456, 757, 8750, 6863, 7951, 9888, 1049, 283, 5210, 9008, 6940, 2888, 8874, 4313, 5703, 2802, 6181, 2796, 3450, 9559, 314, 7734, 7705, 6932, 6996, 9108, 9643, 8740, 3874, 1693, 6505, 612, 1571, 4225, 2357, 5487, 2266, 8613, 5624, 7737, 8896, 6718, 7965, 9127, 2550, 308, 8209, 1698, 4504, 664, 7847, 685, 5861, 998, 3269, 7821, 4155, 3882, 2599, 5790, 6655, 8255, 4751, 5244, 8441, 583, 6717, 4670, 6239, 7454, 3275, 5323, 325, 174, 6207, 2583, 6949, 707, 8934, 3966, 5699, 1366, 3375, 2262, 4649, 434, 1469, 361, 2915, 7634, 1873, 6042, 2606, 4884, 8443, 1168, 6374, 361, 659, 7597, 5064, 7936, 4465, 1247, 8793, 3284, 1247, 7439, 2550, 8939, 532, 209, 7590, 8624, 3674, 714, 8728, 4459, 8511, 8659, 9341, 2300, 7372, 5675, 3927, 409, 4920, 2944, 1843, 3876, 176, 7274, 344, 7919, 7214, 8373, 203, 9396, 8926, 6166, 5066, 8807, 7123, 6388, 3901, 1050, 4230, 3422, 286, 5716, 755, 4907, 647, 8935, 3301, 2489, 5297, 9887, 707, 4048, 9474, 2724, 1314, 538, 6739, 3451, 8069, 771, 1699, 426, 1913, 1504, 3336, 2893, 997, 2375, 5787, 8053, 9904, 2197, 1268, 9731, 598, 5085, 6806, 3349, 1390, 4348, 2318, 2342, 9977, 2190, 623, 677, 8347, 2174, 7466, 927, 7832, 1290, 7557, 625, 2534, 8557, 4255, 5265, 57, 3253, 205, 9180, 4018, 6477, 3480, 2528, 7096, 2386, 728, 2810, 8540, 4135, 2607, 6890, 8457, 1793, 9600, 1683, 5295, 7663, 3349, 5699, 3046, 3032, 1132, 1948, 1358, 272, 2991, 6684, 3737, 5007, 8514, 5261, 6543, 5210, 9892, 1801, 4582, 5300, 4748, 3295, 7433, 8097, 6121, 7055, 8158, 8454, 3132, 4617, 755, 3442, 1168, 3947, 5694, 237, 6916, 7988, 7989, 4103, 8083, 5583, 9467, 8557, 4960, 8449, 4863, 4853, 2881, 5378, 3800, 3621, 8909, 8347, 4586, 7225, 1629, 9, 8231, 7773, 8981, 3722, 4877, 3848, 6719, 8002, 6802, 1816, 9843, 7150, 8197, 8576, 9959, 912, 5122, 7198, 8894, 3267, 6400, 8130, 1072, 972, 2614, 2369, 7829, 2143, 761, 6498, 6423, 3367, 2365, 9546, 1615, 7464, 6844, 6612, 9017, 2510, 1673, 1293, 3539, 8718, 348, 4436, 4865, 7691, 1858, 3088, 2072, 3642, 7941, 8501, 4232, 7707, 4130, 6460, 7349, 1670, 7829, 2175, 8299, 5724, 3964, 962, 2654, 9513, 9118, 4890, 6344, 6751, 7743, 5886, 8695, 8102, 4963, 7886, 4394, 1468, 5639, 7363, 3650, 5498, 5034, 6913, 3364, 2936, 2145, 9589, 3899, 9051, 2382, 3116, 4779, 5416, 7210, 1146, 5038, 4684, 481, 4764, 5639, 7133, 6175, 5499, 2758, 7495, 4239, 7254, 6639, 132, 3666, 5118, 6712, 930, 6013, 8522, 2301, 3038, 3479, 8133, 7246, 8240, 4153, 2007, 1016, 949, 6594, 2138, 1769, 113, 3801, 2464, 447, 2784, 2315, 4861, 6140, 9115, 6482, 895, 3390, 1275, 6252, 3201, 235, 2499, 783, 6258, 6517, 4628, 1566, 6679, 3247, 8669, 6520, 4561, 5245, 3330, 9986, 966, 9414, 4623, 2920, 1934, 900, 5326, 7776, 7969, 5611, 7100, 6642, 3714, 2041, 3106, 1736, 9420, 8956, 1050, 9019, 4009, 5333, 8093, 6593, 6956, 4522, 2480, 6137, 8986, 4016, 6448, 2532, 7920, 6682, 47, 6545, 8170, 4375, 1779, 1845, 1451, 8392, 1323, 4495, 6242, 7173, 4221, 4684, 5264, 5978, 8594, 9554, 7755, 705, 8242, 9075, 5810, 20, 8451, 9063, 8585, 6190, 321, 9544, 8251, 5670, 2787, 8546, 5907, 1885, 4167, 3591, 177, 9638, 586, 7124, 9391, 9702, 359, 1918, 1261, 2285, 3535, 4128, 8915, 6868, 5347, 2850, 1748, 1630, 9946, 5596, 6097, 7047, 4397, 9021, 3703, 7712, 6939, 5407, 6483, 723, 1069, 7311, 7014, 3157, 4620, 7743, 4540, 7359, 3388, 1622, 2795, 271, 8303, 474, 4572, 7666, 5567, 1246, 5718, 1698, 8752, 9582, 8859, 8462, 2161, 4650, 6372, 9776, 7978, 2000, 5894, 2744, 4594, 9072, 4205, 1975, 2048, 1706, 993, 3146, 9932, 3519, 1974, 8824, 5251, 7512, 8617, 5364, 4168, 9389, 9757, 7160, 3563, 6823, 5814, 3739, 3790, 5767, 8161, 9508, 7156, 2015, 617, 2795, 6706, 7347, 2771, 9610, 1435, 7519, 4242, 9074, 5816, 3325, 8916, 6642, 142, 6726, 6900, 2720, 8568, 9970, 4338, 784, 3061, 6155, 4861, 4815, 3695, 1624, 2704, 3099, 2361, 5556, 4376, 9612, 9737, 6942, 1392, 2695, 4468, 4933, 988, 9539, 8982, 9160, 8739, 8700, 5905, 8632, 8410, 9164, 739, 5359, 426, 3879, 7219, 5017, 7342, 3344, 3470, 5530, 6148, 286, 1764, 8024, 6976, 7540, 8193, 5221, 3092, 3299, 5211, 2630, 9864, 3670, 4803, 4842, 5542, 2805, 8160, 7826, 4531, 7584, 24, 8962, 2535, 7603, 4110, 9560, 728, 2825, 3023, 4065, 6039, 1003, 1050, 6083, 3044, 7106, 8661, 3477, 1080, 4674, 5721, 2429, 7397, 1782, 2867, 4558, 7421, 5832, 1770, 7207, 4937, 2062, 3819, 9102, 8627, 7242, 1639, 5159, 3837, 2018, 3314, 4772, 7162, 3201, 2032, 2513, 8982, 3942, 7576, 6434, 4402, 7769, 3901, 3461, 8292, 7945, 7732, 7782, 6281, 6188, 8058, 4925, 281, 2070, 453, 2071, 4555, 9643, 6606, 1768, 533, 1289, 7979, 211, 3219, 4766, 1287, 6734, 3592, 1559, 9091, 4917, 6029, 2572, 7071, 6775, 3556, 8561, 363, 1906, 7665, 7091, 7948, 1655, 7859, 6738, 9033, 7995, 4978, 3330, 2436, 4544, 9346, 9714, 245, 2182, 5912, 3334, 3883, 6887, 595, 8112, 9379, 4138, 4396, 5420, 9060, 9852, 950, 6181, 1461, 757, 3583, 4385, 8417, 7967, 7938, 5421, 6402, 3263, 1790, 6435, 9046, 7378, 7651, 6989, 4297, 1555, 8938, 640, 9259, 1195, 9861, 8932, 8026, 9484, 5171, 8334, 1392, 4296, 462, 4199, 4398, 9810, 4980, 6443, 6568, 8316, 5555, 939, 2019, 4473, 9013, 3626, 1912, 5839, 9114, 5531, 3296, 7387, 9836, 1357, 8660, 7783, 4671, 5914, 6834, 6534, 1551, 4464, 1907, 8251, 2578, 4485, 5176, 9966, 8981, 5586, 5857, 6406, 2542, 1821, 1011, 4343, 5626, 6782, 7988, 8372, 2981, 2047, 4236, 7596, 5570, 7489, 1612, 1155, 3039, 9261, 8523, 9218, 6258, 5759, 7845, 2300, 4101, 2421, 4149, 8806, 464, 7907, 1363, 5396, 8497, 36, 7455, 2595, 6994, 1161, 945, 6680, 3631, 9816, 7668, 5861, 9737, 6514, 1916, 4307, 1620, 9957, 8942, 4125, 8363, 7410, 7678, 2285, 3945, 6875, 3290, 9510, 4149, 8073, 6933, 191, 4930, 6270, 3672, 5766, 4894, 4223, 1057, 8223, 974, 2634, 7816, 6363, 3567, 7517, 1696, 1304, 9280, 6158, 1144, 6571, 6604, 924, 1525, 8008, 1683, 141, 6618, 8614, 8731, 6724, 3796, 5032, 5070, 8681, 3124, 6073, 6635, 6518, 8504, 8183, 6292, 9371, 1899, 5809, 6696, 7502, 9434, 6451, 5498, 7004, 7089, 4339, 4255, 5233, 4985, 4529, 1831, 7506, 983, 370, 2965, 6793, 323, 5899, 6027, 5786, 8003, 4395, 6102, 6662, 8257, 9147, 2904, 7771, 2661, 7752, 1014, 8692, 671, 5422, 2502, 6909, 6177, 107, 9358, 6908, 3257, 2373, 624, 3853, 2981, 8688, 6873, 7765, 8869, 4968, 9394, 9464, 2106, 300, 388, 156, 2945, 2524, 2681, 5665, 4621, 8880, 7090, 7964, 5529, 380, 7595, 8210, 3013, 2469, 2305, 1344, 5537, 717, 7893, 7428, 703, 525, 282, 6543, 156, 1054, 2777, 2951, 971, 170, 83, 8886, 7437, 3233, 8131, 8429, 2266, 9546, 1176, 2162, 1233, 5875, 8327, 3898, 2767, 4479, 3617, 2222, 7231, 4704, 5953, 7858, 3804, 2729, 5614, 3901, 7718, 3302, 5892, 631, 5956, 2625, 8924, 2904, 8694, 5509, 1979, 1839, 5790, 8958, 7404, 5764, 3548, 3362, 7642, 514, 5268, 4761, 6977, 6860, 2223, 4557, 1305, 6569, 9936, 6299, 938, 4769, 8490, 6726, 1330, 6201, 8294, 6858, 9599, 9212, 9293, 4928, 359, 3022, 9621, 1527, 7552, 4403, 2199, 1364, 872, 70, 5482, 3162, 6648, 3946, 1116, 4310, 2239, 7064, 3790, 1375, 425, 1027, 1703, 4228, 8870, 3727, 2083, 3834, 1619, 4803, 6169, 4664, 8175, 4131, 5611, 2040, 2323, 3800, 0, 9772, 4110, 2937, 5387, 1230, 8597, 4743, 3944, 9062, 1145, 4093, 787, 4023, 8300, 5937, 721, 5880, 8685, 7351, 4531, 3240, 8361, 5735, 5364, 5278, 9081, 7630, 2150, 6788, 3954, 9235, 6372, 4140, 4810, 4608, 6965, 7824, 5691, 5750, 2177, 164, 5647, 458, 2323, 7782, 7629, 9365, 9544, 1498, 9329, 1686, 1200, 2992, 5297, 2710, 9684, 8173, 570, 9285, 6179, 5863, 1567, 7258, 4889, 7262, 8259, 7558, 9091, 4431, 3635, 9223, 186, 8747, 2671, 6481, 4820, 2911, 5682, 6172, 9635, 1037, 3569, 1328, 5210, 4510, 8231, 418, 4417, 5053, 5183, 3574, 8008, 1922, 4570, 1950, 4638, 6469, 5741, 9191, 1891, 3023, 8111, 2209, 8094, 642, 1481, 9749, 3208, 746, 5550, 1889, 809, 8353, 4214, 1335, 5306, 4899, 6878, 3647, 3919, 1144, 7264, 5981, 8329, 7941, 5770, 8975, 9822, 6820, 8014, 8856, 2836, 8024, 2628, 6758, 6013, 2278, 5336, 8288, 4077, 8, 533, 936, 9070, 5939, 4661, 481, 6540, 68, 4758, 2328, 6927, 7769, 290, 1339, 3939, 3310, 954, 1173, 9243, 509, 3885, 2157, 7809, 3163, 4253, 2311, 218, 6965, 6799, 311, 3650, 2409, 4295, 4524, 555, 7090, 4665, 6983, 5634, 8157, 619, 9328, 1038, 9112, 1456, 5584, 13, 1242, 327, 3467, 2019, 2646, 3465, 9938, 379, 4509, 3432, 9825, 933, 8568, 4543, 8940, 7862, 6703, 1251, 6610, 1371, 9176, 5715, 7989, 691, 3156, 3753, 3850, 6289, 2508, 8349, 5834, 8675, 3067, 4335, 5074, 4907, 6163, 903, 7320, 861, 2108, 1828, 3919, 2608, 16, 1635, 9731, 5602, 6219, 9792, 8107, 7366, 1504, 8101, 2477, 3186, 1865, 2603, 925, 891, 7020, 8500, 7066, 4200, 4302, 7628, 499, 7433, 4683, 2300, 4879, 761, 1061, 2972, 8519, 2555, 8167, 8788, 3284, 2111, 6922, 3650, 1529, 3958, 9433, 2738, 5501, 3523, 376, 4670, 9211, 9321, 4664, 1557, 1466, 8774, 7826, 1250, 1458, 5576, 204, 5368, 8582, 9222, 6621, 5371, 9352, 6968, 8114, 8642, 4883, 1817, 6703, 7593, 190, 840, 7786, 7164, 6973, 9063, 5689, 3298, 5463, 6699, 5015, 2844, 5786, 2633, 543, 787, 1562, 1115, 3501, 8259, 6094, 8803, 5521, 7549, 3442, 3463, 1692, 6068, 1770, 5603, 6921, 2490, 1024, 8550, 3864, 4391, 4731, 526, 9995, 7472, 5431, 1642, 8907, 3648, 6934, 1353, 3973, 3594, 9470, 7364, 9054, 6857, 8379, 2437, 6407, 6844, 1847, 2853, 8717, 5967, 9869, 843, 4326, 719, 2926, 50, 5362, 1252, 8280, 7945, 5214, 7068, 8777, 4932, 110, 544, 1466, 7818, 4722, 8278, 6463, 6237, 5604, 5025, 3674, 7541, 6179, 7231, 9617, 2458, 5880, 2176, 840, 7638, 3263, 4385, 3168, 749, 7840, 708, 6484, 4094, 7473, 7413, 4741, 5205, 5914, 3197, 3656, 9169, 7764, 3139, 7879, 9511, 4532, 7007, 8388, 5958, 6077, 568, 9248, 9915, 9397, 231, 6743, 7738, 6665, 6088, 3288, 7030, 955, 115, 1440, 2867, 2432, 9819, 4843, 8344, 2996, 7213, 9013, 6903, 5008, 4624, 8821, 4625, 1708, 6290, 9243, 8369, 9909, 647, 8840, 8165, 4320, 9371, 2500, 6701, 5480, 9706, 6205, 5297, 287, 4361, 7817, 1434, 165, 1322, 5001, 8383, 429, 4058, 8285, 9328, 4033, 5751, 3488, 8777, 315, 1297, 2663, 1307, 8324, 4471, 9388, 5043, 7247, 495, 3139, 3355, 3579, 5899, 4306, 1782, 6030, 4556, 9764, 4167, 2274, 453, 4679, 809, 4228, 2766, 6792, 3053, 3477, 8942, 841, 6293, 729, 1216, 3090, 5256, 8888, 411, 4178, 3522, 6576, 3652, 2765, 7921, 5714, 5740, 6199, 7674, 5059, 4515, 2810, 4412, 5995, 7360, 3850, 841, 7059, 4585, 6775, 7166, 6620, 2874, 6407, 444, 1982, 7024, 7423, 8521, 4522, 2340, 8035, 2040, 3478, 9763, 5043, 4281, 389, 623, 954, 847, 9354, 2735, 3380, 366, 1698, 794, 6736, 9076, 6308, 3797, 4690, 549, 119, 1267, 3373, 8604, 8324, 2611, 5591, 4352, 3522, 3563, 6181, 7911, 3391, 7584, 2140, 2771, 480, 257, 4560, 6848, 2743, 6224, 6321, 4936, 2143, 4278, 966, 8624, 657, 3834, 5689, 3738, 2860, 8113, 7703, 7861, 6874, 8863, 1510, 9193, 5117, 7987, 8562, 7875, 8027, 1191, 3554, 8931, 4963, 6683, 5976, 8070, 6243, 2508, 3768, 4197, 7173, 9487, 8620, 6864, 2174, 2244, 6530, 9754, 2915, 8811, 3135, 5080, 4998, 4616, 5321, 3908, 559, 6200, 7691, 1165, 3095, 3362, 5129, 3997, 5334, 4719, 9393, 3334, 6262, 3799, 2718, 1865, 3319, 2438, 7145, 6449, 3734, 1658, 538, 7102, 1065, 8773, 1590, 756, 8720, 127, 9331, 2785, 7910, 9882, 6128, 9803, 5303, 7354, 5538, 2498, 9458, 3958, 7140, 6097, 9827, 8998, 3994, 6322, 7643, 6590, 891, 7938, 4697, 7331, 7347, 6159, 9448, 7800, 2977, 2799, 1992, 990, 9062, 9580, 3795, 2075, 500, 5897, 2724, 4175, 3294, 5532, 9823, 4547, 6522, 2673, 9463, 4638, 9948, 7909, 3173, 6244, 8363, 9295, 7497, 8129, 1816, 8760, 4611, 910, 8071, 413, 168, 41, 6561, 9708, 190, 7654, 2446, 5507, 9731, 5348, 8707, 5477, 2283, 1178, 7357, 3274, 3553, 4738, 1315, 4858, 4313, 9693, 383, 557, 6, 7083, 604, 1924, 4768, 5725, 7640, 8803, 3789, 1120, 8656, 3518, 7645, 7447, 412, 9097, 8318, 1055, 1601, 4500, 6014, 2672, 9868, 274, 9117, 5954, 9297, 3554, 2599, 6504, 6371, 5436, 2523, 7250, 2122, 852, 221, 1864, 3601, 4138, 2600, 8114, 5316, 4722, 8841, 7660, 9159, 264, 3998, 3775, 7276, 2398, 5602, 3012, 4373, 9252, 4037, 8835, 9013, 8258, 8517, 8682, 3947, 6028, 112, 3444, 9753, 3350, 5489, 3278, 8784, 7787, 6169, 7925, 9735, 4734, 7207, 2679, 4329, 6981, 4965, 8606, 9874, 2630, 3002, 9201, 1007, 6919, 2867, 1625, 7924, 7592, 2318, 5648, 3474, 1198, 7723, 8852, 2648, 8848, 5009, 8159, 3318, 236, 6791, 2020, 311, 2727, 6590, 9286, 5796, 906, 4461, 9091, 7142, 6010, 8359, 8051, 5159, 7682, 7750, 9437, 4508, 3801, 9467, 2959, 700, 530, 8830, 2891, 439, 8162, 2495, 2558, 7027, 9828, 4882, 3738, 7188, 4597, 3549, 9890, 7984, 7244, 5885, 1308, 2501, 2185, 5451, 1712, 6110, 7416, 7658, 4661, 3858, 6719, 6940, 3091, 9406, 4378, 5594, 1413, 3521, 1370, 3556, 1995, 2111, 6921, 8907, 4032, 8936, 8955, 3015, 3887, 1907, 9588, 6621, 2884, 7446, 8359, 3506, 4571, 2384, 2179, 4616, 7862, 7972, 9170, 999, 5520, 3886, 4383, 5371, 2646, 8140, 4764, 6890, 2849, 3614, 1180, 9263, 8508, 4083, 4676, 1064, 5162, 5646, 2800, 7506, 4360, 2208, 5339, 4869, 5097, 28, 6226, 850, 4695, 4782, 7346, 5937, 2936, 3742, 677, 7249, 4243, 9414, 2444, 8879, 2474, 9920, 2940, 521, 494, 4696, 9924, 7134, 5053, 5966, 8963, 8075, 3276, 7442, 3462, 1410, 4327, 1843, 3845, 5047, 7974, 6623, 4063, 972, 3447, 5066, 7766, 2206, 4943, 4702, 7469, 5104, 2015, 2224, 5515, 9345, 5499, 4458, 7293, 8949, 8600, 7038, 1487, 6422, 3070, 1055, 7377, 6975, 1559, 7968, 2765, 8873, 6048, 9935, 733, 5034, 251, 9882, 1998, 4239, 3328, 4734, 1530, 6934, 8845, 7260, 9757, 6688, 3690, 9698, 562, 4543, 7029, 1384, 9748, 9763, 9915, 4366, 3964, 1720, 7153, 1019, 9952, 8830, 8272, 2729, 8445, 2026, 4975, 778, 8171, 1365, 5272, 5688, 1973, 7520, 7045, 504, 3989, 3120, 2027, 3575, 6171, 8142, 7745, 4777, 195, 3198, 9724, 3763, 5075, 8224, 490, 6341, 2433, 8094, 1060, 4536, 3199, 1764, 6197, 430, 3726, 8736, 2697, 141, 8371, 5709, 3660, 5045, 2727, 9244, 6334, 3641, 7987, 1581, 272, 2796, 6625, 1928, 2839, 719, 9928, 1419, 5712, 6995, 3125, 191, 6939, 7525, 2564, 2303, 9999, 3389, 2456, 7534, 5387, 211, 9363, 6983, 4818, 3472, 276, 2827, 7558, 2584, 277, 4822, 9488, 7801, 4886, 7067, 3838, 9702, 3485, 8687, 3419, 1503, 3731, 1916, 7015, 6658, 1339, 6305, 7974, 1154, 941, 3148, 2223, 1096, 3443, 328, 669, 5748, 240, 9078, 3692, 1139, 9257, 3967, 5151, 4727, 4119, 9747, 9881, 2784, 3985, 9576, 7405, 6471, 6958, 610, 4323, 2935, 2280, 6804, 8587, 3832, 7283, 2651, 8066, 5568, 224, 133, 2524, 2886, 899, 79, 5322, 1233, 5079, 5309, 1273, 891, 3438, 9073, 1133, 148, 5599, 1237, 7453, 1678, 8829, 5544, 3851, 2160, 305, 4791, 342, 5171, 7241, 6460, 3023, 765, 4672, 9924, 863, 8260, 642, 2259, 1925, 7203, 3771, 2161, 1625, 1487, 3544, 7324, 3175, 5290, 9269, 3267, 9224, 3858, 5252, 7589, 4348, 5303, 4364, 2842, 8707, 6738, 9162, 1924, 9706, 932, 9620, 6160, 7706, 9145, 4652, 9597, 5783, 5755, 9426, 9084, 7908, 2809, 5566, 4555, 5288, 4269, 8277, 9969, 6003, 5546, 9690, 2691, 4399, 3973, 2532, 1656, 566, 858, 3199, 2286, 1489, 9493, 4014, 7562, 4774, 2037, 8550, 3909, 1536, 6994, 5537, 5875, 1892, 2040, 8172, 2487, 4934, 9049, 8551, 7199, 3839, 7782, 2591, 8532, 8581, 9468, 1193, 6475, 1554, 5425, 1798, 498, 5098, 5340, 6955, 2634, 9490, 9505, 3218, 3015, 3622, 1951, 6383, 4191, 560, 4776, 2423, 1185, 553, 4653, 157, 8259, 326, 2173, 4330, 3044, 4335, 3204, 9429, 5854, 6604, 7914, 7062, 3896, 2360, 4521, 9128, 9092, 9324, 3425, 2890, 3562, 7582, 190, 4922, 3049, 6787, 2466, 339, 9196, 3526, 4816, 3241, 5205, 4249, 7702, 4836, 9270, 7032, 8146, 2768, 9126, 129, 535, 158, 791, 5682, 2319, 7586, 4633, 8430, 940, 4366, 3422, 8911, 1803, 9109, 278, 9716, 5344, 9616, 8604, 5021, 4718, 3208, 6793, 3413, 7674, 8858, 2223, 5293, 3653, 1235, 7987, 7008, 758, 7585, 8754, 7951, 5674, 6884, 5669, 1478, 1823, 5136, 8176, 2606, 8715, 4621, 6341, 6675, 4557, 8759, 3019, 496, 9704, 4470, 9980, 8027, 8109, 4073, 5159, 2533, 8635, 7816, 7905, 2862, 4233, 5895, 606, 8547, 7699, 4672, 1476, 3110, 6923, 387, 1303, 9298, 1161, 5744, 4262, 8572, 1835, 8349, 7227, 361, 2545, 5097, 8437, 4893, 2951, 8350, 8898, 2294, 967, 3715, 7936, 5712, 772, 1084, 8534, 9014, 3117, 7993, 1007, 5762, 7064, 8637, 6975, 3875, 7498, 9012, 129, 1051, 2244, 3487, 6669, 7475, 9659, 419, 5712, 8837, 9171, 7585, 3565, 1321, 3630, 3439, 1424, 8529, 8105, 7121, 2327, 3367, 424, 7437, 1294, 9251, 6470, 4251, 634, 6371, 4100, 2434, 3645, 908, 8174, 4675, 1081, 2149, 8004, 199, 2509, 9675, 8395, 3269, 7215, 5630, 6711, 1450, 4318, 1375, 7945, 7982, 5016, 1969, 7723, 4878, 2555, 5976, 6158, 8586, 6209, 2309, 8328, 2648, 2185, 3571, 6333, 1893, 690, 6266, 750, 5340, 8573, 5206, 2029, 7881, 6123, 8387, 7087, 8470, 1234, 5113, 3570, 2458, 9857, 7203, 8458, 5235, 4861, 7143, 3469, 1137, 7868, 4587, 6725, 1620, 4943, 160, 2382, 3975, 129, 695, 3920, 7005, 3266, 7070, 6630, 7314, 631, 717, 737, 1888, 8346, 2119, 8249, 6360, 4423, 2826, 8974, 8433, 6022, 2400, 6176, 4379, 8964, 6492, 2216, 3747, 7409, 6040, 4627, 2897, 2760, 8, 2236, 9385, 9985, 4716, 2977, 6403, 4579, 547, 8421, 6027, 397, 9081, 6388, 1005, 9607, 1512, 7799, 722, 353, 951, 1813, 8312, 7622, 9155, 3499, 4765, 6049, 9186, 6484, 3160, 7737, 5676, 4733, 9701, 1392, 3339, 8012, 6067, 4311, 6262, 9789, 3885, 4264, 3632, 1054, 8507, 1681, 8946, 5030, 5689, 2445, 7943, 4384, 1118, 4959, 4081, 1491, 9538, 2530, 2118, 9031, 8710, 1890, 4080, 6476, 1518, 1913, 9168, 9736, 9672, 6409, 8937, 2757, 3955, 6834, 8424, 2522, 2764, 4031, 8446, 4893, 5953, 7734, 8971, 6393, 8351, 7263, 6217, 2017, 2336, 8393, 7678, 787, 9205, 1511, 3625, 6975, 120, 3716, 2146, 8460, 9000, 5089, 215, 7091, 759, 6298, 9565, 5285, 3806, 7871, 5481, 2650, 9502, 5136, 4882, 9438, 4172, 1309, 8372, 7525, 676, 6775, 6859, 8371, 1276, 708, 8715, 3284, 1601, 340, 1357, 4257, 7260, 1250, 6586, 9241, 189, 5709, 9901, 8386, 3086, 8027, 9145, 1746, 9, 2384, 4157, 3328, 6391, 1223, 2527, 1660, 343, 9845, 8046, 8423, 7389, 8862, 530, 8631, 6248, 3821, 785, 1655, 227, 2137, 6994, 5211, 7770, 6215, 8944, 9498, 3102, 8845, 2625, 1981, 9869, 9204, 819, 4716, 2359, 672, 4199, 5585, 5639, 6402, 8636, 4281, 9261, 1211, 4901, 7879, 2770, 8558, 3844, 6189, 8256, 7112, 531, 6813, 3994, 6766, 1284, 3583, 2297, 251, 4538, 3331, 5466, 2945, 733, 4722, 5878, 8466, 8208, 239, 8935, 7320, 3364, 5141, 9327, 9525, 5452, 8742, 457, 2443, 5568, 1256, 1825, 2588, 9890, 2583, 4311, 486, 4276, 3645, 7853, 1930, 5870, 6497, 9762, 9178, 6882, 1578, 8024, 3164, 4834, 8115, 4607, 5289, 9635, 2086, 6611, 4716, 2307, 8815, 7441, 1719, 1732, 803, 2788, 4543, 9937, 1068, 3186, 5116, 4979, 7131, 9383, 7955, 6230, 2899, 4441, 5513, 3558, 6155, 4407, 3202, 8459, 9302, 9287, 9938, 292, 5732, 2024, 2080, 1960, 6720, 6833, 7436, 6571, 6546, 6060, 62, 7462, 7395, 1331, 3310, 4572, 3835, 3026, 9049, 5698, 9900, 4469, 1789, 7545, 904, 8151, 9283, 3440, 4554, 7874, 8754, 2264, 9746, 167, 2941, 1493, 1211, 9269, 1227, 9812, 8373, 3971, 2049, 9379, 244, 9317, 3678, 3495, 1608, 7572, 6354, 4682, 5879, 8903, 5169, 4938, 3487, 8020, 818, 4734, 3692, 3730, 6231, 1568, 7588, 2623, 6449, 2109, 5007, 762, 5201, 7290, 8148, 6200, 4530, 8942, 7428, 486, 7256, 2776, 9820, 7710, 12, 7195, 4511, 2578, 4698, 8619, 763, 1264, 1516, 2575, 1549, 5725, 5031, 9876, 5654, 2137, 8206, 1398, 3755, 4265, 3790, 6572, 1087, 9148, 5156, 6399, 2048, 8384, 7601, 415, 4964, 1625, 4710, 1889, 4840, 1983, 5183, 9928, 5084, 8939, 7979, 3488, 7229, 9942, 8727, 1123, 629, 3867, 7592, 4992, 4181, 3646, 7701, 15, 7537, 1034, 2298, 2009, 8973, 9084, 6035, 4728, 6517, 9036, 1040, 3552, 6063, 5119, 1255, 6716, 9115, 8753, 1453, 6463, 4416, 1643, 6583, 506, 679, 1542, 9346, 5567, 378, 1143, 1530, 9322, 7097, 5627, 5658, 6462, 3896, 7234, 9826, 1315, 3544, 3036, 3901, 5012, 1840, 8915, 7810, 8493, 1728, 5332, 9767, 4123, 4124, 7915, 4048, 818, 2617, 4532, 5389, 7406, 4324, 1975, 7051, 6366, 3111, 5004, 9878, 8177, 4881, 8437, 8015, 3712, 2917, 5465, 6169, 369, 7584, 2745, 213, 4085, 3447, 5933, 8768, 4402, 7764, 41, 4625, 5301, 7340, 4234, 3103, 1245, 5179, 981, 642, 5841, 1322, 7881, 5734, 6480, 4741, 8159, 7587, 8916, 235, 7968, 2620, 7600, 730, 9139, 9335, 6603, 4296, 8551, 2328, 9784, 3710, 3516, 1741, 7701, 3663, 8609, 8056, 6850, 7012, 5989, 5688, 9760, 8208, 1525, 4133, 4729, 3576, 229, 3501, 5287, 5226, 1682, 2046, 5960, 3519, 7968, 5724, 7007, 5391, 8072, 8690, 2655, 2230, 9291, 5012, 837, 7968, 799, 7687, 6535, 5415, 4093, 7592, 6421, 2669, 3589, 4831, 4194, 6962, 854, 4730, 7400, 9781, 4471, 247, 4687, 1259, 7566, 3717, 9340, 4479, 6254, 6842, 669, 855, 1684, 1478, 5621, 2399, 7513, 632, 8047, 2184, 2054, 2535, 3776, 4039, 7692, 7094, 2890, 9314, 7282, 3551, 1878, 1072, 2217, 4637, 7812, 2804, 8965, 48, 291, 8177, 595, 8205, 4833, 3404, 5987, 9593, 6025, 5484, 3558, 1951, 8844, 3154, 5177, 2654, 8952, 4840, 1166, 6552, 3529, 1988, 4710, 3242, 5404, 9549, 1932, 317, 4695, 6990, 7779, 4456, 3892, 8885, 4267, 9832, 876, 3236, 6204, 845, 3628, 7987, 2856, 6660, 9747, 6003, 5317, 8423, 7100, 6594, 2624, 2008, 4928, 3337, 3972, 2339, 4109, 7589, 4171, 5749, 6714, 7414, 4962, 730, 8564, 2840, 2587, 6369, 805, 8016, 858, 7438, 2686, 3858, 3544, 8003, 403, 1367, 2312, 4257, 1889, 4252, 432, 1473, 4070, 9297, 3132, 3624, 3406, 3828, 6359, 9431, 5386, 1604, 5058, 3458, 2602, 367, 9970, 5980, 7374, 1825, 5346, 24, 4715, 5784, 8135, 9710, 3452, 1524, 22, 7191, 2152, 5336, 6444, 7988, 3253, 7505, 9128, 2494, 3046, 2848, 5382, 4748, 2594, 8933, 2634, 1774, 5778, 7654, 7504, 8090, 5989, 2123, 907, 4166, 8255, 951, 6497, 5680, 9016, 1284, 6834, 6291, 7554, 8873, 7092, 8064, 413, 7282, 8449, 2685, 7445, 8091, 1995, 1818, 3153, 8136, 6264, 1886, 3379, 622, 9994, 1841, 9081, 3283, 5312, 5943, 4967, 5974, 7668, 1858, 8166, 6744, 9556, 2903, 2327, 6703, 9664, 5576, 9638, 7904, 9095, 5808, 4209, 2502, 6754, 4088, 2476, 2274, 2363, 2894, 5293, 3141, 16, 1619, 5272, 1800, 6785, 3467, 9105, 1690, 6468, 621, 3813, 9868, 6735, 3187, 3812, 6972, 1828, 2635, 9492, 3879, 673, 144, 9707, 4832, 6167, 8989, 8671, 8253, 9048, 5052, 8091, 816, 2426, 4148, 5234, 4887, 2829, 1516, 4763, 5171, 6154, 5297, 3234, 124, 3624, 7308, 6089, 9446, 9657, 5240, 3406, 9880, 8376, 8637, 2507, 207, 2560, 1548, 5070, 2503, 4191, 4426, 9732, 2206, 1124, 5928, 8215, 2596, 2488, 8201, 482, 6751, 2860, 7049, 5002, 1306, 1684, 3559, 2908, 3053, 6522, 4409, 2492, 6927, 3892, 6280, 8577, 6509, 960, 5615, 175, 6720, 1173, 1895, 4748, 9007, 2460, 8439, 9663, 8248, 7813, 4423, 8431, 956, 5133, 6629, 4193, 3618, 9456, 3866, 1794, 2095, 7270, 626, 5344, 8524, 5464, 2339, 9647, 2814, 6450, 9336, 6843, 4088, 8500, 1585, 5640, 543, 9479, 3093, 7681, 6033, 2827, 6587, 9236, 1020, 8855, 1698, 9002, 5619, 9817, 1329, 3904, 747, 4699, 9998, 6824, 7103, 6003, 277, 5427, 1184, 6990, 151, 829, 233, 1132, 5989, 8007, 5068, 5028, 4050, 2115, 4713, 7347, 4790, 5695, 8219, 4966, 4840, 6445, 9294, 5265, 1902, 1173, 3004, 7047, 2672, 5026, 998, 6004, 3756, 5796, 7834, 1854, 1747, 3180, 1584, 5743, 1694, 600, 3099, 351, 6247, 2571, 5751, 5882, 9047, 7267, 1430, 3286, 1370, 4891, 7518, 5928, 1653, 451, 6895, 3578, 8349, 4141, 7394, 4413, 7177, 754, 1903, 9182, 8223, 8118, 2225, 3384, 9129, 7363, 6476, 8187, 2194, 4435, 4327, 9492, 8685, 3169, 3771, 7854, 2037, 2266, 2298, 1251, 4517, 6381, 976, 5000, 2215, 5085, 4585, 9697, 6608, 4800, 3125, 2642, 572, 7086, 3497, 1160, 6374, 8561, 5541, 4850, 7220, 3047, 1003, 3769, 7654, 3774, 567, 4592, 6543, 1831, 861, 3688, 4138, 6520, 9926, 1180, 1161, 7446, 4115, 1593, 177, 3540, 9983, 8117, 5267, 8373, 4304, 9025, 2905, 2004, 2536, 7514, 834, 2363, 2177, 8803, 3236, 63, 2418, 5892, 7998, 8125, 660, 9601, 2520, 4142, 8048, 8699, 7180, 3012, 2161, 7838, 904, 9557, 9029, 5451, 4811, 7099, 9883, 6324, 2980, 3295, 3124, 7226, 5544, 3482, 8882, 9908, 5830, 7267, 3381, 8980, 3401, 3889, 3913, 8196, 5379, 885, 7063, 6287, 1556, 9466, 1345, 625, 5364, 4770, 9616, 7374, 7627, 4425, 5018, 1197, 215, 8966, 7374, 2223, 4819, 6642, 522, 6536, 4199, 6507, 8313, 2476, 5022, 9914, 657, 4401, 9594, 9379, 8873, 5094, 8170, 8417, 5399, 179, 9000, 9711, 5527, 5811, 2500, 4569, 7907, 2858, 6190, 6441, 1061, 185, 2291, 2808, 3114, 5034, 5980, 8515, 5043, 2858, 4147, 1790, 9095, 7272, 6520, 3545, 5373, 2296, 1489, 3534, 1881, 60, 3448, 6158, 3215, 1630, 93, 839, 3476, 43, 702, 4133, 6170, 5226, 3225, 4345, 5340, 6804, 5303, 1298, 341, 114, 7413, 3369, 217, 3414, 4314, 6295, 1004, 7382, 2794, 978, 3063, 2079, 5216, 6233, 4900, 5247, 3030, 2730, 1694, 6565, 7121, 7638, 3707, 214, 2498, 4578, 4682, 2618, 1005, 2307, 758, 808, 6430, 7225, 8702, 4418, 8010, 5656, 1779, 5945, 5182, 2604, 577, 7567, 1912, 3013, 1424, 3578, 447, 2958, 4482, 8009, 4213, 3256, 7621, 1382, 2678, 8983, 9284, 7978, 6290, 2266, 7957, 5372, 4330, 493, 6041, 9380, 272, 8378, 5492, 4903, 4922, 1682, 2078, 5624, 6893, 5716, 3333, 9863, 7552, 873, 2685, 2950, 1531, 6662, 5627, 6974, 6939, 1115, 9099, 4249, 8967, 6944, 9354, 5535, 6299, 9474, 5266, 6214, 4866, 803, 522, 2707, 6116, 2857, 367, 9889, 7011, 9724, 8489, 363, 2830, 2705, 4486, 8098, 6956, 3838, 7771, 6304, 8639, 1342, 925, 140, 8305, 5140, 6782, 7511, 79, 7302, 904, 2426, 864, 8429, 4460, 9411, 6214, 4065, 1215, 835, 3340, 1225, 513, 9564, 8001, 1021, 9933, 3432, 2962, 6598, 2549, 6005, 2422, 5999, 459, 875, 8777, 4153, 8842, 1378, 8958, 2967, 8009, 6519, 9780, 4252, 3700, 7701, 5147, 8012, 2987, 2731, 5796, 219, 6536, 4510, 3720, 2024, 1878, 5654, 2315, 3095, 2229, 5745, 3356, 473, 2045, 1090, 4765, 3397, 6548, 6200, 7931, 8753, 9279, 2052, 1516, 355, 4494, 755, 178, 5227, 7983, 3033, 6609, 8133, 1901, 8926, 1024, 9187, 6138, 9832, 8017, 1268, 3207, 2457, 8129, 4029, 6222, 513, 9373, 5045, 9410, 8447, 8892, 2475, 9983, 8414, 1216, 6903, 4073, 6083, 8948, 5431, 3197, 6561, 3553, 9219, 6809, 251, 1259, 2383, 884, 3784, 5194, 5116, 9800, 1786, 6090, 3382, 6258, 5042, 8184, 6057, 3989, 5743, 8369, 7877, 6392, 5430, 7145, 4437, 4324, 6075, 6082, 195, 5828, 8176, 7064, 9488, 7676, 5893, 5039, 5725, 8450, 9370, 1635, 9707, 666, 9381, 7217, 5987, 1943, 3031, 5651, 2060, 2960, 7497, 8534, 5492, 6579, 314, 448, 3658, 4349, 8311, 8858, 7718, 7629, 6852, 8809, 1348, 8397, 3011, 99, 79, 1237, 9839, 1281, 8892, 7828, 7606, 4814, 333, 83, 7978, 7593, 6781, 9713, 5960, 9715, 3665, 7915, 8825, 3118, 7905, 1014, 9200, 7361, 6917, 7929, 5538, 5025, 990, 224, 4760, 825, 3510, 7085, 6547, 3503, 8891, 1345, 982, 3584, 9929, 3959, 7129, 3377, 8715, 9645, 929, 1630, 1471, 5525, 597, 1112, 6934, 1050, 1319, 2771, 6906, 5720, 1600, 5443, 7197, 418, 69, 6468, 2883, 1357, 9720, 1289, 9492, 7250, 7934, 9269, 5613, 5186, 7708, 254, 9744, 8763, 4926, 6498, 3392, 5153, 958, 3299, 5632, 8575, 4625, 2974, 6847, 580, 2555, 5654, 3119, 444, 4393, 185, 9537, 6363, 9697, 5078, 2316, 7518, 6962, 3513, 1782, 3574, 7780, 5605, 5949, 6656, 7527, 7819, 5536, 369, 1209, 341, 2817, 3057, 2682, 567, 1192, 7551, 3872, 7091, 4562, 1158, 9867, 5885, 6870, 2616, 1247, 6056, 5892, 214, 6983, 875, 4206, 5713, 4515, 9868, 5456, 1547, 5159, 4250, 7634, 4398, 8999, 7716, 525, 848, 3661, 2552, 642, 6690, 2438, 1120, 9050, 1289, 9128, 2652, 3974, 1321, 5008, 2485, 7516, 8470, 1158, 5369, 2541, 9449, 833, 3660, 341, 3838, 2293, 131, 5323, 7752, 3140, 8821, 6249, 7578, 9284, 7257, 5951, 2901, 5469, 1732, 3949, 6364, 9200, 7758, 6750, 3659, 4467, 2146, 9625, 2702, 8722, 7986, 955, 5692, 304, 704, 3064, 6092, 6303, 9717, 1783, 585, 7648, 8229, 9662, 5574, 5874, 4569, 612, 4133, 8034, 8273, 2594, 5286, 5088, 3014, 2273, 6624, 5822, 163, 6652, 9097, 7394, 3540, 5783, 5896, 7623, 1842, 9326, 8052, 8075, 9875, 4539, 1394, 5016, 6511, 5570, 9831, 3616, 3564, 9179, 6014, 510, 1609, 6294, 3367, 5028, 8774, 8362, 680, 8041, 5050, 7503, 3167, 688, 1200, 6373, 5501, 2765, 2187, 9673, 4701, 3034, 5828, 9789, 5157, 9305, 2191, 9595, 8356, 5772, 9112, 7841, 4210, 5488, 9727, 3197, 437, 4002, 1566, 4382, 5558, 7124, 6854, 6110, 4718, 8189, 8650, 3801, 5213, 6521, 2781, 1768, 6783, 8615, 1243, 8269, 3995, 6376, 7162, 3751, 3758, 6148, 132, 2108, 1365, 6901, 6798, 8475, 1743, 7902, 4610, 7197, 3510, 4151, 1763, 3864, 1713, 523, 1485, 9323, 418, 2418, 3079, 7735, 5044, 2489, 982, 2433, 1103, 42, 3182, 138, 2198, 3023, 3795, 8808, 3967, 8515, 3474, 5475, 9028, 662, 2749, 4244, 61, 4669, 7708, 7440, 1633, 3616, 3233, 5604, 5429, 3185, 7616, 6616, 4362, 754, 1244, 2789, 7844, 9710, 5374, 8543, 9054, 1048, 7007, 6663, 4707, 8347, 666, 8807, 5275, 9029, 4345, 877, 5625, 6804, 5081, 1270, 4413, 8975, 7990, 770, 725, 3517, 7156, 9515, 5602, 8196, 4339, 9826, 5997, 2579, 5497, 8662, 8090, 7210, 2358, 6750, 326, 4213, 7756, 194, 1114, 80, 7799, 6303, 9658, 8171, 8327, 3475, 2353, 8852, 9926, 9227, 6135, 3704, 5956, 9136, 7016, 8440, 7060, 1144, 6020, 3197, 9373, 1838, 8146, 7415, 8726, 1670, 6368, 2881, 7733, 2151, 7769, 5193, 3677, 607, 4858, 5698, 7097, 8325, 9060, 2088, 2481, 5752, 6198, 8905, 2322, 5566, 5719, 2818, 2217, 7989, 9571, 173, 18, 5067, 9635, 8683, 7226, 6296, 6334, 8159, 3034, 5105, 4305, 2223, 3548, 5621, 3410, 3933, 5218, 5648, 1330, 3799, 8219, 8995, 4030, 7545, 7878, 7772, 4564, 4987, 2944, 2496, 5516, 8953, 8436, 9133, 1327, 577, 8521, 8247, 5103, 8432, 2168, 4840, 3002, 7552, 2032, 5739, 6954, 7337, 5379, 2726, 6498, 5824, 6847, 6325, 8810, 9372, 8681, 6683, 5220, 4762, 9126, 9220, 1313, 2510, 446, 2313, 9156, 1880, 4698, 6015, 7063, 4430, 8742, 8350, 8095, 9675, 8486, 3334, 961, 1714, 6223, 9236, 3756, 2758, 1243, 4428, 8257, 8860, 4345, 8834, 456, 8229, 6214, 850, 24, 495, 7313, 6720, 2393, 6563, 204, 1413, 8974, 251, 7593, 14, 112, 4401, 9080, 6431, 6200, 7307, 8930, 7368, 2656, 3572, 8686, 5144, 7876, 5794, 2523, 8186, 2514, 553, 8750, 8522, 6805, 7491, 7635, 5083, 5652, 1109, 4205, 9268, 2781, 7190, 9822, 1071, 6952, 7849, 1141, 5996, 9772, 7750, 4065, 6198, 1017, 5206, 7467, 1205, 1864, 193, 8868, 2802, 6296, 508, 581, 5243, 9326, 6977, 5802, 1025, 6691, 4871, 4321, 9069, 5167, 6860, 356, 2603, 9612, 1272, 782, 1310, 7713, 7641, 4073, 5609, 1128, 3273, 4901, 51, 3447, 5638, 3447, 1830, 59, 4759, 6600, 8039, 3007, 2007, 9763, 7847, 6622, 5809, 4868, 3295, 9227, 9175, 4899, 9528, 7410, 2530, 4065, 1032, 6026, 3211, 1513, 8948, 4266, 8241, 5896, 7650, 7355, 9739, 1356, 7342, 7039, 7807, 6439, 3692, 8650, 5356, 2874, 9091, 1535, 6679, 9006, 8868, 6056, 4831, 9310, 7739, 3347, 5335, 6238, 9495, 6537, 8359, 6788, 1551, 6850, 6490, 895, 3876, 5707, 5, 7020, 7507, 3067, 6177, 4240, 3111, 4970, 3295, 4666, 4422, 762, 497, 2354, 6792, 6715, 7580, 2081, 3895, 7871, 7616, 5085, 3112, 1657, 6075, 3232, 9974, 7566, 5880, 6666, 3261, 2490, 8479, 6560, 9128, 612, 4298, 4304, 3658, 6534, 9696, 9985, 6179, 3713, 2952, 1767, 2025, 3325, 9061, 8179, 9923, 8750, 8960, 7766, 9658, 9468, 6118, 5118, 7257, 2887, 4761, 4137, 6865, 5428, 8616, 8764, 9941, 4826, 3792, 1915, 9676, 5066, 8425, 4353, 4649, 6810, 978, 8486, 9969, 1785, 499, 2732, 2543, 1119, 2933, 3196, 5258, 9236, 6585, 2729, 8819, 7242, 4199, 7318, 5718, 1360, 2195, 9909, 5090, 4425, 7252, 111, 8795, 940, 7553, 2767, 2495, 1591, 2259, 1552, 1391, 5664, 8295, 7085, 5597, 6688, 3065, 7042, 8636, 8117, 2705, 5629, 5114, 6419, 2537, 8462, 971, 8882, 5504, 5325, 8457, 4775, 7088, 5126, 5889, 6701, 6049, 1357, 8506, 4636, 8282, 2209, 6477, 9016, 1217, 5637, 4531, 4548, 5722, 1720, 7605, 190, 3514, 1283, 6892, 8002, 7905, 616, 7207, 9899, 9293, 8120, 3136, 717, 4787, 2815, 276, 2154, 6279, 6817, 6531, 9894, 9064, 9704, 8430, 7174, 8550, 4949, 3360, 5811, 8815, 901, 9178, 8165, 3404, 9816, 5479, 7596, 9978, 406, 2899, 9948, 7465, 2866, 233, 1687, 1591, 3974, 9738, 2710, 1669, 7179, 5065, 2777, 5798, 8830, 4267, 8502, 327, 6662, 5159, 5072, 6823, 9714, 1310, 5748, 3469, 1223, 2126, 5961, 5069, 7196, 298, 8234, 3119, 28, 4902, 9130, 7399, 9117, 6198, 4648, 8330, 8261, 6962, 2347, 5382, 1812, 8797, 5223, 5817, 2453, 3028, 5311, 2661, 1027, 5447, 1808, 1221, 3409, 9515, 2957, 7187, 1112, 2271, 7630, 3687, 1314, 696, 9676, 3316, 5102, 7584, 3850, 5122, 2261, 4169, 8939, 8775, 709, 8997, 331, 9675, 6552, 1343, 7366, 209, 2369, 4814, 2506, 7872, 5152, 8706, 1789, 5486, 1225, 6421, 6480, 2529, 9766, 6740, 3110, 9354, 1421, 2953, 4353, 9638, 2348, 2527, 3401, 3722, 8837, 4787, 451, 1920, 7269, 7787, 5249, 1818, 2366, 8309, 446, 5996, 5645, 9418, 3005, 8513, 9474, 1452, 1570, 2887, 4706, 1885, 7067, 6819, 4527, 4615, 4573, 518, 956, 5003, 3127, 3660, 9116, 4845, 6544, 8227, 1257, 3286, 2212, 9279, 1176, 1161, 5617, 7756, 2954, 3242, 5329, 4203, 679, 9353, 2682, 2278, 1538, 4255, 4680, 5889, 4512, 4797, 7854, 428, 9945, 6922, 3989, 8892, 3973, 7174, 4358, 3943, 2753, 7151, 4551, 5493, 6425, 6938, 852, 9463, 6997, 1308, 8197, 4226, 3780, 4792, 3612, 431, 6477, 7184, 9419, 2465, 4307, 6271, 5121, 9555, 2675, 7712, 5648, 6059, 6500, 8464, 7925, 9672, 4959, 3688, 9780, 3934, 9495, 1218, 8873, 8870, 5573, 8368, 8225, 2792, 1046, 1008, 1694, 4619, 5172, 2219, 6363, 3538, 6126, 5550, 5238, 4626, 2887, 3641, 6619, 9382, 1025, 8638, 3402, 8088, 2057, 4931, 8125, 4403, 5194, 872, 8347, 2744, 5848, 3521, 9230, 2690, 7439, 1954, 8315, 892, 8784, 1002, 1975, 4819, 3076, 415, 2656, 2259, 5382, 6117, 3522, 1203, 6309, 3273, 6772, 7077, 2020, 7703, 5954, 4398, 1332, 1196, 4163, 5987, 3033, 6604, 7519, 1710, 8776, 6804, 1017, 9034, 9539, 5826, 6989, 409, 8765, 8583, 2274, 848, 5198, 28, 4304, 6047, 9956, 3795, 7945, 4026, 7884, 6178, 9071, 8069, 3858, 8719, 789, 5011, 9499, 1407, 3234, 2666, 5774, 6060, 609, 713, 3827, 8333, 5202, 495, 4063, 4465, 9896, 536, 6926, 846, 4535, 7840, 6147, 4295, 6161, 2049, 8051, 3890, 3985, 5400, 8636, 5111, 9352, 8578, 3996, 3799, 9809, 8910, 6540, 5491, 366, 5271, 9027, 9441, 5854, 3382, 3712, 8855, 3285, 7800, 5424, 3963, 6558, 1906, 158, 9978, 1901, 7979, 9074, 2097, 92, 9670, 2669, 3946, 3954, 6248, 9459, 6101, 9516, 7539, 7880, 8877, 9262, 7907, 7456, 1079, 8142, 1992, 8590, 3415, 3286, 6105, 3523, 895, 4349, 5137, 8864, 8358, 7252, 6284, 5308, 2178, 5595, 7812, 404, 3290, 1184, 8300, 1259, 2529, 6906, 8227, 9951, 4664, 5626, 3656, 4918, 5047, 5784, 2634, 7407, 4397, 2032, 1644, 6981, 4390, 4305, 4290, 5734, 805, 2042, 1159, 2197, 6016, 3160, 3951, 6173, 9254, 9167, 4741, 5675, 6435, 7311, 4377, 2348, 4948, 7756, 2153, 7980, 477, 9064, 515, 2820, 567, 6395, 8317, 6517, 7508, 7601, 978, 3408, 7769, 1700, 5619, 6024, 1202, 6621, 6710, 3167, 3659, 2284, 8420, 7994, 8550, 8433, 7075, 9538, 1183, 384, 2182, 9378, 9516, 9543, 5114, 8543, 3891, 5773, 4926, 9465, 5003, 4402, 9208, 6109, 9966, 533, 3506, 3190, 8994, 8564, 9278, 5832, 6255, 5024, 1905, 3838, 7655, 4790, 341, 3960, 1366, 1432, 2471, 2564, 8110, 2809, 4702, 274, 5720, 1852, 9382, 1789, 4846, 8769, 555, 8660, 1996, 8597, 5206, 2937, 3608, 8849, 3393, 4639, 6504, 8845, 5044, 4165, 1418, 4706, 8163, 9113, 3826, 842, 5182, 4277, 793, 1527, 953, 5291, 4134, 4650, 2677, 8131, 9166, 2602, 8297, 6014, 3092, 431, 3916, 9530, 2290, 1569, 4952, 133, 9385, 4955, 3129, 9507, 411, 6784, 7721, 3805, 7223, 3092, 7026, 4211, 3296, 7022, 9265, 5631, 1726, 9480, 1506, 8291, 1459, 1740, 881, 5064, 7987, 8750, 5027, 2795, 4262, 6825, 1977, 6398, 9486, 473, 4771, 9792, 7704, 2806, 7525, 1568, 8967, 574, 3359, 4822, 1525, 4383, 2870, 5618, 3914, 3109, 6248, 869, 6505, 1847, 746, 5210, 7355, 7498, 7428, 1346, 3766, 671, 5970, 1089, 8011, 4095, 1573, 3612, 9021, 5068, 4189, 8179, 1101, 2471, 9669, 4756, 4547, 4033, 8676, 2728, 2231, 2182, 3312, 4728, 3844, 2892, 4599, 5940, 8819, 320, 3450, 4567, 6792, 2448, 4139, 3924, 7315, 2373, 7607, 19, 7165, 4210, 5826, 316, 7879, 2967, 6734, 9047, 7194, 9675, 223, 7931, 3555, 1027, 5390, 5694, 9423, 8140, 2051, 1133, 9359, 5148, 8859, 6201, 717, 8392, 5203, 5122, 540, 9045, 6618, 4725, 4717, 8066, 8949, 5008, 9750, 7554, 7807, 7700, 7414, 4457, 4296, 1624, 9528, 6311, 5489, 1799, 4219, 6457, 5452, 5880, 8246, 7698, 7708, 7026, 7877, 802, 5277, 1936, 4360, 260, 3669, 2801, 9081, 5077, 3969, 4204, 3480, 1839, 4144, 6142, 8981, 847, 946, 7604, 4270, 529, 9108, 4243, 9244, 7805, 7746, 2510, 3239, 701, 5368, 182, 9078, 1852, 147, 5803, 860, 6145, 2136, 111, 4402, 3548, 6707, 7873, 609, 5866, 7925, 6510, 4936, 2840, 2735, 3966, 2791, 1860, 7430, 4869, 2279, 1020, 290, 4971, 6698, 2851, 4496, 8841, 9541, 636, 7806, 3654, 7347, 7518, 6423, 3477, 7791, 6369, 1276, 8050, 7997, 8301, 5381, 2889, 601, 3765, 5195, 7304, 4441, 5878, 603, 3319, 5471, 6689, 7518, 8739, 8697, 2256, 8830, 2629, 5305, 8959, 5096, 6798, 6892, 6392, 3205, 9963, 861, 4583, 3210, 7089, 5688, 75, 6199, 3873, 3719, 4160, 8764, 4158, 9742, 4383, 9222, 5494, 157, 5818, 8550, 8236, 6432, 4323, 790, 5448, 1898, 1786, 8789, 3833, 4458, 5762, 1726, 4964, 4322, 2478, 4806, 9253, 5156, 216, 2411, 6400, 7249, 8200, 5652, 57, 2856, 1693, 6085, 2158, 8500, 1682, 9462, 8219, 7897, 9103, 9310, 3755, 8424, 5019, 2269, 1948, 6001, 5463, 4756, 1092, 3700, 4260, 6326, 5562, 5936, 7535, 3093, 7632, 1395, 4469, 8195, 8638, 317, 2350, 6245, 4074, 8112, 5876, 3225, 2721, 4006, 1176, 8172, 5395, 731, 8236, 4329, 5938, 8706, 1147, 2681, 5813, 4699, 8381, 298, 157, 1627, 2488, 4799, 8885, 6776, 7822, 3491, 6861, 9370, 2224, 7723, 4152, 5444, 8268, 7997, 4180, 5502, 8148, 9659, 3955, 2451, 9863, 4583, 2750, 1160, 1082, 6798, 4548, 6539, 8953, 3508, 9364, 5284, 9890, 8705, 973, 6808, 4464, 1257, 3989, 4055, 1880, 9761, 7565, 4092, 3260, 8560, 4618, 5890, 4425, 2936, 9647, 9399, 1494, 9795, 4918, 9376, 9193, 9113, 632, 6281, 6703, 5521, 9052, 8129, 8387, 4848, 3591, 5848, 3481, 764, 3001, 2049, 1444, 5290, 7808, 2179, 6440, 7973, 9953, 6266, 3821, 3653, 9242, 1986, 1722, 5267, 4959, 8301, 5211, 5680, 6577, 7513, 9694, 7915, 1211, 6158, 6317, 476, 6825, 1645, 3484, 9489, 4375, 1519, 2565, 3506, 1483, 9320, 358, 1125, 2038, 8783, 7041, 3362, 5442, 6403, 7921, 6622, 9869, 1045, 6732, 824, 6690, 1152, 1400, 2249, 906, 5047, 5901, 4880, 3515, 9833, 7164, 1565, 7793, 6554, 1339, 1807, 313, 7839, 4967, 2310, 2454, 3860, 3766, 5833, 5456, 3771, 4443, 5066, 8800, 4269, 971, 9135, 8556, 684, 5856, 4215, 3645, 1128, 9316, 1739, 2117, 867, 9901, 9325, 2376, 895, 6959, 9899, 9818, 3800, 9691, 2323, 6118, 5222, 6827, 675, 3910, 2933, 363, 8189, 4103, 6029, 7261, 4285, 3358, 6631, 9814, 3582, 7470, 6298, 8915, 6992, 2010, 8383, 5047, 8382, 3887, 9591, 3242, 1305, 548, 3730, 4315, 2050, 1970, 5671, 6286, 1160, 1327, 1898, 3678, 7246, 5087, 2129, 4333, 3062, 3507, 7870, 1398, 9668, 1508, 4765, 3084, 7485, 6868, 8479, 8844, 7708, 5664, 6280, 4840, 2690, 736, 9368, 5062, 6254, 8121, 8871, 8916, 5268, 5158, 3519, 6639, 9518, 4365, 2559, 4772, 8560, 3823, 2851, 8309, 1327, 9187, 4839, 2550, 3463, 8740, 9315, 7782, 5977, 7625, 6084, 2925, 8348, 3902, 7921, 3004, 8857, 4094, 3475, 5209, 9391, 9877, 148, 1900, 7584, 6272, 3225, 7362, 2307, 7729, 6389, 6434, 6187, 8505, 6035, 6502, 1240, 3188, 9082, 8192, 1773, 7664, 4804, 1447, 7092, 7537, 6770, 6481, 878, 1674, 3081, 9913, 8846, 1638, 7699, 3064, 1084, 2014, 6161, 6711, 8977, 5308, 7080, 4378, 7804, 3277, 7436, 3446, 7266, 627, 9694, 9932, 7630, 8430, 6893, 7479, 899, 6871, 1141, 2006, 9567, 6806, 5913, 6117, 462, 9780, 3239, 3469, 6472, 5667, 5134, 5575, 7870, 3428, 5451, 2476, 9874, 5077, 4962, 6303, 3391, 4791, 6509, 9669, 1481, 9923, 1824, 9738, 681, 7474, 7794, 5984, 4266, 3970, 9077, 9478, 3026, 5479, 7259, 9143, 3687, 1190, 8739, 159, 7074, 4540, 9126, 8652, 2595, 9724, 5741, 5882, 4727, 8218, 8778, 7449, 5208, 811, 9021, 4189, 4270, 2535, 4443, 243, 1435, 888, 2523, 2941, 5813, 7733, 652, 7990, 5712, 3036, 4516, 9079, 800, 5477, 2063, 9068, 6008, 6321, 3555, 2779, 5595, 2657, 7476, 2846, 3724, 8595, 9933, 8033, 4592, 9293, 7308, 261, 7046, 9009, 3409, 5093, 9859, 2175, 3201, 2594, 955, 1878, 4772, 4991, 1715, 1701, 4166, 9570, 2026, 6406, 3410, 1502, 6782, 8977, 1042, 7112, 4112, 4597, 9628, 9484, 7250, 2421, 6614, 1377, 3828, 2548, 2004, 8242, 3103, 6099, 9609, 4076, 2988, 2581, 7294, 5555, 1205, 7922, 6487, 5389, 3241, 272, 6973, 9026, 4860, 9898, 6481, 9332, 7564, 6546, 1579, 5371, 8112, 5099, 6832, 731, 2137, 2365, 1470, 750, 1249, 2559, 3221, 1616, 4605, 6493, 4259, 4164, 1578, 1120, 592, 5240, 8793, 2586, 9041, 3164, 6776, 2585, 1798, 1963, 75, 4386, 9166, 5843, 4929, 9210, 4775, 1418, 6762, 6457, 2717, 5873, 3491, 4935, 8983, 4446, 6392, 5510, 6345, 9993, 5758, 8693, 4969, 7200, 2964, 6348, 929, 612, 1962, 7012, 2529, 9552, 5429, 6242, 1774, 780, 3077, 8378, 5728, 2476, 5870, 7598, 8674, 7794, 2569, 250, 4111, 423, 9489, 7693, 2564, 4283, 8390, 3062, 2309, 9200, 6041, 5193, 4732, 1787, 1958, 7042, 9646, 4266, 8228, 4841, 988, 1862, 8187, 3303, 1216, 810, 4194, 286, 166, 7139, 8139, 8640, 4543, 2459, 8594, 9622, 3984, 4906, 3128, 8264, 9088, 1263, 3653, 7327, 4252, 7663, 3625, 9105, 9371, 6634, 1132, 2253, 7907, 1985, 6342, 475, 3255, 6455, 8805, 5866, 4663, 6183, 807, 1047, 8800, 1976, 9446, 1498, 4153, 7328, 6080, 9774, 8633, 1337, 2331, 6406, 9304, 2913, 2361, 4074, 5429, 1465, 7291, 7774, 1674, 2600, 6749, 5825, 8623, 6249, 5667, 6224, 882, 2764, 2971, 4441, 1237, 6226, 2532, 2655, 8700, 1927, 3720, 8514, 92, 3504, 4337, 8349, 9420, 9250, 7280, 9544, 7821, 7451, 1930, 3086, 8493, 5772, 7135, 3433, 1994, 9707, 8682, 8844, 4928, 7377, 9517, 6454, 1952, 8546, 586, 5450, 2177, 4247, 1700, 4471, 4780, 7477, 8861, 7002, 4263, 8530, 9741, 4884, 9255, 1045, 1161, 3365, 1322, 8474, 1277, 9502, 1947, 8387, 7404, 7420, 2592, 9095, 3708, 5252, 1747, 5254, 1275, 2680, 624, 2674, 7457, 4850, 6430, 6338, 4688, 868, 2904, 9332, 8072, 7997, 7689, 2206, 8590, 5958, 35, 5414, 4755, 1903, 659, 6866, 7061, 8749, 9071, 3246, 5626, 3913, 5673, 8746, 8694, 8640, 6602, 3007, 2125, 241, 697, 71, 1073, 609, 7925, 2310, 719, 210, 8503, 7977, 8407, 2164, 9307, 3951, 7796, 8206, 3436, 2201, 9881, 5552, 3401, 2608, 4439, 5299, 5190, 8014, 1419, 4087, 5323, 9264, 1150, 20, 1386, 7006, 2156, 3426, 2665, 8933, 6522, 3140, 7799, 1205, 3809, 6434, 9428, 2281, 9364, 6922, 5994, 223, 5036, 94, 2272, 4622, 5190, 9924, 6749, 4933, 1159, 8263, 9617, 6266, 2118, 5754, 3436, 3176, 9436, 4989, 169, 6649, 2156, 7689, 5970, 7724, 4955, 4996, 7708, 2144, 989, 6215, 3912, 7067, 269, 1556, 8205, 4039, 7770, 1113, 5491, 3022, 833, 9043, 6062, 989, 7590, 7145, 9919, 2763, 3264, 4110, 1196, 9331, 3996, 8923, 120, 2915, 4467, 7140, 6029, 1104, 7650, 8618, 9343, 9172, 9984, 5208, 4346, 7031, 681, 7954, 4894, 7196, 5637, 8926, 6688, 5547, 8463, 4173, 6791, 6473, 894, 1145, 1091, 3512, 5364, 4048, 5575, 3875, 7226, 728, 765, 2393, 7063, 3830, 379, 7237, 9722, 3965, 170, 530, 13, 8850, 5443, 5264, 4238, 2271, 8251, 1276, 1601, 3668, 7283, 3742, 3777, 9903, 9617, 3475, 2571, 71, 3396, 2308, 6485, 1514, 8680, 7474, 1092, 8360, 9322, 5680, 1259, 3746, 4010, 9311, 5780, 5453, 366, 3608, 4449, 5404, 4176, 4541, 4795, 4725, 4519, 327, 5841, 5368, 4310, 9543, 2680, 644, 7484, 3329, 3245, 9782, 5630, 7755, 3655, 1787, 7733, 2556, 433, 7051, 4793, 6636, 6029, 9465, 2615, 4756, 3089, 4203, 7871, 4936, 1163, 5751, 9105, 8850, 9199, 7438, 505, 6279, 4149, 6677, 2213, 9569, 3830, 956, 16, 5750, 9353, 725, 2935, 7246, 7389, 584, 4873, 3239, 4465, 4790, 8256, 4687, 1117, 8978, 561, 2636, 1623, 1689, 9082, 9926, 7582, 623, 9683, 698, 6783, 8116, 6444, 2646, 6780, 3190, 4669, 8264, 2476, 1439, 1178, 6957, 9107, 6034, 8916, 3243, 9921, 839, 4042, 8366, 2662, 9185, 8978, 5741, 9688, 9257, 373, 2043, 889, 6468, 6457, 8226, 4298, 5844, 3236, 174, 8871, 3370, 2128, 6797, 1271, 8252, 2445, 2176, 9049, 3911, 517, 2711, 5674, 7681, 1489, 3811, 2718, 1418, 3424, 9609, 4179, 9540, 7560, 6229, 9229, 2006, 192, 5909, 8972, 4321, 6202, 6640, 1592, 3262, 6955, 6367, 2933, 3719, 2768, 9067, 7645, 6155, 2710, 5885, 2651, 646, 9727, 1244, 458, 6602, 4355, 9929, 8130, 9765, 2630, 5857, 7456, 4728, 9152, 7598, 4810, 9526, 4067, 5000, 9635, 4456, 8882, 1486, 1524, 5340, 2205, 7351, 8848, 4751, 5, 542, 9126, 315, 2050, 8220, 6511, 261, 7491, 387, 2379, 8785, 9632, 3734, 21, 2149, 3542, 4713, 9356, 7962, 1313, 7587, 632, 9020, 8644, 776, 7430, 7657, 9214, 5221, 6902, 7620, 1178, 7656, 69, 2709, 6043, 2925, 7757, 7021, 7864, 1485, 547, 2252, 7608, 8366, 9513, 8896, 7297, 9429, 4849, 5434, 3567, 6576, 5024, 9141, 9993, 3405, 7543, 9762, 2358, 7564, 262, 9629, 3490, 4433, 4506, 4341, 9273, 5981, 707, 3070, 1304, 9925, 9853, 4924, 2455, 2700, 1749, 7120, 8443, 498, 9362, 3302, 2465, 9587, 1399, 3635, 5123, 991, 2719, 9919, 4237, 7258, 8093, 3368, 4697, 1688, 5968, 5231, 1103, 8302, 5760, 5733, 76, 2600, 5279, 8890, 2292, 4202, 1339, 5964, 306, 5915, 5143, 4754, 9102, 4654, 3810, 857, 4836, 3062, 2713, 9953, 5749, 8593, 2785, 6980, 1672, 6071, 3509, 5720, 7096, 6290, 4863, 7865, 3514, 4665, 1921, 6910, 3088, 5954, 8921, 5971, 794, 2271, 4946, 3805, 4241, 651, 9289, 524, 2515, 9663, 5432, 1587, 1034, 9254, 9347, 3968, 3783, 263, 5958, 8504, 4726, 7564, 6825, 9151, 785, 5495, 8067, 7419, 9381, 1733, 7781, 355, 2003, 2582, 7190, 9026, 1154, 9000, 978, 2638, 4861, 5866, 4736, 9379, 2515, 2757, 5464, 8880, 6232, 507, 2944, 7088, 8661, 5689, 9416, 8414, 9604, 6879, 1884, 1575, 8917, 909, 3851, 1920, 9145, 4261, 6678, 6182, 2014, 120, 7805, 904, 1735, 2074, 2720, 2550, 6755, 5973, 2219, 6782, 3439, 5846, 2014, 9350, 8689, 4535, 7891, 1336, 8045, 892, 9717, 4375, 3374, 9787, 8639, 2009, 7802, 716, 2188, 5756, 7965, 6206, 8277, 4171, 3600, 1865, 905, 7127, 3539, 2525, 7766, 9446, 9568, 489, 1192, 3767, 339, 5883, 5429, 1716, 3370, 2228, 3514, 6531, 9250, 6387, 973, 975, 7784, 6641, 8024, 5530, 4901, 6737, 9184, 8230, 3876, 3222, 3120, 5291, 8590, 724, 7709, 3007, 718, 5461, 4727, 5197, 7745, 14, 9246, 1115, 5106, 9720, 7610, 4616, 979, 3779, 4489, 3094, 3549, 9271, 590, 5805, 6407, 7609, 7931, 1005, 8458, 1308, 3782, 1978, 8702, 262, 1367, 4937, 4805, 3981, 8213, 7408, 1396, 8009, 1948, 5134, 8417, 2889, 1457, 701, 9585, 8323, 754, 5307, 4055, 4370, 3427, 2601, 8983, 5594, 3061, 5863, 3191, 1860, 5016, 1058, 4796, 5338, 3661, 2919, 4038, 3673, 2388, 9027, 3532, 5173, 4898, 9402, 9215, 8762, 5352, 4536, 2320, 8613, 8499, 6590, 8009, 3243, 8320, 3831, 1656, 6099, 8953, 6604, 9948, 2282, 50, 9828, 621, 9576, 90, 6329, 2751, 5442, 1876, 765, 9994, 9365, 7977, 8984, 3452, 9369, 7557, 8145, 1164, 7712, 5123, 6989, 6332, 506, 5184, 9079, 6983, 60, 4460, 1459, 423, 1947, 3604, 6449, 6390, 8521, 5909, 7922, 4261, 6593, 4934, 1626, 4878, 2953, 4592, 6114, 5440, 2857, 5241, 3190, 9075, 3298, 717, 5184, 8721, 3366, 1556, 2338, 4230, 8741, 2316, 790, 2645, 3236, 1956, 4196, 2440, 7778, 1577, 6099, 7222, 5316, 1599, 6018, 9450, 8674, 503, 102, 2841, 7822, 9477, 6627, 3341, 4563, 2416, 6790, 9422, 2292, 2101, 811, 1295, 2129, 6742, 4154, 3584, 4317, 4521, 4838, 5038, 9010, 5202, 7713, 6324, 9632, 1925, 793, 3867, 620, 33, 745, 6005, 846, 2657, 1007, 1365, 4405, 647, 8177, 2234, 3278, 1790, 6765, 5243, 5069, 6458, 7941, 7922, 8799, 8718, 1965, 6380, 4918, 8998, 3269, 676, 7786, 4837, 8736, 148, 3625, 9244, 6647, 6309, 8715, 4034, 941, 3514, 37, 5938, 3958, 8745, 1182, 227, 5910, 6324, 783, 9191, 9990, 6577, 7132, 9921, 3089, 1641, 379, 3951, 3237, 8900, 6985, 6477, 4892, 877, 1229, 7203, 9651, 7065, 9606, 2472, 5064, 3821, 9132, 2796, 400, 2105, 2121, 6685, 6158, 462, 6859, 5647, 5789, 2935, 1779, 659, 1102, 9270, 833, 5872, 2349, 5551, 1216, 1767, 1711, 5000, 261, 8426, 8586, 2572, 1265, 410, 8255, 3696, 8975, 7455, 3399, 3052, 5604, 6757, 4857, 1696, 7226, 5390, 4685, 4946, 4459, 6862, 742, 3426, 1295, 5689, 5334, 930, 9918, 1056, 9308, 1723, 3312, 8760, 7495, 9984, 3630, 8571, 8508, 6026, 7668, 9029, 3288, 4502, 4691, 4439, 3546, 1565, 6813, 2081, 7583, 5405, 6312, 9388, 8413, 349, 4270, 4438, 1049, 2442, 6870, 7761, 5794, 7418, 2388, 7183, 26, 1568, 5225, 4156, 6248, 9492, 3461, 5511, 2541, 564, 5853, 4792, 100, 4170, 4551, 2694, 2726, 1992, 1788, 4138, 1221, 9697, 5769, 2225, 4261, 3373, 8307, 8713, 1126, 3539, 2147, 348, 1995, 1638, 337, 2926, 8569, 504, 1199, 4420, 651, 7217, 8026, 5546, 4985, 1067, 1440, 3818, 7334, 2832, 2654, 7076, 6741, 3666, 6529, 5837, 2519, 8835, 1856, 1233, 3944, 8232, 6804, 116, 6042, 8704, 858, 9889, 7717, 2301, 1618, 1789, 8241, 6672, 8093, 9166, 6157, 3517, 5143, 3917, 7940, 6051, 2551, 517, 1462, 8939, 4028, 7009, 5953, 1855, 5420, 6524, 6867, 6848, 7373, 7175, 6027, 5574, 2381, 5284, 3961, 1287, 7717, 1388, 5983, 1946, 1366, 7069, 2462, 3962, 4712, 3697, 4934, 7309, 4860, 1124, 2083, 1883, 1542, 8776, 9702, 9086, 3134, 77, 7627, 4277, 5045, 9016, 1127, 9272, 8440, 4881, 6644, 5326, 5497, 6023, 1368, 8702, 4631, 4262, 5901, 822, 9797, 1121, 9103, 5733, 8060, 4864, 8667, 407, 5419, 8699, 978, 650, 1994, 7944, 9907, 3560, 2407, 6950, 657, 586, 3672, 5132, 2828, 3642, 9659, 5605, 6890, 8909, 8401, 5305, 686, 3398, 3125, 5338, 4976, 8334, 798, 1687, 7323, 4412, 1824, 8548, 7290, 2870, 2042, 280, 4853, 3713, 9542, 672, 8004, 4660, 9922, 5267, 2730, 6163, 336, 9787, 5475, 223, 9164, 8609, 3799, 3307, 6797, 8312, 3536, 770, 1844, 3849, 3791, 6001, 7220, 8651, 9879, 7266, 7324, 997, 1178, 224, 2118, 9583, 6148, 2243, 1649, 8023, 5589, 8006, 3611, 7665, 3231, 7422, 8544, 919, 529, 5825, 3028, 9591, 9896, 9054, 8511, 38, 9417, 8104, 5463, 5512, 1918, 4247, 5623, 4770, 6581, 6388, 7380, 9176, 163, 4836, 5441, 2849, 7630, 8474, 7713, 331, 1957, 3699, 8897, 5572, 3501, 6476, 2460, 5544, 4132, 2301, 1880, 4922, 6040, 3491, 7106, 5395, 585, 7541, 5525, 4434, 967, 1300, 3029, 8705, 2095, 5382, 5907, 1816, 8955, 3412, 6188, 6688, 34, 4897, 5242, 1717, 5413, 626, 8635, 3139, 8747, 625, 8550, 1818, 8661, 9227, 2127, 1450, 691, 5092, 5939, 3647, 8867, 7490, 8515, 5139, 5597, 6127, 7113, 5006, 8060, 1407, 8024, 4509, 6585, 7446, 7399, 6060, 8338, 7054, 267, 2426, 3175, 668, 540, 9024, 6787, 7058, 9501, 5075, 7483, 940, 9489, 1788, 1677, 3965, 9052, 1558, 998, 4040, 6477, 6557, 2457, 9669, 9374, 8724, 9071, 8380, 2508, 9755, 2369, 8467, 2205, 248, 7351, 1903, 7577, 6322, 1844, 8838, 1845, 9374, 1846, 6261, 4700, 1393, 2601, 9985, 5136, 4920, 4529, 7976, 7181, 2559, 3342, 5566, 5565, 2661, 9343, 252, 3071, 3044, 8973, 3007, 4043, 2266, 8908, 6084, 1646, 8450, 7831, 2323, 821, 6373, 2226, 7983, 6483, 1058, 9153, 6910, 8570, 9407, 3771, 4894, 1338, 9032, 1101, 6792, 6071, 2283, 3663, 2889, 9041, 6398, 1289, 4479, 1459, 1663, 2174, 4415, 5049, 545, 6424, 2340, 3143, 8016, 4645, 1571, 3829, 6396, 398, 9639, 7119, 2092, 8008, 3366, 4588, 4194, 88, 9774, 1979, 2939, 6859, 347, 8131, 4200, 3951, 3144, 4581, 3113, 5350, 6731, 7519, 5156, 2991, 5785, 1344, 6335, 2843, 2231, 7786, 3234, 3037, 8350, 4211, 6305, 2723, 5865, 4369, 7608, 2381, 7696, 1062, 4571, 2881, 1215, 4244, 9960, 1554, 5636, 8956, 5557, 9131, 8203, 191, 7579, 7748, 4758, 2860, 3578, 5058, 262, 5150, 5203, 9239, 3762, 1210, 6207, 8316, 6458, 1152, 121, 5202, 763, 3856, 6629, 6172, 362, 9786, 2540, 1352, 6311, 7682, 8445, 8715, 5020, 9737, 2525, 9420, 9443, 509, 4351, 10000, 6229, 5693, 3443, 7915, 2978, 8249, 1689, 6721, 8563, 4990, 9553, 4441, 7220, 7714, 6728, 4476, 7230, 392, 603, 3799, 2346, 1598, 9149, 699, 2209, 9060, 3472, 4311, 3385, 700, 1878, 6476, 3938, 9463, 54, 8372, 8155, 7619, 4033, 7037, 4024, 2892, 1385, 8655, 7132, 4664, 7976, 6418, 9432, 8686, 1141, 2965, 2199, 4002, 5767, 1882, 9628, 186, 3815, 5514, 3704, 6950, 5997, 6069, 4574, 7182, 7300, 7173, 7829, 7937, 9973, 6491, 4698, 8274, 7226, 8772, 6339, 9047, 4011, 5342, 8486, 1680, 4521, 1802, 4818, 4072, 8240, 1212, 4944, 4770, 6038, 6136, 4517, 6588, 2702, 8821, 4821, 5232, 6945, 3312, 461, 2919, 2221, 7305, 6908, 9132, 5973, 3950, 5527, 5518, 6714, 1357, 4658, 1718, 7899, 1865, 8524, 3911, 1622, 5177, 6886, 4267, 9943, 9833, 4455, 6387, 9734, 5153, 9743, 4243, 3152, 2658, 2871, 1986, 1377, 8159, 8046, 815, 6870, 8563, 7077, 9680, 2149, 7786, 2362, 1963, 7985, 1631, 2615, 8874, 7597, 1396, 2304, 5976, 1789, 6038, 1330, 7941, 4041, 3196, 7220, 2944, 4717, 7906, 8406, 8220, 1396, 5905, 5978, 8698, 5503, 7754, 236, 9242, 9746, 6846, 649, 8798, 5906, 6586, 459, 1621, 3539, 3585, 8173, 6736, 9862, 7240, 122, 2089, 5680, 9481, 4707, 2881, 8304, 7558, 2314, 1240, 1040, 7095, 7014, 7637, 690, 8567, 7304, 1040, 6481, 1439, 1910, 9279, 6960, 3760, 9177, 1965, 2376, 2736, 9791, 8232, 536, 8123, 6320, 8169, 7914, 2254, 2565, 3257, 5199, 2763, 8983, 363, 7093, 52, 1636, 2695, 359, 9390, 6482, 7807, 555, 4161, 5700, 3063, 5839, 1417, 7279, 1913, 8305, 8622, 2816, 2023, 8825, 478, 231, 6016, 2992, 4254, 1552, 7118, 7705, 4542, 1262, 1661, 5856, 692, 4658, 1749, 4378, 9207, 4284, 2524, 7000, 3075, 6555, 2677, 4458, 6125, 4225, 7822, 5170, 7648, 4801, 2973, 661, 6619, 7130, 9147, 3822, 4315, 5882, 8429, 7197, 6968, 7840, 3802, 6075, 9133, 4849, 6520, 2266, 8649, 9541, 5029, 3283, 4837, 8999, 3602, 391, 9506, 8021, 2182, 2483, 3904, 4818, 544, 9136, 4830, 7567, 7914, 5922, 7524, 6945, 7849, 7780, 1677, 4646, 7940, 6295, 7843, 9241, 6300, 7683, 9069, 4458, 857, 4189, 7479, 6920, 7283, 2627, 82, 7110, 7824, 2486, 6762, 7454, 531, 1475, 5935, 9199, 4973, 3941, 2841, 1177, 4653, 4229, 1567, 754, 6659, 4135, 1556, 3212, 9270, 6344, 6221, 7915, 66, 9533, 6956, 7963, 3515, 2068, 3740, 4630, 6992, 3468, 7028, 964, 2039, 4005, 7282, 7654, 2356, 6563, 2673, 728, 125, 8576, 283, 6711, 1602, 2009, 1249, 2644, 4426, 1203, 6454, 6831, 9328, 997, 5662, 5631, 3014, 3106, 5676, 9242, 79, 3949, 1465, 7840, 6877, 5140, 3824, 6762, 8103, 4033, 2501, 5672, 4478, 4089, 8613, 897, 929, 4088, 1051, 652, 6631, 8430, 7880, 7634, 1217, 3986, 7532, 1633, 7624, 9357, 7855, 10000, 307, 8647, 5638, 2440, 623, 5746, 8642, 9169, 6480, 9014, 2030, 3605, 5578, 7932, 4611, 713, 9222, 4085, 2414, 8782, 6041, 1963, 3410, 8203, 5067, 3533, 1034, 2892, 9766, 1885, 497, 2427, 1601, 8715, 7392, 9256, 5733, 2204, 7695, 6549, 3778, 22, 8117, 5195, 3823, 4936, 6126, 6586, 5702, 3011, 3310, 373, 9895, 8098, 6976, 720, 9330, 4063, 3699, 8210, 3368, 8814, 9629, 2528, 1365, 8931, 822, 4400, 1767, 268, 4242, 5615, 5453, 582, 2177, 8575, 8743, 9667, 7331, 6316, 5830, 3564, 8367, 3681, 7968, 891, 8635, 9715, 8478, 3079, 3132, 7268, 3840, 8155, 2160, 3538, 648, 9121, 8252, 2425, 8236, 8555, 7213, 7374, 1545, 5093, 8352, 8783, 4011, 9228, 1556, 3940, 1126, 5125, 4635, 5185, 2941, 7625, 2762, 8903, 6863, 2469, 4565, 9028, 7086, 7090, 7687, 1308, 5812, 6408, 254, 8090, 129, 8825, 6566, 1174, 3174, 983, 7782, 8510, 1105, 9462, 3572, 2996, 4267, 7771, 3313, 2531, 7581, 3977, 8137, 6029, 2257, 4577, 1336, 7926, 8409, 3083, 4125, 5529, 7719, 9625, 6267, 1564, 2039, 4325, 9237, 4699, 9065, 7802, 4589, 4936, 4139, 3929, 7, 9156, 4084, 7051, 7432, 2390, 810, 7602, 8114, 5981, 2975, 5345, 8164, 7099, 9017, 9334, 4696, 8893, 9786, 5606, 1955, 4191, 3878, 2160, 5174, 2212, 2266, 4872, 8751, 3629, 5010, 2875, 9146, 2145, 5772, 248, 6639, 570, 2055, 6647, 9178, 6297, 7887, 948, 2116, 7962, 1763, 3516, 7968, 1580, 4316, 8760, 8730, 6182, 375, 6758, 6429, 5951, 835, 1042, 4704, 9310, 2490, 6056, 7814, 7947, 3637, 4066, 3310, 9497, 48, 2693, 5883, 160, 6455, 6786, 928, 1685, 6581, 8358, 7023, 6901, 2208, 4685, 9895, 8755, 9602, 9495, 793, 5886, 4341, 3547, 9859, 7338, 2882, 1112, 5545, 4492, 1713, 5698, 3764, 4636, 1219, 9877, 4258, 2230, 2882, 5866, 3519, 2872, 8904, 581, 9234, 7036, 8057, 7678, 5388, 74, 5641, 1000, 1003, 5996, 701, 6025, 1200, 5019, 4425, 7217, 5976, 3053, 2590, 7722, 6447, 3770, 2040, 3994, 4424, 9898, 9986, 246, 8625, 1888, 3716, 6892, 2588, 2970, 528, 4741, 1860, 8675, 7532, 3951, 6475, 7177, 7456, 1173, 9253, 5472, 2667, 2458, 1716, 3170, 9097, 4963, 7610, 8339, 6733, 8197, 9247, 8656, 6158, 2965, 3687]\n",
            "         30004 function calls in 0.092 seconds\n",
            "\n",
            "   Ordered by: cumulative time\n",
            "\n",
            "   ncalls  tottime  percall  cumtime  percall filename:lineno(function)\n",
            "        1    0.000    0.000    0.092    0.092 profile:0(<function <lambda> at 0x7f61f6f94950>)\n",
            "        1    0.000    0.000    0.091    0.091 <ipython-input-98-99e4367d136a>:38(<lambda>)\n",
            "        1    0.014    0.014    0.091    0.091 <ipython-input-98-99e4367d136a>:29(insertion_sort_bi)\n",
            "    10000    0.035    0.000    0.078    0.000 <ipython-input-98-99e4367d136a>:19(insert_value_bi)\n",
            "    10000    0.025    0.000    0.025    0.000 :0(insert)\n",
            "    10000    0.018    0.000    0.018    0.000 :0(bisect_left)\n",
            "        1    0.000    0.000    0.000    0.000 :0(setprofile)\n",
            "        0    0.000             0.000          profile:0(profiler)\n",
            "\n",
            "\n",
            "   Ordered by: cumulative time\n",
            "\n",
            "Function                                               was called by...\n",
            "profile:0(<function <lambda> at 0x7f61f6f94950>)       <- profile:0(profiler)(1)    0.000\n",
            "<ipython-input-98-99e4367d136a>:38(<lambda>)           <- profile:0(<function <lambda> at 0x7f61f6f94950>)(1)    0.092\n",
            "<ipython-input-98-99e4367d136a>:29(insertion_sort_bi)  <- <ipython-input-98-99e4367d136a>:38(<lambda>)(1)    0.091\n",
            "<ipython-input-98-99e4367d136a>:19(insert_value_bi)    <- <ipython-input-98-99e4367d136a>:29(insertion_sort_bi)(10000)    0.091\n",
            ":0(insert)                                             <- <ipython-input-98-99e4367d136a>:19(insert_value_bi)(10000)    0.078\n",
            ":0(bisect_left)                                        <- <ipython-input-98-99e4367d136a>:19(insert_value_bi)(10000)    0.078\n",
            ":0(setprofile)                                         <- profile:0(<function <lambda> at 0x7f61f6f94950>)(1)    0.092\n",
            "profile:0(profiler)                                    <- \n",
            "\n",
            "\n"
          ]
        },
        {
          "output_type": "execute_result",
          "data": {
            "text/plain": [
              "<pstats.Stats at 0x7f61f6fa2c50>"
            ]
          },
          "metadata": {},
          "execution_count": 98
        }
      ]
    },
    {
      "cell_type": "code",
      "metadata": {
        "colab": {
          "base_uri": "https://localhost:8080/"
        },
        "id": "QPQP9T7FeHI_",
        "outputId": "28485b83-43d2-4779-948e-3285aefea938"
      },
      "source": [
        "# 1. It can be difficult to understand how Python programs use and leak\n",
        "#    memory.\n",
        "# 2. The gc module can help you understand which objects exist, but it has no\n",
        "#    information about how they were allocated.\n",
        "# 3. The tracemalloc built-in module provides powerful tools for understanding\n",
        "#    the source of memory usage.\n",
        "# 4. tracemalloc is only available in Python 3.4 and above.\n",
        "import tracemalloc\n",
        "\n",
        "def run():\n",
        "    a = []\n",
        "    for i in range(100000):\n",
        "        c = i**2 + 1\n",
        "        a.append(10 * 230 * i)\n",
        "    return a\n",
        "\n",
        "tracemalloc.start(10)   # Save up to 10 stack frames\n",
        "\n",
        "time1 = tracemalloc.take_snapshot()\n",
        "x = run()\n",
        "time2 = tracemalloc.take_snapshot()\n",
        "\n",
        "stats = time2.compare_to(time1, 'lineno')\n",
        "for stat in stats[:3]:\n",
        "    print(stat)"
      ],
      "execution_count": 101,
      "outputs": [
        {
          "output_type": "stream",
          "name": "stdout",
          "text": [
            "<ipython-input-101-6ea6c4261695>:7: size=3539 KiB (+3539 KiB), count=100000 (+100000), average=36 B\n",
            "<ipython-input-100-4f8af04bfada>:10: size=0 B (-3539 KiB), count=0 (-100000)\n",
            "/usr/lib/python3.7/json/decoder.py:353: size=2552 B (-6254 B), count=28 (-91), average=91 B\n"
          ]
        }
      ]
    },
    {
      "cell_type": "code",
      "metadata": {
        "colab": {
          "base_uri": "https://localhost:8080/"
        },
        "id": "01q_Ve78ee8-",
        "outputId": "f81a3141-dca0-4279-c386-a00711f4ce55"
      },
      "source": [
        "import gc\n",
        "found_objects = gc.get_objects()\n",
        "print('%d objects before' % len(found_objects))\n",
        "x = run()\n",
        "found_objects = gc.get_objects()\n",
        "print('%d objects after' % len(found_objects))\n",
        "for obj in found_objects[:3]:\n",
        "    print(repr(obj)[:100])"
      ],
      "execution_count": 104,
      "outputs": [
        {
          "output_type": "stream",
          "name": "stdout",
          "text": [
            "115006 objects before\n",
            "115036 objects after\n",
            "(('/usr/local/lib/python3.7/dist-packages/zmq/eventloop/zmqstream.py', 431), ('/usr/local/lib/python\n",
            "<Traceback (<Frame filename='/usr/local/lib/python3.7/dist-packages/tornado/stack_context.py' lineno\n",
            "(('/usr/local/lib/python3.7/dist-packages/tornado/stack_context.py', 300), ('/usr/local/lib/python3.\n"
          ]
        }
      ]
    },
    {
      "cell_type": "code",
      "metadata": {
        "colab": {
          "base_uri": "https://localhost:8080/"
        },
        "id": "Sl11i6IueVFC",
        "outputId": "5182cdd9-ae00-43ca-f27b-f35456c98c78"
      },
      "source": [
        "import tracemalloc\n",
        "tracemalloc.start(10)   # Save up to 10 stack frames\n",
        "\n",
        "time1 = tracemalloc.take_snapshot()\n",
        "x = run()\n",
        "time2 = tracemalloc.take_snapshot()\n",
        "\n",
        "stats = time2.compare_to(time1, 'traceback')\n",
        "top = stats[0]\n",
        "print('\\n'.join(top.traceback.format()))"
      ],
      "execution_count": 103,
      "outputs": [
        {
          "output_type": "stream",
          "name": "stdout",
          "text": [
            "  File \"/usr/local/lib/python3.7/dist-packages/ipykernel/kernelbase.py\", line 283\n",
            "    return self.dispatch_shell(stream, msg)\n",
            "  File \"/usr/local/lib/python3.7/dist-packages/ipykernel/kernelbase.py\", line 233\n",
            "    handler(stream, idents, msg)\n",
            "  File \"/usr/local/lib/python3.7/dist-packages/ipykernel/kernelbase.py\", line 399\n",
            "    user_expressions, allow_stdin)\n",
            "  File \"/usr/local/lib/python3.7/dist-packages/ipykernel/ipkernel.py\", line 208\n",
            "    res = shell.run_cell(code, store_history=store_history, silent=silent)\n",
            "  File \"/usr/local/lib/python3.7/dist-packages/ipykernel/zmqshell.py\", line 537\n",
            "    return super(ZMQInteractiveShell, self).run_cell(*args, **kwargs)\n",
            "  File \"/usr/local/lib/python3.7/dist-packages/IPython/core/interactiveshell.py\", line 2718\n",
            "    interactivity=interactivity, compiler=compiler, result=result)\n",
            "  File \"/usr/local/lib/python3.7/dist-packages/IPython/core/interactiveshell.py\", line 2822\n",
            "    if self.run_code(code, result):\n",
            "  File \"/usr/local/lib/python3.7/dist-packages/IPython/core/interactiveshell.py\", line 2882\n",
            "    exec(code_obj, self.user_global_ns, self.user_ns)\n",
            "  File \"<ipython-input-103-518092d86c1e>\", line 5\n",
            "    x = run()\n",
            "  File \"<ipython-input-101-6ea6c4261695>\", line 7\n",
            "    a.append(10 * 230 * i)\n"
          ]
        }
      ]
    },
    {
      "cell_type": "code",
      "metadata": {
        "id": "bcxLLdxmeJXb"
      },
      "source": [
        ""
      ],
      "execution_count": null,
      "outputs": []
    }
  ]
}