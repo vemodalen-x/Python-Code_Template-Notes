{
  "nbformat": 4,
  "nbformat_minor": 0,
  "metadata": {
    "colab": {
      "name": "basic_python_cookbook.ipynb",
      "provenance": [],
      "collapsed_sections": [
        "hyKFlUqCJC_i",
        "RGhOgvNqDcmM",
        "H2W2YKJbPfdV",
        "KgodT0QXDgIf",
        "Ip0XfHxRZtFZ",
        "-UYlCTrxcgZ8",
        "beRQ7nCEdvHN",
        "DAdc6LToinz7"
      ]
    },
    "kernelspec": {
      "name": "python3",
      "display_name": "Python 3"
    },
    "language_info": {
      "name": "python"
    }
  },
  "cells": [
    {
      "cell_type": "code",
      "metadata": {
        "id": "9jIAQzPUI37W"
      },
      "source": [
        "#collect and summarize from python cookbook3"
      ],
      "execution_count": null,
      "outputs": []
    },
    {
      "cell_type": "markdown",
      "metadata": {
        "id": "hyKFlUqCJC_i"
      },
      "source": [
        "# Chapter 1: Data structures and algorithms"
      ]
    },
    {
      "cell_type": "code",
      "metadata": {
        "colab": {
          "base_uri": "https://localhost:8080/"
        },
        "id": "i_yIl9q2JTqH",
        "outputId": "fe407eef-af7a-492b-aa44-38cb33a5f717"
      },
      "source": [
        "record = ('ACME', 50, 123.45, (12, 18, 2012))\n",
        "name, *_, (*_, year) = record\n",
        "print(name)\n",
        "print(year)"
      ],
      "execution_count": null,
      "outputs": [
        {
          "output_type": "stream",
          "name": "stdout",
          "text": [
            "ACME\n",
            "2012\n"
          ]
        }
      ]
    },
    {
      "cell_type": "code",
      "metadata": {
        "colab": {
          "base_uri": "https://localhost:8080/"
        },
        "id": "dSd5PdNeKAMF",
        "outputId": "e60df19f-6789-4363-d1ed-47f6b4d2e6bd"
      },
      "source": [
        "from collections import deque\n",
        "#Fixed-size queue\n",
        "q=deque(maxlen=2)\n",
        "q.append(1)\n",
        "q.append(2)\n",
        "print(q)\n",
        "q.append(3)\n",
        "print(q)"
      ],
      "execution_count": null,
      "outputs": [
        {
          "output_type": "stream",
          "name": "stdout",
          "text": [
            "deque([1, 2], maxlen=2)\n",
            "deque([2, 3], maxlen=2)\n"
          ]
        }
      ]
    },
    {
      "cell_type": "code",
      "metadata": {
        "colab": {
          "base_uri": "https://localhost:8080/"
        },
        "id": "kugDcEM8KWj6",
        "outputId": "46577f45-bebe-4d47-eba8-4693160cd648"
      },
      "source": [
        "#Find the largest or smallest N elements\n",
        "import heapq\n",
        "nums = [1, 8, 2, 23, 7, -4, 18, 23, 42, 37, 2]\n",
        "print(heapq.nlargest(3, nums)) \n",
        "print(heapq.nsmallest(3, nums)) \n",
        "\n",
        "portfolio = [\n",
        "    {'name': 'IBM', 'shares': 100, 'price': 91.1},\n",
        "    {'name': 'AAPL', 'shares': 50, 'price': 543.22},\n",
        "    {'name': 'FB', 'shares': 200, 'price': 21.09},\n",
        "    {'name': 'HPQ', 'shares': 35, 'price': 31.75},\n",
        "    {'name': 'YHOO', 'shares': 45, 'price': 16.35},\n",
        "    {'name': 'ACME', 'shares': 75, 'price': 115.65}\n",
        "]\n",
        "cheap = heapq.nsmallest(3, portfolio, key=lambda s: s['price'])\n",
        "expensive = heapq.nlargest(3, portfolio, key=lambda s: s['price'])\n",
        "print(cheap)\n",
        "print(expensive)"
      ],
      "execution_count": null,
      "outputs": [
        {
          "output_type": "stream",
          "name": "stdout",
          "text": [
            "[42, 37, 23]\n",
            "[-4, 1, 2]\n",
            "[{'name': 'YHOO', 'shares': 45, 'price': 16.35}, {'name': 'FB', 'shares': 200, 'price': 21.09}, {'name': 'HPQ', 'shares': 35, 'price': 31.75}]\n",
            "[{'name': 'AAPL', 'shares': 50, 'price': 543.22}, {'name': 'ACME', 'shares': 75, 'price': 115.65}, {'name': 'IBM', 'shares': 100, 'price': 91.1}]\n"
          ]
        }
      ]
    },
    {
      "cell_type": "code",
      "metadata": {
        "colab": {
          "base_uri": "https://localhost:8080/"
        },
        "id": "064KR4C8Lq-f",
        "outputId": "8c09f001-ff67-41d4-e7ba-e7cbb4349ddb"
      },
      "source": [
        "#Priority queue\n",
        "import heapq\n",
        "\n",
        "class PriorityQueue:\n",
        "    def __init__(self):\n",
        "        self._queue = []\n",
        "        self._index = 0\n",
        "\n",
        "    def push(self, item, priority):\n",
        "        heapq.heappush(self._queue, (-priority, self._index, item))\n",
        "        self._index += 1\n",
        "\n",
        "    def pop(self):\n",
        "        return heapq.heappop(self._queue)[-1]\n",
        "class Item:\n",
        "     def __init__(self, name):\n",
        "         self.name = name\n",
        "     def __repr__(self):\n",
        "         return 'Item({!r})'.format(self.name)\n",
        "\n",
        "q = PriorityQueue()\n",
        "q.push(Item('foo'), 1)\n",
        "q.push(Item('bar'), 5)\n",
        "q.push(Item('spam'), 4)\n",
        "q.push(Item('grok'), 1)\n",
        "print(q.pop())\n",
        "print(q.pop())\n",
        "print(q.pop())\n",
        "print(q.pop())"
      ],
      "execution_count": null,
      "outputs": [
        {
          "output_type": "stream",
          "name": "stdout",
          "text": [
            "Item('bar')\n",
            "Item('spam')\n",
            "Item('foo')\n",
            "Item('grok')\n"
          ]
        }
      ]
    },
    {
      "cell_type": "code",
      "metadata": {
        "id": "mkEC_yIgMkvn"
      },
      "source": [
        "#The keys in the dictionary map multiple values\n",
        "from collections import defaultdict\n",
        "\n",
        "d = defaultdict(list)\n",
        "for key, value in pairs:\n",
        "    d[key].append(value)"
      ],
      "execution_count": null,
      "outputs": []
    },
    {
      "cell_type": "code",
      "metadata": {
        "colab": {
          "base_uri": "https://localhost:8080/"
        },
        "id": "7hOpoOHqQVDZ",
        "outputId": "d553e08b-ef0c-48aa-e40a-7ffc1d090b39"
      },
      "source": [
        "#Dictionary sort\n",
        "from collections import OrderedDict\n",
        "\n",
        "d = OrderedDict()\n",
        "d['foo'] = 1\n",
        "d['bar'] = 2\n",
        "d['spam'] = 3\n",
        "d['grok'] = 4\n",
        "# Outputs \"foo 1\", \"bar 2\", \"spam 3\", \"grok 4\"\n",
        "for key in d:\n",
        "    print(key, d[key])\n",
        "\n",
        "prices = {\n",
        "    'ACME': 45.23,\n",
        "    'AAPL': 612.78,\n",
        "    'IBM': 205.55,\n",
        "    'HPQ': 37.20,\n",
        "    'FB': 10.75\n",
        "}\n",
        "min_price = min(zip(prices.values(), prices.keys()))\n",
        "max_price = max(zip(prices.values(), prices.keys()))\n",
        "print(min_price)\n",
        "print(max_price)\n",
        "\n",
        "prices_sorted = sorted(zip(prices.values(), prices.keys()))\n",
        "print(prices_sorted)"
      ],
      "execution_count": null,
      "outputs": [
        {
          "output_type": "stream",
          "name": "stdout",
          "text": [
            "foo 1\n",
            "bar 2\n",
            "spam 3\n",
            "grok 4\n",
            "(10.75, 'FB')\n",
            "(612.78, 'AAPL')\n"
          ]
        }
      ]
    },
    {
      "cell_type": "code",
      "metadata": {
        "colab": {
          "base_uri": "https://localhost:8080/"
        },
        "id": "961HewAlRdbF",
        "outputId": "a36c4319-8bbd-4fc8-828d-7c37b3f078b1"
      },
      "source": [
        "a = {\n",
        "    'x' : 1,\n",
        "    'y' : 2,\n",
        "    'z' : 3\n",
        "}\n",
        "\n",
        "b = {\n",
        "    'w' : 10,\n",
        "    'x' : 11,\n",
        "    'y' : 2\n",
        "}\n",
        "\n",
        "# Find keys in common\n",
        "print(a.keys() & b.keys()) \n",
        "# Find keys in a that are not in b\n",
        "print(a.keys() - b.keys()) \n",
        "# Find (key,value) pairs in common\n",
        "print(a.items() & b.items()) \n",
        "\n",
        "c = {key:a[key] for key in a.keys() - {'z', 'w'}}\n",
        "print(c)"
      ],
      "execution_count": null,
      "outputs": [
        {
          "output_type": "stream",
          "name": "stdout",
          "text": [
            "{'y', 'x'}\n",
            "{'z'}\n",
            "{('y', 2)}\n",
            "{'y': 2, 'x': 1}\n"
          ]
        }
      ]
    },
    {
      "cell_type": "code",
      "metadata": {
        "colab": {
          "base_uri": "https://localhost:8080/"
        },
        "id": "Rl-T04TTWz22",
        "outputId": "934db93d-a6c2-49c2-8d46-ce621d6b89ec"
      },
      "source": [
        "words = [\n",
        "    'look', 'into', 'my', 'eyes', 'look', 'into', 'my', 'eyes',\n",
        "    'the', 'eyes', 'the', 'eyes', 'the', 'eyes', 'not', 'around', 'the',\n",
        "    'eyes', \"don't\", 'look', 'around', 'the', 'eyes', 'look', 'into',\n",
        "    'my', 'eyes', \"you're\", 'under'\n",
        "]\n",
        "from collections import Counter\n",
        "word_counts = Counter(words)\n",
        "# 出现频率最高的3个单词\n",
        "top_three = word_counts.most_common(3)\n",
        "print(top_three)"
      ],
      "execution_count": null,
      "outputs": [
        {
          "output_type": "stream",
          "name": "stdout",
          "text": [
            "[('eyes', 8), ('the', 5), ('look', 4)]\n"
          ]
        }
      ]
    },
    {
      "cell_type": "code",
      "metadata": {
        "colab": {
          "base_uri": "https://localhost:8080/"
        },
        "id": "bE5qc1QlXhiA",
        "outputId": "124c6005-ef27-47ff-83b5-2a119d9d9505"
      },
      "source": [
        "rows = [\n",
        "    {'fname': 'Brian', 'lname': 'Jones', 'uid': 1003},\n",
        "    {'fname': 'David', 'lname': 'Beazley', 'uid': 1002},\n",
        "    {'fname': 'John', 'lname': 'Cleese', 'uid': 1001},\n",
        "    {'fname': 'Big', 'lname': 'Jones', 'uid': 1004}\n",
        "]\n",
        "\n",
        "from operator import itemgetter\n",
        "rows_by_fname = sorted(rows, key=itemgetter('fname'))\n",
        "rows_by_uid = sorted(rows, key=itemgetter('uid'))\n",
        "print(rows_by_fname)\n",
        "print(rows_by_uid)\n",
        "\n",
        "rows_by_lfname = sorted(rows, key=itemgetter('lname','fname'))\n",
        "print(rows_by_lfname)"
      ],
      "execution_count": null,
      "outputs": [
        {
          "output_type": "stream",
          "name": "stdout",
          "text": [
            "[{'fname': 'Big', 'lname': 'Jones', 'uid': 1004}, {'fname': 'Brian', 'lname': 'Jones', 'uid': 1003}, {'fname': 'David', 'lname': 'Beazley', 'uid': 1002}, {'fname': 'John', 'lname': 'Cleese', 'uid': 1001}]\n",
            "[{'fname': 'John', 'lname': 'Cleese', 'uid': 1001}, {'fname': 'David', 'lname': 'Beazley', 'uid': 1002}, {'fname': 'Brian', 'lname': 'Jones', 'uid': 1003}, {'fname': 'Big', 'lname': 'Jones', 'uid': 1004}]\n",
            "[{'fname': 'David', 'lname': 'Beazley', 'uid': 1002}, {'fname': 'John', 'lname': 'Cleese', 'uid': 1001}, {'fname': 'Big', 'lname': 'Jones', 'uid': 1004}, {'fname': 'Brian', 'lname': 'Jones', 'uid': 1003}]\n"
          ]
        }
      ]
    },
    {
      "cell_type": "code",
      "metadata": {
        "colab": {
          "base_uri": "https://localhost:8080/"
        },
        "id": "7B2661ucZLIB",
        "outputId": "61733135-a3b2-413f-c5a5-d8fc61efa9b2"
      },
      "source": [
        "rows = [\n",
        "    {'address': '5412 N CLARK', 'date': '07/01/2012'},\n",
        "    {'address': '5148 N CLARK', 'date': '07/04/2012'},\n",
        "    {'address': '5800 E 58TH', 'date': '07/02/2012'},\n",
        "    {'address': '2122 N CLARK', 'date': '07/03/2012'},\n",
        "    {'address': '5645 N RAVENSWOOD', 'date': '07/02/2012'},\n",
        "    {'address': '1060 W ADDISON', 'date': '07/02/2012'},\n",
        "    {'address': '4801 N BROADWAY', 'date': '07/01/2012'},\n",
        "    {'address': '1039 W GRANVILLE', 'date': '07/04/2012'},\n",
        "]\n",
        "\n",
        "from operator import itemgetter\n",
        "from itertools import groupby\n",
        "\n",
        "# Sort by the desired field first\n",
        "rows.sort(key=itemgetter('date'))\n",
        "# Iterate in groups\n",
        "for date, items in groupby(rows, key=itemgetter('date')):\n",
        "    print(date)\n",
        "    for i in items:\n",
        "        print(' ', i)\n",
        "\n",
        "from collections import defaultdict\n",
        "rows_by_date = defaultdict(list)\n",
        "for row in rows:\n",
        "  rows_by_date[row['date']].append(row)\n",
        "for r in rows_by_date['07/01/2012']:\n",
        "  print(r)"
      ],
      "execution_count": null,
      "outputs": [
        {
          "output_type": "stream",
          "name": "stdout",
          "text": [
            "07/01/2012\n",
            "  {'address': '5412 N CLARK', 'date': '07/01/2012'}\n",
            "  {'address': '4801 N BROADWAY', 'date': '07/01/2012'}\n",
            "07/02/2012\n",
            "  {'address': '5800 E 58TH', 'date': '07/02/2012'}\n",
            "  {'address': '5645 N RAVENSWOOD', 'date': '07/02/2012'}\n",
            "  {'address': '1060 W ADDISON', 'date': '07/02/2012'}\n",
            "07/03/2012\n",
            "  {'address': '2122 N CLARK', 'date': '07/03/2012'}\n",
            "07/04/2012\n",
            "  {'address': '5148 N CLARK', 'date': '07/04/2012'}\n",
            "  {'address': '1039 W GRANVILLE', 'date': '07/04/2012'}\n",
            "{'address': '5412 N CLARK', 'date': '07/01/2012'}\n",
            "{'address': '4801 N BROADWAY', 'date': '07/01/2012'}\n"
          ]
        }
      ]
    },
    {
      "cell_type": "code",
      "metadata": {
        "colab": {
          "base_uri": "https://localhost:8080/"
        },
        "id": "1IPQDb6Talq8",
        "outputId": "07ff7e9a-398d-4fb2-ca22-a537d10d7720"
      },
      "source": [
        "values = ['1', '2', '-3', '-', '4', 'N/A', '5']\n",
        "def is_int(val):\n",
        "    try:\n",
        "        x = int(val)\n",
        "        return True\n",
        "    except ValueError:\n",
        "        return False\n",
        "ivals = list(filter(is_int, values))\n",
        "print(ivals)"
      ],
      "execution_count": null,
      "outputs": [
        {
          "output_type": "stream",
          "name": "stdout",
          "text": [
            "['1', '2', '-3', '4', '5']\n"
          ]
        }
      ]
    },
    {
      "cell_type": "code",
      "metadata": {
        "colab": {
          "base_uri": "https://localhost:8080/"
        },
        "id": "LTIH3TNUhXfS",
        "outputId": "02508662-fe4d-472a-b84d-1ce2089d4f4e"
      },
      "source": [
        "addresses = [\n",
        "    '5412 N CLARK',\n",
        "    '5148 N CLARK',\n",
        "    '5800 E 58TH',\n",
        "    '2122 N CLARK',\n",
        "    '5645 N RAVENSWOOD',\n",
        "    '1060 W ADDISON',\n",
        "    '4801 N BROADWAY',\n",
        "    '1039 W GRANVILLE',\n",
        "]\n",
        "\n",
        "counts = [ 0, 3, 10, 4, 1, 7, 6, 1]\n",
        "from itertools import compress\n",
        "more5 = [n > 5 for n in counts]\n",
        "more5\n",
        "list(compress(addresses, more5))"
      ],
      "execution_count": null,
      "outputs": [
        {
          "output_type": "execute_result",
          "data": {
            "text/plain": [
              "['5800 E 58TH', '1060 W ADDISON', '4801 N BROADWAY']"
            ]
          },
          "metadata": {},
          "execution_count": 30
        }
      ]
    },
    {
      "cell_type": "code",
      "metadata": {
        "colab": {
          "base_uri": "https://localhost:8080/"
        },
        "id": "pXLZ8kpNiP1X",
        "outputId": "4ed14255-78eb-4af0-ba03-a812d96dbc67"
      },
      "source": [
        "prices = {\n",
        "    'ACME': 45.23,\n",
        "    'AAPL': 612.78,\n",
        "    'IBM': 205.55,\n",
        "    'HPQ': 37.20,\n",
        "    'FB': 10.75\n",
        "}\n",
        "\n",
        "p1 = dict((key, value) for key, value in prices.items() if value > 200)\n",
        "print(p1)"
      ],
      "execution_count": null,
      "outputs": [
        {
          "output_type": "stream",
          "name": "stdout",
          "text": [
            "{'AAPL': 612.78, 'IBM': 205.55}\n"
          ]
        }
      ]
    },
    {
      "cell_type": "code",
      "metadata": {
        "colab": {
          "base_uri": "https://localhost:8080/"
        },
        "id": "9ErzJcQvio4-",
        "outputId": "dd588844-4af2-4cec-d8f0-9d6a5d5eb2b9"
      },
      "source": [
        "from collections import namedtuple\n",
        "Subscriber = namedtuple('Subscriber', ['addr', 'joined'])\n",
        "sub = Subscriber('jonesy@example.com', '2012-10-19')\n",
        "print(sub)\n",
        "sub=sub._replace(joined='2011-10-9')\n",
        "print(sub)"
      ],
      "execution_count": null,
      "outputs": [
        {
          "output_type": "stream",
          "name": "stdout",
          "text": [
            "Subscriber(addr='jonesy@example.com', joined='2012-10-19')\n",
            "Subscriber(addr='jonesy@example.com', joined='2011-10-9')\n"
          ]
        }
      ]
    },
    {
      "cell_type": "code",
      "metadata": {
        "colab": {
          "base_uri": "https://localhost:8080/"
        },
        "id": "brDS33gvjXIy",
        "outputId": "1f8f6705-c41a-49d9-b01a-352d67266eda"
      },
      "source": [
        "a = {'x': 1, 'z': 3 }\n",
        "b = {'y': 2, 'z': 4 }\n",
        "from collections import ChainMap\n",
        "c = ChainMap(b,a) #first b then a\n",
        "print(c['x']) \n",
        "print(c['y']) \n",
        "print(c['z']) "
      ],
      "execution_count": null,
      "outputs": [
        {
          "output_type": "stream",
          "name": "stdout",
          "text": [
            "1\n",
            "2\n",
            "4\n"
          ]
        }
      ]
    },
    {
      "cell_type": "markdown",
      "metadata": {
        "id": "RGhOgvNqDcmM"
      },
      "source": [
        "# Chapter 2: Strings and text"
      ]
    },
    {
      "cell_type": "code",
      "metadata": {
        "id": "PjFkt-AlDiHj"
      },
      "source": [
        "from urllib.request import urlopen\n",
        "\n",
        "def read_data(name):\n",
        "    if name.startswith(('http:', 'https:', 'ftp:')) and name.endwith('.com','.net','.cn'):\n",
        "        return urlopen(name).read()\n",
        "    else:\n",
        "        with open(name) as f:\n",
        "            return f.read()"
      ],
      "execution_count": null,
      "outputs": []
    },
    {
      "cell_type": "code",
      "metadata": {
        "colab": {
          "base_uri": "https://localhost:8080/"
        },
        "id": "Nb_A0LYED7Ha",
        "outputId": "4e0755fc-8555-45da-bbc1-23fb7d45efbe"
      },
      "source": [
        "import re\n",
        "text = 'UPPER PYTHON, lower python, Mixed Python'\n",
        "print(re.findall('python', text, flags=re.IGNORECASE))\n",
        "\n",
        "def matchcase(word):\n",
        "    def replace(m):\n",
        "        text = m.group()\n",
        "        if text.isupper():\n",
        "            return word.upper()\n",
        "        elif text.islower():\n",
        "            return word.lower()\n",
        "        elif text[0].isupper():\n",
        "            return word.capitalize()\n",
        "        else:\n",
        "            return word\n",
        "    return replace\n",
        "\n",
        "print(re.sub('python', matchcase('snake'), text, flags=re.IGNORECASE))"
      ],
      "execution_count": null,
      "outputs": [
        {
          "output_type": "stream",
          "name": "stdout",
          "text": [
            "['PYTHON', 'python', 'Python']\n",
            "UPPER SNAKE, lower snake, Mixed Snake\n"
          ]
        }
      ]
    },
    {
      "cell_type": "code",
      "metadata": {
        "colab": {
          "base_uri": "https://localhost:8080/"
        },
        "id": "wqzAYS6kE04-",
        "outputId": "33e62325-b8aa-4884-ed69-2b9f7d2894a9"
      },
      "source": [
        "# Shortest matching pattern\n",
        "str_pat = re.compile(r'\"(.*)\"')\n",
        "text1 = 'Computer says \"no.\"'\n",
        "print(str_pat.findall(text1))\n",
        "text2 = 'Computer says \"no.\" Phone says \"yes.\"'\n",
        "print(str_pat.findall(text2))\n",
        "\n",
        "str_pat = re.compile(r'\"(.*?)\"') #? shortest\n",
        "print(str_pat.findall(text2))"
      ],
      "execution_count": null,
      "outputs": [
        {
          "output_type": "stream",
          "name": "stdout",
          "text": [
            "['no.']\n",
            "['no.\" Phone says \"yes.']\n",
            "['no.', 'yes.']\n"
          ]
        }
      ]
    },
    {
      "cell_type": "code",
      "metadata": {
        "colab": {
          "base_uri": "https://localhost:8080/"
        },
        "id": "zoaMLJZ7GA_e",
        "outputId": "08891508-9500-408e-8767-bf272ab6faa5"
      },
      "source": [
        "s = 'pýtĥöñ\\fis\\tawesome\\r\\n'\n",
        "remap = {\n",
        "    ord('\\t') : ' ',\n",
        "    ord('\\f') : ' ',\n",
        "    ord('\\r') : None # Deleted\n",
        "}\n",
        "a = s.translate(remap)\n",
        "print(a)\n",
        "\n",
        "import unicodedata\n",
        "import sys\n",
        "cmb_chrs = dict.fromkeys(c for c in range(sys.maxunicode)\n",
        "                        if unicodedata.combining(chr(c)))\n",
        "\n",
        "b = unicodedata.normalize('NFD', a)\n",
        "print(b)\n",
        "b=b.translate(cmb_chrs)\n",
        "print(b)"
      ],
      "execution_count": null,
      "outputs": [
        {
          "output_type": "stream",
          "name": "stdout",
          "text": [
            "pýtĥöñ is awesome\n",
            "\n",
            "pýtĥöñ is awesome\n",
            "\n",
            "python is awesome\n",
            "\n"
          ]
        }
      ]
    },
    {
      "cell_type": "code",
      "metadata": {
        "colab": {
          "base_uri": "https://localhost:8080/"
        },
        "id": "m6F548HkGld7",
        "outputId": "9d4a1804-7122-43e4-bac0-fd7c683c25b1"
      },
      "source": [
        "text = 'Hello World'\n",
        "print(text.ljust(20,'@'))\n",
        "       \n",
        "print(text.rjust(20),'.')\n",
        "\n",
        "print(text.center(20))\n",
        "\n",
        "print('{:>10s} {:>10s}'.format('Hello', 'World'))"
      ],
      "execution_count": null,
      "outputs": [
        {
          "output_type": "stream",
          "name": "stdout",
          "text": [
            "Hello World@@@@@@@@@\n",
            "         Hello World .\n",
            "    Hello World     \n",
            "     Hello      World\n"
          ]
        }
      ]
    },
    {
      "cell_type": "code",
      "metadata": {
        "colab": {
          "base_uri": "https://localhost:8080/"
        },
        "id": "NtBO5P_hNEvP",
        "outputId": "b2bbe514-c9b6-4fae-bcf5-80f2a4cd8b4d"
      },
      "source": [
        "parts = ['Is', 'Chicago', 'Not', 'Chicago?']\n",
        "test=' '.join(parts)\n",
        "print(test)"
      ],
      "execution_count": null,
      "outputs": [
        {
          "output_type": "stream",
          "name": "stdout",
          "text": [
            "Is Chicago Not Chicago?\n"
          ]
        }
      ]
    },
    {
      "cell_type": "code",
      "metadata": {
        "colab": {
          "base_uri": "https://localhost:8080/"
        },
        "id": "6vAFVdwKNMpc",
        "outputId": "46fbff01-5efd-4481-9e7f-1911a5317b46"
      },
      "source": [
        "import sys\n",
        "s = '{name} has {n} messages.'\n",
        "s.format(name='Guido', n=37)\n",
        "s = '{name} has {n} messages.'\n",
        "s.format(name='Guido', n=37)\n",
        "print(s)\n",
        "\n",
        "class safesub(dict):\n",
        "  \"\"\"prevent key missing\"\"\"\n",
        "  def __missing__(self, key):\n",
        "    return '{' + key + '}'\n",
        "\n",
        "def sub(text):\n",
        "    return text.format_map(safesub(sys._getframe(1).f_locals))\n",
        "\n",
        "name = 'Guido'\n",
        "n = 37\n",
        "print(sub('Hello {name}'))\n",
        "\n",
        "print(sub('You have {n} messages.'))\n",
        "\n",
        "print(sub('Your favorite color is {color}'))\n",
        "\n"
      ],
      "execution_count": null,
      "outputs": [
        {
          "output_type": "stream",
          "name": "stdout",
          "text": [
            "{name} has {n} messages.\n",
            "Hello Guido\n",
            "You have 37 messages.\n",
            "Your favorite color is {color}\n"
          ]
        }
      ]
    },
    {
      "cell_type": "markdown",
      "metadata": {
        "id": "H2W2YKJbPfdV"
      },
      "source": [
        "# Chapter 3: Digital dates and times"
      ]
    },
    {
      "cell_type": "code",
      "metadata": {
        "colab": {
          "base_uri": "https://localhost:8080/"
        },
        "id": "fO7lLrexQkos",
        "outputId": "cd7f8b75-fe49-4743-9785-b3e2f91d61ba"
      },
      "source": [
        "from decimal import localcontext\n",
        "from decimal import Decimal\n",
        "\n",
        "a = Decimal('1.3')\n",
        "b = Decimal('1.7')\n",
        "print(a / b)\n",
        "\n",
        "with localcontext() as ctx:\n",
        "    ctx.prec = 3\n",
        "    print(a / b)\n",
        "\n",
        "with localcontext() as ctx:\n",
        "    ctx.prec = 50\n",
        "    print(a / b)"
      ],
      "execution_count": null,
      "outputs": [
        {
          "output_type": "stream",
          "name": "stdout",
          "text": [
            "0.7647058823529411764705882353\n",
            "0.765\n",
            "0.76470588235294117647058823529411764705882352941176\n"
          ]
        }
      ]
    },
    {
      "cell_type": "code",
      "metadata": {
        "colab": {
          "base_uri": "https://localhost:8080/"
        },
        "id": "f-es_lKRQkx_",
        "outputId": "166e9b68-6826-405d-9cf4-7240ff0f809d"
      },
      "source": [
        "#change big number\n",
        "x=523**23\n",
        "print(x)\n",
        "\n",
        "nbytes, rem = divmod(x.bit_length(), 8)\n",
        "if rem:\n",
        "  nbytes+=1\n",
        "\n",
        "x.to_bytes(nbytes,'little')"
      ],
      "execution_count": null,
      "outputs": [
        {
          "output_type": "stream",
          "name": "stdout",
          "text": [
            "335381300113661875107536852714019056160355655333978849017944067\n"
          ]
        },
        {
          "output_type": "execute_result",
          "data": {
            "text/plain": [
              "b'\\x03X\\xf1\\x82iT\\x96\\xac\\xc7c\\x16\\xf3\\xb9\\xcf\\x18\\xee\\xec\\x91\\xd1\\x98\\xa2\\xc8\\xd9R\\xb5\\xd0'"
            ]
          },
          "metadata": {},
          "execution_count": 30
        }
      ]
    },
    {
      "cell_type": "code",
      "metadata": {
        "colab": {
          "base_uri": "https://localhost:8080/"
        },
        "id": "E15F7A8_SuC9",
        "outputId": "30ec2268-2034-4645-b5ea-a8ebd842c4e8"
      },
      "source": [
        "from datetime import datetime, date, timedelta\n",
        "import calendar\n",
        "\n",
        "def get_month_range(start_date=None):\n",
        "    if start_date is None:\n",
        "        start_date = date.today().replace(day=1)\n",
        "    _, days_in_month = calendar.monthrange(start_date.year, start_date.month)\n",
        "    end_date = start_date + timedelta(days=days_in_month)\n",
        "    return (start_date, end_date)\n",
        "\n",
        "a_day = timedelta(days=1)\n",
        "first_day, last_day = get_month_range()\n",
        "while first_day < last_day:\n",
        "    print(first_day)\n",
        "    first_day += a_day"
      ],
      "execution_count": null,
      "outputs": [
        {
          "output_type": "stream",
          "name": "stdout",
          "text": [
            "2021-09-01\n",
            "2021-09-02\n",
            "2021-09-03\n",
            "2021-09-04\n",
            "2021-09-05\n",
            "2021-09-06\n",
            "2021-09-07\n",
            "2021-09-08\n",
            "2021-09-09\n",
            "2021-09-10\n",
            "2021-09-11\n",
            "2021-09-12\n",
            "2021-09-13\n",
            "2021-09-14\n",
            "2021-09-15\n",
            "2021-09-16\n",
            "2021-09-17\n",
            "2021-09-18\n",
            "2021-09-19\n",
            "2021-09-20\n",
            "2021-09-21\n",
            "2021-09-22\n",
            "2021-09-23\n",
            "2021-09-24\n",
            "2021-09-25\n",
            "2021-09-26\n",
            "2021-09-27\n",
            "2021-09-28\n",
            "2021-09-29\n",
            "2021-09-30\n"
          ]
        }
      ]
    },
    {
      "cell_type": "markdown",
      "metadata": {
        "id": "KgodT0QXDgIf"
      },
      "source": [
        "# Chapter 4: Iterators and Generators\n"
      ]
    },
    {
      "cell_type": "code",
      "metadata": {
        "colab": {
          "base_uri": "https://localhost:8080/"
        },
        "id": "Bh9xjm1hTdA_",
        "outputId": "0efcef55-586e-4a9f-8d01-9938c3066839"
      },
      "source": [
        "class Node:\n",
        "    def __init__(self, value):\n",
        "        self._value = value\n",
        "        self._children = []\n",
        "\n",
        "    def __repr__(self):\n",
        "        return 'Node({!r})'.format(self._value)\n",
        "\n",
        "    def add_child(self, node):\n",
        "        self._children.append(node)\n",
        "\n",
        "    def __iter__(self):\n",
        "        return iter(self._children)\n",
        "\n",
        "    def depth_first(self):\n",
        "        yield self\n",
        "        for c in self:\n",
        "            yield from c.depth_first()\n",
        "\n",
        "root = Node(0)\n",
        "child1 = Node(1)\n",
        "child2 = Node(2)\n",
        "root.add_child(child1)\n",
        "root.add_child(child2)\n",
        "child1.add_child(Node(3))\n",
        "child1.add_child(Node(4))\n",
        "child2.add_child(Node(5))\n",
        "for ch in root.depth_first():\n",
        "    print(ch)"
      ],
      "execution_count": null,
      "outputs": [
        {
          "output_type": "stream",
          "name": "stdout",
          "text": [
            "Node(0)\n",
            "Node(1)\n",
            "Node(3)\n",
            "Node(4)\n",
            "Node(2)\n",
            "Node(5)\n"
          ]
        }
      ]
    },
    {
      "cell_type": "code",
      "metadata": {
        "colab": {
          "base_uri": "https://localhost:8080/"
        },
        "id": "_Bq5yR3gVQl2",
        "outputId": "7be4f3d7-c506-4cfe-88b5-abc21fd1a671"
      },
      "source": [
        "class Countdown:\n",
        "    def __init__(self, start):\n",
        "        self.start = start\n",
        "\n",
        "    # Forward iterator\n",
        "    def __iter__(self):\n",
        "        n = self.start\n",
        "        while n > 0:\n",
        "            yield n\n",
        "            n -= 1\n",
        "\n",
        "    # Reverse iterator\n",
        "    def __reversed__(self):\n",
        "        n = 1\n",
        "        while n <= self.start:\n",
        "            yield n\n",
        "            n += 1\n",
        "\n",
        "for rr in reversed(Countdown(5)):\n",
        "    print(rr)\n",
        "for rr in Countdown(5):\n",
        "    print(rr)"
      ],
      "execution_count": null,
      "outputs": [
        {
          "output_type": "stream",
          "name": "stdout",
          "text": [
            "1\n",
            "2\n",
            "3\n",
            "4\n",
            "5\n",
            "5\n",
            "4\n",
            "3\n",
            "2\n",
            "1\n"
          ]
        }
      ]
    },
    {
      "cell_type": "code",
      "metadata": {
        "colab": {
          "base_uri": "https://localhost:8080/"
        },
        "id": "yhrpWxB_WF6W",
        "outputId": "a5b936e7-fca7-479f-eba7-5042d1efac3f"
      },
      "source": [
        "# slice\n",
        "def count(n):\n",
        "    while True:\n",
        "        yield n\n",
        "        n += 1\n",
        "\n",
        "c = count(0)\n",
        "print(next(c))\n",
        "\n",
        "import itertools\n",
        "for x in itertools.islice(c, 10, 15):\n",
        "     print(x)\n",
        "\n",
        "for x in itertools.islice(c, None, 2):\n",
        "     print(x)"
      ],
      "execution_count": null,
      "outputs": [
        {
          "output_type": "stream",
          "name": "stdout",
          "text": [
            "0\n",
            "11\n",
            "12\n",
            "13\n",
            "14\n",
            "15\n",
            "16\n",
            "17\n"
          ]
        }
      ]
    },
    {
      "cell_type": "code",
      "metadata": {
        "colab": {
          "base_uri": "https://localhost:8080/"
        },
        "id": "s-HCPVtgWz6b",
        "outputId": "04a086c0-6904-4c14-bbac-5eeea99e05f1"
      },
      "source": [
        "items = ['a', 'b', 'c']\n",
        "from itertools import permutations\n",
        "for p in permutations(items,2):\n",
        "    print(p)\n",
        "\n",
        "#all combinations of elements in the set\n",
        "from itertools import combinations\n",
        "for c in combinations(items, 3):\n",
        "    print(c)"
      ],
      "execution_count": null,
      "outputs": [
        {
          "output_type": "stream",
          "name": "stdout",
          "text": [
            "('a', 'b')\n",
            "('a', 'c')\n",
            "('b', 'a')\n",
            "('b', 'c')\n",
            "('c', 'a')\n",
            "('c', 'b')\n",
            "('a', 'b', 'c')\n"
          ]
        }
      ]
    },
    {
      "cell_type": "code",
      "metadata": {
        "colab": {
          "base_uri": "https://localhost:8080/"
        },
        "id": "In5Vywp2XVKl",
        "outputId": "1b89a4fa-8c8e-4f46-ec83-044206e3f56b"
      },
      "source": [
        "from itertools import chain\n",
        "a = [1, 2, 3, 4]\n",
        "b = ['x', 'y', 'z']\n",
        "for x in chain(a, b):\n",
        "  print(x)"
      ],
      "execution_count": null,
      "outputs": [
        {
          "output_type": "stream",
          "name": "stdout",
          "text": [
            "1\n",
            "2\n",
            "3\n",
            "4\n",
            "x\n",
            "y\n",
            "z\n"
          ]
        }
      ]
    },
    {
      "cell_type": "code",
      "metadata": {
        "id": "8hbssizOY-XX"
      },
      "source": [
        "#flatten\n",
        "from collections import Iterable\n",
        "\n",
        "def flatten(items, ignore_types=(str, bytes)):\n",
        "    for x in items:\n",
        "        if isinstance(x, Iterable) and not isinstance(x, ignore_types):\n",
        "            yield from flatten(x)\n",
        "        else:\n",
        "            yield x\n",
        "\n",
        "items = [1, 2, [3, 4, [5, 6], 7], 8]\n",
        "# Produces 1 2 3 4 5 6 7 8\n",
        "for x in flatten(items):\n",
        "    print(x)"
      ],
      "execution_count": null,
      "outputs": []
    },
    {
      "cell_type": "code",
      "metadata": {
        "colab": {
          "base_uri": "https://localhost:8080/"
        },
        "id": "9U2QUAFCZcjm",
        "outputId": "12fb7684-c630-431a-9c7a-ce3626e4b1e2"
      },
      "source": [
        "import heapq\n",
        "a = [1, 4, 7, 10]\n",
        "b = [2, 5, 6, 11]\n",
        "for c in heapq.merge(a, b):\n",
        "    print(c)"
      ],
      "execution_count": null,
      "outputs": [
        {
          "output_type": "stream",
          "name": "stdout",
          "text": [
            "1\n",
            "2\n",
            "4\n",
            "5\n",
            "6\n",
            "7\n",
            "10\n",
            "11\n"
          ]
        }
      ]
    },
    {
      "cell_type": "markdown",
      "metadata": {
        "id": "Ip0XfHxRZtFZ"
      },
      "source": [
        "# Chapter 5: Files and IO"
      ]
    },
    {
      "cell_type": "code",
      "metadata": {
        "colab": {
          "base_uri": "https://localhost:8080/"
        },
        "id": "I1rDhUctZoAK",
        "outputId": "d862bd95-6a35-402f-82a9-6b83558abfa4"
      },
      "source": [
        "print('ACME', 50, 91.5, sep=',', end='!!\\n')\n",
        "\n",
        "row = ('ACME', 50, 91.5)\n",
        "print(*row, sep=',')"
      ],
      "execution_count": null,
      "outputs": [
        {
          "output_type": "stream",
          "name": "stdout",
          "text": [
            "ACME,50,91.5!!\n",
            "ACME,50,91.5\n"
          ]
        }
      ]
    },
    {
      "cell_type": "code",
      "metadata": {
        "id": "zuJ_5E-QaUyI"
      },
      "source": [
        "# file can be written only if it does not exist\n",
        "with open('somefile', 'xt') as f:\n",
        "     f.write('Hello\\n')\n",
        "\n",
        "import os\n",
        "if not os.path.exists('somefile'):\n",
        "    with open('somefile', 'wt') as f:\n",
        "        f.write('Hello\\n')\n",
        "else:\n",
        "    print('File already exists!')"
      ],
      "execution_count": null,
      "outputs": []
    },
    {
      "cell_type": "code",
      "metadata": {
        "id": "Ycj9EKvqar0j"
      },
      "source": [
        "#File iteration of fixed-size records\n",
        "from functools import partial\n",
        "\n",
        "RECORD_SIZE = 32\n",
        "\n",
        "with open('somefile.data', 'rb') as f:\n",
        "    records = iter(partial(f.read, RECORD_SIZE), b'')\n",
        "    for r in records:\n",
        "        ..."
      ],
      "execution_count": null,
      "outputs": []
    },
    {
      "cell_type": "code",
      "metadata": {
        "colab": {
          "base_uri": "https://localhost:8080/"
        },
        "id": "pLfdlXYlay3o",
        "outputId": "8612ba21-18c4-43bc-ce99-30c71e0421a0"
      },
      "source": [
        "import os.path\n",
        "\n",
        "# Get all regular files\n",
        "names = [name for name in os.listdir('sample_data')\n",
        "        if os.path.isfile(os.path.join('sample_data', name))]\n",
        "print(names)\n",
        "\n",
        "# Get all dirs\n",
        "dirnames = [name for name in os.listdir('./')\n",
        "        if os.path.isdir(os.path.join('./', name))]\n",
        "print(dirnames) \n",
        "\n",
        "csvfiles = [name for name in os.listdir('sample_data')\n",
        "            if name.endswith('.csv')]\n",
        "print(csvfiles)"
      ],
      "execution_count": null,
      "outputs": [
        {
          "output_type": "stream",
          "name": "stdout",
          "text": [
            "['anscombe.json', 'README.md', 'california_housing_train.csv', 'california_housing_test.csv', 'mnist_train_small.csv', 'mnist_test.csv']\n",
            "['.config', 'sample_data']\n",
            "['california_housing_train.csv', 'california_housing_test.csv', 'mnist_train_small.csv', 'mnist_test.csv']\n"
          ]
        }
      ]
    },
    {
      "cell_type": "markdown",
      "metadata": {
        "id": "-UYlCTrxcgZ8"
      },
      "source": [
        "# Chapter 6: Data coding and processing"
      ]
    },
    {
      "cell_type": "code",
      "metadata": {
        "colab": {
          "base_uri": "https://localhost:8080/"
        },
        "id": "4pC7W54Achbk",
        "outputId": "9cf51337-568f-4c75-bf70-a62d23af5deb"
      },
      "source": [
        "import json\n",
        "\n",
        "data = {\n",
        "    'name' : 'ACME',\n",
        "    'shares' : 100,\n",
        "    'price' : 542.23\n",
        "}\n",
        "\n",
        "json_str = json.dumps(data)\n",
        "\n",
        "data = json.loads(json_str)\n",
        "print(data)"
      ],
      "execution_count": null,
      "outputs": [
        {
          "output_type": "stream",
          "name": "stdout",
          "text": [
            "{'name': 'ACME', 'shares': 100, 'price': 542.23}\n"
          ]
        }
      ]
    },
    {
      "cell_type": "code",
      "metadata": {
        "id": "AvAgiS4UdA20"
      },
      "source": [
        "#read big xml\n",
        "from collections import Counter\n",
        "\n",
        "potholes_by_zip = Counter()\n",
        "\n",
        "data = parse_and_remove('potholes.xml', 'row/row')\n",
        "for pothole in data:\n",
        "    potholes_by_zip[pothole.findtext('zip')] += 1\n",
        "for zipcode, num in potholes_by_zip.most_common():\n",
        "    print(zipcode, num)"
      ],
      "execution_count": null,
      "outputs": []
    },
    {
      "cell_type": "markdown",
      "metadata": {
        "id": "beRQ7nCEdvHN"
      },
      "source": [
        "#Chapter 7: Functions"
      ]
    },
    {
      "cell_type": "code",
      "metadata": {
        "colab": {
          "base_uri": "https://localhost:8080/"
        },
        "id": "YZJOyCu8dzcO",
        "outputId": "30ca4cc3-afaf-4ab7-b1d3-b730256fef26"
      },
      "source": [
        "funcs = [lambda x, n=n: x+n for n in range(5)]\n",
        "for f in funcs:\n",
        "  print(f(0))"
      ],
      "execution_count": null,
      "outputs": [
        {
          "output_type": "stream",
          "name": "stdout",
          "text": [
            "0\n",
            "1\n",
            "2\n",
            "3\n",
            "4\n"
          ]
        }
      ]
    },
    {
      "cell_type": "code",
      "metadata": {
        "colab": {
          "base_uri": "https://localhost:8080/"
        },
        "id": "qO1Q044PflPS",
        "outputId": "7bfba756-69e6-41d3-87d6-caf9f24fb64f"
      },
      "source": [
        "#Fixed some parameter values\n",
        "points = [ (1, 2), (3, 4), (5, 6), (7, 8) ]\n",
        "\n",
        "from functools import partial\n",
        "import math\n",
        "\n",
        "def distance(p1, p2):\n",
        "    x1, y1 = p1\n",
        "    x2, y2 = p2\n",
        "    return math.hypot(x2 - x1, y2 - y1)\n",
        "\n",
        "pt = (4, 3)\n",
        "points.sort(key=partial(distance,pt))\n",
        "points"
      ],
      "execution_count": null,
      "outputs": [
        {
          "output_type": "execute_result",
          "data": {
            "text/plain": [
              "[(3, 4), (1, 2), (5, 6), (7, 8)]"
            ]
          },
          "metadata": {},
          "execution_count": 62
        }
      ]
    },
    {
      "cell_type": "code",
      "metadata": {
        "colab": {
          "base_uri": "https://localhost:8080/"
        },
        "id": "mZKx6SdDhId-",
        "outputId": "2b6363fb-667e-4b13-a6fe-5cd6386a2a30"
      },
      "source": [
        "def apply_async(func, args, *, callback):\n",
        "    # Compute the result\n",
        "    result = func(*args)\n",
        "\n",
        "    # Invoke the callback with the result\n",
        "    callback(result)\n",
        "\n",
        "def print_result(result):\n",
        "    print('Got:', result)\n",
        "\n",
        "def add(x, y):\n",
        "    return x + y\n",
        "\n",
        "apply_async(add, (2, 3), callback=print_result)\n",
        "\n",
        "apply_async(add, ('hello', 'world'), callback=print_result)\n",
        "\n",
        "def make_handler():\n",
        "    sequence = 0\n",
        "    while True:\n",
        "        result = yield\n",
        "        sequence += 1\n",
        "        print('[{}] Got: {}'.format(sequence, result))\n",
        "\n",
        "handler = make_handler()\n",
        "next(handler) # Advance to the yield\n",
        "apply_async(add, (2, 3), callback=handler.send)\n",
        "\n",
        "apply_async(add, ('hello', 'world'), callback=handler.send)"
      ],
      "execution_count": null,
      "outputs": [
        {
          "output_type": "stream",
          "name": "stdout",
          "text": [
            "Got: 5\n",
            "Got: helloworld\n",
            "[1] Got: 5\n",
            "[2] Got: helloworld\n"
          ]
        }
      ]
    },
    {
      "cell_type": "code",
      "metadata": {
        "colab": {
          "base_uri": "https://localhost:8080/"
        },
        "id": "BJAMwPDvhkJP",
        "outputId": "03ac7a67-cedc-4c0a-8d6d-2d88884839e4"
      },
      "source": [
        "from queue import Queue\n",
        "from functools import wraps\n",
        "\n",
        "class Async:\n",
        "    def __init__(self, func, args):\n",
        "        self.func = func\n",
        "        self.args = args\n",
        "\n",
        "def inlined_async(func):\n",
        "    @wraps(func)\n",
        "    def wrapper(*args):\n",
        "        f = func(*args)\n",
        "        result_queue = Queue()\n",
        "        result_queue.put(None)\n",
        "        while True:\n",
        "            result = result_queue.get()\n",
        "            try:\n",
        "                a = f.send(result)\n",
        "                apply_async(a.func, a.args, callback=result_queue.put)\n",
        "            except StopIteration:\n",
        "                break\n",
        "    return wrapper\n",
        "\n",
        "def add(x, y):\n",
        "    return x + y\n",
        "\n",
        "@inlined_async\n",
        "def test():\n",
        "    r = yield Async(add, (2, 3))\n",
        "    print(r)\n",
        "    r = yield Async(add, ('hello', 'world'))\n",
        "    print(r)\n",
        "    for n in range(10):\n",
        "        r = yield Async(add, (n, n))\n",
        "        print(r)\n",
        "    print('Goodbye')\n",
        "\n",
        "test()"
      ],
      "execution_count": null,
      "outputs": [
        {
          "output_type": "stream",
          "name": "stdout",
          "text": [
            "5\n",
            "helloworld\n",
            "0\n",
            "2\n",
            "4\n",
            "6\n",
            "8\n",
            "10\n",
            "12\n",
            "14\n",
            "16\n",
            "18\n",
            "Goodbye\n"
          ]
        }
      ]
    },
    {
      "cell_type": "markdown",
      "metadata": {
        "id": "DAdc6LToinz7"
      },
      "source": [
        "# Chapter 8: Classes and Objects"
      ]
    },
    {
      "cell_type": "code",
      "metadata": {
        "colab": {
          "base_uri": "https://localhost:8080/"
        },
        "id": "qckxksQFirKI",
        "outputId": "cf79d69f-1a94-4e65-bf92-14cdca5cc6bb"
      },
      "source": [
        "class Pair:\n",
        "    def __init__(self, x, y):\n",
        "        self.x = x\n",
        "        self.y = y\n",
        "\n",
        "    def __repr__(self):\n",
        "        return 'Pair({0.x!r}, {0.y!r})'.format(self)\n",
        "\n",
        "    def __str__(self):\n",
        "        return '({0.x!s}, {0.y!s})'.format(self)\n",
        "\n",
        "p = Pair(3, 4)\n",
        "print(p)\n",
        "p"
      ],
      "execution_count": null,
      "outputs": [
        {
          "output_type": "stream",
          "name": "stdout",
          "text": [
            "(3, 4)\n"
          ]
        },
        {
          "output_type": "execute_result",
          "data": {
            "text/plain": [
              "Pair(3, 4)"
            ]
          },
          "metadata": {},
          "execution_count": 67
        }
      ]
    },
    {
      "cell_type": "code",
      "metadata": {
        "id": "1cy2Kp8Ejrsk"
      },
      "source": [
        "#save memory\n",
        "class Date:\n",
        "    __slots__ = ['year', 'month', 'day']\n",
        "    def __init__(self, year, month, day):\n",
        "        self.year = year\n",
        "        self.month = month\n",
        "        self.day = day"
      ],
      "execution_count": null,
      "outputs": []
    },
    {
      "cell_type": "code",
      "metadata": {
        "id": "DBHD9Od_k3SD"
      },
      "source": [
        "#This property cannot be overridden by inheritance\n",
        "class C(B):\n",
        "    def __init__(self):\n",
        "        super().__init__()\n",
        "        self.__private = 1 # Does not override B.__private\n",
        "\n",
        "    # Does not override B.__private_method()\n",
        "    def __private_method(self):\n",
        "        pass"
      ],
      "execution_count": null,
      "outputs": []
    },
    {
      "cell_type": "code",
      "metadata": {
        "colab": {
          "base_uri": "https://localhost:8080/"
        },
        "id": "hDPgFdq5lYxp",
        "outputId": "b52de35f-2a9d-409c-975e-9ce804f77c3f"
      },
      "source": [
        "import math\n",
        "\n",
        "#The result values are expected to be cached\n",
        "#property: change function to attribute\n",
        "def lazyproperty(func):\n",
        "    name = '_lazy_' + func.__name__\n",
        "    @property\n",
        "    def lazy(self):\n",
        "        if hasattr(self, name):\n",
        "            return getattr(self, name)\n",
        "        else:\n",
        "            value = func(self)\n",
        "            setattr(self, name, value)\n",
        "            return value\n",
        "    return lazy\n",
        "\n",
        "class Circle:\n",
        "    def __init__(self, radius):\n",
        "        self.radius = radius\n",
        "\n",
        "    @lazyproperty\n",
        "    def area(self):\n",
        "        return math.pi * self.radius ** 2\n",
        "\n",
        "    @lazyproperty\n",
        "    def diameter(self):\n",
        "        return self.radius * 2\n",
        "\n",
        "    @property\n",
        "    def perimeter(self):\n",
        "        return 2 * math.pi * self.radius\n",
        "\n",
        "c = Circle(6.0)\n",
        "print(c.radius)\n",
        "print(c.area)\n",
        "print(c.perimeter)"
      ],
      "execution_count": null,
      "outputs": [
        {
          "output_type": "stream",
          "name": "stdout",
          "text": [
            "6.0\n",
            "113.09733552923255\n",
            "37.69911184307752\n"
          ]
        }
      ]
    },
    {
      "cell_type": "code",
      "metadata": {
        "colab": {
          "base_uri": "https://localhost:8080/",
          "height": 332
        },
        "id": "kDGRKqT6oCCt",
        "outputId": "362f760c-2110-4f97-d1a0-de8d58b3d159"
      },
      "source": [
        "# Decorator for applying type checking\n",
        "def Typed(expected_type, cls=None):\n",
        "    if cls is None:\n",
        "        return lambda cls: Typed(expected_type, cls)\n",
        "    super_set = cls.__set__\n",
        "\n",
        "    def __set__(self, instance, value):\n",
        "        if not isinstance(value, expected_type):\n",
        "            raise TypeError('expected ' + str(expected_type))\n",
        "        super_set(self, instance, value)\n",
        "\n",
        "    cls.__set__ = __set__\n",
        "    return cls\n",
        "\n",
        "class Descriptor:\n",
        "    def __init__(self, name=None, **opts):\n",
        "        self.name = name\n",
        "        for key, value in opts.items():\n",
        "            setattr(self, key, value)\n",
        "\n",
        "    def __set__(self, instance, value):\n",
        "        instance.__dict__[self.name] = value\n",
        "\n",
        "# Decorator for unsigned values\n",
        "def Unsigned(cls):\n",
        "    super_set = cls.__set__\n",
        "\n",
        "    def __set__(self, instance, value):\n",
        "        if value < 0:\n",
        "            raise ValueError('Expected >= 0')\n",
        "        super_set(self, instance, value)\n",
        "\n",
        "    cls.__set__ = __set__\n",
        "    return cls\n",
        "\n",
        "\n",
        "# Decorator for allowing sized values\n",
        "def MaxSized(cls):\n",
        "    super_init = cls.__init__\n",
        "\n",
        "    def __init__(self, name=None, **opts):\n",
        "        if 'size' not in opts:\n",
        "            raise TypeError('missing size option')\n",
        "        super_init(self, name, **opts)\n",
        "\n",
        "    cls.__init__ = __init__\n",
        "\n",
        "    super_set = cls.__set__\n",
        "\n",
        "    def __set__(self, instance, value):\n",
        "        if len(value) >= self.size:\n",
        "            raise ValueError('size must be < ' + str(self.size))\n",
        "        super_set(self, instance, value)\n",
        "\n",
        "    cls.__set__ = __set__\n",
        "    return cls\n",
        "\n",
        "\n",
        "# Specialized descriptors\n",
        "@Typed(int)\n",
        "class Integer(Descriptor):\n",
        "    pass\n",
        "\n",
        "\n",
        "@Unsigned\n",
        "class UnsignedInteger(Integer):\n",
        "    pass\n",
        "\n",
        "\n",
        "@Typed(float)\n",
        "class Float(Descriptor):\n",
        "    pass\n",
        "\n",
        "\n",
        "@Unsigned\n",
        "class UnsignedFloat(Float):\n",
        "    pass\n",
        "\n",
        "\n",
        "@Typed(str)\n",
        "class String(Descriptor):\n",
        "    pass\n",
        "\n",
        "\n",
        "@MaxSized\n",
        "class SizedString(String):\n",
        "    pass\n",
        "\n",
        "class Stock:\n",
        "    # Specify constraints\n",
        "    name = SizedString('name', size=8)\n",
        "    shares = UnsignedInteger('shares')\n",
        "    price = UnsignedFloat('price')\n",
        "\n",
        "    def __init__(self, name, shares, price):\n",
        "        self.name = name\n",
        "        self.shares = shares\n",
        "        self.price = price\n",
        "s=Stock('cdcd',75,25.1)\n",
        "s.shares = -10"
      ],
      "execution_count": null,
      "outputs": [
        {
          "output_type": "error",
          "ename": "ValueError",
          "evalue": "ignored",
          "traceback": [
            "\u001b[0;31m---------------------------------------------------------------------------\u001b[0m",
            "\u001b[0;31mValueError\u001b[0m                                Traceback (most recent call last)",
            "\u001b[0;32m<ipython-input-84-5ec86e97ad2d>\u001b[0m in \u001b[0;36m<module>\u001b[0;34m()\u001b[0m\n\u001b[1;32m     98\u001b[0m         \u001b[0mself\u001b[0m\u001b[0;34m.\u001b[0m\u001b[0mprice\u001b[0m \u001b[0;34m=\u001b[0m \u001b[0mprice\u001b[0m\u001b[0;34m\u001b[0m\u001b[0;34m\u001b[0m\u001b[0m\n\u001b[1;32m     99\u001b[0m \u001b[0ms\u001b[0m\u001b[0;34m=\u001b[0m\u001b[0mStock\u001b[0m\u001b[0;34m(\u001b[0m\u001b[0;34m'cdcd'\u001b[0m\u001b[0;34m,\u001b[0m\u001b[0;36m75\u001b[0m\u001b[0;34m,\u001b[0m\u001b[0;36m25.1\u001b[0m\u001b[0;34m)\u001b[0m\u001b[0;34m\u001b[0m\u001b[0;34m\u001b[0m\u001b[0m\n\u001b[0;32m--> 100\u001b[0;31m \u001b[0ms\u001b[0m\u001b[0;34m.\u001b[0m\u001b[0mshares\u001b[0m \u001b[0;34m=\u001b[0m \u001b[0;34m-\u001b[0m\u001b[0;36m10\u001b[0m\u001b[0;34m\u001b[0m\u001b[0;34m\u001b[0m\u001b[0m\n\u001b[0m",
            "\u001b[0;32m<ipython-input-84-5ec86e97ad2d>\u001b[0m in \u001b[0;36m__set__\u001b[0;34m(self, instance, value)\u001b[0m\n\u001b[1;32m     28\u001b[0m     \u001b[0;32mdef\u001b[0m \u001b[0m__set__\u001b[0m\u001b[0;34m(\u001b[0m\u001b[0mself\u001b[0m\u001b[0;34m,\u001b[0m \u001b[0minstance\u001b[0m\u001b[0;34m,\u001b[0m \u001b[0mvalue\u001b[0m\u001b[0;34m)\u001b[0m\u001b[0;34m:\u001b[0m\u001b[0;34m\u001b[0m\u001b[0;34m\u001b[0m\u001b[0m\n\u001b[1;32m     29\u001b[0m         \u001b[0;32mif\u001b[0m \u001b[0mvalue\u001b[0m \u001b[0;34m<\u001b[0m \u001b[0;36m0\u001b[0m\u001b[0;34m:\u001b[0m\u001b[0;34m\u001b[0m\u001b[0;34m\u001b[0m\u001b[0m\n\u001b[0;32m---> 30\u001b[0;31m             \u001b[0;32mraise\u001b[0m \u001b[0mValueError\u001b[0m\u001b[0;34m(\u001b[0m\u001b[0;34m'Expected >= 0'\u001b[0m\u001b[0;34m)\u001b[0m\u001b[0;34m\u001b[0m\u001b[0;34m\u001b[0m\u001b[0m\n\u001b[0m\u001b[1;32m     31\u001b[0m         \u001b[0msuper_set\u001b[0m\u001b[0;34m(\u001b[0m\u001b[0mself\u001b[0m\u001b[0;34m,\u001b[0m \u001b[0minstance\u001b[0m\u001b[0;34m,\u001b[0m \u001b[0mvalue\u001b[0m\u001b[0;34m)\u001b[0m\u001b[0;34m\u001b[0m\u001b[0;34m\u001b[0m\u001b[0m\n\u001b[1;32m     32\u001b[0m \u001b[0;34m\u001b[0m\u001b[0m\n",
            "\u001b[0;31mValueError\u001b[0m: Expected >= 0"
          ]
        }
      ]
    },
    {
      "cell_type": "code",
      "metadata": {
        "colab": {
          "base_uri": "https://localhost:8080/"
        },
        "id": "SQ1w3kuso0NQ",
        "outputId": "92aab7ca-cb61-4ddd-dfa5-ff0e776f3095"
      },
      "source": [
        "#Implement a custom container\n",
        "import collections\n",
        "import bisect\n",
        "\n",
        "class SortedItems(collections.Sequence):\n",
        "    def __init__(self, initial=None):\n",
        "        self._items = sorted(initial) if initial is not None else []\n",
        "\n",
        "    # Required sequence methods\n",
        "    def __getitem__(self, index):\n",
        "        return self._items[index]\n",
        "\n",
        "    def __len__(self):\n",
        "        return len(self._items)\n",
        "\n",
        "    # Method for adding an item in the right location\n",
        "    def add(self, item):\n",
        "        bisect.insort(self._items, item)\n",
        "\n",
        "\n",
        "items = SortedItems([5, 1, 3])\n",
        "print(list(items))\n",
        "print(items[0], items[-1])\n",
        "items.add(2)\n",
        "print(list(items))"
      ],
      "execution_count": null,
      "outputs": [
        {
          "output_type": "stream",
          "name": "stdout",
          "text": [
            "[1, 3, 5]\n",
            "1 5\n",
            "[1, 2, 3, 5]\n"
          ]
        }
      ]
    },
    {
      "cell_type": "code",
      "metadata": {
        "colab": {
          "base_uri": "https://localhost:8080/"
        },
        "id": "GIUa0Ks4sNyt",
        "outputId": "b519d21a-a974-49e9-f477-886db4eafbbb"
      },
      "source": [
        "# classmethod\n",
        "# The function corresponding to the classmethod modifier does not need to be instantiated, \n",
        "# and does not need the self parameter, but the first parameter needs to be the cls parameter representing its own class, \n",
        "# which can be used to call class attributes, class methods, instantiated objects, etc.\n",
        "\n",
        "import time\n",
        "\n",
        "class Date:\n",
        "    # Primary constructor\n",
        "    def __init__(self, year, month, day):\n",
        "        self.year = year\n",
        "        self.month = month\n",
        "        self.day = day\n",
        "\n",
        "    # Alternate constructor\n",
        "    @classmethod\n",
        "    def today(cls):\n",
        "        t = time.localtime()\n",
        "        return cls(t.tm_year, t.tm_mon, t.tm_mday)\n",
        "\n",
        "a = Date(2012, 12, 21) # Primary\n",
        "b = Date.today() # Alternate\n"
      ],
      "execution_count": null,
      "outputs": [
        {
          "output_type": "stream",
          "name": "stdout",
          "text": [
            "<__main__.Date object at 0x7f5acee65f50>\n",
            "<__main__.Date object at 0x7f5acee65b90>\n"
          ]
        }
      ]
    },
    {
      "cell_type": "code",
      "metadata": {
        "colab": {
          "base_uri": "https://localhost:8080/"
        },
        "id": "N-dp3aCexznR",
        "outputId": "ef973baa-48e4-4c17-efc2-4a06bca6bd5f"
      },
      "source": [
        "import math\n",
        "\n",
        "class Point:\n",
        "    def __init__(self, x, y):\n",
        "        self.x = x\n",
        "        self.y = y\n",
        "\n",
        "    def __repr__(self):\n",
        "        return 'Point({!r:},{!r:})'.format(self.x, self.y)\n",
        "\n",
        "    def distance(self, x, y):\n",
        "        return math.hypot(self.x - x, self.y - y)\n",
        "\n",
        "\n",
        "p = Point(2, 3)\n",
        "d = getattr(p, 'distance')(0, 0)  # Calls p.distance(0, 0)\n",
        "print(d)\n",
        "\n",
        "import operator\n",
        "operator.methodcaller('distance', 0, 0)(p)"
      ],
      "execution_count": null,
      "outputs": [
        {
          "output_type": "execute_result",
          "data": {
            "text/plain": [
              "3.605551275463989"
            ]
          },
          "metadata": {},
          "execution_count": 97
        }
      ]
    },
    {
      "cell_type": "code",
      "metadata": {
        "colab": {
          "base_uri": "https://localhost:8080/"
        },
        "id": "EsoydGbcsBTh",
        "outputId": "8f0eab43-5912-4232-be6d-6dd7ed8e4f18"
      },
      "source": [
        "from functools import total_ordering\n",
        "\n",
        "class Room:\n",
        "    def __init__(self, name, length, width):\n",
        "        self.name = name\n",
        "        self.length = length\n",
        "        self.width = width\n",
        "        self.square_feet = self.length * self.width\n",
        "\n",
        "@total_ordering\n",
        "class House:\n",
        "    def __init__(self, name, style):\n",
        "        self.name = name\n",
        "        self.style = style\n",
        "        self.rooms = list()\n",
        "\n",
        "    @property\n",
        "    def living_space_footage(self):\n",
        "        return sum(r.square_feet for r in self.rooms)\n",
        "\n",
        "    def add_room(self, room):\n",
        "        self.rooms.append(room)\n",
        "\n",
        "    def __str__(self):\n",
        "        return '{}: {} square foot {}'.format(self.name,\n",
        "                self.living_space_footage,\n",
        "                self.style)\n",
        "\n",
        "    def __eq__(self, other):\n",
        "        return self.living_space_footage == other.living_space_footage\n",
        "\n",
        "    def __lt__(self, other):\n",
        "        return self.living_space_footage < other.living_space_footage\n",
        "\n",
        "# Build a few houses, and add rooms to them\n",
        "h1 = House('h1', 'Cape')\n",
        "h1.add_room(Room('Master Bedroom', 14, 21))\n",
        "h1.add_room(Room('Living Room', 18, 20))\n",
        "h1.add_room(Room('Kitchen', 12, 16))\n",
        "h1.add_room(Room('Office', 12, 12))\n",
        "h2 = House('h2', 'Ranch')\n",
        "h2.add_room(Room('Master Bedroom', 14, 21))\n",
        "h2.add_room(Room('Living Room', 18, 20))\n",
        "h2.add_room(Room('Kitchen', 12, 16))\n",
        "h3 = House('h3', 'Split')\n",
        "h3.add_room(Room('Master Bedroom', 14, 21))\n",
        "h3.add_room(Room('Living Room', 18, 20))\n",
        "h3.add_room(Room('Office', 12, 16))\n",
        "h3.add_room(Room('Kitchen', 15, 17))\n",
        "houses = [h1, h2, h3]\n",
        "print('Is h1 bigger than h2?', h1 > h2) # prints True\n",
        "print('Is h2 smaller than h3?', h2 < h3) # prints True\n",
        "print('Is h2 greater than or equal to h1?', h2 >= h1) # Prints False\n",
        "print('Which one is biggest?', max(houses)) # Prints 'h3: 1101-square-foot Split'\n",
        "print('Which is smallest?', min(houses)) # Prints 'h2: 846-square-foot Ranch'"
      ],
      "execution_count": null,
      "outputs": [
        {
          "output_type": "stream",
          "name": "stdout",
          "text": [
            "Is h1 bigger than h2? True\n",
            "Is h2 smaller than h3? True\n",
            "Is h2 greater than or equal to h1? False\n",
            "Which one is biggest? h3: 1101 square foot Split\n",
            "Which is smallest? h2: 846 square foot Ranch\n"
          ]
        }
      ]
    },
    {
      "cell_type": "markdown",
      "metadata": {
        "id": "EcbYVBuS4A4O"
      },
      "source": [
        "# Chapter 9: metaprogramming"
      ]
    },
    {
      "cell_type": "code",
      "metadata": {
        "id": "WJwspPXA4Ble",
        "colab": {
          "base_uri": "https://localhost:8080/"
        },
        "outputId": "66296e3a-a35e-4141-f140-89a19a75a3af"
      },
      "source": [
        "from functools import wraps\n",
        "\n",
        "def decorator1(func):\n",
        "    @wraps(func)\n",
        "    def wrapper(*args, **kwargs):\n",
        "        print('Decorator 1')\n",
        "        return func(*args, **kwargs)\n",
        "    return wrapper\n",
        "\n",
        "def decorator2(func):\n",
        "    @wraps(func)\n",
        "    def wrapper(*args, **kwargs):\n",
        "        print('Decorator 2')\n",
        "        return func(*args, **kwargs)\n",
        "    return wrapper\n",
        "\n",
        "@decorator1\n",
        "@decorator2\n",
        "def add(x, y):\n",
        "    return x + y\n",
        "\n",
        "print(add(2,3))\n",
        "\n",
        "print(add.__wrapped__(2, 3))"
      ],
      "execution_count": 3,
      "outputs": [
        {
          "output_type": "stream",
          "name": "stdout",
          "text": [
            "Decorator 1\n",
            "Decorator 2\n",
            "5\n",
            "Decorator 2\n",
            "5\n"
          ]
        }
      ]
    },
    {
      "cell_type": "code",
      "metadata": {
        "id": "2sOuk3czaE1a"
      },
      "source": [
        "from functools import wraps\n",
        "import logging\n",
        "\n",
        "def logged(level, name=None, message=None):\n",
        "    \"\"\"\n",
        "    Add logging to a function. level is the logging\n",
        "    level, name is the logger name, and message is the\n",
        "    log message. If name and message aren't specified,\n",
        "    they default to the function's module and name.\n",
        "    \"\"\"\n",
        "    def decorate(func):\n",
        "        logname = name if name else func.__module__\n",
        "        log = logging.getLogger(logname)\n",
        "        logmsg = message if message else func.__name__\n",
        "\n",
        "        @wraps(func)\n",
        "        def wrapper(*args, **kwargs):\n",
        "            log.log(level, logmsg)\n",
        "            return func(*args, **kwargs)\n",
        "        return wrapper\n",
        "    return decorate\n",
        "\n",
        "# Example use\n",
        "@logged(logging.DEBUG)\n",
        "def add(x, y):\n",
        "    return x + y\n",
        "\n",
        "@logged(logging.CRITICAL, 'example')\n",
        "def spam():\n",
        "    print('Spam!')"
      ],
      "execution_count": 4,
      "outputs": []
    },
    {
      "cell_type": "code",
      "metadata": {
        "colab": {
          "base_uri": "https://localhost:8080/",
          "height": 385
        },
        "id": "9-ANu0v5aPYz",
        "outputId": "922efd27-80f7-43cc-ee04-8d2be0fa6d1e"
      },
      "source": [
        "from inspect import signature\n",
        "from functools import wraps\n",
        "\n",
        "def typeassert(*ty_args, **ty_kwargs):\n",
        "    def decorate(func):\n",
        "        # If in optimized mode, disable type checking\n",
        "        if not __debug__:\n",
        "            return func\n",
        "\n",
        "        # Map function argument names to supplied types\n",
        "        sig = signature(func)\n",
        "        bound_types = sig.bind_partial(*ty_args, **ty_kwargs).arguments\n",
        "\n",
        "        @wraps(func)\n",
        "        def wrapper(*args, **kwargs):\n",
        "            bound_values = sig.bind(*args, **kwargs)\n",
        "            # Enforce type assertions across supplied arguments\n",
        "            for name, value in bound_values.arguments.items():\n",
        "                if name in bound_types:\n",
        "                    if not isinstance(value, bound_types[name]):\n",
        "                        raise TypeError(\n",
        "                            'Argument {} must be {}'.format(name, bound_types[name])\n",
        "                            )\n",
        "            return func(*args, **kwargs)\n",
        "        return wrapper\n",
        "    return decorate\n",
        "\n",
        "@typeassert(int, z=str)\n",
        "def spam(x, y, z=42):\n",
        "    print(x, y, z)\n",
        "\n",
        "spam(1, 2, 'good')\n",
        "\n",
        "spam(1, 'hello', 3)\n",
        "\n",
        "spam(1, 'hello', 'world')"
      ],
      "execution_count": 7,
      "outputs": [
        {
          "output_type": "stream",
          "name": "stdout",
          "text": [
            "1 2 good\n"
          ]
        },
        {
          "output_type": "error",
          "ename": "TypeError",
          "evalue": "ignored",
          "traceback": [
            "\u001b[0;31m---------------------------------------------------------------------------\u001b[0m",
            "\u001b[0;31mTypeError\u001b[0m                                 Traceback (most recent call last)",
            "\u001b[0;32m<ipython-input-7-e6a1ebae4cad>\u001b[0m in \u001b[0;36m<module>\u001b[0;34m()\u001b[0m\n\u001b[1;32m     32\u001b[0m \u001b[0mspam\u001b[0m\u001b[0;34m(\u001b[0m\u001b[0;36m1\u001b[0m\u001b[0;34m,\u001b[0m \u001b[0;36m2\u001b[0m\u001b[0;34m,\u001b[0m \u001b[0;34m'good'\u001b[0m\u001b[0;34m)\u001b[0m\u001b[0;34m\u001b[0m\u001b[0;34m\u001b[0m\u001b[0m\n\u001b[1;32m     33\u001b[0m \u001b[0;34m\u001b[0m\u001b[0m\n\u001b[0;32m---> 34\u001b[0;31m \u001b[0mspam\u001b[0m\u001b[0;34m(\u001b[0m\u001b[0;36m1\u001b[0m\u001b[0;34m,\u001b[0m \u001b[0;34m'hello'\u001b[0m\u001b[0;34m,\u001b[0m \u001b[0;36m3\u001b[0m\u001b[0;34m)\u001b[0m\u001b[0;34m\u001b[0m\u001b[0;34m\u001b[0m\u001b[0m\n\u001b[0m\u001b[1;32m     35\u001b[0m \u001b[0;34m\u001b[0m\u001b[0m\n\u001b[1;32m     36\u001b[0m \u001b[0mspam\u001b[0m\u001b[0;34m(\u001b[0m\u001b[0;36m1\u001b[0m\u001b[0;34m,\u001b[0m \u001b[0;34m'hello'\u001b[0m\u001b[0;34m,\u001b[0m \u001b[0;34m'world'\u001b[0m\u001b[0;34m)\u001b[0m\u001b[0;34m\u001b[0m\u001b[0;34m\u001b[0m\u001b[0m\n",
            "\u001b[0;32m<ipython-input-7-e6a1ebae4cad>\u001b[0m in \u001b[0;36mwrapper\u001b[0;34m(*args, **kwargs)\u001b[0m\n\u001b[1;32m     20\u001b[0m                     \u001b[0;32mif\u001b[0m \u001b[0;32mnot\u001b[0m \u001b[0misinstance\u001b[0m\u001b[0;34m(\u001b[0m\u001b[0mvalue\u001b[0m\u001b[0;34m,\u001b[0m \u001b[0mbound_types\u001b[0m\u001b[0;34m[\u001b[0m\u001b[0mname\u001b[0m\u001b[0;34m]\u001b[0m\u001b[0;34m)\u001b[0m\u001b[0;34m:\u001b[0m\u001b[0;34m\u001b[0m\u001b[0;34m\u001b[0m\u001b[0m\n\u001b[1;32m     21\u001b[0m                         raise TypeError(\n\u001b[0;32m---> 22\u001b[0;31m                             \u001b[0;34m'Argument {} must be {}'\u001b[0m\u001b[0;34m.\u001b[0m\u001b[0mformat\u001b[0m\u001b[0;34m(\u001b[0m\u001b[0mname\u001b[0m\u001b[0;34m,\u001b[0m \u001b[0mbound_types\u001b[0m\u001b[0;34m[\u001b[0m\u001b[0mname\u001b[0m\u001b[0;34m]\u001b[0m\u001b[0;34m)\u001b[0m\u001b[0;34m\u001b[0m\u001b[0;34m\u001b[0m\u001b[0m\n\u001b[0m\u001b[1;32m     23\u001b[0m                             )\n\u001b[1;32m     24\u001b[0m             \u001b[0;32mreturn\u001b[0m \u001b[0mfunc\u001b[0m\u001b[0;34m(\u001b[0m\u001b[0;34m*\u001b[0m\u001b[0margs\u001b[0m\u001b[0;34m,\u001b[0m \u001b[0;34m**\u001b[0m\u001b[0mkwargs\u001b[0m\u001b[0;34m)\u001b[0m\u001b[0;34m\u001b[0m\u001b[0;34m\u001b[0m\u001b[0m\n",
            "\u001b[0;31mTypeError\u001b[0m: Argument z must be <class 'str'>"
          ]
        }
      ]
    },
    {
      "cell_type": "code",
      "metadata": {
        "colab": {
          "base_uri": "https://localhost:8080/"
        },
        "id": "qT9xNV0gcC-i",
        "outputId": "18fca3ea-8d4d-4585-84ca-90f325b3aa00"
      },
      "source": [
        "import types\n",
        "from functools import wraps\n",
        "\n",
        "def profiled(func):\n",
        "    ncalls = 0\n",
        "    @wraps(func)\n",
        "    def wrapper(*args, **kwargs):\n",
        "        nonlocal ncalls\n",
        "        ncalls += 1\n",
        "        return func(*args, **kwargs)\n",
        "    wrapper.ncalls = lambda: ncalls\n",
        "    return wrapper\n",
        "\n",
        "# Example\n",
        "@profiled\n",
        "def add(x, y):\n",
        "    return x + y\n",
        "\n",
        "print(add(2, 3))\n",
        "print(add.ncalls())\n",
        "print(add(2, 3))\n",
        "print(add.ncalls())"
      ],
      "execution_count": 9,
      "outputs": [
        {
          "output_type": "stream",
          "name": "stdout",
          "text": [
            "5\n",
            "1\n",
            "5\n",
            "2\n"
          ]
        }
      ]
    },
    {
      "cell_type": "code",
      "metadata": {
        "colab": {
          "base_uri": "https://localhost:8080/"
        },
        "id": "KWVF8KZLcyNG",
        "outputId": "a0057898-08ca-4752-f6fd-a917dfb92f31"
      },
      "source": [
        "import weakref\n",
        "\n",
        "class Cached(type):\n",
        "    def __init__(self, *args, **kwargs):\n",
        "        super().__init__(*args, **kwargs)\n",
        "        self.__cache = weakref.WeakValueDictionary()\n",
        "\n",
        "    def __call__(self, *args):\n",
        "        if args in self.__cache:\n",
        "            return self.__cache[args]\n",
        "        else:\n",
        "            obj = super().__call__(*args)\n",
        "            self.__cache[args] = obj\n",
        "            return obj\n",
        "\n",
        "# Example\n",
        "class Spam(metaclass=Cached):\n",
        "    def __init__(self, name):\n",
        "        print('Creating Spam({!r})'.format(name))\n",
        "        self.name = name\n",
        "\n",
        "a = Spam('Guido')\n",
        "\n",
        "b = Spam('Diana')\n",
        "\n",
        "c = Spam('Guido') # Cached\n",
        "print(a is b)\n",
        "\n",
        "print(a is c)"
      ],
      "execution_count": 10,
      "outputs": [
        {
          "output_type": "stream",
          "name": "stdout",
          "text": [
            "Creating Spam('Guido')\n",
            "Creating Spam('Diana')\n",
            "False\n",
            "True\n"
          ]
        }
      ]
    },
    {
      "cell_type": "code",
      "metadata": {
        "colab": {
          "base_uri": "https://localhost:8080/"
        },
        "id": "0tS9s5y_ed9z",
        "outputId": "03819df2-b8ab-43db-99c4-c82f5f57e288"
      },
      "source": [
        "from inspect import signature\n",
        "\n",
        "def foo(value):\n",
        "    return value\n",
        "\n",
        "# get singature\n",
        "foo_sig = signature(foo)\n",
        "# get parameter\n",
        "foo_params = foo_sig.parameters\n",
        "print(foo_sig)\n",
        "print(foo_params)"
      ],
      "execution_count": 12,
      "outputs": [
        {
          "output_type": "stream",
          "name": "stdout",
          "text": [
            "(value)\n",
            "OrderedDict([('value', <Parameter \"value\">)])\n"
          ]
        }
      ]
    },
    {
      "cell_type": "markdown",
      "metadata": {
        "id": "GrB4QpJA4A_P"
      },
      "source": [
        "# Chapter 10: Modules and Packages"
      ]
    },
    {
      "cell_type": "code",
      "metadata": {
        "id": "q_QxGdIXeeJg"
      },
      "source": [
        "import sys\n",
        "from os.path import abspath, join, dirname\n",
        "sys.path.insert(0, join(abspath(dirname(__file__)), 'src'))"
      ],
      "execution_count": null,
      "outputs": []
    },
    {
      "cell_type": "code",
      "metadata": {
        "id": "lyYctoCsZdOv"
      },
      "source": [
        "#publish package\n",
        "# setup.py\n",
        "from distutils.core import setup\n",
        "\n",
        "setup(name='projectname',\n",
        "    version='1.0',\n",
        "    author='Your Name',\n",
        "    author_email='you@youraddress.com',\n",
        "    url='http://www.you.com/projectname',\n",
        "    packages=['projectname', 'projectname.utils'],\n",
        ")\n",
        "\n",
        "# MANIFEST.in\n",
        "include *.txt\n",
        "recursive-include examples *\n",
        "recursive-include Doc *\n",
        "\n",
        "% bash python3 setup.py sdist"
      ],
      "execution_count": null,
      "outputs": []
    },
    {
      "cell_type": "markdown",
      "metadata": {
        "id": "XNYHWgTbaLRB"
      },
      "source": [
        "# Chapter 11: Networking and Web programming"
      ]
    },
    {
      "cell_type": "code",
      "metadata": {
        "colab": {
          "base_uri": "https://localhost:8080/"
        },
        "id": "mOeZ76ASaIGC",
        "outputId": "266be6ca-a4fc-47d3-8464-cd6418400f1c"
      },
      "source": [
        "import requests\n",
        "\n",
        "# Base URL being accessed\n",
        "url = 'http://httpbin.org/post'\n",
        "\n",
        "# Dictionary of query parameters (if any)\n",
        "parms = {\n",
        "   'name1' : 'value1',\n",
        "   'name2' : 'value2'\n",
        "}\n",
        "\n",
        "# Extra headers\n",
        "headers = {\n",
        "    'User-agent' : 'none/ofyourbusiness',\n",
        "    'Spam' : 'Eggs'\n",
        "}\n",
        "\n",
        "resp = requests.post(url, data=parms, headers=headers)\n",
        "\n",
        "# Decoded text returned by the request\n",
        "text = resp.text\n",
        "print(text)\n",
        "\n",
        "r = requests.get('http://httpbin.org/get?name=Dave&n=37',\n",
        "     headers = { 'User-agent': 'goaway/1.0' })\n",
        "resp = r.json()\n",
        "print(resp)"
      ],
      "execution_count": 16,
      "outputs": [
        {
          "output_type": "stream",
          "name": "stdout",
          "text": [
            "{\n",
            "  \"args\": {}, \n",
            "  \"data\": \"\", \n",
            "  \"files\": {}, \n",
            "  \"form\": {\n",
            "    \"name1\": \"value1\", \n",
            "    \"name2\": \"value2\"\n",
            "  }, \n",
            "  \"headers\": {\n",
            "    \"Accept\": \"*/*\", \n",
            "    \"Accept-Encoding\": \"gzip, deflate\", \n",
            "    \"Content-Length\": \"25\", \n",
            "    \"Content-Type\": \"application/x-www-form-urlencoded\", \n",
            "    \"Host\": \"httpbin.org\", \n",
            "    \"Spam\": \"Eggs\", \n",
            "    \"User-Agent\": \"none/ofyourbusiness\", \n",
            "    \"X-Amzn-Trace-Id\": \"Root=1-6141a4e3-63da0dbd2b48ac046466bb24\"\n",
            "  }, \n",
            "  \"json\": null, \n",
            "  \"origin\": \"35.194.65.28\", \n",
            "  \"url\": \"http://httpbin.org/post\"\n",
            "}\n",
            "\n",
            "{'args': {'n': '37', 'name': 'Dave'}, 'headers': {'Accept': '*/*', 'Accept-Encoding': 'gzip, deflate', 'Host': 'httpbin.org', 'User-Agent': 'goaway/1.0', 'X-Amzn-Trace-Id': 'Root=1-6141a4e3-535b823e655d7ce0415ba5b7'}, 'origin': '35.194.65.28', 'url': 'http://httpbin.org/get?name=Dave&n=37'}\n"
          ]
        }
      ]
    },
    {
      "cell_type": "code",
      "metadata": {
        "colab": {
          "base_uri": "https://localhost:8080/"
        },
        "id": "FLc3wNCCbQC3",
        "outputId": "f8ee6009-8495-4aa9-a8f0-3eb7025a4afa"
      },
      "source": [
        "import ipaddress\n",
        "net = ipaddress.ip_network('123.45.67.64/27')\n",
        "for a in net:\n",
        "    print(a)\n",
        "    \n",
        "net6 = ipaddress.ip_network('12:3456:78:90ab:cd:ef01:23:30/125')\n",
        "for a in net6:\n",
        "    print(a)"
      ],
      "execution_count": 17,
      "outputs": [
        {
          "output_type": "stream",
          "name": "stdout",
          "text": [
            "123.45.67.64\n",
            "123.45.67.65\n",
            "123.45.67.66\n",
            "123.45.67.67\n",
            "123.45.67.68\n",
            "123.45.67.69\n",
            "123.45.67.70\n",
            "123.45.67.71\n",
            "123.45.67.72\n",
            "123.45.67.73\n",
            "123.45.67.74\n",
            "123.45.67.75\n",
            "123.45.67.76\n",
            "123.45.67.77\n",
            "123.45.67.78\n",
            "123.45.67.79\n",
            "123.45.67.80\n",
            "123.45.67.81\n",
            "123.45.67.82\n",
            "123.45.67.83\n",
            "123.45.67.84\n",
            "123.45.67.85\n",
            "123.45.67.86\n",
            "123.45.67.87\n",
            "123.45.67.88\n",
            "123.45.67.89\n",
            "123.45.67.90\n",
            "123.45.67.91\n",
            "123.45.67.92\n",
            "123.45.67.93\n",
            "123.45.67.94\n",
            "123.45.67.95\n",
            "12:3456:78:90ab:cd:ef01:23:30\n",
            "12:3456:78:90ab:cd:ef01:23:31\n",
            "12:3456:78:90ab:cd:ef01:23:32\n",
            "12:3456:78:90ab:cd:ef01:23:33\n",
            "12:3456:78:90ab:cd:ef01:23:34\n",
            "12:3456:78:90ab:cd:ef01:23:35\n",
            "12:3456:78:90ab:cd:ef01:23:36\n",
            "12:3456:78:90ab:cd:ef01:23:37\n"
          ]
        }
      ]
    },
    {
      "cell_type": "markdown",
      "metadata": {
        "id": "_RkGQNblcVGC"
      },
      "source": [
        "# Chapter 12: Concurrent Programming"
      ]
    },
    {
      "cell_type": "code",
      "metadata": {
        "colab": {
          "base_uri": "https://localhost:8080/"
        },
        "id": "QBMPWPJyaryu",
        "outputId": "f10683b6-2948-4522-809d-235ed353d498"
      },
      "source": [
        "from threading import Thread\n",
        "import time\n",
        "\n",
        "class CountdownThread(Thread):\n",
        "    def __init__(self, n):\n",
        "        super().__init__()\n",
        "        self.n = n\n",
        "    def run(self):\n",
        "        while self.n > 0:\n",
        "\n",
        "            print('T-minus', self.n)\n",
        "            self.n -= 1\n",
        "            time.sleep(5)\n",
        "\n",
        "c = CountdownThread(5)\n",
        "c.start()"
      ],
      "execution_count": 21,
      "outputs": [
        {
          "output_type": "stream",
          "name": "stdout",
          "text": [
            "T-minus 5\n"
          ]
        }
      ]
    },
    {
      "cell_type": "code",
      "metadata": {
        "id": "uHa_TcSdc_ye"
      },
      "source": [
        "import threading\n",
        "import time\n",
        "\n",
        "class PeriodicTimer:\n",
        "    def __init__(self, interval):\n",
        "        self._interval = interval\n",
        "        self._flag = 0\n",
        "        self._cv = threading.Condition()\n",
        "\n",
        "    def start(self):\n",
        "        t = threading.Thread(target=self.run)\n",
        "        t.daemon = True\n",
        "\n",
        "        t.start()\n",
        "\n",
        "    def run(self):\n",
        "        '''\n",
        "        Run the timer and notify waiting threads after each interval\n",
        "        '''\n",
        "        while True:\n",
        "            time.sleep(self._interval)\n",
        "            with self._cv:\n",
        "                 self._flag ^= 1\n",
        "                 self._cv.notify_all()\n",
        "\n",
        "    def wait_for_tick(self):\n",
        "        '''\n",
        "        Wait for the next tick of the timer\n",
        "        '''\n",
        "        with self._cv:\n",
        "            last_flag = self._flag\n",
        "            while last_flag == self._flag:\n",
        "                self._cv.wait()\n",
        "\n",
        "# Example use of the timer\n",
        "ptimer = PeriodicTimer(5)\n",
        "ptimer.start()\n",
        "\n",
        "# Two threads that synchronize on the timer\n",
        "def countdown(nticks):\n",
        "    while nticks > 0:\n",
        "        ptimer.wait_for_tick()\n",
        "        print('T-minus', nticks)\n",
        "        nticks -= 1\n",
        "\n",
        "def countup(last):\n",
        "    n = 0\n",
        "    while n < last:\n",
        "        ptimer.wait_for_tick()\n",
        "        print('Counting', n)\n",
        "        n += 1\n",
        "\n",
        "threading.Thread(target=countdown, args=(10,)).start()\n",
        "threading.Thread(target=countup, args=(5,)).start()"
      ],
      "execution_count": 22,
      "outputs": []
    },
    {
      "cell_type": "code",
      "metadata": {
        "id": "wkRM3kHpdFDm"
      },
      "source": [
        "import threading\n",
        "\n",
        "class SharedCounter:\n",
        "    '''\n",
        "    A counter object that can be shared by multiple threads.\n",
        "    '''\n",
        "    _lock = threading.RLock()\n",
        "    def __init__(self, initial_value = 0):\n",
        "        self._value = initial_value\n",
        "\n",
        "    def incr(self,delta=1):\n",
        "        '''\n",
        "        Increment the counter with locking\n",
        "        '''\n",
        "        with SharedCounter._lock:\n",
        "            self._value += delta\n",
        "\n",
        "    def decr(self,delta=1):\n",
        "        '''\n",
        "        Decrement the counter with locking\n",
        "        '''\n",
        "        with SharedCounter._lock:\n",
        "             self.incr(-delta)"
      ],
      "execution_count": 23,
      "outputs": []
    },
    {
      "cell_type": "code",
      "metadata": {
        "colab": {
          "base_uri": "https://localhost:8080/"
        },
        "id": "lkZNb0gZddo4",
        "outputId": "99954297-9696-409c-8e29-2a0b28f9c044"
      },
      "source": [
        "import threading\n",
        "from contextlib import contextmanager\n",
        "\n",
        "# Thread-local state to stored information on locks already acquired\n",
        "_local = threading.local()\n",
        "\n",
        "@contextmanager\n",
        "def acquire(*locks):\n",
        "    # Sort locks by object identifier\n",
        "    locks = sorted(locks, key=lambda x: id(x))\n",
        "\n",
        "    # Make sure lock order of previously acquired locks is not violated\n",
        "    acquired = getattr(_local,'acquired',[])\n",
        "    if acquired and max(id(lock) for lock in acquired) >= id(locks[0]):\n",
        "        raise RuntimeError('Lock Order Violation')\n",
        "\n",
        "    # Acquire all of the locks\n",
        "    acquired.extend(locks)\n",
        "    _local.acquired = acquired\n",
        "\n",
        "    try:\n",
        "        for lock in locks:\n",
        "            lock.acquire()\n",
        "        yield\n",
        "    finally:\n",
        "        # Release locks in reverse order of acquisition\n",
        "        for lock in reversed(locks):\n",
        "            lock.release()\n",
        "        del acquired[-len(locks):]\n",
        "# The philosopher thread\n",
        "def philosopher(left, right):\n",
        "    while True:\n",
        "        with acquire(left,right):\n",
        "             print(threading.currentThread(), 'eating')\n",
        "\n",
        "# The chopsticks (represented by locks)\n",
        "NSTICKS = 5\n",
        "chopsticks = [threading.Lock() for n in range(NSTICKS)]\n",
        "\n",
        "# Create all of the philosophers\n",
        "for n in range(NSTICKS):\n",
        "    t = threading.Thread(target=philosopher,\n",
        "                         args=(chopsticks[n],chopsticks[(n+1) % NSTICKS]))\n",
        "    t.start()"
      ],
      "execution_count": 25,
      "outputs": [
        {
          "output_type": "stream",
          "name": "stdout",
          "text": [
            "<Thread(Thread-23, started 139672620693248)> eating\n",
            "<Thread(Thread-23, started 139672620693248)> eating\n",
            "<Thread(Thread-23, started 139672620693248)> eating\n",
            "<Thread(Thread-23, started 139672620693248)> eating\n",
            "<Thread(Thread-23, started 139672620693248)> eating\n",
            "<Thread(Thread-23, started 139672620693248)> eating\n",
            "<Thread(Thread-23, started 139672620693248)> eating\n",
            "<Thread(Thread-23, started 139672620693248)> eating\n",
            "<Thread(Thread-23, started 139672620693248)> eating\n",
            "<Thread(Thread-23, started 139672620693248)> eating\n",
            "<Thread(Thread-23, started 139672620693248)> eating\n",
            "<Thread(Thread-23, started 139672620693248)> eating\n",
            "<Thread(Thread-23, started 139672620693248)> eating\n",
            "<Thread(Thread-23, started 139672620693248)> eating\n",
            "<Thread(Thread-23, started 139672620693248)> eating\n",
            "<Thread(Thread-23, started 139672620693248)> eating\n",
            "<Thread(Thread-23, started 139672620693248)> eating\n",
            "<Thread(Thread-23, started 139672620693248)> eating\n",
            "<Thread(Thread-23, started 139672620693248)> eating\n",
            "<Thread(Thread-23, started 139672620693248)> eating\n",
            "<Thread(Thread-23, started 139672620693248)> eating\n",
            "<Thread(Thread-23, started 139672620693248)> eating\n",
            "<Thread(Thread-23, started 139672620693248)> eating\n",
            "<Thread(Thread-23, started 139672620693248)> eating\n",
            "<Thread(Thread-23, started 139672620693248)> eating\n",
            "<Thread(Thread-23, started 139672620693248)> eating\n",
            "<Thread(Thread-23, started 139672620693248)> eating\n",
            "<Thread(Thread-23, started 139672620693248)> eating\n",
            "<Thread(Thread-23, started 139672620693248)> eating\n",
            "<Thread(Thread-23, started 139672620693248)> eating\n",
            "<Thread(Thread-23, started 139672620693248)> eating\n",
            "<Thread(Thread-23, started 139672620693248)> eating\n",
            "<Thread(Thread-24, started 139672612300544)> eating\n",
            "<Thread(Thread-23, started 139672620693248)> eating\n",
            "<Thread(Thread-24, started 139672612300544)> eating\n",
            "<Thread(Thread-23, started 139672620693248)> eating\n",
            "<Thread(Thread-24, started 139672612300544)> eating\n",
            "<Thread(Thread-27, started 139672595515136)> eating\n",
            "<Thread(Thread-25, started 139672691656448)> eating\n",
            "<Thread(Thread-23, started 139672620693248)> eating\n",
            "<Thread(Thread-23, started 139672620693248)> eating\n",
            "<Thread(Thread-27, started 139672595515136)> eating\n",
            "<Thread(Thread-26, started 139672603907840)> eating\n",
            "<Thread(Thread-26, started 139672603907840)> eating\n",
            "<Thread(Thread-26, started 139672603907840)> eating\n",
            "<Thread(Thread-24, started 139672612300544)> eating\n",
            "<Thread(Thread-24, started 139672612300544)> eating\n",
            "<Thread(Thread-24, started 139672612300544)> eating\n",
            "<Thread(Thread-24, started 139672612300544)> eating\n",
            "<Thread(Thread-24, started 139672612300544)> eating\n",
            "<Thread(Thread-24, started 139672612300544)> eating\n",
            "<Thread(Thread-24, started 139672612300544)> eating\n",
            "<Thread(Thread-24, started 139672612300544)> eating\n",
            "<Thread(Thread-24, started 139672612300544)> eating\n",
            "<Thread(Thread-24, started 139672612300544)> eating\n",
            "<Thread(Thread-24, started 139672612300544)> eating\n",
            "<Thread(Thread-24, started 139672612300544)> eating\n",
            "<Thread(Thread-24, started 139672612300544)> eating\n",
            "<Thread(Thread-24, started 139672612300544)> eating\n",
            "<Thread(Thread-24, started 139672612300544)> eating\n",
            "<Thread(Thread-24, started 139672612300544)> eating\n",
            "<Thread(Thread-24, started 139672612300544)> eating\n",
            "<Thread(Thread-24, started 139672612300544)> eating\n",
            "<Thread(Thread-24, started 139672612300544)> eating\n",
            "<Thread(Thread-24, started 139672612300544)> eating\n",
            "<Thread(Thread-24, started 139672612300544)> eating\n",
            "<Thread(Thread-24, started 139672612300544)> eating\n",
            "<Thread(Thread-24, started 139672612300544)> eating\n",
            "<Thread(Thread-24, started 139672612300544)> eating\n",
            "<Thread(Thread-24, started 139672612300544)> eating\n",
            "<Thread(Thread-24, started 139672612300544)> eating\n",
            "<Thread(Thread-24, started 139672612300544)> eating\n",
            "<Thread(Thread-24, started 139672612300544)> eating\n",
            "<Thread(Thread-24, started 139672612300544)> eating\n",
            "<Thread(Thread-24, started 139672612300544)> eating\n",
            "<Thread(Thread-24, started 139672612300544)> eating\n",
            "<Thread(Thread-24, started 139672612300544)> eating\n",
            "<Thread(Thread-24, started 139672612300544)> eating\n",
            "<Thread(Thread-24, started 139672612300544)> eating\n",
            "<Thread(Thread-24, started 139672612300544)> eating\n",
            "<Thread(Thread-24, started 139672612300544)> eating\n",
            "<Thread(Thread-24, started 139672612300544)> eating\n",
            "<Thread(Thread-24, started 139672612300544)> eating\n",
            "<Thread(Thread-24, started 139672612300544)> eating\n",
            "<Thread(Thread-24, started 139672612300544)> eating\n",
            "<Thread(Thread-24, started 139672612300544)> eating\n",
            "<Thread(Thread-24, started 139672612300544)> eating\n",
            "<Thread(Thread-24, started 139672612300544)> eating\n",
            "<Thread(Thread-24, started 139672612300544)> eating\n",
            "<Thread(Thread-24, started 139672612300544)> eating\n",
            "<Thread(Thread-24, started 139672612300544)> eating\n",
            "<Thread(Thread-24, started 139672612300544)> eating\n",
            "<Thread(Thread-24, started 139672612300544)> eating\n",
            "<Thread(Thread-24, started 139672612300544)> eating\n",
            "<Thread(Thread-24, started 139672612300544)> eating\n",
            "<Thread(Thread-24, started 139672612300544)> eating\n",
            "<Thread(Thread-24, started 139672612300544)> eating\n",
            "<Thread(Thread-24, started 139672612300544)> eating\n",
            "<Thread(Thread-24, started 139672612300544)> eating\n",
            "<Thread(Thread-24, started 139672612300544)> eating\n",
            "<Thread(Thread-24, started 139672612300544)> eating\n",
            "<Thread(Thread-24, started 139672612300544)> eating\n",
            "<Thread(Thread-24, started 139672612300544)> eating\n",
            "<Thread(Thread-24, started 139672612300544)> eating\n",
            "<Thread(Thread-24, started 139672612300544)> eating\n",
            "<Thread(Thread-24, started 139672612300544)> eating\n",
            "<Thread(Thread-24, started 139672612300544)> eating\n",
            "<Thread(Thread-24, started 139672612300544)> eating\n",
            "<Thread(Thread-24, started 139672612300544)> eating\n",
            "<Thread(Thread-24, started 139672612300544)> eating\n",
            "<Thread(Thread-24, started 139672612300544)> eating\n",
            "<Thread(Thread-24, started 139672612300544)> eating\n",
            "<Thread(Thread-24, started 139672612300544)> eating\n",
            "<Thread(Thread-24, started 139672612300544)> eating\n",
            "<Thread(Thread-24, started 139672612300544)> eating\n",
            "<Thread(Thread-24, started 139672612300544)> eating\n",
            "<Thread(Thread-24, started 139672612300544)> eating\n",
            "<Thread(Thread-24, started 139672612300544)> eating\n",
            "<Thread(Thread-24, started 139672612300544)> eating\n",
            "<Thread(Thread-23, started 139672620693248)> eating\n",
            "<Thread(Thread-27, started 139672595515136)> <Thread(Thread-24, started 139672612300544)>eating\n",
            " eating\n",
            "<Thread(Thread-23, started 139672620693248)> eating\n",
            "<Thread(Thread-23, started 139672620693248)> eating\n",
            "<Thread(Thread-23, started 139672620693248)> eating\n",
            "<Thread(Thread-23, started 139672620693248)> eating\n",
            "<Thread(Thread-23, started 139672620693248)> eating\n",
            "<Thread(Thread-23, started 139672620693248)> eating\n",
            "<Thread(Thread-23, started 139672620693248)> eating\n",
            "<Thread(Thread-23, started 139672620693248)> eating\n",
            "<Thread(Thread-23, started 139672620693248)> eating\n",
            "<Thread(Thread-23, started 139672620693248)> eating\n",
            "<Thread(Thread-23, started 139672620693248)> eating\n",
            "<Thread(Thread-23, started 139672620693248)> eating\n",
            "<Thread(Thread-23, started 139672620693248)> eating\n",
            "<Thread(Thread-23, started 139672620693248)> eating\n",
            "<Thread(Thread-23, started 139672620693248)> eating\n",
            "<Thread(Thread-23, started 139672620693248)> eating\n",
            "<Thread(Thread-23, started 139672620693248)> eating\n",
            "<Thread(Thread-23, started 139672620693248)> eating\n",
            "<Thread(Thread-23, started 139672620693248)> eating\n",
            "<Thread(Thread-23, started 139672620693248)> eating\n",
            "<Thread(Thread-23, started 139672620693248)> eating\n",
            "<Thread(Thread-23, started 139672620693248)> eating\n",
            "<Thread(Thread-23, started 139672620693248)> eating\n",
            "<Thread(Thread-23, started 139672620693248)> eating\n",
            "<Thread(Thread-23, started 139672620693248)> eating\n",
            "<Thread(Thread-23, started 139672620693248)> eating\n",
            "<Thread(Thread-23, started 139672620693248)> eating\n",
            "<Thread(Thread-23, started 139672620693248)> eating\n",
            "<Thread(Thread-23, started 139672620693248)> eating\n",
            "<Thread(Thread-23, started 139672620693248)> eating\n",
            "<Thread(Thread-23, started 139672620693248)> eating\n",
            "<Thread(Thread-23, started 139672620693248)> eating\n",
            "<Thread(Thread-23, started 139672620693248)> eating\n",
            "<Thread(Thread-23, started 139672620693248)> eating\n",
            "<Thread(Thread-23, started 139672620693248)> eating\n",
            "<Thread(Thread-23, started 139672620693248)> eating\n",
            "<Thread(Thread-23, started 139672620693248)> eating\n",
            "<Thread(Thread-23, started 139672620693248)> eating\n",
            "<Thread(Thread-23, started 139672620693248)> eating\n",
            "<Thread(Thread-23, started 139672620693248)> eating\n",
            "<Thread(Thread-23, started 139672620693248)> eating\n",
            "<Thread(Thread-23, started 139672620693248)> eating\n",
            "<Thread(Thread-23, started 139672620693248)> eating\n",
            "<Thread(Thread-23, started 139672620693248)> eating\n",
            "<Thread(Thread-23, started 139672620693248)> eating\n",
            "<Thread(Thread-23, started 139672620693248)> eating\n",
            "<Thread(Thread-23, started 139672620693248)> eating\n",
            "<Thread(Thread-23, started 139672620693248)> eating\n",
            "<Thread(Thread-23, started 139672620693248)> eating\n",
            "<Thread(Thread-23, started 139672620693248)> eating\n",
            "<Thread(Thread-23, started 139672620693248)> eating\n",
            "<Thread(Thread-23, started 139672620693248)> eating\n",
            "<Thread(Thread-23, started 139672620693248)> eating\n",
            "<Thread(Thread-23, started 139672620693248)> eating\n",
            "<Thread(Thread-23, started 139672620693248)> eating\n",
            "<Thread(Thread-23, started 139672620693248)> eating\n",
            "<Thread(Thread-23, started 139672620693248)> eating\n",
            "<Thread(Thread-23, started 139672620693248)> eating\n",
            "<Thread(Thread-23, started 139672620693248)> eating\n",
            "<Thread(Thread-23, started 139672620693248)> eating\n",
            "<Thread(Thread-23, started 139672620693248)> eating\n",
            "<Thread(Thread-23, started 139672620693248)> eating\n",
            "<Thread(Thread-23, started 139672620693248)> eating\n",
            "<Thread(Thread-23, started 139672620693248)> eating\n",
            "<Thread(Thread-23, started 139672620693248)> eating\n",
            "<Thread(Thread-23, started 139672620693248)> eating\n",
            "<Thread(Thread-23, started 139672620693248)> eating\n",
            "<Thread(Thread-23, started 139672620693248)> eating\n",
            "<Thread(Thread-23, started 139672620693248)> eating\n",
            "<Thread(Thread-23, started 139672620693248)> eating\n",
            "<Thread(Thread-23, started 139672620693248)> eating\n",
            "<Thread(Thread-23, started 139672620693248)> eating\n",
            "<Thread(Thread-27, started 139672595515136)> eating<Thread(Thread-25, started 139672691656448)>\n",
            " eating\n",
            "<Thread(Thread-26, started 139672603907840)> eating\n",
            "<Thread(Thread-26, started 139672603907840)> eating\n",
            "<Thread(Thread-23, started 139672620693248)> eating\n",
            "<Thread(Thread-27, started 139672595515136)> eating\n",
            "<Thread(Thread-23, started 139672620693248)> eating\n",
            "<Thread(Thread-27, started 139672595515136)> eating\n",
            "<Thread(Thread-23, started 139672620693248)> eating\n",
            "<Thread(Thread-23, started 139672620693248)> eating\n",
            "<Thread(Thread-27, started 139672595515136)> eating\n",
            "<Thread(Thread-24, started 139672612300544)> eating\n",
            "<Thread(Thread-24, started 139672612300544)> eating\n",
            "<Thread(Thread-24, started 139672612300544)> eating\n",
            "<Thread(Thread-24, started 139672612300544)> eating\n",
            "<Thread(Thread-24, started 139672612300544)> eating\n",
            "<Thread(Thread-24, started 139672612300544)> eating\n",
            "<Thread(Thread-24, started 139672612300544)> eating\n",
            "<Thread(Thread-24, started 139672612300544)> eating\n",
            "<Thread(Thread-24, started 139672612300544)> eating\n",
            "<Thread(Thread-24, started 139672612300544)> eating\n",
            "<Thread(Thread-24, started 139672612300544)> eating\n",
            "<Thread(Thread-24, started 139672612300544)> eating\n",
            "<Thread(Thread-24, started 139672612300544)> eating\n",
            "<Thread(Thread-24, started 139672612300544)> eating\n",
            "<Thread(Thread-24, started 139672612300544)> eating\n",
            "<Thread(Thread-24, started 139672612300544)> eating\n",
            "<Thread(Thread-24, started 139672612300544)> eating\n",
            "<Thread(Thread-24, started 139672612300544)> eating\n",
            "<Thread(Thread-24, started 139672612300544)> eating\n",
            "<Thread(Thread-24, started 139672612300544)> eating\n",
            "<Thread(Thread-24, started 139672612300544)> eating\n",
            "<Thread(Thread-24, started 139672612300544)> eating\n",
            "<Thread(Thread-24, started 139672612300544)> eating\n",
            "<Thread(Thread-24, started 139672612300544)> eating\n",
            "<Thread(Thread-24, started 139672612300544)> eating\n",
            "<Thread(Thread-24, started 139672612300544)> eating\n",
            "<Thread(Thread-24, started 139672612300544)> eating\n",
            "<Thread(Thread-23, started 139672620693248)> eating\n",
            "<Thread(Thread-25, started 139672691656448)><Thread(Thread-27, started 139672595515136)> eating\n",
            " eating\n",
            "<Thread(Thread-23, started 139672620693248)> eating\n",
            "<Thread(Thread-24, started 139672612300544)> eating\n",
            "<Thread(Thread-24, started 139672612300544)> eating\n",
            "<Thread(Thread-24, started 139672612300544)> eating\n",
            "<Thread(Thread-24, started 139672612300544)> eating\n",
            "<Thread(Thread-24, started 139672612300544)> eating\n",
            "<Thread(Thread-24, started 139672612300544)> eating\n",
            "<Thread(Thread-24, started 139672612300544)> eating\n",
            "<Thread(Thread-26, started 139672603907840)> eating\n",
            "<Thread(Thread-27, started 139672595515136)> eating\n",
            "<Thread(Thread-24, started 139672612300544)> eating\n",
            "<Thread(Thread-24, started 139672612300544)> eating\n",
            "<Thread(Thread-24, started 139672612300544)> eating\n",
            "<Thread(Thread-24, started 139672612300544)> eating\n",
            "<Thread(Thread-24, started 139672612300544)> eating\n",
            "<Thread(Thread-24, started 139672612300544)> eating\n",
            "<Thread(Thread-24, started 139672612300544)> eating\n",
            "<Thread(Thread-24, started 139672612300544)> eating\n",
            "<Thread(Thread-24, started 139672612300544)> eating\n",
            "<Thread(Thread-24, started 139672612300544)> eating\n",
            "<Thread(Thread-24, started 139672612300544)> eating\n",
            "<Thread(Thread-24, started 139672612300544)> eating\n",
            "<Thread(Thread-24, started 139672612300544)> eating\n",
            "<Thread(Thread-24, started 139672612300544)> eating\n",
            "<Thread(Thread-24, started 139672612300544)> eating\n",
            "<Thread(Thread-24, started 139672612300544)> eating\n",
            "<Thread(Thread-23, started 139672620693248)> eating\n",
            "<Thread(Thread-25, started 139672691656448)><Thread(Thread-27, started 139672595515136)> eating\n",
            " eating\n",
            "<Thread(Thread-24, started 139672612300544)> eating\n",
            "<Thread(Thread-24, started 139672612300544)> eating\n",
            "<Thread(Thread-24, started 139672612300544)> eating\n",
            "<Thread(Thread-24, started 139672612300544)> eating\n",
            "<Thread(Thread-24, started 139672612300544)> eating\n",
            "<Thread(Thread-24, started 139672612300544)> eating\n",
            "<Thread(Thread-24, started 139672612300544)> eating\n",
            "<Thread(Thread-24, started 139672612300544)> eating\n",
            "<Thread(Thread-24, started 139672612300544)> eating\n",
            "<Thread(Thread-24, started 139672612300544)> eating\n",
            "<Thread(Thread-24, started 139672612300544)> eating\n",
            "<Thread(Thread-24, started 139672612300544)> eating\n",
            "<Thread(Thread-24, started 139672612300544)> eating\n",
            "<Thread(Thread-24, started 139672612300544)> eating\n",
            "<Thread(Thread-24, started 139672612300544)> eating\n",
            "<Thread(Thread-24, started 139672612300544)> eating\n",
            "<Thread(Thread-26, started 139672603907840)> eating\n",
            "<Thread(Thread-23, started 139672620693248)> eating\n",
            "<Thread(Thread-24, started 139672612300544)> eating\n",
            "<Thread(Thread-25, started 139672691656448)> eating\n",
            "<Thread(Thread-27, started 139672595515136)> eating\n",
            "<Thread(Thread-24, started 139672612300544)> eating\n",
            "<Thread(Thread-24, started 139672612300544)> eating\n",
            "<Thread(Thread-24, started 139672612300544)> eating\n",
            "<Thread(Thread-24, started 139672612300544)> eating\n",
            "<Thread(Thread-24, started 139672612300544)> eating\n",
            "<Thread(Thread-24, started 139672612300544)> eating\n",
            "<Thread(Thread-24, started 139672612300544)> eating\n",
            "<Thread(Thread-24, started 139672612300544)> eating\n",
            "<Thread(Thread-24, started 139672612300544)> eating\n",
            "<Thread(Thread-24, started 139672612300544)> eating\n",
            "<Thread(Thread-24, started 139672612300544)> eating\n",
            "<Thread(Thread-24, started 139672612300544)> eating\n",
            "<Thread(Thread-24, started 139672612300544)> eating\n",
            "<Thread(Thread-24, started 139672612300544)> eating\n",
            "<Thread(Thread-24, started 139672612300544)> eating\n",
            "<Thread(Thread-24, started 139672612300544)> eating\n",
            "<Thread(Thread-24, started 139672612300544)> eating\n",
            "<Thread(Thread-24, started 139672612300544)> eating\n",
            "<Thread(Thread-24, started 139672612300544)> eating\n",
            "<Thread(Thread-24, started 139672612300544)> eating\n",
            "<Thread(Thread-24, started 139672612300544)> eating\n",
            "<Thread(Thread-24, started 139672612300544)> eating\n",
            "<Thread(Thread-24, started 139672612300544)> eating\n",
            "<Thread(Thread-24, started 139672612300544)> eating\n",
            "<Thread(Thread-24, started 139672612300544)> eating\n",
            "<Thread(Thread-24, started 139672612300544)> eating\n",
            "<Thread(Thread-24, started 139672612300544)> eating\n",
            "<Thread(Thread-24, started 139672612300544)> eating\n",
            "<Thread(Thread-24, started 139672612300544)> eating\n",
            "<Thread(Thread-24, started 139672612300544)> eating\n",
            "<Thread(Thread-24, started 139672612300544)> eating\n",
            "<Thread(Thread-26, started 139672603907840)> eating\n",
            "<Thread(Thread-23, started 139672620693248)> eating\n",
            "<Thread(Thread-24, started 139672612300544)> eating\n",
            "<Thread(Thread-27, started 139672595515136)> eating\n",
            "<Thread(Thread-27, started 139672595515136)> eating\n",
            "<Thread(Thread-27, started 139672595515136)> eating\n",
            "<Thread(Thread-27, started 139672595515136)> eating\n",
            "<Thread(Thread-27, started 139672595515136)> eating\n",
            "<Thread(Thread-27, started 139672595515136)> eating\n",
            "<Thread(Thread-25, started 139672691656448)><Thread(Thread-23, started 139672620693248)> eating\n",
            "<Thread(Thread-27, started 139672595515136)> eating eating\n",
            "\n",
            "<Thread(Thread-27, started 139672595515136)> <Thread(Thread-24, started 139672612300544)> eating\n",
            "<Thread(Thread-24, started 139672612300544)> eating\n",
            "<Thread(Thread-24, started 139672612300544)> eating\n",
            "<Thread(Thread-24, started 139672612300544)> eating\n",
            "<Thread(Thread-24, started 139672612300544)> eating\n",
            "<Thread(Thread-24, started 139672612300544)> eating\n",
            "<Thread(Thread-24, started 139672612300544)> eating\n",
            "<Thread(Thread-24, started 139672612300544)> eating\n",
            "<Thread(Thread-24, started 139672612300544)> eating\n",
            "<Thread(Thread-24, started 139672612300544)> eating\n",
            "<Thread(Thread-24, started 139672612300544)> eating\n",
            "<Thread(Thread-24, started 139672612300544)> eating\n",
            "<Thread(Thread-24, started 139672612300544)> eating\n",
            "<Thread(Thread-24, started 139672612300544)> eating\n",
            "<Thread(Thread-24, started 139672612300544)> eating\n",
            "<Thread(Thread-26, started 139672603907840)>eating\n",
            " <Thread(Thread-23, started 139672620693248)> eating\n",
            "eating\n",
            "<Thread(Thread-24, started 139672612300544)> eating\n",
            "<Thread(Thread-24, started 139672612300544)> eating\n",
            "<Thread(Thread-24, started 139672612300544)> eating\n",
            "<Thread(Thread-24, started 139672612300544)> eating\n",
            "<Thread(Thread-24, started 139672612300544)> eating\n",
            "<Thread(Thread-24, started 139672612300544)> eating\n",
            "<Thread(Thread-24, started 139672612300544)> eating\n",
            "<Thread(Thread-24, started 139672612300544)> eating\n",
            "<Thread(Thread-24, started 139672612300544)> eating\n",
            "<Thread(Thread-24, started 139672612300544)> eating\n",
            "<Thread(Thread-24, started 139672612300544)> eating\n",
            "<Thread(Thread-24, started 139672612300544)> eating\n",
            "<Thread(Thread-24, started 139672612300544)> eating\n",
            "<Thread(Thread-24, started 139672612300544)> eating\n",
            "<Thread(Thread-24, started 139672612300544)> eating\n",
            "<Thread(Thread-24, started 139672612300544)> eating\n",
            "<Thread(Thread-27, started 139672595515136)> eating\n",
            "<Thread(Thread-27, started 139672595515136)> eating\n",
            "<Thread(Thread-25, started 139672691656448)> <Thread(Thread-23, started 139672620693248)> eating\n",
            "<Thread(Thread-27, started 139672595515136)> eating\n",
            "eating\n",
            "<Thread(Thread-23, started 139672620693248)> eating\n",
            "<Thread(Thread-27, started 139672595515136)> eating\n",
            "<Thread(Thread-26, started 139672603907840)><Thread(Thread-24, started 139672612300544)> eating\n",
            "<Thread(Thread-24, started 139672612300544)> eating\n",
            "<Thread(Thread-24, started 139672612300544)> eating\n",
            "<Thread(Thread-24, started 139672612300544)> eating\n",
            "<Thread(Thread-24, started 139672612300544)> eating\n",
            "<Thread(Thread-24, started 139672612300544)> eating\n",
            "<Thread(Thread-24, started 139672612300544)> eating\n",
            "<Thread(Thread-24, started 139672612300544)> eating\n",
            "<Thread(Thread-24, started 139672612300544)> eating\n",
            "<Thread(Thread-24, started 139672612300544)> eating\n",
            "<Thread(Thread-24, started 139672612300544)> eating\n",
            "<Thread(Thread-24, started 139672612300544)> eating\n",
            "<Thread(Thread-24, started 139672612300544)> eating\n",
            "<Thread(Thread-24, started 139672612300544)> eating\n",
            "<Thread(Thread-24, started 139672612300544)> eating\n",
            "<Thread(Thread-24, started 139672612300544)> eating\n",
            "<Thread(Thread-24, started 139672612300544)> eating\n",
            "<Thread(Thread-24, started 139672612300544)> eating\n",
            "<Thread(Thread-24, started 139672612300544)> eating\n",
            "<Thread(Thread-24, started 139672612300544)> eating\n",
            "<Thread(Thread-24, started 139672612300544)> eating\n",
            "<Thread(Thread-24, started 139672612300544)> eating\n",
            "<Thread(Thread-24, started 139672612300544)> eating\n",
            "<Thread(Thread-24, started 139672612300544)> eating\n",
            "<Thread(Thread-24, started 139672612300544)> eating\n",
            "<Thread(Thread-24, started 139672612300544)> eating\n",
            "<Thread(Thread-24, started 139672612300544)> eating\n",
            "<Thread(Thread-24, started 139672612300544)> eating\n",
            "<Thread(Thread-24, started 139672612300544)> eating\n",
            "<Thread(Thread-24, started 139672612300544)> eating\n",
            "<Thread(Thread-24, started 139672612300544)> eating\n",
            "<Thread(Thread-24, started 139672612300544)> eating\n",
            "<Thread(Thread-23, started 139672620693248)> eating\n",
            " eating\n",
            "<Thread(Thread-24, started 139672612300544)> eating\n",
            "<Thread(Thread-23, started 139672620693248)> eating\n",
            "<Thread(Thread-24, started 139672612300544)> eating\n",
            "<Thread(Thread-27, started 139672595515136)> <Thread(Thread-25, started 139672691656448)> eating\n",
            "<Thread(Thread-23, started 139672620693248)> eating\n",
            "eating\n",
            "<Thread(Thread-27, started 139672595515136)> eating\n",
            "<Thread(Thread-27, started 139672595515136)> eating\n",
            "<Thread(Thread-27, started 139672595515136)> eating\n",
            "<Thread(Thread-27, started 139672595515136)> eating\n",
            "<Thread(Thread-27, started 139672595515136)> eating\n",
            "<Thread(Thread-27, started 139672595515136)> eating\n",
            "<Thread(Thread-27, started 139672595515136)> eating\n",
            "<Thread(Thread-27, started 139672595515136)> eating\n",
            "<Thread(Thread-27, started 139672595515136)> eating\n",
            "<Thread(Thread-27, started 139672595515136)> eating\n",
            "<Thread(Thread-27, started 139672595515136)> eating\n",
            "<Thread(Thread-27, started 139672595515136)> eating\n",
            "<Thread(Thread-27, started 139672595515136)> eating\n",
            "<Thread(Thread-27, started 139672595515136)> eating\n",
            "<Thread(Thread-27, started 139672595515136)> eating\n",
            "<Thread(Thread-27, started 139672595515136)> eating\n",
            "<Thread(Thread-27, started 139672595515136)> eating\n",
            "<Thread(Thread-27, started 139672595515136)> eating\n",
            "<Thread(Thread-27, started 139672595515136)> eating\n",
            "<Thread(Thread-27, started 139672595515136)> eating\n",
            "<Thread(Thread-27, started 139672595515136)> eating\n",
            "<Thread(Thread-27, started 139672595515136)><Thread(Thread-24, started 139672612300544)> eating\n",
            "<Thread(Thread-24, started 139672612300544)> eating\n",
            "<Thread(Thread-24, started 139672612300544)> eating\n",
            "<Thread(Thread-24, started 139672612300544)> eating\n",
            "<Thread(Thread-24, started 139672612300544)> eating\n",
            "<Thread(Thread-24, started 139672612300544)> eating\n",
            "<Thread(Thread-24, started 139672612300544)> eating\n",
            "<Thread(Thread-24, started 139672612300544)> eating\n",
            "<Thread(Thread-24, started 139672612300544)> eating\n",
            "<Thread(Thread-24, started 139672612300544)> eating\n",
            "<Thread(Thread-24, started 139672612300544)> eating\n",
            "<Thread(Thread-24, started 139672612300544)> eating\n",
            "<Thread(Thread-24, started 139672612300544)> eating\n",
            "<Thread(Thread-24, started 139672612300544)> eating eating\n",
            "\n",
            "<Thread(Thread-24, started 139672612300544)> eating\n",
            "<Thread(Thread-24, started 139672612300544)> eating\n",
            "<Thread(Thread-24, started 139672612300544)> eating\n",
            "<Thread(Thread-24, started 139672612300544)> eating\n",
            "<Thread(Thread-24, started 139672612300544)> eating\n",
            "<Thread(Thread-24, started 139672612300544)> eating\n",
            "<Thread(Thread-24, started 139672612300544)> eating\n",
            "<Thread(Thread-24, started 139672612300544)> eating\n",
            "<Thread(Thread-24, started 139672612300544)> eating\n",
            "<Thread(Thread-24, started 139672612300544)> eating\n",
            "<Thread(Thread-24, started 139672612300544)> eating\n",
            "<Thread(Thread-24, started 139672612300544)> eating\n",
            "<Thread(Thread-24, started 139672612300544)> eating\n",
            "<Thread(Thread-24, started 139672612300544)> eating\n",
            "<Thread(Thread-24, started 139672612300544)> eating\n",
            "<Thread(Thread-24, started 139672612300544)> eating\n",
            "<Thread(Thread-26, started 139672603907840)> eating\n",
            "<Thread(Thread-23, started 139672620693248)><Thread(Thread-25, started 139672691656448)>  eatingeating\n",
            "\n",
            "<Thread(Thread-24, started 139672612300544)> eating\n",
            "<Thread(Thread-24, started 139672612300544)> eating<Thread(Thread-27, started 139672595515136)> eating\n",
            "<Thread(Thread-27, started 139672595515136)> eating\n",
            "\n",
            "<Thread(Thread-24, started 139672612300544)> eating\n",
            "<Thread(Thread-24, started 139672612300544)> eating\n",
            "<Thread(Thread-24, started 139672612300544)> eating\n",
            "<Thread(Thread-24, started 139672612300544)> eating\n",
            "<Thread(Thread-24, started 139672612300544)> eating\n",
            "<Thread(Thread-24, started 139672612300544)> eating\n",
            "<Thread(Thread-24, started 139672612300544)> eating\n",
            "<Thread(Thread-24, started 139672612300544)> eating\n",
            "<Thread(Thread-24, started 139672612300544)> eating\n",
            "<Thread(Thread-24, started 139672612300544)> eating\n",
            "<Thread(Thread-24, started 139672612300544)> eating\n",
            "<Thread(Thread-24, started 139672612300544)> eating\n",
            "<Thread(Thread-24, started 139672612300544)> eating\n",
            "<Thread(Thread-24, started 139672612300544)> eating\n",
            "<Thread(Thread-24, started 139672612300544)> eating\n",
            "<Thread(Thread-24, started 139672612300544)> eating\n",
            "<Thread(Thread-24, started 139672612300544)> eating\n",
            "<Thread(Thread-24, started 139672612300544)> eating\n",
            "<Thread(Thread-24, started 139672612300544)> eating\n",
            "<Thread(Thread-24, started 139672612300544)> eating\n",
            "<Thread(Thread-24, started 139672612300544)> eating\n",
            "<Thread(Thread-24, started 139672612300544)> eating\n",
            "<Thread(Thread-24, started 139672612300544)> eating\n",
            "<Thread(Thread-24, started 139672612300544)> eating\n",
            "<Thread(Thread-24, started 139672612300544)> eating\n",
            "<Thread(Thread-24, started 139672612300544)> eating\n",
            "<Thread(Thread-24, started 139672612300544)> eating\n",
            "<Thread(Thread-24, started 139672612300544)> eating\n",
            "<Thread(Thread-24, started 139672612300544)> eating\n",
            "<Thread(Thread-24, started 139672612300544)> eating\n",
            "<Thread(Thread-26, started 139672603907840)><Thread(Thread-24, started 139672612300544)> eating\n",
            "<Thread(Thread-24, started 139672612300544)> eating\n",
            "<Thread(Thread-24, started 139672612300544)> eating\n",
            "<Thread(Thread-24, started 139672612300544)> eating\n",
            "<Thread(Thread-24, started 139672612300544)> eating\n",
            "<Thread(Thread-24, started 139672612300544)> eating\n",
            "<Thread(Thread-24, started 139672612300544)> eating\n",
            "<Thread(Thread-24, started 139672612300544)> eating\n",
            "<Thread(Thread-24, started 139672612300544)> eating\n",
            "<Thread(Thread-24, started 139672612300544)> eating\n",
            "<Thread(Thread-24, started 139672612300544)> eating\n",
            "<Thread(Thread-24, started 139672612300544)> eating\n",
            "<Thread(Thread-24, started 139672612300544)> eating\n",
            "<Thread(Thread-24, started 139672612300544)> eating\n",
            "<Thread(Thread-24, started 139672612300544)> eating\n",
            "<Thread(Thread-24, started 139672612300544)>  eating\n",
            "<Thread(Thread-24, started 139672612300544)> eating\n",
            "<Thread(Thread-24, started 139672612300544)> eating\n",
            "<Thread(Thread-24, started 139672612300544)> eating\n",
            "<Thread(Thread-24, started 139672612300544)> eating\n",
            "<Thread(Thread-24, started 139672612300544)> eating\n",
            "<Thread(Thread-24, started 139672612300544)> eating\n",
            "<Thread(Thread-24, started 139672612300544)> eating\n",
            "<Thread(Thread-24, started 139672612300544)> eating\n",
            "<Thread(Thread-24, started 139672612300544)> eating\n",
            "<Thread(Thread-24, started 139672612300544)> eating\n",
            "<Thread(Thread-24, started 139672612300544)> eating\n",
            "<Thread(Thread-24, started 139672612300544)> eating\n",
            "<Thread(Thread-24, started 139672612300544)> eating\n",
            "<Thread(Thread-24, started 139672612300544)> eating\n",
            "<Thread(Thread-24, started 139672612300544)> eating\n",
            "<Thread(Thread-24, started 139672612300544)> eating\n",
            "eating\n",
            "<Thread(Thread-24, started 139672612300544)> eating\n",
            "<Thread(Thread-24, started 139672612300544)> eating\n",
            "<Thread(Thread-24, started 139672612300544)> eating\n",
            "<Thread(Thread-24, started 139672612300544)> eating\n",
            "<Thread(Thread-24, started 139672612300544)> eating\n",
            "<Thread(Thread-24, started 139672612300544)> eating\n",
            "<Thread(Thread-24, started 139672612300544)> eating\n",
            "<Thread(Thread-24, started 139672612300544)> eating\n",
            "<Thread(Thread-24, started 139672612300544)> eating\n",
            "<Thread(Thread-24, started 139672612300544)> eating\n",
            "<Thread(Thread-24, started 139672612300544)> eating\n",
            "<Thread(Thread-24, started 139672612300544)> eating\n",
            "<Thread(Thread-24, started 139672612300544)> eating\n",
            "<Thread(Thread-24, started 139672612300544)> eating\n",
            "<Thread(Thread-24, started 139672612300544)> eating\n",
            "<Thread(Thread-24, started 139672612300544)> eating\n",
            "<Thread(Thread-24, started 139672612300544)> eating\n",
            "<Thread(Thread-24, started 139672612300544)> eating\n",
            "<Thread(Thread-24, started 139672612300544)> eating\n",
            "<Thread(Thread-24, started 139672612300544)> eating\n",
            "<Thread(Thread-24, started 139672612300544)> eating\n",
            "<Thread(Thread-24, started 139672612300544)> eating\n",
            "<Thread(Thread-24, started 139672612300544)> eating\n",
            "<Thread(Thread-24, started 139672612300544)> eating\n",
            "<Thread(Thread-24, started 139672612300544)> eating\n",
            "<Thread(Thread-24, started 139672612300544)> eating\n",
            "<Thread(Thread-24, started 139672612300544)> eating\n",
            "<Thread(Thread-24, started 139672612300544)> eating\n",
            "<Thread(Thread-24, started 139672612300544)> eating\n",
            "<Thread(Thread-24, started 139672612300544)> eating\n",
            "<Thread(Thread-24, started 139672612300544)> eating\n",
            "<Thread(Thread-24, started 139672612300544)> eating<Thread(Thread-27, started 139672595515136)>\n",
            " eating\n",
            "<Thread(Thread-27, started 139672595515136)> eating\n",
            "<Thread(Thread-27, started 139672595515136)> eating\n",
            "<Thread(Thread-27, started 139672595515136)> eating\n",
            "<Thread(Thread-27, started 139672595515136)> eating\n",
            "<Thread(Thread-27, started 139672595515136)> eating\n",
            "<Thread(Thread-27, started 139672595515136)> eating\n",
            "<Thread(Thread-27, started 139672595515136)> eating\n",
            "<Thread(Thread-23, started 139672620693248)> <Thread(Thread-25, started 139672691656448)>eating\n",
            " eating\n",
            "<Thread(Thread-25, started 139672691656448)> eating\n",
            "<Thread(Thread-27, started 139672595515136)> eating\n",
            "<Thread(Thread-27, started 139672595515136)> eating\n",
            "<Thread(Thread-27, started 139672595515136)> eating\n",
            "<Thread(Thread-27, started 139672595515136)> eating\n",
            "<Thread(Thread-27, started 139672595515136)> eating\n",
            "<Thread(Thread-27, started 139672595515136)> eating\n",
            "<Thread(Thread-27, started 139672595515136)> eating\n",
            "<Thread(Thread-27, started 139672595515136)> eating<Thread(Thread-24, started 139672612300544)> eating\n",
            "<Thread(Thread-24, started 139672612300544)> eating\n",
            "<Thread(Thread-24, started 139672612300544)> eating\n",
            "<Thread(Thread-24, started 139672612300544)> eating\n",
            "<Thread(Thread-24, started 139672612300544)> eating\n",
            "<Thread(Thread-24, started 139672612300544)> eating\n",
            "<Thread(Thread-24, started 139672612300544)> eating\n",
            "<Thread(Thread-24, started 139672612300544)> eating\n",
            "<Thread(Thread-24, started 139672612300544)> eating\n",
            "<Thread(Thread-24, started 139672612300544)> eating\n",
            "<Thread(Thread-24, started 139672612300544)> eating\n",
            "<Thread(Thread-24, started 139672612300544)> eating\n",
            "<Thread(Thread-24, started 139672612300544)> eating\n",
            "<Thread(Thread-24, started 139672612300544)> eating\n",
            "<Thread(Thread-24, started 139672612300544)> eating\n",
            "<Thread(Thread-24, started 139672612300544)> \n",
            "<Thread(Thread-27, started 139672595515136)> eating\n",
            "<Thread(Thread-27, started 139672595515136)> eating\n",
            "<Thread(Thread-27, started 139672595515136)> eating\n",
            "<Thread(Thread-27, started 139672595515136)> eating\n",
            "<Thread(Thread-27, started 139672595515136)> eating\n",
            "<Thread(Thread-27, started 139672595515136)> eating\n",
            "<Thread(Thread-27, started 139672595515136)> eating\n",
            "<Thread(Thread-27, started 139672595515136)> eating\n",
            "<Thread(Thread-27, started 139672595515136)> eating\n",
            "<Thread(Thread-27, started 139672595515136)> eating\n",
            "<Thread(Thread-27, started 139672595515136)> eating\n",
            "<Thread(Thread-27, started 139672595515136)> eating\n",
            "<Thread(Thread-27, started 139672595515136)> eating\n",
            "<Thread(Thread-27, started 139672595515136)> eating\n",
            "<Thread(Thread-27, started 139672595515136)> eating\n",
            "<Thread(Thread-27, started 139672595515136)> eating\n",
            "<Thread(Thread-27, started 139672595515136)> eating\n",
            "eating\n",
            "<Thread(Thread-24, started 139672612300544)> <Thread(Thread-26, started 139672603907840)>eating\n",
            "<Thread(Thread-24, started 139672612300544)> eating\n",
            "<Thread(Thread-24, started 139672612300544)> eating\n",
            "<Thread(Thread-24, started 139672612300544)> eating\n",
            "<Thread(Thread-24, started 139672612300544)> eating\n",
            "<Thread(Thread-24, started 139672612300544)> eating\n",
            "<Thread(Thread-24, started 139672612300544)> eating\n",
            "<Thread(Thread-24, started 139672612300544)>  eating\n",
            "eating<Thread(Thread-27, started 139672595515136)> eating\n",
            "\n",
            "<Thread(Thread-23, started 139672620693248)> eating\n",
            "<Thread(Thread-23, started 139672620693248)> eating\n",
            "<Thread(Thread-23, started 139672620693248)> eating\n",
            "<Thread(Thread-23, started 139672620693248)> eating\n",
            "<Thread(Thread-23, started 139672620693248)> eating\n",
            "<Thread(Thread-23, started 139672620693248)> eating\n",
            "<Thread(Thread-23, started 139672620693248)> eating\n",
            "<Thread(Thread-23, started 139672620693248)> eating\n",
            "<Thread(Thread-23, started 139672620693248)> eating\n",
            "<Thread(Thread-23, started 139672620693248)> eating\n",
            "<Thread(Thread-23, started 139672620693248)> eating\n",
            "<Thread(Thread-25, started 139672691656448)> eating\n",
            "<Thread(Thread-25, started 139672691656448)> eating\n",
            "<Thread(Thread-27, started 139672595515136)> eating\n",
            "<Thread(Thread-27, started 139672595515136)> eating\n",
            "<Thread(Thread-27, started 139672595515136)> eating\n",
            "<Thread(Thread-27, started 139672595515136)> eating\n",
            "<Thread(Thread-27, started 139672595515136)> eating<Thread(Thread-24, started 139672612300544)> eating\n",
            "<Thread(Thread-24, started 139672612300544)> eating\n",
            "<Thread(Thread-24, started 139672612300544)> eating\n",
            "<Thread(Thread-24, started 139672612300544)> eating\n",
            "<Thread(Thread-24, started 139672612300544)> eating\n",
            "<Thread(Thread-26, started 139672603907840)> eating\n",
            "\n",
            "<Thread(Thread-23, started 139672620693248)><Thread(Thread-25, started 139672691656448)>"
          ]
        }
      ]
    },
    {
      "cell_type": "code",
      "metadata": {
        "colab": {
          "base_uri": "https://localhost:8080/"
        },
        "id": "TL9XZXH3dn4T",
        "outputId": "0273d353-407d-4d3d-b540-39e05d6c03e8"
      },
      "source": [
        "from queue import Queue\n",
        "from threading import Thread, Event\n",
        "\n",
        "# Sentinel used for shutdown\n",
        "class ActorExit(Exception):\n",
        "    pass\n",
        "\n",
        "class Actor:\n",
        "    def __init__(self):\n",
        "        self._mailbox = Queue()\n",
        "\n",
        "    def send(self, msg):\n",
        "        '''\n",
        "        Send a message to the actor\n",
        "        '''\n",
        "        self._mailbox.put(msg)\n",
        "\n",
        "    def recv(self):\n",
        "        '''\n",
        "        Receive an incoming message\n",
        "        '''\n",
        "        msg = self._mailbox.get()\n",
        "        if msg is ActorExit:\n",
        "            raise ActorExit()\n",
        "        return msg\n",
        "\n",
        "    def close(self):\n",
        "        '''\n",
        "        Close the actor, thus shutting it down\n",
        "        '''\n",
        "        self.send(ActorExit)\n",
        "\n",
        "    def start(self):\n",
        "        '''\n",
        "        Start concurrent execution\n",
        "        '''\n",
        "        self._terminated = Event()\n",
        "        t = Thread(target=self._bootstrap)\n",
        "\n",
        "        t.daemon = True\n",
        "        t.start()\n",
        "\n",
        "    def _bootstrap(self):\n",
        "        try:\n",
        "            self.run()\n",
        "        except ActorExit:\n",
        "            pass\n",
        "        finally:\n",
        "            self._terminated.set()\n",
        "\n",
        "    def join(self):\n",
        "        self._terminated.wait()\n",
        "\n",
        "    def run(self):\n",
        "        '''\n",
        "        Run method to be implemented by the user\n",
        "        '''\n",
        "        while True:\n",
        "            msg = self.recv()\n",
        "\n",
        "# Sample ActorTask\n",
        "class PrintActor(Actor):\n",
        "    def run(self):\n",
        "        while True:\n",
        "            msg = self.recv()\n",
        "            print('Got:', msg)\n",
        "\n",
        "# Sample use\n",
        "p = PrintActor()\n",
        "p.start()\n",
        "p.send('Hello')\n",
        "p.send('World')\n",
        "p.close()\n",
        "p.join()"
      ],
      "execution_count": 1,
      "outputs": [
        {
          "output_type": "stream",
          "name": "stdout",
          "text": [
            "Got: Hello\n",
            "Got: World\n"
          ]
        }
      ]
    },
    {
      "cell_type": "markdown",
      "metadata": {
        "id": "NNwl2me0eszO"
      },
      "source": [
        "# Chapter 13: Scripting and system administration"
      ]
    },
    {
      "cell_type": "code",
      "metadata": {
        "colab": {
          "base_uri": "https://localhost:8080/",
          "height": 245
        },
        "id": "xXt759sTewTd",
        "outputId": "5b116a24-36f0-415c-b6da-6e6ed812d1e8"
      },
      "source": [
        "# search.py\n",
        "'''\n",
        "Hypothetical command-line tool for searching a collection of\n",
        "files for one or more text patterns.\n",
        "'''\n",
        "\n",
        "import argparse\n",
        "parser = argparse.ArgumentParser(description='Search some files')\n",
        "\n",
        "parser.add_argument(dest='filenames',metavar='filename', nargs='*')\n",
        "\n",
        "parser.add_argument('-p', '--pat',metavar='pattern', required=True,\n",
        "                    dest='patterns', action='append',\n",
        "                    help='text pattern to search for')\n",
        "\n",
        "parser.add_argument('-v', dest='verbose', action='store_true',\n",
        "                    help='verbose mode')\n",
        "\n",
        "parser.add_argument('-o', dest='outfile', action='store',\n",
        "                    help='output file')\n",
        "\n",
        "parser.add_argument('--speed', dest='speed', action='store',\n",
        "                    choices={'slow','fast'}, default='slow',\n",
        "                    help='search speed')\n",
        "\n",
        "args = parser.parse_args()\n",
        "\n",
        "# Output the collected arguments\n",
        "print(args.filenames)\n",
        "print(args.patterns)\n",
        "print(args.verbose)\n",
        "print(args.outfile)\n",
        "print(args.speed)"
      ],
      "execution_count": 3,
      "outputs": [
        {
          "output_type": "stream",
          "name": "stderr",
          "text": [
            "usage: ipykernel_launcher.py [-h] -p pattern [-v] [-o OUTFILE]\n",
            "                             [--speed {fast,slow}]\n",
            "                             [filename [filename ...]]\n",
            "ipykernel_launcher.py: error: the following arguments are required: -p/--pat\n"
          ]
        },
        {
          "output_type": "error",
          "ename": "SystemExit",
          "evalue": "ignored",
          "traceback": [
            "An exception has occurred, use %tb to see the full traceback.\n",
            "\u001b[0;31mSystemExit\u001b[0m\u001b[0;31m:\u001b[0m 2\n"
          ]
        },
        {
          "output_type": "stream",
          "name": "stderr",
          "text": [
            "/usr/local/lib/python3.7/dist-packages/IPython/core/interactiveshell.py:2890: UserWarning: To exit: use 'exit', 'quit', or Ctrl-D.\n",
            "  warn(\"To exit: use 'exit', 'quit', or Ctrl-D.\", stacklevel=1)\n"
          ]
        }
      ]
    },
    {
      "cell_type": "code",
      "metadata": {
        "id": "YwVwl5t2fcQW"
      },
      "source": [
        "#Prints all files that have been modified recently\n",
        "\n",
        "import os\n",
        "import time\n",
        "\n",
        "def modified_within(top, seconds):\n",
        "    now = time.time()\n",
        "    for path, dirs, files in os.walk(top):\n",
        "        for name in files:\n",
        "            fullpath = os.path.join(path, name)\n",
        "            if os.path.exists(fullpath):\n",
        "                mtime = os.path.getmtime(fullpath)\n",
        "                if mtime > (now - seconds):\n",
        "                    print(fullpath)\n",
        "\n",
        "if __name__ == '__main__':\n",
        "    import sys\n",
        "    if len(sys.argv) != 3:\n",
        "        print('Usage: {} dir seconds'.format(sys.argv[0]))\n",
        "        raise SystemExit(1)\n",
        "\n",
        "    modified_within(sys.argv[1], float(sys.argv[2]))"
      ],
      "execution_count": null,
      "outputs": []
    },
    {
      "cell_type": "code",
      "metadata": {
        "colab": {
          "base_uri": "https://localhost:8080/",
          "height": 192
        },
        "id": "mmgrupBKf_d2",
        "outputId": "9a8c8a00-8919-4811-bdd7-8e506504f45f"
      },
      "source": [
        "#limit cpu and memory\n",
        "import signal\n",
        "import resource\n",
        "import os\n",
        "\n",
        "def time_exceeded(signo, frame):\n",
        "    print(\"Time's up!\")\n",
        "    raise SystemExit(1)\n",
        "\n",
        "def set_max_runtime(seconds):\n",
        "    # Install the signal handler and set a resource limit\n",
        "    soft, hard = resource.getrlimit(resource.RLIMIT_CPU)\n",
        "    resource.setrlimit(resource.RLIMIT_CPU, (seconds, hard))\n",
        "    signal.signal(signal.SIGXCPU, time_exceeded)\n",
        "    \n",
        "def limit_memory(maxsize):\n",
        "    soft, hard = resource.getrlimit(resource.RLIMIT_AS)\n",
        "    resource.setrlimit(resource.RLIMIT_AS, (maxsize, hard))\n",
        "\n",
        "if __name__ == '__main__':\n",
        "    set_max_runtime(15)\n",
        "    while True:\n",
        "        pass"
      ],
      "execution_count": 5,
      "outputs": [
        {
          "output_type": "stream",
          "name": "stdout",
          "text": [
            "Time's up!\n"
          ]
        },
        {
          "output_type": "error",
          "ename": "SystemExit",
          "evalue": "ignored",
          "traceback": [
            "An exception has occurred, use %tb to see the full traceback.\n",
            "\u001b[0;31mSystemExit\u001b[0m\u001b[0;31m:\u001b[0m 1\n"
          ]
        },
        {
          "output_type": "stream",
          "name": "stderr",
          "text": [
            "/usr/local/lib/python3.7/dist-packages/IPython/core/interactiveshell.py:2890: UserWarning: To exit: use 'exit', 'quit', or Ctrl-D.\n",
            "  warn(\"To exit: use 'exit', 'quit', or Ctrl-D.\", stacklevel=1)\n"
          ]
        }
      ]
    },
    {
      "cell_type": "code",
      "metadata": {
        "colab": {
          "base_uri": "https://localhost:8080/"
        },
        "id": "We3OOtMigMbN",
        "outputId": "98e89d99-fb0b-4090-a921-04d0396b2ec3"
      },
      "source": [
        "import webbrowser\n",
        "\n",
        "webbrowser.open_new('http://www.python.org')"
      ],
      "execution_count": 7,
      "outputs": [
        {
          "output_type": "execute_result",
          "data": {
            "text/plain": [
              "False"
            ]
          },
          "metadata": {},
          "execution_count": 7
        }
      ]
    },
    {
      "cell_type": "markdown",
      "metadata": {
        "id": "hhmNhSY_gYdT"
      },
      "source": [
        "# Chapter 14: Test debugging and exceptions"
      ]
    },
    {
      "cell_type": "code",
      "metadata": {
        "id": "HetPxfLfgbFh"
      },
      "source": [
        "import errno\n",
        "import unittest\n",
        "\n",
        "# A simple function to illustrate\n",
        "def parse_int(s):\n",
        "    return int(s)\n",
        "\n",
        "class TestConversion(unittest.TestCase):\n",
        "    def test_bad_int(self):\n",
        "        self.assertRaises(ValueError, parse_int, 'N/A')\n",
        "        \n",
        "class TestIO(unittest.TestCase):\n",
        "    def test_file_not_found(self):\n",
        "        try:\n",
        "            f = open('/file/not/found')\n",
        "        except IOError as e:\n",
        "            self.assertEqual(e.errno, errno.ENOENT)\n",
        "\n",
        "        else:\n",
        "            self.fail('IOError not raised')"
      ],
      "execution_count": 2,
      "outputs": []
    },
    {
      "cell_type": "code",
      "metadata": {
        "colab": {
          "base_uri": "https://localhost:8080/"
        },
        "id": "nQZTu76JhizF",
        "outputId": "0fef504f-c3f7-4028-8a99-6efecbc24139"
      },
      "source": [
        "def example():\n",
        "    try:\n",
        "            int('N/A')\n",
        "    except ValueError as e:\n",
        "            raise RuntimeError('A parsing error occurred') from e\n",
        "\n",
        "try:\n",
        "    example()\n",
        "except RuntimeError as e:\n",
        "    print(\"It didn't work:\", e)\n",
        "\n",
        "    if e.__cause__:\n",
        "        print('Cause:', e.__cause__)"
      ],
      "execution_count": 5,
      "outputs": [
        {
          "output_type": "stream",
          "name": "stdout",
          "text": [
            "It didn't work: A parsing error occurred\n",
            "Cause: invalid literal for int() with base 10: 'N/A'\n"
          ]
        }
      ]
    },
    {
      "cell_type": "code",
      "metadata": {
        "id": "RBY0Vdr7itK8"
      },
      "source": [
        "#bash % python3 -m cProfile someprogram.py"
      ],
      "execution_count": null,
      "outputs": []
    }
  ]
}